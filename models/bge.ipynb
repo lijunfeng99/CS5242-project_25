{
  "nbformat": 4,
  "nbformat_minor": 0,
  "metadata": {
    "colab": {
      "provenance": []
    },
    "kernelspec": {
      "name": "python3",
      "display_name": "Python 3"
    },
    "language_info": {
      "name": "python"
    },
    "widgets": {
      "application/vnd.jupyter.widget-state+json": {
        "852460e771834c53b0012656bad33eba": {
          "model_module": "@jupyter-widgets/controls",
          "model_name": "HBoxModel",
          "model_module_version": "1.5.0",
          "state": {
            "_dom_classes": [],
            "_model_module": "@jupyter-widgets/controls",
            "_model_module_version": "1.5.0",
            "_model_name": "HBoxModel",
            "_view_count": null,
            "_view_module": "@jupyter-widgets/controls",
            "_view_module_version": "1.5.0",
            "_view_name": "HBoxView",
            "box_style": "",
            "children": [
              "IPY_MODEL_ca4268cc9f09459cabdd2f56f56a782f",
              "IPY_MODEL_20eed149b344463d83d366d863a2cbb5",
              "IPY_MODEL_10beb62e7950467fa6035cf1b0742d20"
            ],
            "layout": "IPY_MODEL_f2622230911348dfb776cd2f5f07ddaa"
          }
        },
        "ca4268cc9f09459cabdd2f56f56a782f": {
          "model_module": "@jupyter-widgets/controls",
          "model_name": "HTMLModel",
          "model_module_version": "1.5.0",
          "state": {
            "_dom_classes": [],
            "_model_module": "@jupyter-widgets/controls",
            "_model_module_version": "1.5.0",
            "_model_name": "HTMLModel",
            "_view_count": null,
            "_view_module": "@jupyter-widgets/controls",
            "_view_module_version": "1.5.0",
            "_view_name": "HTMLView",
            "description": "",
            "description_tooltip": null,
            "layout": "IPY_MODEL_0b94c8397bd84443a6e057d0ffad7d42",
            "placeholder": "​",
            "style": "IPY_MODEL_5e2190ed4fbb42d69cc838914fc28bd6",
            "value": "model.safetensors: 100%"
          }
        },
        "20eed149b344463d83d366d863a2cbb5": {
          "model_module": "@jupyter-widgets/controls",
          "model_name": "FloatProgressModel",
          "model_module_version": "1.5.0",
          "state": {
            "_dom_classes": [],
            "_model_module": "@jupyter-widgets/controls",
            "_model_module_version": "1.5.0",
            "_model_name": "FloatProgressModel",
            "_view_count": null,
            "_view_module": "@jupyter-widgets/controls",
            "_view_module_version": "1.5.0",
            "_view_name": "ProgressView",
            "bar_style": "success",
            "description": "",
            "description_tooltip": null,
            "layout": "IPY_MODEL_8c270cf01d3a4e84922da6e7d979bf04",
            "max": 988097824,
            "min": 0,
            "orientation": "horizontal",
            "style": "IPY_MODEL_c654ecf4ec284ad1ac69ea0e70c8d43d",
            "value": 988097824
          }
        },
        "10beb62e7950467fa6035cf1b0742d20": {
          "model_module": "@jupyter-widgets/controls",
          "model_name": "HTMLModel",
          "model_module_version": "1.5.0",
          "state": {
            "_dom_classes": [],
            "_model_module": "@jupyter-widgets/controls",
            "_model_module_version": "1.5.0",
            "_model_name": "HTMLModel",
            "_view_count": null,
            "_view_module": "@jupyter-widgets/controls",
            "_view_module_version": "1.5.0",
            "_view_name": "HTMLView",
            "description": "",
            "description_tooltip": null,
            "layout": "IPY_MODEL_8f5679bfaba74cc3bc11a3e30e745b0e",
            "placeholder": "​",
            "style": "IPY_MODEL_d96a06e187804766a994afdad30b797f",
            "value": " 988M/988M [00:13&lt;00:00, 82.9MB/s]"
          }
        },
        "f2622230911348dfb776cd2f5f07ddaa": {
          "model_module": "@jupyter-widgets/base",
          "model_name": "LayoutModel",
          "model_module_version": "1.2.0",
          "state": {
            "_model_module": "@jupyter-widgets/base",
            "_model_module_version": "1.2.0",
            "_model_name": "LayoutModel",
            "_view_count": null,
            "_view_module": "@jupyter-widgets/base",
            "_view_module_version": "1.2.0",
            "_view_name": "LayoutView",
            "align_content": null,
            "align_items": null,
            "align_self": null,
            "border": null,
            "bottom": null,
            "display": null,
            "flex": null,
            "flex_flow": null,
            "grid_area": null,
            "grid_auto_columns": null,
            "grid_auto_flow": null,
            "grid_auto_rows": null,
            "grid_column": null,
            "grid_gap": null,
            "grid_row": null,
            "grid_template_areas": null,
            "grid_template_columns": null,
            "grid_template_rows": null,
            "height": null,
            "justify_content": null,
            "justify_items": null,
            "left": null,
            "margin": null,
            "max_height": null,
            "max_width": null,
            "min_height": null,
            "min_width": null,
            "object_fit": null,
            "object_position": null,
            "order": null,
            "overflow": null,
            "overflow_x": null,
            "overflow_y": null,
            "padding": null,
            "right": null,
            "top": null,
            "visibility": null,
            "width": null
          }
        },
        "0b94c8397bd84443a6e057d0ffad7d42": {
          "model_module": "@jupyter-widgets/base",
          "model_name": "LayoutModel",
          "model_module_version": "1.2.0",
          "state": {
            "_model_module": "@jupyter-widgets/base",
            "_model_module_version": "1.2.0",
            "_model_name": "LayoutModel",
            "_view_count": null,
            "_view_module": "@jupyter-widgets/base",
            "_view_module_version": "1.2.0",
            "_view_name": "LayoutView",
            "align_content": null,
            "align_items": null,
            "align_self": null,
            "border": null,
            "bottom": null,
            "display": null,
            "flex": null,
            "flex_flow": null,
            "grid_area": null,
            "grid_auto_columns": null,
            "grid_auto_flow": null,
            "grid_auto_rows": null,
            "grid_column": null,
            "grid_gap": null,
            "grid_row": null,
            "grid_template_areas": null,
            "grid_template_columns": null,
            "grid_template_rows": null,
            "height": null,
            "justify_content": null,
            "justify_items": null,
            "left": null,
            "margin": null,
            "max_height": null,
            "max_width": null,
            "min_height": null,
            "min_width": null,
            "object_fit": null,
            "object_position": null,
            "order": null,
            "overflow": null,
            "overflow_x": null,
            "overflow_y": null,
            "padding": null,
            "right": null,
            "top": null,
            "visibility": null,
            "width": null
          }
        },
        "5e2190ed4fbb42d69cc838914fc28bd6": {
          "model_module": "@jupyter-widgets/controls",
          "model_name": "DescriptionStyleModel",
          "model_module_version": "1.5.0",
          "state": {
            "_model_module": "@jupyter-widgets/controls",
            "_model_module_version": "1.5.0",
            "_model_name": "DescriptionStyleModel",
            "_view_count": null,
            "_view_module": "@jupyter-widgets/base",
            "_view_module_version": "1.2.0",
            "_view_name": "StyleView",
            "description_width": ""
          }
        },
        "8c270cf01d3a4e84922da6e7d979bf04": {
          "model_module": "@jupyter-widgets/base",
          "model_name": "LayoutModel",
          "model_module_version": "1.2.0",
          "state": {
            "_model_module": "@jupyter-widgets/base",
            "_model_module_version": "1.2.0",
            "_model_name": "LayoutModel",
            "_view_count": null,
            "_view_module": "@jupyter-widgets/base",
            "_view_module_version": "1.2.0",
            "_view_name": "LayoutView",
            "align_content": null,
            "align_items": null,
            "align_self": null,
            "border": null,
            "bottom": null,
            "display": null,
            "flex": null,
            "flex_flow": null,
            "grid_area": null,
            "grid_auto_columns": null,
            "grid_auto_flow": null,
            "grid_auto_rows": null,
            "grid_column": null,
            "grid_gap": null,
            "grid_row": null,
            "grid_template_areas": null,
            "grid_template_columns": null,
            "grid_template_rows": null,
            "height": null,
            "justify_content": null,
            "justify_items": null,
            "left": null,
            "margin": null,
            "max_height": null,
            "max_width": null,
            "min_height": null,
            "min_width": null,
            "object_fit": null,
            "object_position": null,
            "order": null,
            "overflow": null,
            "overflow_x": null,
            "overflow_y": null,
            "padding": null,
            "right": null,
            "top": null,
            "visibility": null,
            "width": null
          }
        },
        "c654ecf4ec284ad1ac69ea0e70c8d43d": {
          "model_module": "@jupyter-widgets/controls",
          "model_name": "ProgressStyleModel",
          "model_module_version": "1.5.0",
          "state": {
            "_model_module": "@jupyter-widgets/controls",
            "_model_module_version": "1.5.0",
            "_model_name": "ProgressStyleModel",
            "_view_count": null,
            "_view_module": "@jupyter-widgets/base",
            "_view_module_version": "1.2.0",
            "_view_name": "StyleView",
            "bar_color": null,
            "description_width": ""
          }
        },
        "8f5679bfaba74cc3bc11a3e30e745b0e": {
          "model_module": "@jupyter-widgets/base",
          "model_name": "LayoutModel",
          "model_module_version": "1.2.0",
          "state": {
            "_model_module": "@jupyter-widgets/base",
            "_model_module_version": "1.2.0",
            "_model_name": "LayoutModel",
            "_view_count": null,
            "_view_module": "@jupyter-widgets/base",
            "_view_module_version": "1.2.0",
            "_view_name": "LayoutView",
            "align_content": null,
            "align_items": null,
            "align_self": null,
            "border": null,
            "bottom": null,
            "display": null,
            "flex": null,
            "flex_flow": null,
            "grid_area": null,
            "grid_auto_columns": null,
            "grid_auto_flow": null,
            "grid_auto_rows": null,
            "grid_column": null,
            "grid_gap": null,
            "grid_row": null,
            "grid_template_areas": null,
            "grid_template_columns": null,
            "grid_template_rows": null,
            "height": null,
            "justify_content": null,
            "justify_items": null,
            "left": null,
            "margin": null,
            "max_height": null,
            "max_width": null,
            "min_height": null,
            "min_width": null,
            "object_fit": null,
            "object_position": null,
            "order": null,
            "overflow": null,
            "overflow_x": null,
            "overflow_y": null,
            "padding": null,
            "right": null,
            "top": null,
            "visibility": null,
            "width": null
          }
        },
        "d96a06e187804766a994afdad30b797f": {
          "model_module": "@jupyter-widgets/controls",
          "model_name": "DescriptionStyleModel",
          "model_module_version": "1.5.0",
          "state": {
            "_model_module": "@jupyter-widgets/controls",
            "_model_module_version": "1.5.0",
            "_model_name": "DescriptionStyleModel",
            "_view_count": null,
            "_view_module": "@jupyter-widgets/base",
            "_view_module_version": "1.2.0",
            "_view_name": "StyleView",
            "description_width": ""
          }
        },
        "ed4b131d24e542f0adda24251e321552": {
          "model_module": "@jupyter-widgets/controls",
          "model_name": "HBoxModel",
          "model_module_version": "1.5.0",
          "state": {
            "_dom_classes": [],
            "_model_module": "@jupyter-widgets/controls",
            "_model_module_version": "1.5.0",
            "_model_name": "HBoxModel",
            "_view_count": null,
            "_view_module": "@jupyter-widgets/controls",
            "_view_module_version": "1.5.0",
            "_view_name": "HBoxView",
            "box_style": "",
            "children": [
              "IPY_MODEL_d373f741080a4d80ba2b8e277183d5b1",
              "IPY_MODEL_650dfed0098a4863a5e3d31b1f467f28",
              "IPY_MODEL_f22c54d4590b46c080379b47c4ac3153"
            ],
            "layout": "IPY_MODEL_8d50b20d667546879c051290936897cd"
          }
        },
        "d373f741080a4d80ba2b8e277183d5b1": {
          "model_module": "@jupyter-widgets/controls",
          "model_name": "HTMLModel",
          "model_module_version": "1.5.0",
          "state": {
            "_dom_classes": [],
            "_model_module": "@jupyter-widgets/controls",
            "_model_module_version": "1.5.0",
            "_model_name": "HTMLModel",
            "_view_count": null,
            "_view_module": "@jupyter-widgets/controls",
            "_view_module_version": "1.5.0",
            "_view_name": "HTMLView",
            "description": "",
            "description_tooltip": null,
            "layout": "IPY_MODEL_f5edcd98e32b473f9be4c04416fc3e64",
            "placeholder": "​",
            "style": "IPY_MODEL_89b19166e9d04d67aadea8ac7504081c",
            "value": "generation_config.json: 100%"
          }
        },
        "650dfed0098a4863a5e3d31b1f467f28": {
          "model_module": "@jupyter-widgets/controls",
          "model_name": "FloatProgressModel",
          "model_module_version": "1.5.0",
          "state": {
            "_dom_classes": [],
            "_model_module": "@jupyter-widgets/controls",
            "_model_module_version": "1.5.0",
            "_model_name": "FloatProgressModel",
            "_view_count": null,
            "_view_module": "@jupyter-widgets/controls",
            "_view_module_version": "1.5.0",
            "_view_name": "ProgressView",
            "bar_style": "success",
            "description": "",
            "description_tooltip": null,
            "layout": "IPY_MODEL_ca93dc01a1bc4ca9920123c0dd102695",
            "max": 138,
            "min": 0,
            "orientation": "horizontal",
            "style": "IPY_MODEL_233e156300ae46d9bf396b8ea8d13aec",
            "value": 138
          }
        },
        "f22c54d4590b46c080379b47c4ac3153": {
          "model_module": "@jupyter-widgets/controls",
          "model_name": "HTMLModel",
          "model_module_version": "1.5.0",
          "state": {
            "_dom_classes": [],
            "_model_module": "@jupyter-widgets/controls",
            "_model_module_version": "1.5.0",
            "_model_name": "HTMLModel",
            "_view_count": null,
            "_view_module": "@jupyter-widgets/controls",
            "_view_module_version": "1.5.0",
            "_view_name": "HTMLView",
            "description": "",
            "description_tooltip": null,
            "layout": "IPY_MODEL_9f49917fdfee46d0a1767de60e87b083",
            "placeholder": "​",
            "style": "IPY_MODEL_d22905663e794b46b3810a43808bf484",
            "value": " 138/138 [00:00&lt;00:00, 9.56kB/s]"
          }
        },
        "8d50b20d667546879c051290936897cd": {
          "model_module": "@jupyter-widgets/base",
          "model_name": "LayoutModel",
          "model_module_version": "1.2.0",
          "state": {
            "_model_module": "@jupyter-widgets/base",
            "_model_module_version": "1.2.0",
            "_model_name": "LayoutModel",
            "_view_count": null,
            "_view_module": "@jupyter-widgets/base",
            "_view_module_version": "1.2.0",
            "_view_name": "LayoutView",
            "align_content": null,
            "align_items": null,
            "align_self": null,
            "border": null,
            "bottom": null,
            "display": null,
            "flex": null,
            "flex_flow": null,
            "grid_area": null,
            "grid_auto_columns": null,
            "grid_auto_flow": null,
            "grid_auto_rows": null,
            "grid_column": null,
            "grid_gap": null,
            "grid_row": null,
            "grid_template_areas": null,
            "grid_template_columns": null,
            "grid_template_rows": null,
            "height": null,
            "justify_content": null,
            "justify_items": null,
            "left": null,
            "margin": null,
            "max_height": null,
            "max_width": null,
            "min_height": null,
            "min_width": null,
            "object_fit": null,
            "object_position": null,
            "order": null,
            "overflow": null,
            "overflow_x": null,
            "overflow_y": null,
            "padding": null,
            "right": null,
            "top": null,
            "visibility": null,
            "width": null
          }
        },
        "f5edcd98e32b473f9be4c04416fc3e64": {
          "model_module": "@jupyter-widgets/base",
          "model_name": "LayoutModel",
          "model_module_version": "1.2.0",
          "state": {
            "_model_module": "@jupyter-widgets/base",
            "_model_module_version": "1.2.0",
            "_model_name": "LayoutModel",
            "_view_count": null,
            "_view_module": "@jupyter-widgets/base",
            "_view_module_version": "1.2.0",
            "_view_name": "LayoutView",
            "align_content": null,
            "align_items": null,
            "align_self": null,
            "border": null,
            "bottom": null,
            "display": null,
            "flex": null,
            "flex_flow": null,
            "grid_area": null,
            "grid_auto_columns": null,
            "grid_auto_flow": null,
            "grid_auto_rows": null,
            "grid_column": null,
            "grid_gap": null,
            "grid_row": null,
            "grid_template_areas": null,
            "grid_template_columns": null,
            "grid_template_rows": null,
            "height": null,
            "justify_content": null,
            "justify_items": null,
            "left": null,
            "margin": null,
            "max_height": null,
            "max_width": null,
            "min_height": null,
            "min_width": null,
            "object_fit": null,
            "object_position": null,
            "order": null,
            "overflow": null,
            "overflow_x": null,
            "overflow_y": null,
            "padding": null,
            "right": null,
            "top": null,
            "visibility": null,
            "width": null
          }
        },
        "89b19166e9d04d67aadea8ac7504081c": {
          "model_module": "@jupyter-widgets/controls",
          "model_name": "DescriptionStyleModel",
          "model_module_version": "1.5.0",
          "state": {
            "_model_module": "@jupyter-widgets/controls",
            "_model_module_version": "1.5.0",
            "_model_name": "DescriptionStyleModel",
            "_view_count": null,
            "_view_module": "@jupyter-widgets/base",
            "_view_module_version": "1.2.0",
            "_view_name": "StyleView",
            "description_width": ""
          }
        },
        "ca93dc01a1bc4ca9920123c0dd102695": {
          "model_module": "@jupyter-widgets/base",
          "model_name": "LayoutModel",
          "model_module_version": "1.2.0",
          "state": {
            "_model_module": "@jupyter-widgets/base",
            "_model_module_version": "1.2.0",
            "_model_name": "LayoutModel",
            "_view_count": null,
            "_view_module": "@jupyter-widgets/base",
            "_view_module_version": "1.2.0",
            "_view_name": "LayoutView",
            "align_content": null,
            "align_items": null,
            "align_self": null,
            "border": null,
            "bottom": null,
            "display": null,
            "flex": null,
            "flex_flow": null,
            "grid_area": null,
            "grid_auto_columns": null,
            "grid_auto_flow": null,
            "grid_auto_rows": null,
            "grid_column": null,
            "grid_gap": null,
            "grid_row": null,
            "grid_template_areas": null,
            "grid_template_columns": null,
            "grid_template_rows": null,
            "height": null,
            "justify_content": null,
            "justify_items": null,
            "left": null,
            "margin": null,
            "max_height": null,
            "max_width": null,
            "min_height": null,
            "min_width": null,
            "object_fit": null,
            "object_position": null,
            "order": null,
            "overflow": null,
            "overflow_x": null,
            "overflow_y": null,
            "padding": null,
            "right": null,
            "top": null,
            "visibility": null,
            "width": null
          }
        },
        "233e156300ae46d9bf396b8ea8d13aec": {
          "model_module": "@jupyter-widgets/controls",
          "model_name": "ProgressStyleModel",
          "model_module_version": "1.5.0",
          "state": {
            "_model_module": "@jupyter-widgets/controls",
            "_model_module_version": "1.5.0",
            "_model_name": "ProgressStyleModel",
            "_view_count": null,
            "_view_module": "@jupyter-widgets/base",
            "_view_module_version": "1.2.0",
            "_view_name": "StyleView",
            "bar_color": null,
            "description_width": ""
          }
        },
        "9f49917fdfee46d0a1767de60e87b083": {
          "model_module": "@jupyter-widgets/base",
          "model_name": "LayoutModel",
          "model_module_version": "1.2.0",
          "state": {
            "_model_module": "@jupyter-widgets/base",
            "_model_module_version": "1.2.0",
            "_model_name": "LayoutModel",
            "_view_count": null,
            "_view_module": "@jupyter-widgets/base",
            "_view_module_version": "1.2.0",
            "_view_name": "LayoutView",
            "align_content": null,
            "align_items": null,
            "align_self": null,
            "border": null,
            "bottom": null,
            "display": null,
            "flex": null,
            "flex_flow": null,
            "grid_area": null,
            "grid_auto_columns": null,
            "grid_auto_flow": null,
            "grid_auto_rows": null,
            "grid_column": null,
            "grid_gap": null,
            "grid_row": null,
            "grid_template_areas": null,
            "grid_template_columns": null,
            "grid_template_rows": null,
            "height": null,
            "justify_content": null,
            "justify_items": null,
            "left": null,
            "margin": null,
            "max_height": null,
            "max_width": null,
            "min_height": null,
            "min_width": null,
            "object_fit": null,
            "object_position": null,
            "order": null,
            "overflow": null,
            "overflow_x": null,
            "overflow_y": null,
            "padding": null,
            "right": null,
            "top": null,
            "visibility": null,
            "width": null
          }
        },
        "d22905663e794b46b3810a43808bf484": {
          "model_module": "@jupyter-widgets/controls",
          "model_name": "DescriptionStyleModel",
          "model_module_version": "1.5.0",
          "state": {
            "_model_module": "@jupyter-widgets/controls",
            "_model_module_version": "1.5.0",
            "_model_name": "DescriptionStyleModel",
            "_view_count": null,
            "_view_module": "@jupyter-widgets/base",
            "_view_module_version": "1.2.0",
            "_view_name": "StyleView",
            "description_width": ""
          }
        }
      }
    }
  },
  "cells": [
    {
      "cell_type": "code",
      "execution_count": 1,
      "metadata": {
        "colab": {
          "base_uri": "https://localhost:8080/"
        },
        "id": "19enJR1IxgIQ",
        "outputId": "bf55b594-5714-41a2-d3a1-2154148b2b64"
      },
      "outputs": [
        {
          "output_type": "stream",
          "name": "stdout",
          "text": [
            "Drive already mounted at /content/drive; to attempt to forcibly remount, call drive.mount(\"/content/drive\", force_remount=True).\n"
          ]
        }
      ],
      "source": [
        "from google.colab import drive\n",
        "drive.mount('/content/drive')"
      ]
    },
    {
      "cell_type": "code",
      "source": [
        "# 把数据集放到5242文件夹里\n",
        "import os\n",
        "import sys\n",
        "sys.path.append(\"/content/drive/MyDrive/CS5242/\")\n",
        "from transformers import AutoTokenizer, AutoModel\n",
        "import torch\n",
        "from torch import nn\n",
        "import torch.nn.functional as F\n",
        "import matplotlib.pyplot as plt\n",
        "from matplotlib_inline import backend_inline\n",
        "from sklearn.metrics import f1_score, accuracy_score\n",
        "from IPython import display\n",
        "import time\n",
        "import sklearn.metrics\n",
        "import json\n",
        "import collections\n",
        "import numpy as np\n",
        "import pandas as pd\n",
        "from transformers.optimization import get_cosine_schedule_with_warmup\n",
        "import math\n",
        "import copy\n",
        "from torch.utils.data import Dataset, DataLoader\n",
        "from tqdm import tqdm\n",
        "from sklearn.model_selection import train_test_split\n"
      ],
      "metadata": {
        "id": "GzTa_S2vyHTL"
      },
      "execution_count": 6,
      "outputs": []
    },
    {
      "cell_type": "markdown",
      "source": [
        "## Utils"
      ],
      "metadata": {
        "id": "zckTUJX4O3q9"
      }
    },
    {
      "cell_type": "code",
      "source": [
        "class Args(object):\n",
        "    def __init__(self):\n",
        "        super().__init__()\n",
        "        self.optimizer = 'adamw'\n",
        "        self.batch_size = 16\n",
        "        self.num_epochs = 10\n",
        "        self.lr = 1e-3\n",
        "        self.weight_decay = 1e-4\n",
        "        self.lr_period = 4\n",
        "        self.lr_decay = 0.8\n",
        "        self.dropout = 0.1\n",
        "        self.embedding_dim = 300\n",
        "        self.hidden_dim = 300\n",
        "        self.num_class = 3\n",
        "        self.num_aspect = 6\n",
        "        self.max_seq_len = 500\n",
        "        self.num_warmup_steps = 200\n",
        "        self.pt_path = \"/content/drive/MyDrive/CS5242/ckpt\"\n",
        "        self.img_path = \"/content/drive/MyDrive/CS5242/images\"\n",
        "        self.learning_rates = []\n",
        "        self.monitor = 'loss'\n",
        "class Timer:\n",
        "    \"\"\"Record multiple running times.\"\"\"\n",
        "    def __init__(self):\n",
        "        \"\"\"Defined in :numref:`sec_minibatch_sgd`\"\"\"\n",
        "        self.times = []\n",
        "        self.start()\n",
        "\n",
        "    def start(self):\n",
        "        \"\"\"Start the timer.\"\"\"\n",
        "        self.tik = time.time()\n",
        "\n",
        "    def stop(self):\n",
        "        \"\"\"Stop the timer and record the time in a list.\"\"\"\n",
        "        self.times.append(time.time() - self.tik)\n",
        "        return self.times[-1]\n",
        "\n",
        "    def avg(self):\n",
        "        \"\"\"Return the average time.\"\"\"\n",
        "        return sum(self.times) / len(self.times)\n",
        "\n",
        "    def sum(self):\n",
        "        \"\"\"Return the sum of time.\"\"\"\n",
        "        return sum(self.times)\n",
        "\n",
        "    def cumsum(self):\n",
        "        \"\"\"Return the accumulated time.\"\"\"\n",
        "        return np.array(self.times).cumsum().tolist()\n",
        "\n",
        "class Accumulator:\n",
        "    \"\"\"For accumulating sums over `n` variables.\"\"\"\n",
        "    def __init__(self, n):\n",
        "        \"\"\"Defined in :numref:`sec_utils`\"\"\"\n",
        "        self.data = [0.0] * n\n",
        "\n",
        "    def add(self, *args):\n",
        "        self.data = [a + float(b) for a, b in zip(self.data, args)]\n",
        "\n",
        "    def reset(self):\n",
        "        self.data = [0.0] * len(self.data)\n",
        "\n",
        "    def __getitem__(self, idx):\n",
        "        return self.data[idx]\n",
        "\n",
        "class Animator:\n",
        "    \"\"\"For plotting data in animation.\"\"\"\n",
        "    def __init__(self, xlabel=None, ylabel=None, legend=None, xlim=None,\n",
        "                 ylim=None, xscale='linear', yscale='linear',\n",
        "                 fmts=('-', 'm--', 'g-.', 'r:'), nrows=1, ncols=1,\n",
        "                 figsize=(3.5, 2.5)):\n",
        "        \"\"\"Defined in :numref:`sec_utils`\"\"\"\n",
        "        # Incrementally plot multiple lines\n",
        "        if legend is None:\n",
        "            legend = []\n",
        "        use_svg_display()\n",
        "        self.fig, self.axes = plt.subplots(nrows, ncols, figsize=figsize)\n",
        "        if nrows * ncols == 1:\n",
        "            self.axes = [self.axes, ]\n",
        "        # Use a lambda function to capture arguments\n",
        "        self.config_axes = lambda: set_axes(self.axes[0], xlabel, ylabel, xlim, ylim, xscale, yscale, legend)\n",
        "        self.X, self.Y, self.fmts = None, None, fmts\n",
        "\n",
        "    def add(self, x, y):\n",
        "        # Add multiple data points into the figure\n",
        "        if not hasattr(y, \"__len__\"):\n",
        "            y = [y]\n",
        "        n = len(y)\n",
        "        if not hasattr(x, \"__len__\"):\n",
        "            x = [x] * n\n",
        "        if not self.X:\n",
        "            self.X = [[] for _ in range(n)]\n",
        "        if not self.Y:\n",
        "            self.Y = [[] for _ in range(n)]\n",
        "        for i, (a, b) in enumerate(zip(x, y)):\n",
        "            if a is not None and b is not None:\n",
        "                self.X[i].append(a)\n",
        "                self.Y[i].append(b)\n",
        "        self.axes[0].cla()\n",
        "        for x, y, fmt in zip(self.X, self.Y, self.fmts):\n",
        "            self.axes[0].plot(x, y, fmt)\n",
        "        self.config_axes()\n",
        "        display.display(self.fig)\n",
        "        display.clear_output(wait=True)\n",
        "\n",
        "    def save(self, output_dir, fname):\n",
        "        plt.savefig(os.path.join(output_dir, fname), dpi=600)\n",
        "\n",
        "def use_svg_display():\n",
        "    \"\"\"Use the svg format to display a plot in Jupyter.\"\"\"\n",
        "    backend_inline.set_matplotlib_formats('svg')\n",
        "\n",
        "def set_axes(axes, xlabel, ylabel, xlim, ylim, xscale, yscale, legend):\n",
        "    \"\"\"Set the axes for matplotlib.\"\"\"\n",
        "    axes.set_xlabel(xlabel), axes.set_ylabel(ylabel)\n",
        "    axes.set_xscale(xscale), axes.set_yscale(yscale)\n",
        "    axes.set_xlim(xlim),     axes.set_ylim(ylim)\n",
        "    if legend:\n",
        "        axes.legend(legend)\n",
        "    axes.grid()\n",
        "\n",
        "def count_parameters(model):\n",
        "    total = sum(p.numel() for p in model.parameters())\n",
        "    trainable = sum(p.numel() for p in model.parameters() if p.requires_grad)\n",
        "    return total, trainable\n",
        "\n",
        "def accuracy(y_pred, y):\n",
        "    \"\"\"Compute the number of correct predictions.\n",
        "    Defined in :numref:`sec_utils`\"\"\"\n",
        "    if len(y_pred.shape) > 1 and y_pred.shape[1] > 1:\n",
        "        y_pred = torch.argmax(y_pred, axis=1)\n",
        "    cmp = (y_pred.type(y.dtype)) == y\n",
        "    return float(torch.sum(cmp.type(y.dtype)))\n",
        "\n",
        "def download_model(model_name,cache_dir):\n",
        "  if not os.path.exists(cache_dir):\n",
        "    os.makedirs(cache_dir)\n",
        "  tokenizer = AutoTokenizer.from_pretrained(model_name, cache_dir=cache_dir)\n",
        "  model = AutoModel.from_pretrained(model_name, cache_dir=cache_dir)\n",
        "  total, trainable = count_parameters(model)\n",
        "  print(f\"Total Parameters: {total:,}, Trainable: {trainable:,}\")\n",
        "  print(model)\n",
        "\n",
        "def evaluate_loss_and_acc_gpu(net, data_iter, loss=None, device=None):\n",
        "    \"\"\"Compute the accuracy for a model on a dataset using a GPU.\"\"\"\n",
        "    if isinstance(net, nn.Module):\n",
        "        net.eval()  # Set the model to evaluation mode\n",
        "        if not device:\n",
        "            device = next(iter(net.parameters())).device\n",
        "    # No. of correct predictions, no. of predictions\n",
        "    if loss:\n",
        "        metric = Accumulator(3)\n",
        "    else:\n",
        "        metric = Accumulator(2)\n",
        "\n",
        "    with torch.no_grad():\n",
        "        for batch in data_iter:\n",
        "            if isinstance(batch, dict):\n",
        "                for k, v in batch.items():\n",
        "                    batch[k] = batch[k].to(device)\n",
        "            else:\n",
        "                batch = batch.to(device)\n",
        "            y = batch['label']\n",
        "            y_pred = net(**batch)\n",
        "            if loss:\n",
        "                metric.add(loss(y_pred, y).sum(), accuracy(y_pred, y), torch.numel(y))\n",
        "            else:\n",
        "                metric.add(accuracy(y_pred, y), torch.numel(y))\n",
        "    return (metric[0] / metric[2], metric[1] / metric[2]) if loss else metric[0] / metric[1]\n",
        "\n",
        "def train_batch(net, batch, loss, trainer, devices):\n",
        "    \"\"\"Train for a minibatch \"\"\"\n",
        "    if isinstance(batch, dict):\n",
        "        for k, v in batch.items():\n",
        "            batch[k] = batch[k].to(devices[0])\n",
        "    else:\n",
        "        batch = batch.to(devices[0])\n",
        "    y = batch['label']\n",
        "    net.train()\n",
        "    trainer.zero_grad()\n",
        "    pred = net(**batch)\n",
        "    l = loss(pred, y)\n",
        "    l.mean().backward()\n",
        "    trainer.step()\n",
        "    train_loss_sum = l.sum().item()\n",
        "    train_acc_sum = accuracy(pred, y)\n",
        "    args.learning_rates.append(trainer.param_groups[0][\"lr\"])\n",
        "    return train_loss_sum, train_acc_sum\n",
        "\n",
        "def train_transformer(net, train_iter, valid_iter, num_epochs,\n",
        "                      optimizer, lr, wd, num_warmup_steps,\n",
        "                      devices, task_name):\n",
        "    if optimizer == 'sgd':\n",
        "        trainer = torch.optim.SGD(net.parameters(), lr=lr, momentum=0.9, weight_decay=wd)\n",
        "    elif optimizer == 'adam':\n",
        "        trainer = torch.optim.Adam(net.parameters(), lr=lr, weight_decay=wd)\n",
        "    elif optimizer == 'adamw':\n",
        "        trainer = torch.optim.AdamW(net.parameters(), lr=lr, weight_decay=wd)\n",
        "\n",
        "    model_name = str(net.__class__.__name__)\n",
        "    scheduler = get_cosine_schedule_with_warmup(trainer, num_warmup_steps=num_warmup_steps, num_training_steps=num_epochs*len(train_iter))\n",
        "\n",
        "    loss = nn.CrossEntropyLoss(reduction=\"none\")\n",
        "    timer = Timer()\n",
        "    num_batches = len(train_iter)\n",
        "    legend = ['train loss', 'train acc']\n",
        "    if valid_iter is not None:\n",
        "        legend += ['valid loss', 'valid acc']\n",
        "    animator = Animator(xlabel='epoch', xlim=[1, num_epochs], legend=legend, figsize=(7, 5))\n",
        "\n",
        "    if args.monitor == 'loss':\n",
        "        monitor_val = math.inf\n",
        "    else:\n",
        "        monitor_val = -math.inf\n",
        "    for epoch in range(num_epochs):\n",
        "        net.train()\n",
        "        metric = Accumulator(4)\n",
        "        for i, batch in enumerate(tqdm(train_iter)):\n",
        "            timer.start()\n",
        "            labels = batch['label']\n",
        "            output = train_batch(net, batch, loss, trainer, devices)\n",
        "            scheduler.step()\n",
        "            metric.add(output[0], output[1], labels.shape[0])\n",
        "            timer.stop()\n",
        "            if (i + 1) % (num_batches // 5) == 0 or i == num_batches - 1:\n",
        "                animator.add(epoch + (i + 1) / num_batches,\n",
        "                             (metric[0] / metric[2], metric[1] / metric[2], None, None))\n",
        "\n",
        "        if valid_iter is not None:\n",
        "            valid_loss, valid_acc = evaluate_loss_and_acc_gpu(net, valid_iter, loss, devices[0])\n",
        "            animator.add(epoch + 1, (None, None, valid_loss, valid_acc))\n",
        "            if args.monitor == 'loss':\n",
        "                if valid_loss < monitor_val:\n",
        "                    filename = task_name + f\"-epoch{epoch}-val_loss{valid_loss :.2f}.pt\"\n",
        "                    best_model_state = copy.deepcopy(net.state_dict())\n",
        "                    monitor_val = valid_loss\n",
        "            else:\n",
        "                if valid_acc > monitor_val:\n",
        "                    filename = task_name + f\"-epoch{epoch}-val_acc{valid_acc :.2f}.pt\"\n",
        "                    best_model_state = copy.deepcopy(net.state_dict())\n",
        "                    monitor_val = valid_acc\n",
        "\n",
        "\n",
        "    measures = (f'train loss {metric[0] / metric[2]:.3f}, '\n",
        "                f'train acc {metric[1] / metric[2]:.3f}')\n",
        "    if valid_iter is not None:\n",
        "        measures += f', valid loss {valid_loss:.3f}'\n",
        "        measures += f', valid acc {valid_acc:.3f}'\n",
        "    print(measures + f'\\n{metric[2] * num_epochs / timer.sum():.1f}'\n",
        "          f' examples/sec on {str(devices)}')\n",
        "    args.pt_path = os.path.join(args.pt_path, filename)\n",
        "    torch.save(best_model_state, args.pt_path)\n",
        "    animator.save(args.img_path, filename + f\"-train_loss{metric[0] / metric[2]:.2f}.png\")\n",
        "\n",
        "def test(net, data_iter, output_dir=None, device=None):\n",
        "    net.eval()\n",
        "    full_logits=[]\n",
        "    full_label_ids=[]\n",
        "    for i, batch in tqdm(enumerate(data_iter)):\n",
        "        with torch.no_grad():\n",
        "            if isinstance(batch, dict):\n",
        "                for k, v in batch.items():\n",
        "                    batch[k] = batch[k].to(device)\n",
        "            else:\n",
        "                batch = batch.to(device)\n",
        "\n",
        "            logits = net(**batch)\n",
        "            logits = logits.detach().cpu().numpy()\n",
        "            y = batch['label'].cpu().numpy()\n",
        "\n",
        "            full_logits.extend(logits.tolist())\n",
        "            full_label_ids.extend(y.tolist())\n",
        "\n",
        "    y_pred = [np.argmax(logit) for logit in full_logits]\n",
        "    y_true = full_label_ids\n",
        "    f1 =sklearn.metrics.f1_score(y_true, y_pred, average='macro')\n",
        "    acc =sklearn.metrics.accuracy_score(y_true, y_pred)\n",
        "    print(f\"test on final epoch -- acc: {acc*100 :.2f}, f1-macro: {f1*100 :.2f}\")\n",
        "    if output_dir:\n",
        "        output_eval_json = os.path.join(output_dir, str(net.__class__.__name__) + \"_predictions.json\")\n",
        "        with open(output_eval_json, \"w\") as fw:\n",
        "            json.dump({\"logits\": full_logits, \"label_ids\": full_label_ids}, fw)\n",
        "\n",
        "def test_on_checkpoint(net, file_path, data_iter, output_dir=None, device=None):\n",
        "    state_dict = torch.load(file_path, map_location=device)\n",
        "    net.load_state_dict(state_dict)\n",
        "    net.to(device)\n",
        "    net.eval()\n",
        "    full_logits=[]\n",
        "    full_label_ids=[]\n",
        "    full_aspect_ids = []\n",
        "    for i, batch in enumerate(data_iter):\n",
        "        with torch.no_grad():\n",
        "            if isinstance(batch, dict):\n",
        "                for k, v in batch.items():\n",
        "                    batch[k] = batch[k].to(device)\n",
        "            else:\n",
        "                batch = batch.to(device)\n",
        "\n",
        "            logits = net(**batch)\n",
        "            logits = logits.detach().cpu().numpy()\n",
        "            y = batch['label'].cpu().numpy()\n",
        "\n",
        "            full_logits.extend(logits.tolist())\n",
        "            full_label_ids.extend(y.tolist())\n",
        "\n",
        "\n",
        "    y_pred = [np.argmax(logit) for logit in full_logits]\n",
        "    y_true = full_label_ids\n",
        "    f1 =sklearn.metrics.f1_score(y_true, y_pred, average='macro')\n",
        "    acc =sklearn.metrics.accuracy_score(y_true, y_pred)\n",
        "    print(f\"test on {file_path} -- acc: {acc*100 :.2f}, f1-macro: {f1*100 :.2f}\")\n",
        "    if output_dir:\n",
        "        output_eval_json = os.path.join(output_dir, str(net.__class__.__name__) + \"_predictions.json\")\n",
        "        with open(output_eval_json, \"w\") as fw:\n",
        "            json.dump({\"logits\": full_logits, \"label_ids\": full_label_ids}, fw)\n"
      ],
      "metadata": {
        "id": "zP3BMY4qSkZ4"
      },
      "execution_count": 7,
      "outputs": []
    },
    {
      "cell_type": "markdown",
      "source": [
        "## 4. BGE Model"
      ],
      "metadata": {
        "id": "4Eo-jyjAJ4rm"
      }
    },
    {
      "cell_type": "code",
      "source": [
        "class BGEProcessor(object):\n",
        "    def __init__(self, data_dir, data_name):\n",
        "        self.data_dir = data_dir\n",
        "        self.data_name = data_name\n",
        "\n",
        "    def get_examples(self):\n",
        "        \"\"\"Read data from json file.\n",
        "        Args:\n",
        "            data_dir (string):\n",
        "                Path.\n",
        "            mode (string):\n",
        "                Indicate train/dev/test.\n",
        "        Returns:\n",
        "            examples for different modes.\n",
        "        \"\"\"\n",
        "        return self._create_examples(self._read_json(os.path.join(self.data_dir, self.data_name)))\n",
        "\n",
        "    def get_labels(self):\n",
        "        \"\"\"Return labels for specific dataset\"\"\"\n",
        "        return [\"negative\", \"neutral\", \"positive\"]\n",
        "\n",
        "    def _create_examples(self, datas):\n",
        "        \"\"\"Creates examples for the training and dev sets.\"\"\"\n",
        "        examples = []\n",
        "        for idx,data in enumerate(datas):\n",
        "            data['label'] = int(data[\"label\"])\n",
        "            examples.append(data)\n",
        "        return examples\n",
        "\n",
        "    def _read_json(self, input_file):\n",
        "        \"\"\"Reads a json file for tasks in sentiment analysis.\"\"\"\n",
        "        datas = []\n",
        "        with open(input_file, 'r', encoding='utf-8') as f:\n",
        "          for line in f:\n",
        "              obj = json.loads(line)\n",
        "              datas.append(obj)\n",
        "        return datas\n",
        "\n",
        "class SingleTowerBGEDataset(Dataset):\n",
        "    \"\"\"Build dataset and convert examples to features\"\"\"\n",
        "    def __init__(self, model_name, cache_dir, samples):\n",
        "        self.model_name = model_name\n",
        "        self.samples = samples\n",
        "        print(len(self.samples))\n",
        "        self.tokenizer = AutoTokenizer.from_pretrained(model_name, cache_dir=cache_dir)\n",
        "        self.convert_data_to_features()\n",
        "\n",
        "    def convert_data_to_features(self):\n",
        "        \"\"\"convert examples to features\"\"\"\n",
        "        label_map = {0: 0, 1: 1, 2: 2}\n",
        "\n",
        "        output = []\n",
        "        for (i, sample) in tqdm(enumerate(self.samples)):\n",
        "            feature = {}\n",
        "            query = sample['query']\n",
        "            document = sample['title']\n",
        "            inputs = self.tokenizer(query,\n",
        "                                    document,\n",
        "                                    return_tensors=\"pt\",\n",
        "                                    padding=True,\n",
        "                                    truncation=True)\n",
        "\n",
        "            input_ids = inputs[\"input_ids\"][0]\n",
        "            token_type_ids  = inputs[\"token_type_ids\"][0]\n",
        "            attention_mask = inputs[\"attention_mask\"][0]\n",
        "            label_id = label_map[sample['label']]\n",
        "            feature = {\n",
        "                \"input_ids\": input_ids,\n",
        "                \"token_type_ids\": token_type_ids,\n",
        "                \"attention_mask\": attention_mask,\n",
        "                \"label_id\": label_id\n",
        "            }\n",
        "            output += [feature]\n",
        "        self.data = output\n",
        "\n",
        "    def __getitem__(self, index):\n",
        "        return self.data[index]\n",
        "\n",
        "    def __len__(self):\n",
        "        return len(self.data)\n",
        "\n",
        "def build_bge_collate_fn(tokenizer):\n",
        "    def collate_fn(batch):\n",
        "        input_ids = [item['input_ids'] for item in batch]\n",
        "        attention_mask = [item['attention_mask'] for item in batch]\n",
        "        token_type_ids = [item['token_type_ids'] for item in batch]\n",
        "        label_ids = torch.tensor([item['label_id'] for item in batch])\n",
        "\n",
        "        padded = tokenizer.pad(\n",
        "            {\n",
        "                \"input_ids\": input_ids,\n",
        "                \"attention_mask\": attention_mask,\n",
        "                \"token_type_ids\": token_type_ids,\n",
        "            },\n",
        "            return_tensors=\"pt\",\n",
        "            padding=True\n",
        "        )\n",
        "\n",
        "        return {\n",
        "            \"input_ids\": padded[\"input_ids\"],\n",
        "            \"attention_mask\": padded[\"attention_mask\"],\n",
        "            \"token_type_ids\": padded[\"token_type_ids\"],\n",
        "            \"label\": label_ids\n",
        "        }\n",
        "    return collate_fn\n",
        "\n",
        "class DualTowerBGEDataset(Dataset):\n",
        "    \"\"\"Build dataset for dual tower model and convert examples to features separately\"\"\"\n",
        "    def __init__(self, model_name, cache_dir, samples):\n",
        "        self.tokenizer = AutoTokenizer.from_pretrained(model_name, cache_dir=cache_dir)\n",
        "        self.samples = samples\n",
        "        self.data = self.convert_data_to_features(samples)\n",
        "\n",
        "    def convert_data_to_features(self, samples):\n",
        "        label_map = {0: 0, 1: 1, 2: 2}\n",
        "        features = []\n",
        "\n",
        "        for sample in tqdm(samples, desc=\"Converting data\"):\n",
        "            query = sample['query']\n",
        "            document = sample['title']\n",
        "            label = label_map[sample['label']]\n",
        "\n",
        "            query_inputs = self.tokenizer(query,\n",
        "                                          return_tensors=\"pt\",\n",
        "                                          padding=True,\n",
        "                                          truncation=True)\n",
        "            doc_inputs = self.tokenizer(  document,\n",
        "                                          return_tensors=\"pt\",\n",
        "                                          padding=True,\n",
        "                                          truncation=True)\n",
        "\n",
        "            feature = {\n",
        "                \"query_input_ids\": query_inputs[\"input_ids\"].squeeze(0),\n",
        "                \"query_attention_mask\": query_inputs[\"attention_mask\"].squeeze(0),\n",
        "                \"query_token_type_ids\": query_inputs[\"token_type_ids\"].squeeze(0),\n",
        "\n",
        "                \"doc_input_ids\": doc_inputs[\"input_ids\"].squeeze(0),\n",
        "                \"doc_attention_mask\": doc_inputs[\"attention_mask\"].squeeze(0),\n",
        "                \"doc_token_type_ids\": doc_inputs[\"token_type_ids\"].squeeze(0),\n",
        "\n",
        "                \"label\": label\n",
        "            }\n",
        "            features.append(feature)\n",
        "        return features\n",
        "\n",
        "    def __getitem__(self, index):\n",
        "        return self.data[index]\n",
        "\n",
        "    def __len__(self):\n",
        "        return len(self.data)\n",
        "\n",
        "def build_dual_bge_collate_fn(tokenizer):\n",
        "    def collate_fn(batch):\n",
        "        query_input_ids = [item['query_input_ids'] for item in batch]\n",
        "        query_attention_mask = [item['query_attention_mask'] for item in batch]\n",
        "        query_token_type_ids = [item['query_token_type_ids'] for item in batch]\n",
        "\n",
        "        doc_input_ids = [item['doc_input_ids'] for item in batch]\n",
        "        doc_attention_mask = [item['doc_attention_mask'] for item in batch]\n",
        "        doc_token_type_ids = [item['doc_token_type_ids'] for item in batch]\n",
        "\n",
        "        label_ids = torch.tensor([item['label'] for item in batch])\n",
        "\n",
        "        # Padding query\n",
        "        query_batch = tokenizer.pad(\n",
        "            {\n",
        "                \"input_ids\": query_input_ids,\n",
        "                \"attention_mask\": query_attention_mask,\n",
        "                \"token_type_ids\": query_token_type_ids,\n",
        "            },\n",
        "            return_tensors=\"pt\",\n",
        "            padding=True\n",
        "        )\n",
        "\n",
        "        # Padding document\n",
        "        doc_batch = tokenizer.pad(\n",
        "            {\n",
        "                \"input_ids\": doc_input_ids,\n",
        "                \"attention_mask\": doc_attention_mask,\n",
        "                \"token_type_ids\": doc_token_type_ids,\n",
        "            },\n",
        "            return_tensors=\"pt\",\n",
        "            padding=True\n",
        "        )\n",
        "\n",
        "        return {\n",
        "            \"query_input_ids\": query_batch[\"input_ids\"],\n",
        "            \"query_attention_mask\": query_batch[\"attention_mask\"],\n",
        "            \"query_token_type_ids\": query_batch[\"token_type_ids\"],\n",
        "            \"doc_input_ids\": doc_batch[\"input_ids\"],\n",
        "            \"doc_attention_mask\": doc_batch[\"attention_mask\"],\n",
        "            \"doc_token_type_ids\": doc_batch[\"token_type_ids\"],\n",
        "            \"label\": label_ids\n",
        "        }\n",
        "\n",
        "    return collate_fn"
      ],
      "metadata": {
        "id": "HXmYwmnUSAnT"
      },
      "execution_count": 8,
      "outputs": []
    },
    {
      "cell_type": "markdown",
      "source": [
        "### 4.1 SingleTowerBGE Model"
      ],
      "metadata": {
        "id": "omopOcxhR1Q0"
      }
    },
    {
      "cell_type": "code",
      "source": [
        "data_dir = \"/content/drive/MyDrive/CS5242/\"\n",
        "model_name = \"BAAI/bge-base-zh-v1.5\" ; cache_dir = \"/content/drive/MyDrive/CS5242/bge-base-zh-v1.5\"\n",
        "test_data_name = \"test_public.json\" ; train_data_name = \"train.json\"\n",
        "task_name = \"SingleTowerBGE\"\n",
        "args = Args()\n",
        "args.lr = 3e-5\n",
        "args.num_epochs=5\n",
        "args.batch_size=64\n",
        "args.monitor = 'accuracy'\n",
        "devices = [torch.device(\"cuda\" if torch.cuda.is_available() else \"cpu\")]\n",
        "download_model(model_name,cache_dir)"
      ],
      "metadata": {
        "colab": {
          "base_uri": "https://localhost:8080/"
        },
        "id": "OJ_JvTIjSpBs",
        "outputId": "5ee7553d-c492-4fea-8c4a-5704fab48f99"
      },
      "execution_count": null,
      "outputs": [
        {
          "output_type": "stream",
          "name": "stdout",
          "text": [
            "Total Parameters: 102,267,648, Trainable: 102,267,648\n",
            "BertModel(\n",
            "  (embeddings): BertEmbeddings(\n",
            "    (word_embeddings): Embedding(21128, 768, padding_idx=0)\n",
            "    (position_embeddings): Embedding(512, 768)\n",
            "    (token_type_embeddings): Embedding(2, 768)\n",
            "    (LayerNorm): LayerNorm((768,), eps=1e-12, elementwise_affine=True)\n",
            "    (dropout): Dropout(p=0.1, inplace=False)\n",
            "  )\n",
            "  (encoder): BertEncoder(\n",
            "    (layer): ModuleList(\n",
            "      (0-11): 12 x BertLayer(\n",
            "        (attention): BertAttention(\n",
            "          (self): BertSdpaSelfAttention(\n",
            "            (query): Linear(in_features=768, out_features=768, bias=True)\n",
            "            (key): Linear(in_features=768, out_features=768, bias=True)\n",
            "            (value): Linear(in_features=768, out_features=768, bias=True)\n",
            "            (dropout): Dropout(p=0.1, inplace=False)\n",
            "          )\n",
            "          (output): BertSelfOutput(\n",
            "            (dense): Linear(in_features=768, out_features=768, bias=True)\n",
            "            (LayerNorm): LayerNorm((768,), eps=1e-12, elementwise_affine=True)\n",
            "            (dropout): Dropout(p=0.1, inplace=False)\n",
            "          )\n",
            "        )\n",
            "        (intermediate): BertIntermediate(\n",
            "          (dense): Linear(in_features=768, out_features=3072, bias=True)\n",
            "          (intermediate_act_fn): GELUActivation()\n",
            "        )\n",
            "        (output): BertOutput(\n",
            "          (dense): Linear(in_features=3072, out_features=768, bias=True)\n",
            "          (LayerNorm): LayerNorm((768,), eps=1e-12, elementwise_affine=True)\n",
            "          (dropout): Dropout(p=0.1, inplace=False)\n",
            "        )\n",
            "      )\n",
            "    )\n",
            "  )\n",
            "  (pooler): BertPooler(\n",
            "    (dense): Linear(in_features=768, out_features=768, bias=True)\n",
            "    (activation): Tanh()\n",
            "  )\n",
            ")\n"
          ]
        }
      ]
    },
    {
      "cell_type": "code",
      "source": [
        "train_processor = BGEProcessor(data_dir,train_data_name)\n",
        "train_examples = train_processor.get_examples()[:18000]\n",
        "test_processor = BGEProcessor(data_dir,test_data_name)\n",
        "test_examples = test_processor.get_examples()[:2000]\n",
        "train_examples, dev_examples = train_test_split(train_examples, test_size=1/9, random_state=42)"
      ],
      "metadata": {
        "id": "JgPxRKG9VqpW"
      },
      "execution_count": null,
      "outputs": []
    },
    {
      "cell_type": "code",
      "source": [
        "train_data = SingleTowerBGEDataset(model_name, cache_dir,train_examples)\n",
        "dev_data = SingleTowerBGEDataset(model_name, cache_dir,dev_examples)\n",
        "test_data = SingleTowerBGEDataset(model_name, cache_dir,test_examples)"
      ],
      "metadata": {
        "colab": {
          "base_uri": "https://localhost:8080/"
        },
        "id": "_rVaHV0_H1gF",
        "outputId": "82c27640-d2ea-49f5-a9cf-4d793f0f8ddb"
      },
      "execution_count": null,
      "outputs": [
        {
          "output_type": "stream",
          "name": "stdout",
          "text": [
            "16000\n"
          ]
        },
        {
          "output_type": "stream",
          "name": "stderr",
          "text": [
            "16000it [00:05, 2688.04it/s]\n"
          ]
        },
        {
          "output_type": "stream",
          "name": "stdout",
          "text": [
            "2000\n"
          ]
        },
        {
          "output_type": "stream",
          "name": "stderr",
          "text": [
            "2000it [00:01, 1955.51it/s]\n"
          ]
        },
        {
          "output_type": "stream",
          "name": "stdout",
          "text": [
            "2000\n"
          ]
        },
        {
          "output_type": "stream",
          "name": "stderr",
          "text": [
            "2000it [00:00, 2373.35it/s]\n"
          ]
        }
      ]
    },
    {
      "cell_type": "code",
      "source": [
        "class SingleTowerBGE(nn.Module):\n",
        "    \"\"\" Transformer encoder\"\"\"\n",
        "    def __init__(self, model_name,cache_dir,output_dim):\n",
        "        super().__init__()\n",
        "        self.model_name = model_name\n",
        "        self.cache_dir = cache_dir\n",
        "        self.bge = AutoModel.from_pretrained(self.model_name,cache_dir=self.cache_dir)\n",
        "        self.d_model = self.bge.config.hidden_size\n",
        "        self.clf = nn.Sequential(\n",
        "            nn.Linear(self.d_model, self.d_model),\n",
        "            nn.ReLU(),\n",
        "            nn.Dropout(p=0.1),\n",
        "            nn.Linear(self.d_model, output_dim),\n",
        "        )\n",
        "\n",
        "    def forward(self, input_ids, attention_mask, token_type_ids, **kwarg):\n",
        "        outputs = self.bge(\n",
        "            input_ids = input_ids,\n",
        "            attention_mask = attention_mask,\n",
        "            token_type_ids = token_type_ids,\n",
        "        ).last_hidden_state\n",
        "        logits = self.clf(outputs[:,0,:])\n",
        "        return logits"
      ],
      "metadata": {
        "id": "TqsFHl3lR-la"
      },
      "execution_count": null,
      "outputs": []
    },
    {
      "cell_type": "code",
      "source": [
        "train_iter = DataLoader(dataset=train_data,\n",
        "                        batch_size = args.batch_size,\n",
        "                        collate_fn=build_bge_collate_fn(\n",
        "                              AutoTokenizer.from_pretrained(\n",
        "                                  model_name,\n",
        "                                  cache_dir = cache_dir)),\n",
        "                        shuffle=False)\n",
        "dev_iter = DataLoader(dataset=dev_data,\n",
        "                        batch_size = args.batch_size,\n",
        "                        collate_fn=build_bge_collate_fn(\n",
        "                              AutoTokenizer.from_pretrained(\n",
        "                                  model_name,\n",
        "                                  cache_dir = cache_dir)),\n",
        "                        shuffle=False)\n",
        "test_iter = DataLoader(dataset=test_data,\n",
        "                       batch_size=args.batch_size,\n",
        "                       collate_fn=build_bge_collate_fn(\n",
        "                              AutoTokenizer.from_pretrained(\n",
        "                                  model_name,\n",
        "                                  cache_dir = cache_dir)),\n",
        "                       shuffle=False)"
      ],
      "metadata": {
        "id": "mv5iGC-9VmZU"
      },
      "execution_count": null,
      "outputs": []
    },
    {
      "cell_type": "code",
      "source": [
        "net = SingleTowerBGE(model_name,cache_dir,args.num_class).to(devices[0])"
      ],
      "metadata": {
        "id": "hkrJPuk0FKHz"
      },
      "execution_count": null,
      "outputs": []
    },
    {
      "cell_type": "code",
      "source": [
        "train_transformer(net,\n",
        "                  train_iter,\n",
        "                  dev_iter,\n",
        "                  args.num_epochs,\n",
        "                  args.optimizer,\n",
        "                  args.lr,\n",
        "                  args.weight_decay,\n",
        "                  args.num_warmup_steps,\n",
        "                  devices,\n",
        "                  task_name)"
      ],
      "metadata": {
        "id": "6Tdzl6ZZFLhm",
        "colab": {
          "base_uri": "https://localhost:8080/",
          "height": 486
        },
        "outputId": "e7ac83a4-4ed0-4a7f-dcb8-2539fbed6e88"
      },
      "execution_count": null,
      "outputs": [
        {
          "output_type": "stream",
          "name": "stdout",
          "text": [
            "train loss 0.224, train acc 0.923, valid loss 1.012, valid acc 0.647\n",
            "77.4 examples/sec on [device(type='cuda')]\n"
          ]
        },
        {
          "output_type": "display_data",
          "data": {
            "text/plain": [
              "<Figure size 700x500 with 1 Axes>"
            ],
            "image/svg+xml": "<?xml version=\"1.0\" encoding=\"utf-8\" standalone=\"no\"?>\n<!DOCTYPE svg PUBLIC \"-//W3C//DTD SVG 1.1//EN\"\n  \"http://www.w3.org/Graphics/SVG/1.1/DTD/svg11.dtd\">\n<svg xmlns:xlink=\"http://www.w3.org/1999/xlink\" width=\"435.854688pt\" height=\"321.95625pt\" viewBox=\"0 0 435.854688 321.95625\" xmlns=\"http://www.w3.org/2000/svg\" version=\"1.1\">\n <metadata>\n  <rdf:RDF xmlns:dc=\"http://purl.org/dc/elements/1.1/\" xmlns:cc=\"http://creativecommons.org/ns#\" xmlns:rdf=\"http://www.w3.org/1999/02/22-rdf-syntax-ns#\">\n   <cc:Work>\n    <dc:type rdf:resource=\"http://purl.org/dc/dcmitype/StillImage\"/>\n    <dc:date>2025-04-21T02:33:34.188305</dc:date>\n    <dc:format>image/svg+xml</dc:format>\n    <dc:creator>\n     <cc:Agent>\n      <dc:title>Matplotlib v3.10.0, https://matplotlib.org/</dc:title>\n     </cc:Agent>\n    </dc:creator>\n   </cc:Work>\n  </rdf:RDF>\n </metadata>\n <defs>\n  <style type=\"text/css\">*{stroke-linejoin: round; stroke-linecap: butt}</style>\n </defs>\n <g id=\"figure_1\">\n  <g id=\"patch_1\">\n   <path d=\"M 0 321.95625 \nL 435.854688 321.95625 \nL 435.854688 0 \nL 0 0 \nz\n\" style=\"fill: #ffffff\"/>\n  </g>\n  <g id=\"axes_1\">\n   <g id=\"patch_2\">\n    <path d=\"M 30.103125 284.4 \nL 420.703125 284.4 \nL 420.703125 7.2 \nL 30.103125 7.2 \nz\n\" style=\"fill: #ffffff\"/>\n   </g>\n   <g id=\"matplotlib.axis_1\">\n    <g id=\"xtick_1\">\n     <g id=\"line2d_1\">\n      <path d=\"M 30.103125 284.4 \nL 30.103125 7.2 \n\" clip-path=\"url(#pbd96ff0b44)\" style=\"fill: none; stroke: #b0b0b0; stroke-width: 0.8; stroke-linecap: square\"/>\n     </g>\n     <g id=\"line2d_2\">\n      <defs>\n       <path id=\"ma2f9c9ff43\" d=\"M 0 0 \nL 0 3.5 \n\" style=\"stroke: #000000; stroke-width: 0.8\"/>\n      </defs>\n      <g>\n       <use xlink:href=\"#ma2f9c9ff43\" x=\"30.103125\" y=\"284.4\" style=\"stroke: #000000; stroke-width: 0.8\"/>\n      </g>\n     </g>\n     <g id=\"text_1\">\n      <!-- 1.0 -->\n      <g transform=\"translate(22.151563 298.998438) scale(0.1 -0.1)\">\n       <defs>\n        <path id=\"DejaVuSans-31\" d=\"M 794 531 \nL 1825 531 \nL 1825 4091 \nL 703 3866 \nL 703 4441 \nL 1819 4666 \nL 2450 4666 \nL 2450 531 \nL 3481 531 \nL 3481 0 \nL 794 0 \nL 794 531 \nz\n\" transform=\"scale(0.015625)\"/>\n        <path id=\"DejaVuSans-2e\" d=\"M 684 794 \nL 1344 794 \nL 1344 0 \nL 684 0 \nL 684 794 \nz\n\" transform=\"scale(0.015625)\"/>\n        <path id=\"DejaVuSans-30\" d=\"M 2034 4250 \nQ 1547 4250 1301 3770 \nQ 1056 3291 1056 2328 \nQ 1056 1369 1301 889 \nQ 1547 409 2034 409 \nQ 2525 409 2770 889 \nQ 3016 1369 3016 2328 \nQ 3016 3291 2770 3770 \nQ 2525 4250 2034 4250 \nz\nM 2034 4750 \nQ 2819 4750 3233 4129 \nQ 3647 3509 3647 2328 \nQ 3647 1150 3233 529 \nQ 2819 -91 2034 -91 \nQ 1250 -91 836 529 \nQ 422 1150 422 2328 \nQ 422 3509 836 4129 \nQ 1250 4750 2034 4750 \nz\n\" transform=\"scale(0.015625)\"/>\n       </defs>\n       <use xlink:href=\"#DejaVuSans-31\"/>\n       <use xlink:href=\"#DejaVuSans-2e\" transform=\"translate(63.623047 0)\"/>\n       <use xlink:href=\"#DejaVuSans-30\" transform=\"translate(95.410156 0)\"/>\n      </g>\n     </g>\n    </g>\n    <g id=\"xtick_2\">\n     <g id=\"line2d_3\">\n      <path d=\"M 78.928125 284.4 \nL 78.928125 7.2 \n\" clip-path=\"url(#pbd96ff0b44)\" style=\"fill: none; stroke: #b0b0b0; stroke-width: 0.8; stroke-linecap: square\"/>\n     </g>\n     <g id=\"line2d_4\">\n      <g>\n       <use xlink:href=\"#ma2f9c9ff43\" x=\"78.928125\" y=\"284.4\" style=\"stroke: #000000; stroke-width: 0.8\"/>\n      </g>\n     </g>\n     <g id=\"text_2\">\n      <!-- 1.5 -->\n      <g transform=\"translate(70.976563 298.998438) scale(0.1 -0.1)\">\n       <defs>\n        <path id=\"DejaVuSans-35\" d=\"M 691 4666 \nL 3169 4666 \nL 3169 4134 \nL 1269 4134 \nL 1269 2991 \nQ 1406 3038 1543 3061 \nQ 1681 3084 1819 3084 \nQ 2600 3084 3056 2656 \nQ 3513 2228 3513 1497 \nQ 3513 744 3044 326 \nQ 2575 -91 1722 -91 \nQ 1428 -91 1123 -41 \nQ 819 9 494 109 \nL 494 744 \nQ 775 591 1075 516 \nQ 1375 441 1709 441 \nQ 2250 441 2565 725 \nQ 2881 1009 2881 1497 \nQ 2881 1984 2565 2268 \nQ 2250 2553 1709 2553 \nQ 1456 2553 1204 2497 \nQ 953 2441 691 2322 \nL 691 4666 \nz\n\" transform=\"scale(0.015625)\"/>\n       </defs>\n       <use xlink:href=\"#DejaVuSans-31\"/>\n       <use xlink:href=\"#DejaVuSans-2e\" transform=\"translate(63.623047 0)\"/>\n       <use xlink:href=\"#DejaVuSans-35\" transform=\"translate(95.410156 0)\"/>\n      </g>\n     </g>\n    </g>\n    <g id=\"xtick_3\">\n     <g id=\"line2d_5\">\n      <path d=\"M 127.753125 284.4 \nL 127.753125 7.2 \n\" clip-path=\"url(#pbd96ff0b44)\" style=\"fill: none; stroke: #b0b0b0; stroke-width: 0.8; stroke-linecap: square\"/>\n     </g>\n     <g id=\"line2d_6\">\n      <g>\n       <use xlink:href=\"#ma2f9c9ff43\" x=\"127.753125\" y=\"284.4\" style=\"stroke: #000000; stroke-width: 0.8\"/>\n      </g>\n     </g>\n     <g id=\"text_3\">\n      <!-- 2.0 -->\n      <g transform=\"translate(119.801563 298.998438) scale(0.1 -0.1)\">\n       <defs>\n        <path id=\"DejaVuSans-32\" d=\"M 1228 531 \nL 3431 531 \nL 3431 0 \nL 469 0 \nL 469 531 \nQ 828 903 1448 1529 \nQ 2069 2156 2228 2338 \nQ 2531 2678 2651 2914 \nQ 2772 3150 2772 3378 \nQ 2772 3750 2511 3984 \nQ 2250 4219 1831 4219 \nQ 1534 4219 1204 4116 \nQ 875 4013 500 3803 \nL 500 4441 \nQ 881 4594 1212 4672 \nQ 1544 4750 1819 4750 \nQ 2544 4750 2975 4387 \nQ 3406 4025 3406 3419 \nQ 3406 3131 3298 2873 \nQ 3191 2616 2906 2266 \nQ 2828 2175 2409 1742 \nQ 1991 1309 1228 531 \nz\n\" transform=\"scale(0.015625)\"/>\n       </defs>\n       <use xlink:href=\"#DejaVuSans-32\"/>\n       <use xlink:href=\"#DejaVuSans-2e\" transform=\"translate(63.623047 0)\"/>\n       <use xlink:href=\"#DejaVuSans-30\" transform=\"translate(95.410156 0)\"/>\n      </g>\n     </g>\n    </g>\n    <g id=\"xtick_4\">\n     <g id=\"line2d_7\">\n      <path d=\"M 176.578125 284.4 \nL 176.578125 7.2 \n\" clip-path=\"url(#pbd96ff0b44)\" style=\"fill: none; stroke: #b0b0b0; stroke-width: 0.8; stroke-linecap: square\"/>\n     </g>\n     <g id=\"line2d_8\">\n      <g>\n       <use xlink:href=\"#ma2f9c9ff43\" x=\"176.578125\" y=\"284.4\" style=\"stroke: #000000; stroke-width: 0.8\"/>\n      </g>\n     </g>\n     <g id=\"text_4\">\n      <!-- 2.5 -->\n      <g transform=\"translate(168.626563 298.998438) scale(0.1 -0.1)\">\n       <use xlink:href=\"#DejaVuSans-32\"/>\n       <use xlink:href=\"#DejaVuSans-2e\" transform=\"translate(63.623047 0)\"/>\n       <use xlink:href=\"#DejaVuSans-35\" transform=\"translate(95.410156 0)\"/>\n      </g>\n     </g>\n    </g>\n    <g id=\"xtick_5\">\n     <g id=\"line2d_9\">\n      <path d=\"M 225.403125 284.4 \nL 225.403125 7.2 \n\" clip-path=\"url(#pbd96ff0b44)\" style=\"fill: none; stroke: #b0b0b0; stroke-width: 0.8; stroke-linecap: square\"/>\n     </g>\n     <g id=\"line2d_10\">\n      <g>\n       <use xlink:href=\"#ma2f9c9ff43\" x=\"225.403125\" y=\"284.4\" style=\"stroke: #000000; stroke-width: 0.8\"/>\n      </g>\n     </g>\n     <g id=\"text_5\">\n      <!-- 3.0 -->\n      <g transform=\"translate(217.451563 298.998438) scale(0.1 -0.1)\">\n       <defs>\n        <path id=\"DejaVuSans-33\" d=\"M 2597 2516 \nQ 3050 2419 3304 2112 \nQ 3559 1806 3559 1356 \nQ 3559 666 3084 287 \nQ 2609 -91 1734 -91 \nQ 1441 -91 1130 -33 \nQ 819 25 488 141 \nL 488 750 \nQ 750 597 1062 519 \nQ 1375 441 1716 441 \nQ 2309 441 2620 675 \nQ 2931 909 2931 1356 \nQ 2931 1769 2642 2001 \nQ 2353 2234 1838 2234 \nL 1294 2234 \nL 1294 2753 \nL 1863 2753 \nQ 2328 2753 2575 2939 \nQ 2822 3125 2822 3475 \nQ 2822 3834 2567 4026 \nQ 2313 4219 1838 4219 \nQ 1578 4219 1281 4162 \nQ 984 4106 628 3988 \nL 628 4550 \nQ 988 4650 1302 4700 \nQ 1616 4750 1894 4750 \nQ 2613 4750 3031 4423 \nQ 3450 4097 3450 3541 \nQ 3450 3153 3228 2886 \nQ 3006 2619 2597 2516 \nz\n\" transform=\"scale(0.015625)\"/>\n       </defs>\n       <use xlink:href=\"#DejaVuSans-33\"/>\n       <use xlink:href=\"#DejaVuSans-2e\" transform=\"translate(63.623047 0)\"/>\n       <use xlink:href=\"#DejaVuSans-30\" transform=\"translate(95.410156 0)\"/>\n      </g>\n     </g>\n    </g>\n    <g id=\"xtick_6\">\n     <g id=\"line2d_11\">\n      <path d=\"M 274.228125 284.4 \nL 274.228125 7.2 \n\" clip-path=\"url(#pbd96ff0b44)\" style=\"fill: none; stroke: #b0b0b0; stroke-width: 0.8; stroke-linecap: square\"/>\n     </g>\n     <g id=\"line2d_12\">\n      <g>\n       <use xlink:href=\"#ma2f9c9ff43\" x=\"274.228125\" y=\"284.4\" style=\"stroke: #000000; stroke-width: 0.8\"/>\n      </g>\n     </g>\n     <g id=\"text_6\">\n      <!-- 3.5 -->\n      <g transform=\"translate(266.276563 298.998438) scale(0.1 -0.1)\">\n       <use xlink:href=\"#DejaVuSans-33\"/>\n       <use xlink:href=\"#DejaVuSans-2e\" transform=\"translate(63.623047 0)\"/>\n       <use xlink:href=\"#DejaVuSans-35\" transform=\"translate(95.410156 0)\"/>\n      </g>\n     </g>\n    </g>\n    <g id=\"xtick_7\">\n     <g id=\"line2d_13\">\n      <path d=\"M 323.053125 284.4 \nL 323.053125 7.2 \n\" clip-path=\"url(#pbd96ff0b44)\" style=\"fill: none; stroke: #b0b0b0; stroke-width: 0.8; stroke-linecap: square\"/>\n     </g>\n     <g id=\"line2d_14\">\n      <g>\n       <use xlink:href=\"#ma2f9c9ff43\" x=\"323.053125\" y=\"284.4\" style=\"stroke: #000000; stroke-width: 0.8\"/>\n      </g>\n     </g>\n     <g id=\"text_7\">\n      <!-- 4.0 -->\n      <g transform=\"translate(315.101562 298.998438) scale(0.1 -0.1)\">\n       <defs>\n        <path id=\"DejaVuSans-34\" d=\"M 2419 4116 \nL 825 1625 \nL 2419 1625 \nL 2419 4116 \nz\nM 2253 4666 \nL 3047 4666 \nL 3047 1625 \nL 3713 1625 \nL 3713 1100 \nL 3047 1100 \nL 3047 0 \nL 2419 0 \nL 2419 1100 \nL 313 1100 \nL 313 1709 \nL 2253 4666 \nz\n\" transform=\"scale(0.015625)\"/>\n       </defs>\n       <use xlink:href=\"#DejaVuSans-34\"/>\n       <use xlink:href=\"#DejaVuSans-2e\" transform=\"translate(63.623047 0)\"/>\n       <use xlink:href=\"#DejaVuSans-30\" transform=\"translate(95.410156 0)\"/>\n      </g>\n     </g>\n    </g>\n    <g id=\"xtick_8\">\n     <g id=\"line2d_15\">\n      <path d=\"M 371.878125 284.4 \nL 371.878125 7.2 \n\" clip-path=\"url(#pbd96ff0b44)\" style=\"fill: none; stroke: #b0b0b0; stroke-width: 0.8; stroke-linecap: square\"/>\n     </g>\n     <g id=\"line2d_16\">\n      <g>\n       <use xlink:href=\"#ma2f9c9ff43\" x=\"371.878125\" y=\"284.4\" style=\"stroke: #000000; stroke-width: 0.8\"/>\n      </g>\n     </g>\n     <g id=\"text_8\">\n      <!-- 4.5 -->\n      <g transform=\"translate(363.926562 298.998438) scale(0.1 -0.1)\">\n       <use xlink:href=\"#DejaVuSans-34\"/>\n       <use xlink:href=\"#DejaVuSans-2e\" transform=\"translate(63.623047 0)\"/>\n       <use xlink:href=\"#DejaVuSans-35\" transform=\"translate(95.410156 0)\"/>\n      </g>\n     </g>\n    </g>\n    <g id=\"xtick_9\">\n     <g id=\"line2d_17\">\n      <path d=\"M 420.703125 284.4 \nL 420.703125 7.2 \n\" clip-path=\"url(#pbd96ff0b44)\" style=\"fill: none; stroke: #b0b0b0; stroke-width: 0.8; stroke-linecap: square\"/>\n     </g>\n     <g id=\"line2d_18\">\n      <g>\n       <use xlink:href=\"#ma2f9c9ff43\" x=\"420.703125\" y=\"284.4\" style=\"stroke: #000000; stroke-width: 0.8\"/>\n      </g>\n     </g>\n     <g id=\"text_9\">\n      <!-- 5.0 -->\n      <g transform=\"translate(412.751562 298.998438) scale(0.1 -0.1)\">\n       <use xlink:href=\"#DejaVuSans-35\"/>\n       <use xlink:href=\"#DejaVuSans-2e\" transform=\"translate(63.623047 0)\"/>\n       <use xlink:href=\"#DejaVuSans-30\" transform=\"translate(95.410156 0)\"/>\n      </g>\n     </g>\n    </g>\n    <g id=\"text_10\">\n     <!-- epoch -->\n     <g transform=\"translate(210.175 312.676562) scale(0.1 -0.1)\">\n      <defs>\n       <path id=\"DejaVuSans-65\" d=\"M 3597 1894 \nL 3597 1613 \nL 953 1613 \nQ 991 1019 1311 708 \nQ 1631 397 2203 397 \nQ 2534 397 2845 478 \nQ 3156 559 3463 722 \nL 3463 178 \nQ 3153 47 2828 -22 \nQ 2503 -91 2169 -91 \nQ 1331 -91 842 396 \nQ 353 884 353 1716 \nQ 353 2575 817 3079 \nQ 1281 3584 2069 3584 \nQ 2775 3584 3186 3129 \nQ 3597 2675 3597 1894 \nz\nM 3022 2063 \nQ 3016 2534 2758 2815 \nQ 2500 3097 2075 3097 \nQ 1594 3097 1305 2825 \nQ 1016 2553 972 2059 \nL 3022 2063 \nz\n\" transform=\"scale(0.015625)\"/>\n       <path id=\"DejaVuSans-70\" d=\"M 1159 525 \nL 1159 -1331 \nL 581 -1331 \nL 581 3500 \nL 1159 3500 \nL 1159 2969 \nQ 1341 3281 1617 3432 \nQ 1894 3584 2278 3584 \nQ 2916 3584 3314 3078 \nQ 3713 2572 3713 1747 \nQ 3713 922 3314 415 \nQ 2916 -91 2278 -91 \nQ 1894 -91 1617 61 \nQ 1341 213 1159 525 \nz\nM 3116 1747 \nQ 3116 2381 2855 2742 \nQ 2594 3103 2138 3103 \nQ 1681 3103 1420 2742 \nQ 1159 2381 1159 1747 \nQ 1159 1113 1420 752 \nQ 1681 391 2138 391 \nQ 2594 391 2855 752 \nQ 3116 1113 3116 1747 \nz\n\" transform=\"scale(0.015625)\"/>\n       <path id=\"DejaVuSans-6f\" d=\"M 1959 3097 \nQ 1497 3097 1228 2736 \nQ 959 2375 959 1747 \nQ 959 1119 1226 758 \nQ 1494 397 1959 397 \nQ 2419 397 2687 759 \nQ 2956 1122 2956 1747 \nQ 2956 2369 2687 2733 \nQ 2419 3097 1959 3097 \nz\nM 1959 3584 \nQ 2709 3584 3137 3096 \nQ 3566 2609 3566 1747 \nQ 3566 888 3137 398 \nQ 2709 -91 1959 -91 \nQ 1206 -91 779 398 \nQ 353 888 353 1747 \nQ 353 2609 779 3096 \nQ 1206 3584 1959 3584 \nz\n\" transform=\"scale(0.015625)\"/>\n       <path id=\"DejaVuSans-63\" d=\"M 3122 3366 \nL 3122 2828 \nQ 2878 2963 2633 3030 \nQ 2388 3097 2138 3097 \nQ 1578 3097 1268 2742 \nQ 959 2388 959 1747 \nQ 959 1106 1268 751 \nQ 1578 397 2138 397 \nQ 2388 397 2633 464 \nQ 2878 531 3122 666 \nL 3122 134 \nQ 2881 22 2623 -34 \nQ 2366 -91 2075 -91 \nQ 1284 -91 818 406 \nQ 353 903 353 1747 \nQ 353 2603 823 3093 \nQ 1294 3584 2113 3584 \nQ 2378 3584 2631 3529 \nQ 2884 3475 3122 3366 \nz\n\" transform=\"scale(0.015625)\"/>\n       <path id=\"DejaVuSans-68\" d=\"M 3513 2113 \nL 3513 0 \nL 2938 0 \nL 2938 2094 \nQ 2938 2591 2744 2837 \nQ 2550 3084 2163 3084 \nQ 1697 3084 1428 2787 \nQ 1159 2491 1159 1978 \nL 1159 0 \nL 581 0 \nL 581 4863 \nL 1159 4863 \nL 1159 2956 \nQ 1366 3272 1645 3428 \nQ 1925 3584 2291 3584 \nQ 2894 3584 3203 3211 \nQ 3513 2838 3513 2113 \nz\n\" transform=\"scale(0.015625)\"/>\n      </defs>\n      <use xlink:href=\"#DejaVuSans-65\"/>\n      <use xlink:href=\"#DejaVuSans-70\" transform=\"translate(61.523438 0)\"/>\n      <use xlink:href=\"#DejaVuSans-6f\" transform=\"translate(125 0)\"/>\n      <use xlink:href=\"#DejaVuSans-63\" transform=\"translate(186.181641 0)\"/>\n      <use xlink:href=\"#DejaVuSans-68\" transform=\"translate(241.162109 0)\"/>\n     </g>\n    </g>\n   </g>\n   <g id=\"matplotlib.axis_2\">\n    <g id=\"ytick_1\">\n     <g id=\"line2d_19\">\n      <path d=\"M 30.103125 279.441896 \nL 420.703125 279.441896 \n\" clip-path=\"url(#pbd96ff0b44)\" style=\"fill: none; stroke: #b0b0b0; stroke-width: 0.8; stroke-linecap: square\"/>\n     </g>\n     <g id=\"line2d_20\">\n      <defs>\n       <path id=\"mccc8c88d03\" d=\"M 0 0 \nL -3.5 0 \n\" style=\"stroke: #000000; stroke-width: 0.8\"/>\n      </defs>\n      <g>\n       <use xlink:href=\"#mccc8c88d03\" x=\"30.103125\" y=\"279.441896\" style=\"stroke: #000000; stroke-width: 0.8\"/>\n      </g>\n     </g>\n     <g id=\"text_11\">\n      <!-- 0.2 -->\n      <g transform=\"translate(7.2 283.241115) scale(0.1 -0.1)\">\n       <use xlink:href=\"#DejaVuSans-30\"/>\n       <use xlink:href=\"#DejaVuSans-2e\" transform=\"translate(63.623047 0)\"/>\n       <use xlink:href=\"#DejaVuSans-32\" transform=\"translate(95.410156 0)\"/>\n      </g>\n     </g>\n    </g>\n    <g id=\"ytick_2\">\n     <g id=\"line2d_21\">\n      <path d=\"M 30.103125 247.502333 \nL 420.703125 247.502333 \n\" clip-path=\"url(#pbd96ff0b44)\" style=\"fill: none; stroke: #b0b0b0; stroke-width: 0.8; stroke-linecap: square\"/>\n     </g>\n     <g id=\"line2d_22\">\n      <g>\n       <use xlink:href=\"#mccc8c88d03\" x=\"30.103125\" y=\"247.502333\" style=\"stroke: #000000; stroke-width: 0.8\"/>\n      </g>\n     </g>\n     <g id=\"text_12\">\n      <!-- 0.3 -->\n      <g transform=\"translate(7.2 251.301552) scale(0.1 -0.1)\">\n       <use xlink:href=\"#DejaVuSans-30\"/>\n       <use xlink:href=\"#DejaVuSans-2e\" transform=\"translate(63.623047 0)\"/>\n       <use xlink:href=\"#DejaVuSans-33\" transform=\"translate(95.410156 0)\"/>\n      </g>\n     </g>\n    </g>\n    <g id=\"ytick_3\">\n     <g id=\"line2d_23\">\n      <path d=\"M 30.103125 215.56277 \nL 420.703125 215.56277 \n\" clip-path=\"url(#pbd96ff0b44)\" style=\"fill: none; stroke: #b0b0b0; stroke-width: 0.8; stroke-linecap: square\"/>\n     </g>\n     <g id=\"line2d_24\">\n      <g>\n       <use xlink:href=\"#mccc8c88d03\" x=\"30.103125\" y=\"215.56277\" style=\"stroke: #000000; stroke-width: 0.8\"/>\n      </g>\n     </g>\n     <g id=\"text_13\">\n      <!-- 0.4 -->\n      <g transform=\"translate(7.2 219.361989) scale(0.1 -0.1)\">\n       <use xlink:href=\"#DejaVuSans-30\"/>\n       <use xlink:href=\"#DejaVuSans-2e\" transform=\"translate(63.623047 0)\"/>\n       <use xlink:href=\"#DejaVuSans-34\" transform=\"translate(95.410156 0)\"/>\n      </g>\n     </g>\n    </g>\n    <g id=\"ytick_4\">\n     <g id=\"line2d_25\">\n      <path d=\"M 30.103125 183.623207 \nL 420.703125 183.623207 \n\" clip-path=\"url(#pbd96ff0b44)\" style=\"fill: none; stroke: #b0b0b0; stroke-width: 0.8; stroke-linecap: square\"/>\n     </g>\n     <g id=\"line2d_26\">\n      <g>\n       <use xlink:href=\"#mccc8c88d03\" x=\"30.103125\" y=\"183.623207\" style=\"stroke: #000000; stroke-width: 0.8\"/>\n      </g>\n     </g>\n     <g id=\"text_14\">\n      <!-- 0.5 -->\n      <g transform=\"translate(7.2 187.422426) scale(0.1 -0.1)\">\n       <use xlink:href=\"#DejaVuSans-30\"/>\n       <use xlink:href=\"#DejaVuSans-2e\" transform=\"translate(63.623047 0)\"/>\n       <use xlink:href=\"#DejaVuSans-35\" transform=\"translate(95.410156 0)\"/>\n      </g>\n     </g>\n    </g>\n    <g id=\"ytick_5\">\n     <g id=\"line2d_27\">\n      <path d=\"M 30.103125 151.683644 \nL 420.703125 151.683644 \n\" clip-path=\"url(#pbd96ff0b44)\" style=\"fill: none; stroke: #b0b0b0; stroke-width: 0.8; stroke-linecap: square\"/>\n     </g>\n     <g id=\"line2d_28\">\n      <g>\n       <use xlink:href=\"#mccc8c88d03\" x=\"30.103125\" y=\"151.683644\" style=\"stroke: #000000; stroke-width: 0.8\"/>\n      </g>\n     </g>\n     <g id=\"text_15\">\n      <!-- 0.6 -->\n      <g transform=\"translate(7.2 155.482863) scale(0.1 -0.1)\">\n       <defs>\n        <path id=\"DejaVuSans-36\" d=\"M 2113 2584 \nQ 1688 2584 1439 2293 \nQ 1191 2003 1191 1497 \nQ 1191 994 1439 701 \nQ 1688 409 2113 409 \nQ 2538 409 2786 701 \nQ 3034 994 3034 1497 \nQ 3034 2003 2786 2293 \nQ 2538 2584 2113 2584 \nz\nM 3366 4563 \nL 3366 3988 \nQ 3128 4100 2886 4159 \nQ 2644 4219 2406 4219 \nQ 1781 4219 1451 3797 \nQ 1122 3375 1075 2522 \nQ 1259 2794 1537 2939 \nQ 1816 3084 2150 3084 \nQ 2853 3084 3261 2657 \nQ 3669 2231 3669 1497 \nQ 3669 778 3244 343 \nQ 2819 -91 2113 -91 \nQ 1303 -91 875 529 \nQ 447 1150 447 2328 \nQ 447 3434 972 4092 \nQ 1497 4750 2381 4750 \nQ 2619 4750 2861 4703 \nQ 3103 4656 3366 4563 \nz\n\" transform=\"scale(0.015625)\"/>\n       </defs>\n       <use xlink:href=\"#DejaVuSans-30\"/>\n       <use xlink:href=\"#DejaVuSans-2e\" transform=\"translate(63.623047 0)\"/>\n       <use xlink:href=\"#DejaVuSans-36\" transform=\"translate(95.410156 0)\"/>\n      </g>\n     </g>\n    </g>\n    <g id=\"ytick_6\">\n     <g id=\"line2d_29\">\n      <path d=\"M 30.103125 119.744081 \nL 420.703125 119.744081 \n\" clip-path=\"url(#pbd96ff0b44)\" style=\"fill: none; stroke: #b0b0b0; stroke-width: 0.8; stroke-linecap: square\"/>\n     </g>\n     <g id=\"line2d_30\">\n      <g>\n       <use xlink:href=\"#mccc8c88d03\" x=\"30.103125\" y=\"119.744081\" style=\"stroke: #000000; stroke-width: 0.8\"/>\n      </g>\n     </g>\n     <g id=\"text_16\">\n      <!-- 0.7 -->\n      <g transform=\"translate(7.2 123.5433) scale(0.1 -0.1)\">\n       <defs>\n        <path id=\"DejaVuSans-37\" d=\"M 525 4666 \nL 3525 4666 \nL 3525 4397 \nL 1831 0 \nL 1172 0 \nL 2766 4134 \nL 525 4134 \nL 525 4666 \nz\n\" transform=\"scale(0.015625)\"/>\n       </defs>\n       <use xlink:href=\"#DejaVuSans-30\"/>\n       <use xlink:href=\"#DejaVuSans-2e\" transform=\"translate(63.623047 0)\"/>\n       <use xlink:href=\"#DejaVuSans-37\" transform=\"translate(95.410156 0)\"/>\n      </g>\n     </g>\n    </g>\n    <g id=\"ytick_7\">\n     <g id=\"line2d_31\">\n      <path d=\"M 30.103125 87.804519 \nL 420.703125 87.804519 \n\" clip-path=\"url(#pbd96ff0b44)\" style=\"fill: none; stroke: #b0b0b0; stroke-width: 0.8; stroke-linecap: square\"/>\n     </g>\n     <g id=\"line2d_32\">\n      <g>\n       <use xlink:href=\"#mccc8c88d03\" x=\"30.103125\" y=\"87.804519\" style=\"stroke: #000000; stroke-width: 0.8\"/>\n      </g>\n     </g>\n     <g id=\"text_17\">\n      <!-- 0.8 -->\n      <g transform=\"translate(7.2 91.603737) scale(0.1 -0.1)\">\n       <defs>\n        <path id=\"DejaVuSans-38\" d=\"M 2034 2216 \nQ 1584 2216 1326 1975 \nQ 1069 1734 1069 1313 \nQ 1069 891 1326 650 \nQ 1584 409 2034 409 \nQ 2484 409 2743 651 \nQ 3003 894 3003 1313 \nQ 3003 1734 2745 1975 \nQ 2488 2216 2034 2216 \nz\nM 1403 2484 \nQ 997 2584 770 2862 \nQ 544 3141 544 3541 \nQ 544 4100 942 4425 \nQ 1341 4750 2034 4750 \nQ 2731 4750 3128 4425 \nQ 3525 4100 3525 3541 \nQ 3525 3141 3298 2862 \nQ 3072 2584 2669 2484 \nQ 3125 2378 3379 2068 \nQ 3634 1759 3634 1313 \nQ 3634 634 3220 271 \nQ 2806 -91 2034 -91 \nQ 1263 -91 848 271 \nQ 434 634 434 1313 \nQ 434 1759 690 2068 \nQ 947 2378 1403 2484 \nz\nM 1172 3481 \nQ 1172 3119 1398 2916 \nQ 1625 2713 2034 2713 \nQ 2441 2713 2670 2916 \nQ 2900 3119 2900 3481 \nQ 2900 3844 2670 4047 \nQ 2441 4250 2034 4250 \nQ 1625 4250 1398 4047 \nQ 1172 3844 1172 3481 \nz\n\" transform=\"scale(0.015625)\"/>\n       </defs>\n       <use xlink:href=\"#DejaVuSans-30\"/>\n       <use xlink:href=\"#DejaVuSans-2e\" transform=\"translate(63.623047 0)\"/>\n       <use xlink:href=\"#DejaVuSans-38\" transform=\"translate(95.410156 0)\"/>\n      </g>\n     </g>\n    </g>\n    <g id=\"ytick_8\">\n     <g id=\"line2d_33\">\n      <path d=\"M 30.103125 55.864956 \nL 420.703125 55.864956 \n\" clip-path=\"url(#pbd96ff0b44)\" style=\"fill: none; stroke: #b0b0b0; stroke-width: 0.8; stroke-linecap: square\"/>\n     </g>\n     <g id=\"line2d_34\">\n      <g>\n       <use xlink:href=\"#mccc8c88d03\" x=\"30.103125\" y=\"55.864956\" style=\"stroke: #000000; stroke-width: 0.8\"/>\n      </g>\n     </g>\n     <g id=\"text_18\">\n      <!-- 0.9 -->\n      <g transform=\"translate(7.2 59.664174) scale(0.1 -0.1)\">\n       <defs>\n        <path id=\"DejaVuSans-39\" d=\"M 703 97 \nL 703 672 \nQ 941 559 1184 500 \nQ 1428 441 1663 441 \nQ 2288 441 2617 861 \nQ 2947 1281 2994 2138 \nQ 2813 1869 2534 1725 \nQ 2256 1581 1919 1581 \nQ 1219 1581 811 2004 \nQ 403 2428 403 3163 \nQ 403 3881 828 4315 \nQ 1253 4750 1959 4750 \nQ 2769 4750 3195 4129 \nQ 3622 3509 3622 2328 \nQ 3622 1225 3098 567 \nQ 2575 -91 1691 -91 \nQ 1453 -91 1209 -44 \nQ 966 3 703 97 \nz\nM 1959 2075 \nQ 2384 2075 2632 2365 \nQ 2881 2656 2881 3163 \nQ 2881 3666 2632 3958 \nQ 2384 4250 1959 4250 \nQ 1534 4250 1286 3958 \nQ 1038 3666 1038 3163 \nQ 1038 2656 1286 2365 \nQ 1534 2075 1959 2075 \nz\n\" transform=\"scale(0.015625)\"/>\n       </defs>\n       <use xlink:href=\"#DejaVuSans-30\"/>\n       <use xlink:href=\"#DejaVuSans-2e\" transform=\"translate(63.623047 0)\"/>\n       <use xlink:href=\"#DejaVuSans-39\" transform=\"translate(95.410156 0)\"/>\n      </g>\n     </g>\n    </g>\n    <g id=\"ytick_9\">\n     <g id=\"line2d_35\">\n      <path d=\"M 30.103125 23.925393 \nL 420.703125 23.925393 \n\" clip-path=\"url(#pbd96ff0b44)\" style=\"fill: none; stroke: #b0b0b0; stroke-width: 0.8; stroke-linecap: square\"/>\n     </g>\n     <g id=\"line2d_36\">\n      <g>\n       <use xlink:href=\"#mccc8c88d03\" x=\"30.103125\" y=\"23.925393\" style=\"stroke: #000000; stroke-width: 0.8\"/>\n      </g>\n     </g>\n     <g id=\"text_19\">\n      <!-- 1.0 -->\n      <g transform=\"translate(7.2 27.724611) scale(0.1 -0.1)\">\n       <use xlink:href=\"#DejaVuSans-31\"/>\n       <use xlink:href=\"#DejaVuSans-2e\" transform=\"translate(63.623047 0)\"/>\n       <use xlink:href=\"#DejaVuSans-30\" transform=\"translate(95.410156 0)\"/>\n      </g>\n     </g>\n    </g>\n   </g>\n   <g id=\"line2d_37\">\n    <path d=\"M -1 66.395922 \nL 10.573125 72.10664 \nL 30.103125 78.477313 \nL 49.633125 106.155999 \nL 69.163125 112.691973 \nL 88.693125 122.628172 \nL 108.223125 128.592528 \nL 127.753125 132.953725 \nL 147.283125 150.603767 \nL 166.813125 160.305278 \nL 186.343125 174.484734 \nL 205.873125 180.519518 \nL 225.403125 186.71769 \nL 244.933125 208.802026 \nL 264.463125 216.14624 \nL 283.993125 226.858404 \nL 303.523125 232.673162 \nL 323.053125 238.774769 \nL 342.583125 252.138013 \nL 362.113125 259.119219 \nL 381.643125 266.207668 \nL 401.173125 268.896635 \nL 420.703125 271.8 \n\" clip-path=\"url(#pbd96ff0b44)\" style=\"fill: none; stroke: #1f77b4; stroke-width: 1.5; stroke-linecap: square\"/>\n   </g>\n   <g id=\"line2d_38\">\n    <path d=\"M -1 147.835937 \nL 10.573125 145.046204 \nL 30.103125 141.443022 \nL 49.633125 129.525573 \nL 69.163125 126.082088 \nL 88.693125 121.440871 \nL 108.223125 117.897575 \nL 127.753125 115.871409 \nL 147.283125 106.868445 \nL 166.813125 101.678266 \nL 186.343125 93.793187 \nL 205.873125 90.823805 \nL 225.403125 87.744632 \nL 244.933125 78.621894 \nL 264.463125 74.779166 \nL 283.993125 70.004866 \nL 303.523125 66.544747 \nL 323.053125 63.690149 \nL 342.583125 55.266089 \nL 362.113125 54.118261 \nL 381.643125 51.173832 \nL 401.173125 49.726571 \nL 420.703125 48.63863 \n\" clip-path=\"url(#pbd96ff0b44)\" style=\"fill: none; stroke-dasharray: 5.55,2.4; stroke-dashoffset: 0; stroke: #bf00bf; stroke-width: 1.5\"/>\n   </g>\n   <g id=\"line2d_39\">\n    <path d=\"M 30.103125 102.710101 \nL 127.753125 113.400553 \nL 225.403125 63.883346 \nL 323.053125 26.569967 \nL 420.703125 19.958502 \n\" clip-path=\"url(#pbd96ff0b44)\" style=\"fill: none; stroke-dasharray: 9.6,2.4,1.5,2.4; stroke-dashoffset: 0; stroke: #008000; stroke-width: 1.5\"/>\n   </g>\n   <g id=\"line2d_40\">\n    <path d=\"M 30.103125 130.922928 \nL 127.753125 123.257433 \nL 225.403125 131.082626 \nL 323.053125 137.630237 \nL 420.703125 136.512352 \n\" clip-path=\"url(#pbd96ff0b44)\" style=\"fill: none; stroke-dasharray: 1.5,2.475; stroke-dashoffset: 0; stroke: #ff0000; stroke-width: 1.5\"/>\n   </g>\n   <g id=\"patch_3\">\n    <path d=\"M 30.103125 284.4 \nL 30.103125 7.2 \n\" style=\"fill: none; stroke: #000000; stroke-width: 0.8; stroke-linejoin: miter; stroke-linecap: square\"/>\n   </g>\n   <g id=\"patch_4\">\n    <path d=\"M 420.703125 284.4 \nL 420.703125 7.2 \n\" style=\"fill: none; stroke: #000000; stroke-width: 0.8; stroke-linejoin: miter; stroke-linecap: square\"/>\n   </g>\n   <g id=\"patch_5\">\n    <path d=\"M 30.103125 284.4 \nL 420.703125 284.4 \n\" style=\"fill: none; stroke: #000000; stroke-width: 0.8; stroke-linejoin: miter; stroke-linecap: square\"/>\n   </g>\n   <g id=\"patch_6\">\n    <path d=\"M 30.103125 7.2 \nL 420.703125 7.2 \n\" style=\"fill: none; stroke: #000000; stroke-width: 0.8; stroke-linejoin: miter; stroke-linecap: square\"/>\n   </g>\n   <g id=\"legend_1\">\n    <g id=\"patch_7\">\n     <path d=\"M 37.103125 73.9125 \nL 115.548438 73.9125 \nQ 117.548438 73.9125 117.548438 71.9125 \nL 117.548438 14.2 \nQ 117.548438 12.2 115.548438 12.2 \nL 37.103125 12.2 \nQ 35.103125 12.2 35.103125 14.2 \nL 35.103125 71.9125 \nQ 35.103125 73.9125 37.103125 73.9125 \nz\n\" style=\"fill: #ffffff; opacity: 0.8; stroke: #cccccc; stroke-linejoin: miter\"/>\n    </g>\n    <g id=\"line2d_41\">\n     <path d=\"M 39.103125 20.298437 \nL 49.103125 20.298437 \nL 59.103125 20.298437 \n\" style=\"fill: none; stroke: #1f77b4; stroke-width: 1.5; stroke-linecap: square\"/>\n    </g>\n    <g id=\"text_20\">\n     <!-- train loss -->\n     <g transform=\"translate(67.103125 23.798437) scale(0.1 -0.1)\">\n      <defs>\n       <path id=\"DejaVuSans-74\" d=\"M 1172 4494 \nL 1172 3500 \nL 2356 3500 \nL 2356 3053 \nL 1172 3053 \nL 1172 1153 \nQ 1172 725 1289 603 \nQ 1406 481 1766 481 \nL 2356 481 \nL 2356 0 \nL 1766 0 \nQ 1100 0 847 248 \nQ 594 497 594 1153 \nL 594 3053 \nL 172 3053 \nL 172 3500 \nL 594 3500 \nL 594 4494 \nL 1172 4494 \nz\n\" transform=\"scale(0.015625)\"/>\n       <path id=\"DejaVuSans-72\" d=\"M 2631 2963 \nQ 2534 3019 2420 3045 \nQ 2306 3072 2169 3072 \nQ 1681 3072 1420 2755 \nQ 1159 2438 1159 1844 \nL 1159 0 \nL 581 0 \nL 581 3500 \nL 1159 3500 \nL 1159 2956 \nQ 1341 3275 1631 3429 \nQ 1922 3584 2338 3584 \nQ 2397 3584 2469 3576 \nQ 2541 3569 2628 3553 \nL 2631 2963 \nz\n\" transform=\"scale(0.015625)\"/>\n       <path id=\"DejaVuSans-61\" d=\"M 2194 1759 \nQ 1497 1759 1228 1600 \nQ 959 1441 959 1056 \nQ 959 750 1161 570 \nQ 1363 391 1709 391 \nQ 2188 391 2477 730 \nQ 2766 1069 2766 1631 \nL 2766 1759 \nL 2194 1759 \nz\nM 3341 1997 \nL 3341 0 \nL 2766 0 \nL 2766 531 \nQ 2569 213 2275 61 \nQ 1981 -91 1556 -91 \nQ 1019 -91 701 211 \nQ 384 513 384 1019 \nQ 384 1609 779 1909 \nQ 1175 2209 1959 2209 \nL 2766 2209 \nL 2766 2266 \nQ 2766 2663 2505 2880 \nQ 2244 3097 1772 3097 \nQ 1472 3097 1187 3025 \nQ 903 2953 641 2809 \nL 641 3341 \nQ 956 3463 1253 3523 \nQ 1550 3584 1831 3584 \nQ 2591 3584 2966 3190 \nQ 3341 2797 3341 1997 \nz\n\" transform=\"scale(0.015625)\"/>\n       <path id=\"DejaVuSans-69\" d=\"M 603 3500 \nL 1178 3500 \nL 1178 0 \nL 603 0 \nL 603 3500 \nz\nM 603 4863 \nL 1178 4863 \nL 1178 4134 \nL 603 4134 \nL 603 4863 \nz\n\" transform=\"scale(0.015625)\"/>\n       <path id=\"DejaVuSans-6e\" d=\"M 3513 2113 \nL 3513 0 \nL 2938 0 \nL 2938 2094 \nQ 2938 2591 2744 2837 \nQ 2550 3084 2163 3084 \nQ 1697 3084 1428 2787 \nQ 1159 2491 1159 1978 \nL 1159 0 \nL 581 0 \nL 581 3500 \nL 1159 3500 \nL 1159 2956 \nQ 1366 3272 1645 3428 \nQ 1925 3584 2291 3584 \nQ 2894 3584 3203 3211 \nQ 3513 2838 3513 2113 \nz\n\" transform=\"scale(0.015625)\"/>\n       <path id=\"DejaVuSans-20\" transform=\"scale(0.015625)\"/>\n       <path id=\"DejaVuSans-6c\" d=\"M 603 4863 \nL 1178 4863 \nL 1178 0 \nL 603 0 \nL 603 4863 \nz\n\" transform=\"scale(0.015625)\"/>\n       <path id=\"DejaVuSans-73\" d=\"M 2834 3397 \nL 2834 2853 \nQ 2591 2978 2328 3040 \nQ 2066 3103 1784 3103 \nQ 1356 3103 1142 2972 \nQ 928 2841 928 2578 \nQ 928 2378 1081 2264 \nQ 1234 2150 1697 2047 \nL 1894 2003 \nQ 2506 1872 2764 1633 \nQ 3022 1394 3022 966 \nQ 3022 478 2636 193 \nQ 2250 -91 1575 -91 \nQ 1294 -91 989 -36 \nQ 684 19 347 128 \nL 347 722 \nQ 666 556 975 473 \nQ 1284 391 1588 391 \nQ 1994 391 2212 530 \nQ 2431 669 2431 922 \nQ 2431 1156 2273 1281 \nQ 2116 1406 1581 1522 \nL 1381 1569 \nQ 847 1681 609 1914 \nQ 372 2147 372 2553 \nQ 372 3047 722 3315 \nQ 1072 3584 1716 3584 \nQ 2034 3584 2315 3537 \nQ 2597 3491 2834 3397 \nz\n\" transform=\"scale(0.015625)\"/>\n      </defs>\n      <use xlink:href=\"#DejaVuSans-74\"/>\n      <use xlink:href=\"#DejaVuSans-72\" transform=\"translate(39.208984 0)\"/>\n      <use xlink:href=\"#DejaVuSans-61\" transform=\"translate(80.322266 0)\"/>\n      <use xlink:href=\"#DejaVuSans-69\" transform=\"translate(141.601562 0)\"/>\n      <use xlink:href=\"#DejaVuSans-6e\" transform=\"translate(169.384766 0)\"/>\n      <use xlink:href=\"#DejaVuSans-20\" transform=\"translate(232.763672 0)\"/>\n      <use xlink:href=\"#DejaVuSans-6c\" transform=\"translate(264.550781 0)\"/>\n      <use xlink:href=\"#DejaVuSans-6f\" transform=\"translate(292.333984 0)\"/>\n      <use xlink:href=\"#DejaVuSans-73\" transform=\"translate(353.515625 0)\"/>\n      <use xlink:href=\"#DejaVuSans-73\" transform=\"translate(405.615234 0)\"/>\n     </g>\n    </g>\n    <g id=\"line2d_42\">\n     <path d=\"M 39.103125 34.976562 \nL 49.103125 34.976562 \nL 59.103125 34.976562 \n\" style=\"fill: none; stroke-dasharray: 5.55,2.4; stroke-dashoffset: 0; stroke: #bf00bf; stroke-width: 1.5\"/>\n    </g>\n    <g id=\"text_21\">\n     <!-- train acc -->\n     <g transform=\"translate(67.103125 38.476562) scale(0.1 -0.1)\">\n      <use xlink:href=\"#DejaVuSans-74\"/>\n      <use xlink:href=\"#DejaVuSans-72\" transform=\"translate(39.208984 0)\"/>\n      <use xlink:href=\"#DejaVuSans-61\" transform=\"translate(80.322266 0)\"/>\n      <use xlink:href=\"#DejaVuSans-69\" transform=\"translate(141.601562 0)\"/>\n      <use xlink:href=\"#DejaVuSans-6e\" transform=\"translate(169.384766 0)\"/>\n      <use xlink:href=\"#DejaVuSans-20\" transform=\"translate(232.763672 0)\"/>\n      <use xlink:href=\"#DejaVuSans-61\" transform=\"translate(264.550781 0)\"/>\n      <use xlink:href=\"#DejaVuSans-63\" transform=\"translate(325.830078 0)\"/>\n      <use xlink:href=\"#DejaVuSans-63\" transform=\"translate(380.810547 0)\"/>\n     </g>\n    </g>\n    <g id=\"line2d_43\">\n     <path d=\"M 39.103125 49.654687 \nL 49.103125 49.654687 \nL 59.103125 49.654687 \n\" style=\"fill: none; stroke-dasharray: 9.6,2.4,1.5,2.4; stroke-dashoffset: 0; stroke: #008000; stroke-width: 1.5\"/>\n    </g>\n    <g id=\"text_22\">\n     <!-- valid loss -->\n     <g transform=\"translate(67.103125 53.154687) scale(0.1 -0.1)\">\n      <defs>\n       <path id=\"DejaVuSans-76\" d=\"M 191 3500 \nL 800 3500 \nL 1894 563 \nL 2988 3500 \nL 3597 3500 \nL 2284 0 \nL 1503 0 \nL 191 3500 \nz\n\" transform=\"scale(0.015625)\"/>\n       <path id=\"DejaVuSans-64\" d=\"M 2906 2969 \nL 2906 4863 \nL 3481 4863 \nL 3481 0 \nL 2906 0 \nL 2906 525 \nQ 2725 213 2448 61 \nQ 2172 -91 1784 -91 \nQ 1150 -91 751 415 \nQ 353 922 353 1747 \nQ 353 2572 751 3078 \nQ 1150 3584 1784 3584 \nQ 2172 3584 2448 3432 \nQ 2725 3281 2906 2969 \nz\nM 947 1747 \nQ 947 1113 1208 752 \nQ 1469 391 1925 391 \nQ 2381 391 2643 752 \nQ 2906 1113 2906 1747 \nQ 2906 2381 2643 2742 \nQ 2381 3103 1925 3103 \nQ 1469 3103 1208 2742 \nQ 947 2381 947 1747 \nz\n\" transform=\"scale(0.015625)\"/>\n      </defs>\n      <use xlink:href=\"#DejaVuSans-76\"/>\n      <use xlink:href=\"#DejaVuSans-61\" transform=\"translate(59.179688 0)\"/>\n      <use xlink:href=\"#DejaVuSans-6c\" transform=\"translate(120.458984 0)\"/>\n      <use xlink:href=\"#DejaVuSans-69\" transform=\"translate(148.242188 0)\"/>\n      <use xlink:href=\"#DejaVuSans-64\" transform=\"translate(176.025391 0)\"/>\n      <use xlink:href=\"#DejaVuSans-20\" transform=\"translate(239.501953 0)\"/>\n      <use xlink:href=\"#DejaVuSans-6c\" transform=\"translate(271.289062 0)\"/>\n      <use xlink:href=\"#DejaVuSans-6f\" transform=\"translate(299.072266 0)\"/>\n      <use xlink:href=\"#DejaVuSans-73\" transform=\"translate(360.253906 0)\"/>\n      <use xlink:href=\"#DejaVuSans-73\" transform=\"translate(412.353516 0)\"/>\n     </g>\n    </g>\n    <g id=\"line2d_44\">\n     <path d=\"M 39.103125 64.332812 \nL 49.103125 64.332812 \nL 59.103125 64.332812 \n\" style=\"fill: none; stroke-dasharray: 1.5,2.475; stroke-dashoffset: 0; stroke: #ff0000; stroke-width: 1.5\"/>\n    </g>\n    <g id=\"text_23\">\n     <!-- valid acc -->\n     <g transform=\"translate(67.103125 67.832812) scale(0.1 -0.1)\">\n      <use xlink:href=\"#DejaVuSans-76\"/>\n      <use xlink:href=\"#DejaVuSans-61\" transform=\"translate(59.179688 0)\"/>\n      <use xlink:href=\"#DejaVuSans-6c\" transform=\"translate(120.458984 0)\"/>\n      <use xlink:href=\"#DejaVuSans-69\" transform=\"translate(148.242188 0)\"/>\n      <use xlink:href=\"#DejaVuSans-64\" transform=\"translate(176.025391 0)\"/>\n      <use xlink:href=\"#DejaVuSans-20\" transform=\"translate(239.501953 0)\"/>\n      <use xlink:href=\"#DejaVuSans-61\" transform=\"translate(271.289062 0)\"/>\n      <use xlink:href=\"#DejaVuSans-63\" transform=\"translate(332.568359 0)\"/>\n      <use xlink:href=\"#DejaVuSans-63\" transform=\"translate(387.548828 0)\"/>\n     </g>\n    </g>\n   </g>\n  </g>\n </g>\n <defs>\n  <clipPath id=\"pbd96ff0b44\">\n   <rect x=\"30.103125\" y=\"7.2\" width=\"390.6\" height=\"277.2\"/>\n  </clipPath>\n </defs>\n</svg>\n"
          },
          "metadata": {}
        }
      ]
    },
    {
      "cell_type": "code",
      "source": [
        "test(net,test_iter,None,device = devices[0])\n",
        "test_on_checkpoint(net, args.pt_path, test_iter, None, device=devices[0])"
      ],
      "metadata": {
        "colab": {
          "base_uri": "https://localhost:8080/"
        },
        "id": "aFvAVRqCIHOM",
        "outputId": "7f636e57-dfee-4f7d-bc7f-a35bd07998b3"
      },
      "execution_count": null,
      "outputs": [
        {
          "output_type": "stream",
          "name": "stderr",
          "text": [
            "0it [00:00, ?it/s]You're using a BertTokenizerFast tokenizer. Please note that with a fast tokenizer, using the `__call__` method is faster than using a method to encode the text followed by a call to the `pad` method to get a padded encoding.\n",
            "32it [00:09,  3.47it/s]\n"
          ]
        },
        {
          "output_type": "stream",
          "name": "stdout",
          "text": [
            "test on final epoch -- acc: 65.80, f1-macro: 56.21\n",
            "test on /content/drive/MyDrive/CS5242/ckpt/SingleTowerBGE-epoch1-val_acc0.69.pt -- acc: 70.25, f1-macro: 50.29\n"
          ]
        }
      ]
    },
    {
      "cell_type": "markdown",
      "source": [
        "### 4.2 DualTowerBGE"
      ],
      "metadata": {
        "id": "E2w2sIn1RjcF"
      }
    },
    {
      "cell_type": "code",
      "source": [
        "data_dir = \"/content/drive/MyDrive/CS5242/\"\n",
        "model_name = \"BAAI/bge-small-zh-v1.5\" ; cache_dir = \"/content/drive/MyDrive/CS5242/bge-small-zh-v1.5\"\n",
        "test_data_name = \"test_public.json\" ; train_data_name = \"train.json\"\n",
        "args = Args()\n",
        "args.lr = 3e-5\n",
        "args.num_epochs=5\n",
        "args.batch_size=64\n",
        "args.monitor = 'accuracy'\n",
        "devices = [torch.device(\"cuda\" if torch.cuda.is_available() else \"cpu\")]\n",
        "task_name = \"DualTowerBGE\"\n",
        "download_model(model_name,cache_dir)"
      ],
      "metadata": {
        "colab": {
          "base_uri": "https://localhost:8080/"
        },
        "id": "bGdLB33ZbJzQ",
        "outputId": "1384d04f-3842-4a10-df97-5fe420eba0a0"
      },
      "execution_count": null,
      "outputs": [
        {
          "output_type": "stream",
          "name": "stdout",
          "text": [
            "Total Parameters: 23,953,920, Trainable: 23,953,920\n",
            "BertModel(\n",
            "  (embeddings): BertEmbeddings(\n",
            "    (word_embeddings): Embedding(21128, 512, padding_idx=0)\n",
            "    (position_embeddings): Embedding(512, 512)\n",
            "    (token_type_embeddings): Embedding(2, 512)\n",
            "    (LayerNorm): LayerNorm((512,), eps=1e-12, elementwise_affine=True)\n",
            "    (dropout): Dropout(p=0.1, inplace=False)\n",
            "  )\n",
            "  (encoder): BertEncoder(\n",
            "    (layer): ModuleList(\n",
            "      (0-3): 4 x BertLayer(\n",
            "        (attention): BertAttention(\n",
            "          (self): BertSdpaSelfAttention(\n",
            "            (query): Linear(in_features=512, out_features=512, bias=True)\n",
            "            (key): Linear(in_features=512, out_features=512, bias=True)\n",
            "            (value): Linear(in_features=512, out_features=512, bias=True)\n",
            "            (dropout): Dropout(p=0.1, inplace=False)\n",
            "          )\n",
            "          (output): BertSelfOutput(\n",
            "            (dense): Linear(in_features=512, out_features=512, bias=True)\n",
            "            (LayerNorm): LayerNorm((512,), eps=1e-12, elementwise_affine=True)\n",
            "            (dropout): Dropout(p=0.1, inplace=False)\n",
            "          )\n",
            "        )\n",
            "        (intermediate): BertIntermediate(\n",
            "          (dense): Linear(in_features=512, out_features=2048, bias=True)\n",
            "          (intermediate_act_fn): GELUActivation()\n",
            "        )\n",
            "        (output): BertOutput(\n",
            "          (dense): Linear(in_features=2048, out_features=512, bias=True)\n",
            "          (LayerNorm): LayerNorm((512,), eps=1e-12, elementwise_affine=True)\n",
            "          (dropout): Dropout(p=0.1, inplace=False)\n",
            "        )\n",
            "      )\n",
            "    )\n",
            "  )\n",
            "  (pooler): BertPooler(\n",
            "    (dense): Linear(in_features=512, out_features=512, bias=True)\n",
            "    (activation): Tanh()\n",
            "  )\n",
            ")\n"
          ]
        }
      ]
    },
    {
      "cell_type": "code",
      "source": [
        "train_processor = BGEProcessor(data_dir,train_data_name)\n",
        "train_examples = train_processor.get_examples()[:18000]\n",
        "test_processor = BGEProcessor(data_dir,test_data_name)\n",
        "test_examples = test_processor.get_examples()[:2000]\n",
        "train_examples, dev_examples = train_test_split(train_examples, test_size=1/9, random_state=42)"
      ],
      "metadata": {
        "id": "0Or_4FK_VvF8"
      },
      "execution_count": null,
      "outputs": []
    },
    {
      "cell_type": "code",
      "source": [
        "train_data = DualTowerBGEDataset(model_name, cache_dir,train_examples)\n",
        "dev_data = DualTowerBGEDataset(model_name, cache_dir,dev_examples)\n",
        "test_data = DualTowerBGEDataset(model_name, cache_dir,test_examples)"
      ],
      "metadata": {
        "colab": {
          "base_uri": "https://localhost:8080/"
        },
        "id": "WZHyxUXyJALr",
        "outputId": "e701ab8c-56b2-433e-d7e9-e19489833949"
      },
      "execution_count": null,
      "outputs": [
        {
          "output_type": "stream",
          "name": "stderr",
          "text": [
            "Converting data: 100%|██████████| 16000/16000 [00:08<00:00, 1997.91it/s]\n",
            "Converting data: 100%|██████████| 2000/2000 [00:00<00:00, 2692.56it/s]\n",
            "Converting data: 100%|██████████| 2000/2000 [00:00<00:00, 2631.17it/s]\n"
          ]
        }
      ]
    },
    {
      "cell_type": "code",
      "source": [
        "class DualTowerBGE(nn.Module):\n",
        "    \"\"\" Dual Tower Transformer Encoder \"\"\"\n",
        "    def __init__(self, model_name, cache_dir, output_dim):\n",
        "        super().__init__()\n",
        "        self.model_name = model_name\n",
        "        self.cache_dir = cache_dir\n",
        "        self.query_encoder = AutoModel.from_pretrained(self.model_name, cache_dir=self.cache_dir)\n",
        "        self.doc_encoder = AutoModel.from_pretrained(self.model_name, cache_dir=self.cache_dir)\n",
        "        self.d_model = self.query_encoder.config.hidden_size\n",
        "        self.clf = nn.Sequential(\n",
        "            nn.Linear(self.d_model * 2, self.d_model),\n",
        "            nn.ReLU(),\n",
        "            nn.Dropout(p=0.1),\n",
        "            nn.Linear(self.d_model, output_dim),\n",
        "        )\n",
        "\n",
        "    def forward(self, query_input_ids,\n",
        "                      query_attention_mask,\n",
        "                      query_token_type_ids,\n",
        "                      doc_input_ids,\n",
        "                      doc_attention_mask,\n",
        "                      doc_token_type_ids,\n",
        "                      **kwargs):\n",
        "        '''\n",
        "        query_inputs: dict, doc_inputs: dict\n",
        "        Including input_ids, attention_mask, token_type_ids\n",
        "        '''\n",
        "        query_inputs = {\"input_ids\":query_input_ids,\n",
        "                        \"attention_mask\":query_attention_mask,\n",
        "                        \"token_type_ids\":query_token_type_ids}\n",
        "        doc_inputs   = {\"input_ids\":doc_input_ids,\n",
        "                        \"attention_mask\":doc_attention_mask,\n",
        "                        \"token_type_ids\":doc_token_type_ids}\n",
        "        query_output = self.query_encoder(**query_inputs).last_hidden_state[:, 0, :]  # [CLS]\n",
        "        doc_output = self.doc_encoder(**doc_inputs).last_hidden_state[:, 0, :]        # [CLS]\n",
        "        concat = torch.cat([query_output, doc_output], dim=-1)  # [batch, 2*d_model]\n",
        "        logits = self.clf(concat)\n",
        "        return logits\n"
      ],
      "metadata": {
        "id": "2OajGp8OVjvI"
      },
      "execution_count": null,
      "outputs": []
    },
    {
      "cell_type": "code",
      "source": [
        "train_iter = DataLoader(dataset=train_data,\n",
        "                        batch_size = args.batch_size,\n",
        "                        collate_fn = build_dual_bge_collate_fn(\n",
        "                                        AutoTokenizer.from_pretrained(\n",
        "                                        model_name,\n",
        "                                        cache_dir = cache_dir)),\n",
        "                        shuffle=False)\n",
        "dev_iter = DataLoader(dataset=dev_data,\n",
        "                        batch_size = args.batch_size,\n",
        "                        collate_fn = build_dual_bge_collate_fn(\n",
        "                                        AutoTokenizer.from_pretrained(\n",
        "                                        model_name,\n",
        "                                        cache_dir = cache_dir)),\n",
        "                        shuffle=False)\n",
        "test_iter = DataLoader(dataset=test_data,\n",
        "                       batch_size=args.batch_size,\n",
        "                       collate_fn = build_dual_bge_collate_fn(\n",
        "                                        AutoTokenizer.from_pretrained(\n",
        "                                        model_name,\n",
        "                                        cache_dir = cache_dir)),\n",
        "                       shuffle=False)"
      ],
      "metadata": {
        "id": "xetjA1CmWD-k"
      },
      "execution_count": null,
      "outputs": []
    },
    {
      "cell_type": "code",
      "source": [
        "net = DualTowerBGE(model_name,cache_dir,args.num_class).to(devices[0])"
      ],
      "metadata": {
        "id": "IhH9Cdh-WnHx"
      },
      "execution_count": null,
      "outputs": []
    },
    {
      "cell_type": "code",
      "source": [
        "train_transformer(net,\n",
        "                  train_iter,\n",
        "                  dev_iter,\n",
        "                  args.num_epochs,\n",
        "                  args.optimizer,\n",
        "                  args.lr,\n",
        "                  args.weight_decay,\n",
        "                  args.num_warmup_steps,\n",
        "                  devices,\n",
        "                  task_name)"
      ],
      "metadata": {
        "colab": {
          "base_uri": "https://localhost:8080/",
          "height": 486
        },
        "id": "iD_Xyv-mZOkD",
        "outputId": "601a7d44-25ff-401c-9425-ad19cfde045f"
      },
      "execution_count": null,
      "outputs": [
        {
          "output_type": "stream",
          "name": "stdout",
          "text": [
            "train loss 0.510, train acc 0.793, valid loss 0.876, valid acc 0.646\n",
            "381.3 examples/sec on [device(type='cuda')]\n"
          ]
        },
        {
          "output_type": "display_data",
          "data": {
            "text/plain": [
              "<Figure size 700x500 with 1 Axes>"
            ],
            "image/svg+xml": "<?xml version=\"1.0\" encoding=\"utf-8\" standalone=\"no\"?>\n<!DOCTYPE svg PUBLIC \"-//W3C//DTD SVG 1.1//EN\"\n  \"http://www.w3.org/Graphics/SVG/1.1/DTD/svg11.dtd\">\n<svg xmlns:xlink=\"http://www.w3.org/1999/xlink\" width=\"435.854688pt\" height=\"321.95625pt\" viewBox=\"0 0 435.854688 321.95625\" xmlns=\"http://www.w3.org/2000/svg\" version=\"1.1\">\n <metadata>\n  <rdf:RDF xmlns:dc=\"http://purl.org/dc/elements/1.1/\" xmlns:cc=\"http://creativecommons.org/ns#\" xmlns:rdf=\"http://www.w3.org/1999/02/22-rdf-syntax-ns#\">\n   <cc:Work>\n    <dc:type rdf:resource=\"http://purl.org/dc/dcmitype/StillImage\"/>\n    <dc:date>2025-04-21T02:40:48.539683</dc:date>\n    <dc:format>image/svg+xml</dc:format>\n    <dc:creator>\n     <cc:Agent>\n      <dc:title>Matplotlib v3.10.0, https://matplotlib.org/</dc:title>\n     </cc:Agent>\n    </dc:creator>\n   </cc:Work>\n  </rdf:RDF>\n </metadata>\n <defs>\n  <style type=\"text/css\">*{stroke-linejoin: round; stroke-linecap: butt}</style>\n </defs>\n <g id=\"figure_1\">\n  <g id=\"patch_1\">\n   <path d=\"M 0 321.95625 \nL 435.854688 321.95625 \nL 435.854688 0 \nL 0 0 \nz\n\" style=\"fill: #ffffff\"/>\n  </g>\n  <g id=\"axes_1\">\n   <g id=\"patch_2\">\n    <path d=\"M 30.103125 284.4 \nL 420.703125 284.4 \nL 420.703125 7.2 \nL 30.103125 7.2 \nz\n\" style=\"fill: #ffffff\"/>\n   </g>\n   <g id=\"matplotlib.axis_1\">\n    <g id=\"xtick_1\">\n     <g id=\"line2d_1\">\n      <path d=\"M 30.103125 284.4 \nL 30.103125 7.2 \n\" clip-path=\"url(#pf24b37c7b6)\" style=\"fill: none; stroke: #b0b0b0; stroke-width: 0.8; stroke-linecap: square\"/>\n     </g>\n     <g id=\"line2d_2\">\n      <defs>\n       <path id=\"m898c6a168d\" d=\"M 0 0 \nL 0 3.5 \n\" style=\"stroke: #000000; stroke-width: 0.8\"/>\n      </defs>\n      <g>\n       <use xlink:href=\"#m898c6a168d\" x=\"30.103125\" y=\"284.4\" style=\"stroke: #000000; stroke-width: 0.8\"/>\n      </g>\n     </g>\n     <g id=\"text_1\">\n      <!-- 1.0 -->\n      <g transform=\"translate(22.151563 298.998438) scale(0.1 -0.1)\">\n       <defs>\n        <path id=\"DejaVuSans-31\" d=\"M 794 531 \nL 1825 531 \nL 1825 4091 \nL 703 3866 \nL 703 4441 \nL 1819 4666 \nL 2450 4666 \nL 2450 531 \nL 3481 531 \nL 3481 0 \nL 794 0 \nL 794 531 \nz\n\" transform=\"scale(0.015625)\"/>\n        <path id=\"DejaVuSans-2e\" d=\"M 684 794 \nL 1344 794 \nL 1344 0 \nL 684 0 \nL 684 794 \nz\n\" transform=\"scale(0.015625)\"/>\n        <path id=\"DejaVuSans-30\" d=\"M 2034 4250 \nQ 1547 4250 1301 3770 \nQ 1056 3291 1056 2328 \nQ 1056 1369 1301 889 \nQ 1547 409 2034 409 \nQ 2525 409 2770 889 \nQ 3016 1369 3016 2328 \nQ 3016 3291 2770 3770 \nQ 2525 4250 2034 4250 \nz\nM 2034 4750 \nQ 2819 4750 3233 4129 \nQ 3647 3509 3647 2328 \nQ 3647 1150 3233 529 \nQ 2819 -91 2034 -91 \nQ 1250 -91 836 529 \nQ 422 1150 422 2328 \nQ 422 3509 836 4129 \nQ 1250 4750 2034 4750 \nz\n\" transform=\"scale(0.015625)\"/>\n       </defs>\n       <use xlink:href=\"#DejaVuSans-31\"/>\n       <use xlink:href=\"#DejaVuSans-2e\" transform=\"translate(63.623047 0)\"/>\n       <use xlink:href=\"#DejaVuSans-30\" transform=\"translate(95.410156 0)\"/>\n      </g>\n     </g>\n    </g>\n    <g id=\"xtick_2\">\n     <g id=\"line2d_3\">\n      <path d=\"M 78.928125 284.4 \nL 78.928125 7.2 \n\" clip-path=\"url(#pf24b37c7b6)\" style=\"fill: none; stroke: #b0b0b0; stroke-width: 0.8; stroke-linecap: square\"/>\n     </g>\n     <g id=\"line2d_4\">\n      <g>\n       <use xlink:href=\"#m898c6a168d\" x=\"78.928125\" y=\"284.4\" style=\"stroke: #000000; stroke-width: 0.8\"/>\n      </g>\n     </g>\n     <g id=\"text_2\">\n      <!-- 1.5 -->\n      <g transform=\"translate(70.976563 298.998438) scale(0.1 -0.1)\">\n       <defs>\n        <path id=\"DejaVuSans-35\" d=\"M 691 4666 \nL 3169 4666 \nL 3169 4134 \nL 1269 4134 \nL 1269 2991 \nQ 1406 3038 1543 3061 \nQ 1681 3084 1819 3084 \nQ 2600 3084 3056 2656 \nQ 3513 2228 3513 1497 \nQ 3513 744 3044 326 \nQ 2575 -91 1722 -91 \nQ 1428 -91 1123 -41 \nQ 819 9 494 109 \nL 494 744 \nQ 775 591 1075 516 \nQ 1375 441 1709 441 \nQ 2250 441 2565 725 \nQ 2881 1009 2881 1497 \nQ 2881 1984 2565 2268 \nQ 2250 2553 1709 2553 \nQ 1456 2553 1204 2497 \nQ 953 2441 691 2322 \nL 691 4666 \nz\n\" transform=\"scale(0.015625)\"/>\n       </defs>\n       <use xlink:href=\"#DejaVuSans-31\"/>\n       <use xlink:href=\"#DejaVuSans-2e\" transform=\"translate(63.623047 0)\"/>\n       <use xlink:href=\"#DejaVuSans-35\" transform=\"translate(95.410156 0)\"/>\n      </g>\n     </g>\n    </g>\n    <g id=\"xtick_3\">\n     <g id=\"line2d_5\">\n      <path d=\"M 127.753125 284.4 \nL 127.753125 7.2 \n\" clip-path=\"url(#pf24b37c7b6)\" style=\"fill: none; stroke: #b0b0b0; stroke-width: 0.8; stroke-linecap: square\"/>\n     </g>\n     <g id=\"line2d_6\">\n      <g>\n       <use xlink:href=\"#m898c6a168d\" x=\"127.753125\" y=\"284.4\" style=\"stroke: #000000; stroke-width: 0.8\"/>\n      </g>\n     </g>\n     <g id=\"text_3\">\n      <!-- 2.0 -->\n      <g transform=\"translate(119.801563 298.998438) scale(0.1 -0.1)\">\n       <defs>\n        <path id=\"DejaVuSans-32\" d=\"M 1228 531 \nL 3431 531 \nL 3431 0 \nL 469 0 \nL 469 531 \nQ 828 903 1448 1529 \nQ 2069 2156 2228 2338 \nQ 2531 2678 2651 2914 \nQ 2772 3150 2772 3378 \nQ 2772 3750 2511 3984 \nQ 2250 4219 1831 4219 \nQ 1534 4219 1204 4116 \nQ 875 4013 500 3803 \nL 500 4441 \nQ 881 4594 1212 4672 \nQ 1544 4750 1819 4750 \nQ 2544 4750 2975 4387 \nQ 3406 4025 3406 3419 \nQ 3406 3131 3298 2873 \nQ 3191 2616 2906 2266 \nQ 2828 2175 2409 1742 \nQ 1991 1309 1228 531 \nz\n\" transform=\"scale(0.015625)\"/>\n       </defs>\n       <use xlink:href=\"#DejaVuSans-32\"/>\n       <use xlink:href=\"#DejaVuSans-2e\" transform=\"translate(63.623047 0)\"/>\n       <use xlink:href=\"#DejaVuSans-30\" transform=\"translate(95.410156 0)\"/>\n      </g>\n     </g>\n    </g>\n    <g id=\"xtick_4\">\n     <g id=\"line2d_7\">\n      <path d=\"M 176.578125 284.4 \nL 176.578125 7.2 \n\" clip-path=\"url(#pf24b37c7b6)\" style=\"fill: none; stroke: #b0b0b0; stroke-width: 0.8; stroke-linecap: square\"/>\n     </g>\n     <g id=\"line2d_8\">\n      <g>\n       <use xlink:href=\"#m898c6a168d\" x=\"176.578125\" y=\"284.4\" style=\"stroke: #000000; stroke-width: 0.8\"/>\n      </g>\n     </g>\n     <g id=\"text_4\">\n      <!-- 2.5 -->\n      <g transform=\"translate(168.626563 298.998438) scale(0.1 -0.1)\">\n       <use xlink:href=\"#DejaVuSans-32\"/>\n       <use xlink:href=\"#DejaVuSans-2e\" transform=\"translate(63.623047 0)\"/>\n       <use xlink:href=\"#DejaVuSans-35\" transform=\"translate(95.410156 0)\"/>\n      </g>\n     </g>\n    </g>\n    <g id=\"xtick_5\">\n     <g id=\"line2d_9\">\n      <path d=\"M 225.403125 284.4 \nL 225.403125 7.2 \n\" clip-path=\"url(#pf24b37c7b6)\" style=\"fill: none; stroke: #b0b0b0; stroke-width: 0.8; stroke-linecap: square\"/>\n     </g>\n     <g id=\"line2d_10\">\n      <g>\n       <use xlink:href=\"#m898c6a168d\" x=\"225.403125\" y=\"284.4\" style=\"stroke: #000000; stroke-width: 0.8\"/>\n      </g>\n     </g>\n     <g id=\"text_5\">\n      <!-- 3.0 -->\n      <g transform=\"translate(217.451563 298.998438) scale(0.1 -0.1)\">\n       <defs>\n        <path id=\"DejaVuSans-33\" d=\"M 2597 2516 \nQ 3050 2419 3304 2112 \nQ 3559 1806 3559 1356 \nQ 3559 666 3084 287 \nQ 2609 -91 1734 -91 \nQ 1441 -91 1130 -33 \nQ 819 25 488 141 \nL 488 750 \nQ 750 597 1062 519 \nQ 1375 441 1716 441 \nQ 2309 441 2620 675 \nQ 2931 909 2931 1356 \nQ 2931 1769 2642 2001 \nQ 2353 2234 1838 2234 \nL 1294 2234 \nL 1294 2753 \nL 1863 2753 \nQ 2328 2753 2575 2939 \nQ 2822 3125 2822 3475 \nQ 2822 3834 2567 4026 \nQ 2313 4219 1838 4219 \nQ 1578 4219 1281 4162 \nQ 984 4106 628 3988 \nL 628 4550 \nQ 988 4650 1302 4700 \nQ 1616 4750 1894 4750 \nQ 2613 4750 3031 4423 \nQ 3450 4097 3450 3541 \nQ 3450 3153 3228 2886 \nQ 3006 2619 2597 2516 \nz\n\" transform=\"scale(0.015625)\"/>\n       </defs>\n       <use xlink:href=\"#DejaVuSans-33\"/>\n       <use xlink:href=\"#DejaVuSans-2e\" transform=\"translate(63.623047 0)\"/>\n       <use xlink:href=\"#DejaVuSans-30\" transform=\"translate(95.410156 0)\"/>\n      </g>\n     </g>\n    </g>\n    <g id=\"xtick_6\">\n     <g id=\"line2d_11\">\n      <path d=\"M 274.228125 284.4 \nL 274.228125 7.2 \n\" clip-path=\"url(#pf24b37c7b6)\" style=\"fill: none; stroke: #b0b0b0; stroke-width: 0.8; stroke-linecap: square\"/>\n     </g>\n     <g id=\"line2d_12\">\n      <g>\n       <use xlink:href=\"#m898c6a168d\" x=\"274.228125\" y=\"284.4\" style=\"stroke: #000000; stroke-width: 0.8\"/>\n      </g>\n     </g>\n     <g id=\"text_6\">\n      <!-- 3.5 -->\n      <g transform=\"translate(266.276563 298.998438) scale(0.1 -0.1)\">\n       <use xlink:href=\"#DejaVuSans-33\"/>\n       <use xlink:href=\"#DejaVuSans-2e\" transform=\"translate(63.623047 0)\"/>\n       <use xlink:href=\"#DejaVuSans-35\" transform=\"translate(95.410156 0)\"/>\n      </g>\n     </g>\n    </g>\n    <g id=\"xtick_7\">\n     <g id=\"line2d_13\">\n      <path d=\"M 323.053125 284.4 \nL 323.053125 7.2 \n\" clip-path=\"url(#pf24b37c7b6)\" style=\"fill: none; stroke: #b0b0b0; stroke-width: 0.8; stroke-linecap: square\"/>\n     </g>\n     <g id=\"line2d_14\">\n      <g>\n       <use xlink:href=\"#m898c6a168d\" x=\"323.053125\" y=\"284.4\" style=\"stroke: #000000; stroke-width: 0.8\"/>\n      </g>\n     </g>\n     <g id=\"text_7\">\n      <!-- 4.0 -->\n      <g transform=\"translate(315.101562 298.998438) scale(0.1 -0.1)\">\n       <defs>\n        <path id=\"DejaVuSans-34\" d=\"M 2419 4116 \nL 825 1625 \nL 2419 1625 \nL 2419 4116 \nz\nM 2253 4666 \nL 3047 4666 \nL 3047 1625 \nL 3713 1625 \nL 3713 1100 \nL 3047 1100 \nL 3047 0 \nL 2419 0 \nL 2419 1100 \nL 313 1100 \nL 313 1709 \nL 2253 4666 \nz\n\" transform=\"scale(0.015625)\"/>\n       </defs>\n       <use xlink:href=\"#DejaVuSans-34\"/>\n       <use xlink:href=\"#DejaVuSans-2e\" transform=\"translate(63.623047 0)\"/>\n       <use xlink:href=\"#DejaVuSans-30\" transform=\"translate(95.410156 0)\"/>\n      </g>\n     </g>\n    </g>\n    <g id=\"xtick_8\">\n     <g id=\"line2d_15\">\n      <path d=\"M 371.878125 284.4 \nL 371.878125 7.2 \n\" clip-path=\"url(#pf24b37c7b6)\" style=\"fill: none; stroke: #b0b0b0; stroke-width: 0.8; stroke-linecap: square\"/>\n     </g>\n     <g id=\"line2d_16\">\n      <g>\n       <use xlink:href=\"#m898c6a168d\" x=\"371.878125\" y=\"284.4\" style=\"stroke: #000000; stroke-width: 0.8\"/>\n      </g>\n     </g>\n     <g id=\"text_8\">\n      <!-- 4.5 -->\n      <g transform=\"translate(363.926562 298.998438) scale(0.1 -0.1)\">\n       <use xlink:href=\"#DejaVuSans-34\"/>\n       <use xlink:href=\"#DejaVuSans-2e\" transform=\"translate(63.623047 0)\"/>\n       <use xlink:href=\"#DejaVuSans-35\" transform=\"translate(95.410156 0)\"/>\n      </g>\n     </g>\n    </g>\n    <g id=\"xtick_9\">\n     <g id=\"line2d_17\">\n      <path d=\"M 420.703125 284.4 \nL 420.703125 7.2 \n\" clip-path=\"url(#pf24b37c7b6)\" style=\"fill: none; stroke: #b0b0b0; stroke-width: 0.8; stroke-linecap: square\"/>\n     </g>\n     <g id=\"line2d_18\">\n      <g>\n       <use xlink:href=\"#m898c6a168d\" x=\"420.703125\" y=\"284.4\" style=\"stroke: #000000; stroke-width: 0.8\"/>\n      </g>\n     </g>\n     <g id=\"text_9\">\n      <!-- 5.0 -->\n      <g transform=\"translate(412.751562 298.998438) scale(0.1 -0.1)\">\n       <use xlink:href=\"#DejaVuSans-35\"/>\n       <use xlink:href=\"#DejaVuSans-2e\" transform=\"translate(63.623047 0)\"/>\n       <use xlink:href=\"#DejaVuSans-30\" transform=\"translate(95.410156 0)\"/>\n      </g>\n     </g>\n    </g>\n    <g id=\"text_10\">\n     <!-- epoch -->\n     <g transform=\"translate(210.175 312.676562) scale(0.1 -0.1)\">\n      <defs>\n       <path id=\"DejaVuSans-65\" d=\"M 3597 1894 \nL 3597 1613 \nL 953 1613 \nQ 991 1019 1311 708 \nQ 1631 397 2203 397 \nQ 2534 397 2845 478 \nQ 3156 559 3463 722 \nL 3463 178 \nQ 3153 47 2828 -22 \nQ 2503 -91 2169 -91 \nQ 1331 -91 842 396 \nQ 353 884 353 1716 \nQ 353 2575 817 3079 \nQ 1281 3584 2069 3584 \nQ 2775 3584 3186 3129 \nQ 3597 2675 3597 1894 \nz\nM 3022 2063 \nQ 3016 2534 2758 2815 \nQ 2500 3097 2075 3097 \nQ 1594 3097 1305 2825 \nQ 1016 2553 972 2059 \nL 3022 2063 \nz\n\" transform=\"scale(0.015625)\"/>\n       <path id=\"DejaVuSans-70\" d=\"M 1159 525 \nL 1159 -1331 \nL 581 -1331 \nL 581 3500 \nL 1159 3500 \nL 1159 2969 \nQ 1341 3281 1617 3432 \nQ 1894 3584 2278 3584 \nQ 2916 3584 3314 3078 \nQ 3713 2572 3713 1747 \nQ 3713 922 3314 415 \nQ 2916 -91 2278 -91 \nQ 1894 -91 1617 61 \nQ 1341 213 1159 525 \nz\nM 3116 1747 \nQ 3116 2381 2855 2742 \nQ 2594 3103 2138 3103 \nQ 1681 3103 1420 2742 \nQ 1159 2381 1159 1747 \nQ 1159 1113 1420 752 \nQ 1681 391 2138 391 \nQ 2594 391 2855 752 \nQ 3116 1113 3116 1747 \nz\n\" transform=\"scale(0.015625)\"/>\n       <path id=\"DejaVuSans-6f\" d=\"M 1959 3097 \nQ 1497 3097 1228 2736 \nQ 959 2375 959 1747 \nQ 959 1119 1226 758 \nQ 1494 397 1959 397 \nQ 2419 397 2687 759 \nQ 2956 1122 2956 1747 \nQ 2956 2369 2687 2733 \nQ 2419 3097 1959 3097 \nz\nM 1959 3584 \nQ 2709 3584 3137 3096 \nQ 3566 2609 3566 1747 \nQ 3566 888 3137 398 \nQ 2709 -91 1959 -91 \nQ 1206 -91 779 398 \nQ 353 888 353 1747 \nQ 353 2609 779 3096 \nQ 1206 3584 1959 3584 \nz\n\" transform=\"scale(0.015625)\"/>\n       <path id=\"DejaVuSans-63\" d=\"M 3122 3366 \nL 3122 2828 \nQ 2878 2963 2633 3030 \nQ 2388 3097 2138 3097 \nQ 1578 3097 1268 2742 \nQ 959 2388 959 1747 \nQ 959 1106 1268 751 \nQ 1578 397 2138 397 \nQ 2388 397 2633 464 \nQ 2878 531 3122 666 \nL 3122 134 \nQ 2881 22 2623 -34 \nQ 2366 -91 2075 -91 \nQ 1284 -91 818 406 \nQ 353 903 353 1747 \nQ 353 2603 823 3093 \nQ 1294 3584 2113 3584 \nQ 2378 3584 2631 3529 \nQ 2884 3475 3122 3366 \nz\n\" transform=\"scale(0.015625)\"/>\n       <path id=\"DejaVuSans-68\" d=\"M 3513 2113 \nL 3513 0 \nL 2938 0 \nL 2938 2094 \nQ 2938 2591 2744 2837 \nQ 2550 3084 2163 3084 \nQ 1697 3084 1428 2787 \nQ 1159 2491 1159 1978 \nL 1159 0 \nL 581 0 \nL 581 4863 \nL 1159 4863 \nL 1159 2956 \nQ 1366 3272 1645 3428 \nQ 1925 3584 2291 3584 \nQ 2894 3584 3203 3211 \nQ 3513 2838 3513 2113 \nz\n\" transform=\"scale(0.015625)\"/>\n      </defs>\n      <use xlink:href=\"#DejaVuSans-65\"/>\n      <use xlink:href=\"#DejaVuSans-70\" transform=\"translate(61.523438 0)\"/>\n      <use xlink:href=\"#DejaVuSans-6f\" transform=\"translate(125 0)\"/>\n      <use xlink:href=\"#DejaVuSans-63\" transform=\"translate(186.181641 0)\"/>\n      <use xlink:href=\"#DejaVuSans-68\" transform=\"translate(241.162109 0)\"/>\n     </g>\n    </g>\n   </g>\n   <g id=\"matplotlib.axis_2\">\n    <g id=\"ytick_1\">\n     <g id=\"line2d_19\">\n      <path d=\"M 30.103125 276.573047 \nL 420.703125 276.573047 \n\" clip-path=\"url(#pf24b37c7b6)\" style=\"fill: none; stroke: #b0b0b0; stroke-width: 0.8; stroke-linecap: square\"/>\n     </g>\n     <g id=\"line2d_20\">\n      <defs>\n       <path id=\"m5b5690a079\" d=\"M 0 0 \nL -3.5 0 \n\" style=\"stroke: #000000; stroke-width: 0.8\"/>\n      </defs>\n      <g>\n       <use xlink:href=\"#m5b5690a079\" x=\"30.103125\" y=\"276.573047\" style=\"stroke: #000000; stroke-width: 0.8\"/>\n      </g>\n     </g>\n     <g id=\"text_11\">\n      <!-- 0.5 -->\n      <g transform=\"translate(7.2 280.372266) scale(0.1 -0.1)\">\n       <use xlink:href=\"#DejaVuSans-30\"/>\n       <use xlink:href=\"#DejaVuSans-2e\" transform=\"translate(63.623047 0)\"/>\n       <use xlink:href=\"#DejaVuSans-35\" transform=\"translate(95.410156 0)\"/>\n      </g>\n     </g>\n    </g>\n    <g id=\"ytick_2\">\n     <g id=\"line2d_21\">\n      <path d=\"M 30.103125 228.357665 \nL 420.703125 228.357665 \n\" clip-path=\"url(#pf24b37c7b6)\" style=\"fill: none; stroke: #b0b0b0; stroke-width: 0.8; stroke-linecap: square\"/>\n     </g>\n     <g id=\"line2d_22\">\n      <g>\n       <use xlink:href=\"#m5b5690a079\" x=\"30.103125\" y=\"228.357665\" style=\"stroke: #000000; stroke-width: 0.8\"/>\n      </g>\n     </g>\n     <g id=\"text_12\">\n      <!-- 0.6 -->\n      <g transform=\"translate(7.2 232.156883) scale(0.1 -0.1)\">\n       <defs>\n        <path id=\"DejaVuSans-36\" d=\"M 2113 2584 \nQ 1688 2584 1439 2293 \nQ 1191 2003 1191 1497 \nQ 1191 994 1439 701 \nQ 1688 409 2113 409 \nQ 2538 409 2786 701 \nQ 3034 994 3034 1497 \nQ 3034 2003 2786 2293 \nQ 2538 2584 2113 2584 \nz\nM 3366 4563 \nL 3366 3988 \nQ 3128 4100 2886 4159 \nQ 2644 4219 2406 4219 \nQ 1781 4219 1451 3797 \nQ 1122 3375 1075 2522 \nQ 1259 2794 1537 2939 \nQ 1816 3084 2150 3084 \nQ 2853 3084 3261 2657 \nQ 3669 2231 3669 1497 \nQ 3669 778 3244 343 \nQ 2819 -91 2113 -91 \nQ 1303 -91 875 529 \nQ 447 1150 447 2328 \nQ 447 3434 972 4092 \nQ 1497 4750 2381 4750 \nQ 2619 4750 2861 4703 \nQ 3103 4656 3366 4563 \nz\n\" transform=\"scale(0.015625)\"/>\n       </defs>\n       <use xlink:href=\"#DejaVuSans-30\"/>\n       <use xlink:href=\"#DejaVuSans-2e\" transform=\"translate(63.623047 0)\"/>\n       <use xlink:href=\"#DejaVuSans-36\" transform=\"translate(95.410156 0)\"/>\n      </g>\n     </g>\n    </g>\n    <g id=\"ytick_3\">\n     <g id=\"line2d_23\">\n      <path d=\"M 30.103125 180.142282 \nL 420.703125 180.142282 \n\" clip-path=\"url(#pf24b37c7b6)\" style=\"fill: none; stroke: #b0b0b0; stroke-width: 0.8; stroke-linecap: square\"/>\n     </g>\n     <g id=\"line2d_24\">\n      <g>\n       <use xlink:href=\"#m5b5690a079\" x=\"30.103125\" y=\"180.142282\" style=\"stroke: #000000; stroke-width: 0.8\"/>\n      </g>\n     </g>\n     <g id=\"text_13\">\n      <!-- 0.7 -->\n      <g transform=\"translate(7.2 183.941501) scale(0.1 -0.1)\">\n       <defs>\n        <path id=\"DejaVuSans-37\" d=\"M 525 4666 \nL 3525 4666 \nL 3525 4397 \nL 1831 0 \nL 1172 0 \nL 2766 4134 \nL 525 4134 \nL 525 4666 \nz\n\" transform=\"scale(0.015625)\"/>\n       </defs>\n       <use xlink:href=\"#DejaVuSans-30\"/>\n       <use xlink:href=\"#DejaVuSans-2e\" transform=\"translate(63.623047 0)\"/>\n       <use xlink:href=\"#DejaVuSans-37\" transform=\"translate(95.410156 0)\"/>\n      </g>\n     </g>\n    </g>\n    <g id=\"ytick_4\">\n     <g id=\"line2d_25\">\n      <path d=\"M 30.103125 131.926899 \nL 420.703125 131.926899 \n\" clip-path=\"url(#pf24b37c7b6)\" style=\"fill: none; stroke: #b0b0b0; stroke-width: 0.8; stroke-linecap: square\"/>\n     </g>\n     <g id=\"line2d_26\">\n      <g>\n       <use xlink:href=\"#m5b5690a079\" x=\"30.103125\" y=\"131.926899\" style=\"stroke: #000000; stroke-width: 0.8\"/>\n      </g>\n     </g>\n     <g id=\"text_14\">\n      <!-- 0.8 -->\n      <g transform=\"translate(7.2 135.726118) scale(0.1 -0.1)\">\n       <defs>\n        <path id=\"DejaVuSans-38\" d=\"M 2034 2216 \nQ 1584 2216 1326 1975 \nQ 1069 1734 1069 1313 \nQ 1069 891 1326 650 \nQ 1584 409 2034 409 \nQ 2484 409 2743 651 \nQ 3003 894 3003 1313 \nQ 3003 1734 2745 1975 \nQ 2488 2216 2034 2216 \nz\nM 1403 2484 \nQ 997 2584 770 2862 \nQ 544 3141 544 3541 \nQ 544 4100 942 4425 \nQ 1341 4750 2034 4750 \nQ 2731 4750 3128 4425 \nQ 3525 4100 3525 3541 \nQ 3525 3141 3298 2862 \nQ 3072 2584 2669 2484 \nQ 3125 2378 3379 2068 \nQ 3634 1759 3634 1313 \nQ 3634 634 3220 271 \nQ 2806 -91 2034 -91 \nQ 1263 -91 848 271 \nQ 434 634 434 1313 \nQ 434 1759 690 2068 \nQ 947 2378 1403 2484 \nz\nM 1172 3481 \nQ 1172 3119 1398 2916 \nQ 1625 2713 2034 2713 \nQ 2441 2713 2670 2916 \nQ 2900 3119 2900 3481 \nQ 2900 3844 2670 4047 \nQ 2441 4250 2034 4250 \nQ 1625 4250 1398 4047 \nQ 1172 3844 1172 3481 \nz\n\" transform=\"scale(0.015625)\"/>\n       </defs>\n       <use xlink:href=\"#DejaVuSans-30\"/>\n       <use xlink:href=\"#DejaVuSans-2e\" transform=\"translate(63.623047 0)\"/>\n       <use xlink:href=\"#DejaVuSans-38\" transform=\"translate(95.410156 0)\"/>\n      </g>\n     </g>\n    </g>\n    <g id=\"ytick_5\">\n     <g id=\"line2d_27\">\n      <path d=\"M 30.103125 83.711517 \nL 420.703125 83.711517 \n\" clip-path=\"url(#pf24b37c7b6)\" style=\"fill: none; stroke: #b0b0b0; stroke-width: 0.8; stroke-linecap: square\"/>\n     </g>\n     <g id=\"line2d_28\">\n      <g>\n       <use xlink:href=\"#m5b5690a079\" x=\"30.103125\" y=\"83.711517\" style=\"stroke: #000000; stroke-width: 0.8\"/>\n      </g>\n     </g>\n     <g id=\"text_15\">\n      <!-- 0.9 -->\n      <g transform=\"translate(7.2 87.510736) scale(0.1 -0.1)\">\n       <defs>\n        <path id=\"DejaVuSans-39\" d=\"M 703 97 \nL 703 672 \nQ 941 559 1184 500 \nQ 1428 441 1663 441 \nQ 2288 441 2617 861 \nQ 2947 1281 2994 2138 \nQ 2813 1869 2534 1725 \nQ 2256 1581 1919 1581 \nQ 1219 1581 811 2004 \nQ 403 2428 403 3163 \nQ 403 3881 828 4315 \nQ 1253 4750 1959 4750 \nQ 2769 4750 3195 4129 \nQ 3622 3509 3622 2328 \nQ 3622 1225 3098 567 \nQ 2575 -91 1691 -91 \nQ 1453 -91 1209 -44 \nQ 966 3 703 97 \nz\nM 1959 2075 \nQ 2384 2075 2632 2365 \nQ 2881 2656 2881 3163 \nQ 2881 3666 2632 3958 \nQ 2384 4250 1959 4250 \nQ 1534 4250 1286 3958 \nQ 1038 3666 1038 3163 \nQ 1038 2656 1286 2365 \nQ 1534 2075 1959 2075 \nz\n\" transform=\"scale(0.015625)\"/>\n       </defs>\n       <use xlink:href=\"#DejaVuSans-30\"/>\n       <use xlink:href=\"#DejaVuSans-2e\" transform=\"translate(63.623047 0)\"/>\n       <use xlink:href=\"#DejaVuSans-39\" transform=\"translate(95.410156 0)\"/>\n      </g>\n     </g>\n    </g>\n    <g id=\"ytick_6\">\n     <g id=\"line2d_29\">\n      <path d=\"M 30.103125 35.496134 \nL 420.703125 35.496134 \n\" clip-path=\"url(#pf24b37c7b6)\" style=\"fill: none; stroke: #b0b0b0; stroke-width: 0.8; stroke-linecap: square\"/>\n     </g>\n     <g id=\"line2d_30\">\n      <g>\n       <use xlink:href=\"#m5b5690a079\" x=\"30.103125\" y=\"35.496134\" style=\"stroke: #000000; stroke-width: 0.8\"/>\n      </g>\n     </g>\n     <g id=\"text_16\">\n      <!-- 1.0 -->\n      <g transform=\"translate(7.2 39.295353) scale(0.1 -0.1)\">\n       <use xlink:href=\"#DejaVuSans-31\"/>\n       <use xlink:href=\"#DejaVuSans-2e\" transform=\"translate(63.623047 0)\"/>\n       <use xlink:href=\"#DejaVuSans-30\" transform=\"translate(95.410156 0)\"/>\n      </g>\n     </g>\n    </g>\n   </g>\n   <g id=\"line2d_31\">\n    <path d=\"M -1 71.881272 \nL 10.573125 78.868671 \nL 30.103125 86.054275 \nL 49.633125 131.191701 \nL 69.163125 135.863148 \nL 88.693125 137.515898 \nL 108.223125 142.38811 \nL 127.753125 145.318271 \nL 147.283125 175.322093 \nL 166.813125 180.52884 \nL 186.343125 182.370308 \nL 205.873125 187.971784 \nL 225.403125 192.632985 \nL 244.933125 227.545032 \nL 264.463125 230.347068 \nL 283.993125 232.920346 \nL 303.523125 236.953816 \nL 323.053125 240.990964 \nL 342.583125 270.018411 \nL 362.113125 269.151824 \nL 381.643125 268.247582 \nL 401.173125 269.697163 \nL 420.703125 271.8 \n\" clip-path=\"url(#pf24b37c7b6)\" style=\"fill: none; stroke: #1f77b4; stroke-width: 1.5; stroke-linecap: square\"/>\n   </g>\n   <g id=\"line2d_32\">\n    <path d=\"M -1 224.936318 \nL 10.573125 222.443747 \nL 30.103125 219.70903 \nL 49.633125 201.839204 \nL 69.163125 200.558483 \nL 88.693125 200.935166 \nL 108.223125 198.411392 \nL 127.753125 197.138204 \nL 147.283125 185.41584 \nL 166.813125 183.607763 \nL 186.343125 183.00507 \nL 205.873125 180.104614 \nL 225.403125 177.430167 \nL 244.933125 159.198725 \nL 264.463125 157.239975 \nL 283.993125 155.431898 \nL 303.523125 152.945793 \nL 323.053125 151.333591 \nL 342.583125 136.748438 \nL 362.113125 136.145745 \nL 381.643125 136.899111 \nL 401.173125 136.183414 \nL 420.703125 135.121169 \n\" clip-path=\"url(#pf24b37c7b6)\" style=\"fill: none; stroke-dasharray: 5.55,2.4; stroke-dashoffset: 0; stroke: #bf00bf; stroke-width: 1.5\"/>\n   </g>\n   <g id=\"line2d_33\">\n    <path d=\"M 30.103125 128.692381 \nL 127.753125 136.9099 \nL 225.403125 115.882797 \nL 323.053125 105.286717 \nL 420.703125 95.106869 \n\" clip-path=\"url(#pf24b37c7b6)\" style=\"fill: none; stroke-dasharray: 9.6,2.4,1.5,2.4; stroke-dashoffset: 0; stroke: #008000; stroke-width: 1.5\"/>\n   </g>\n   <g id=\"line2d_34\">\n    <path d=\"M 30.103125 204.732127 \nL 127.753125 202.080281 \nL 225.403125 202.080281 \nL 323.053125 206.419666 \nL 420.703125 205.937512 \n\" clip-path=\"url(#pf24b37c7b6)\" style=\"fill: none; stroke-dasharray: 1.5,2.475; stroke-dashoffset: 0; stroke: #ff0000; stroke-width: 1.5\"/>\n   </g>\n   <g id=\"patch_3\">\n    <path d=\"M 30.103125 284.4 \nL 30.103125 7.2 \n\" style=\"fill: none; stroke: #000000; stroke-width: 0.8; stroke-linejoin: miter; stroke-linecap: square\"/>\n   </g>\n   <g id=\"patch_4\">\n    <path d=\"M 420.703125 284.4 \nL 420.703125 7.2 \n\" style=\"fill: none; stroke: #000000; stroke-width: 0.8; stroke-linejoin: miter; stroke-linecap: square\"/>\n   </g>\n   <g id=\"patch_5\">\n    <path d=\"M 30.103125 284.4 \nL 420.703125 284.4 \n\" style=\"fill: none; stroke: #000000; stroke-width: 0.8; stroke-linejoin: miter; stroke-linecap: square\"/>\n   </g>\n   <g id=\"patch_6\">\n    <path d=\"M 30.103125 7.2 \nL 420.703125 7.2 \n\" style=\"fill: none; stroke: #000000; stroke-width: 0.8; stroke-linejoin: miter; stroke-linecap: square\"/>\n   </g>\n   <g id=\"legend_1\">\n    <g id=\"patch_7\">\n     <path d=\"M 335.257812 73.9125 \nL 413.703125 73.9125 \nQ 415.703125 73.9125 415.703125 71.9125 \nL 415.703125 14.2 \nQ 415.703125 12.2 413.703125 12.2 \nL 335.257812 12.2 \nQ 333.257812 12.2 333.257812 14.2 \nL 333.257812 71.9125 \nQ 333.257812 73.9125 335.257812 73.9125 \nz\n\" style=\"fill: #ffffff; opacity: 0.8; stroke: #cccccc; stroke-linejoin: miter\"/>\n    </g>\n    <g id=\"line2d_35\">\n     <path d=\"M 337.257812 20.298437 \nL 347.257812 20.298437 \nL 357.257812 20.298437 \n\" style=\"fill: none; stroke: #1f77b4; stroke-width: 1.5; stroke-linecap: square\"/>\n    </g>\n    <g id=\"text_17\">\n     <!-- train loss -->\n     <g transform=\"translate(365.257812 23.798437) scale(0.1 -0.1)\">\n      <defs>\n       <path id=\"DejaVuSans-74\" d=\"M 1172 4494 \nL 1172 3500 \nL 2356 3500 \nL 2356 3053 \nL 1172 3053 \nL 1172 1153 \nQ 1172 725 1289 603 \nQ 1406 481 1766 481 \nL 2356 481 \nL 2356 0 \nL 1766 0 \nQ 1100 0 847 248 \nQ 594 497 594 1153 \nL 594 3053 \nL 172 3053 \nL 172 3500 \nL 594 3500 \nL 594 4494 \nL 1172 4494 \nz\n\" transform=\"scale(0.015625)\"/>\n       <path id=\"DejaVuSans-72\" d=\"M 2631 2963 \nQ 2534 3019 2420 3045 \nQ 2306 3072 2169 3072 \nQ 1681 3072 1420 2755 \nQ 1159 2438 1159 1844 \nL 1159 0 \nL 581 0 \nL 581 3500 \nL 1159 3500 \nL 1159 2956 \nQ 1341 3275 1631 3429 \nQ 1922 3584 2338 3584 \nQ 2397 3584 2469 3576 \nQ 2541 3569 2628 3553 \nL 2631 2963 \nz\n\" transform=\"scale(0.015625)\"/>\n       <path id=\"DejaVuSans-61\" d=\"M 2194 1759 \nQ 1497 1759 1228 1600 \nQ 959 1441 959 1056 \nQ 959 750 1161 570 \nQ 1363 391 1709 391 \nQ 2188 391 2477 730 \nQ 2766 1069 2766 1631 \nL 2766 1759 \nL 2194 1759 \nz\nM 3341 1997 \nL 3341 0 \nL 2766 0 \nL 2766 531 \nQ 2569 213 2275 61 \nQ 1981 -91 1556 -91 \nQ 1019 -91 701 211 \nQ 384 513 384 1019 \nQ 384 1609 779 1909 \nQ 1175 2209 1959 2209 \nL 2766 2209 \nL 2766 2266 \nQ 2766 2663 2505 2880 \nQ 2244 3097 1772 3097 \nQ 1472 3097 1187 3025 \nQ 903 2953 641 2809 \nL 641 3341 \nQ 956 3463 1253 3523 \nQ 1550 3584 1831 3584 \nQ 2591 3584 2966 3190 \nQ 3341 2797 3341 1997 \nz\n\" transform=\"scale(0.015625)\"/>\n       <path id=\"DejaVuSans-69\" d=\"M 603 3500 \nL 1178 3500 \nL 1178 0 \nL 603 0 \nL 603 3500 \nz\nM 603 4863 \nL 1178 4863 \nL 1178 4134 \nL 603 4134 \nL 603 4863 \nz\n\" transform=\"scale(0.015625)\"/>\n       <path id=\"DejaVuSans-6e\" d=\"M 3513 2113 \nL 3513 0 \nL 2938 0 \nL 2938 2094 \nQ 2938 2591 2744 2837 \nQ 2550 3084 2163 3084 \nQ 1697 3084 1428 2787 \nQ 1159 2491 1159 1978 \nL 1159 0 \nL 581 0 \nL 581 3500 \nL 1159 3500 \nL 1159 2956 \nQ 1366 3272 1645 3428 \nQ 1925 3584 2291 3584 \nQ 2894 3584 3203 3211 \nQ 3513 2838 3513 2113 \nz\n\" transform=\"scale(0.015625)\"/>\n       <path id=\"DejaVuSans-20\" transform=\"scale(0.015625)\"/>\n       <path id=\"DejaVuSans-6c\" d=\"M 603 4863 \nL 1178 4863 \nL 1178 0 \nL 603 0 \nL 603 4863 \nz\n\" transform=\"scale(0.015625)\"/>\n       <path id=\"DejaVuSans-73\" d=\"M 2834 3397 \nL 2834 2853 \nQ 2591 2978 2328 3040 \nQ 2066 3103 1784 3103 \nQ 1356 3103 1142 2972 \nQ 928 2841 928 2578 \nQ 928 2378 1081 2264 \nQ 1234 2150 1697 2047 \nL 1894 2003 \nQ 2506 1872 2764 1633 \nQ 3022 1394 3022 966 \nQ 3022 478 2636 193 \nQ 2250 -91 1575 -91 \nQ 1294 -91 989 -36 \nQ 684 19 347 128 \nL 347 722 \nQ 666 556 975 473 \nQ 1284 391 1588 391 \nQ 1994 391 2212 530 \nQ 2431 669 2431 922 \nQ 2431 1156 2273 1281 \nQ 2116 1406 1581 1522 \nL 1381 1569 \nQ 847 1681 609 1914 \nQ 372 2147 372 2553 \nQ 372 3047 722 3315 \nQ 1072 3584 1716 3584 \nQ 2034 3584 2315 3537 \nQ 2597 3491 2834 3397 \nz\n\" transform=\"scale(0.015625)\"/>\n      </defs>\n      <use xlink:href=\"#DejaVuSans-74\"/>\n      <use xlink:href=\"#DejaVuSans-72\" transform=\"translate(39.208984 0)\"/>\n      <use xlink:href=\"#DejaVuSans-61\" transform=\"translate(80.322266 0)\"/>\n      <use xlink:href=\"#DejaVuSans-69\" transform=\"translate(141.601562 0)\"/>\n      <use xlink:href=\"#DejaVuSans-6e\" transform=\"translate(169.384766 0)\"/>\n      <use xlink:href=\"#DejaVuSans-20\" transform=\"translate(232.763672 0)\"/>\n      <use xlink:href=\"#DejaVuSans-6c\" transform=\"translate(264.550781 0)\"/>\n      <use xlink:href=\"#DejaVuSans-6f\" transform=\"translate(292.333984 0)\"/>\n      <use xlink:href=\"#DejaVuSans-73\" transform=\"translate(353.515625 0)\"/>\n      <use xlink:href=\"#DejaVuSans-73\" transform=\"translate(405.615234 0)\"/>\n     </g>\n    </g>\n    <g id=\"line2d_36\">\n     <path d=\"M 337.257812 34.976562 \nL 347.257812 34.976562 \nL 357.257812 34.976562 \n\" style=\"fill: none; stroke-dasharray: 5.55,2.4; stroke-dashoffset: 0; stroke: #bf00bf; stroke-width: 1.5\"/>\n    </g>\n    <g id=\"text_18\">\n     <!-- train acc -->\n     <g transform=\"translate(365.257812 38.476562) scale(0.1 -0.1)\">\n      <use xlink:href=\"#DejaVuSans-74\"/>\n      <use xlink:href=\"#DejaVuSans-72\" transform=\"translate(39.208984 0)\"/>\n      <use xlink:href=\"#DejaVuSans-61\" transform=\"translate(80.322266 0)\"/>\n      <use xlink:href=\"#DejaVuSans-69\" transform=\"translate(141.601562 0)\"/>\n      <use xlink:href=\"#DejaVuSans-6e\" transform=\"translate(169.384766 0)\"/>\n      <use xlink:href=\"#DejaVuSans-20\" transform=\"translate(232.763672 0)\"/>\n      <use xlink:href=\"#DejaVuSans-61\" transform=\"translate(264.550781 0)\"/>\n      <use xlink:href=\"#DejaVuSans-63\" transform=\"translate(325.830078 0)\"/>\n      <use xlink:href=\"#DejaVuSans-63\" transform=\"translate(380.810547 0)\"/>\n     </g>\n    </g>\n    <g id=\"line2d_37\">\n     <path d=\"M 337.257812 49.654687 \nL 347.257812 49.654687 \nL 357.257812 49.654687 \n\" style=\"fill: none; stroke-dasharray: 9.6,2.4,1.5,2.4; stroke-dashoffset: 0; stroke: #008000; stroke-width: 1.5\"/>\n    </g>\n    <g id=\"text_19\">\n     <!-- valid loss -->\n     <g transform=\"translate(365.257812 53.154687) scale(0.1 -0.1)\">\n      <defs>\n       <path id=\"DejaVuSans-76\" d=\"M 191 3500 \nL 800 3500 \nL 1894 563 \nL 2988 3500 \nL 3597 3500 \nL 2284 0 \nL 1503 0 \nL 191 3500 \nz\n\" transform=\"scale(0.015625)\"/>\n       <path id=\"DejaVuSans-64\" d=\"M 2906 2969 \nL 2906 4863 \nL 3481 4863 \nL 3481 0 \nL 2906 0 \nL 2906 525 \nQ 2725 213 2448 61 \nQ 2172 -91 1784 -91 \nQ 1150 -91 751 415 \nQ 353 922 353 1747 \nQ 353 2572 751 3078 \nQ 1150 3584 1784 3584 \nQ 2172 3584 2448 3432 \nQ 2725 3281 2906 2969 \nz\nM 947 1747 \nQ 947 1113 1208 752 \nQ 1469 391 1925 391 \nQ 2381 391 2643 752 \nQ 2906 1113 2906 1747 \nQ 2906 2381 2643 2742 \nQ 2381 3103 1925 3103 \nQ 1469 3103 1208 2742 \nQ 947 2381 947 1747 \nz\n\" transform=\"scale(0.015625)\"/>\n      </defs>\n      <use xlink:href=\"#DejaVuSans-76\"/>\n      <use xlink:href=\"#DejaVuSans-61\" transform=\"translate(59.179688 0)\"/>\n      <use xlink:href=\"#DejaVuSans-6c\" transform=\"translate(120.458984 0)\"/>\n      <use xlink:href=\"#DejaVuSans-69\" transform=\"translate(148.242188 0)\"/>\n      <use xlink:href=\"#DejaVuSans-64\" transform=\"translate(176.025391 0)\"/>\n      <use xlink:href=\"#DejaVuSans-20\" transform=\"translate(239.501953 0)\"/>\n      <use xlink:href=\"#DejaVuSans-6c\" transform=\"translate(271.289062 0)\"/>\n      <use xlink:href=\"#DejaVuSans-6f\" transform=\"translate(299.072266 0)\"/>\n      <use xlink:href=\"#DejaVuSans-73\" transform=\"translate(360.253906 0)\"/>\n      <use xlink:href=\"#DejaVuSans-73\" transform=\"translate(412.353516 0)\"/>\n     </g>\n    </g>\n    <g id=\"line2d_38\">\n     <path d=\"M 337.257812 64.332812 \nL 347.257812 64.332812 \nL 357.257812 64.332812 \n\" style=\"fill: none; stroke-dasharray: 1.5,2.475; stroke-dashoffset: 0; stroke: #ff0000; stroke-width: 1.5\"/>\n    </g>\n    <g id=\"text_20\">\n     <!-- valid acc -->\n     <g transform=\"translate(365.257812 67.832812) scale(0.1 -0.1)\">\n      <use xlink:href=\"#DejaVuSans-76\"/>\n      <use xlink:href=\"#DejaVuSans-61\" transform=\"translate(59.179688 0)\"/>\n      <use xlink:href=\"#DejaVuSans-6c\" transform=\"translate(120.458984 0)\"/>\n      <use xlink:href=\"#DejaVuSans-69\" transform=\"translate(148.242188 0)\"/>\n      <use xlink:href=\"#DejaVuSans-64\" transform=\"translate(176.025391 0)\"/>\n      <use xlink:href=\"#DejaVuSans-20\" transform=\"translate(239.501953 0)\"/>\n      <use xlink:href=\"#DejaVuSans-61\" transform=\"translate(271.289062 0)\"/>\n      <use xlink:href=\"#DejaVuSans-63\" transform=\"translate(332.568359 0)\"/>\n      <use xlink:href=\"#DejaVuSans-63\" transform=\"translate(387.548828 0)\"/>\n     </g>\n    </g>\n   </g>\n  </g>\n </g>\n <defs>\n  <clipPath id=\"pf24b37c7b6\">\n   <rect x=\"30.103125\" y=\"7.2\" width=\"390.6\" height=\"277.2\"/>\n  </clipPath>\n </defs>\n</svg>\n"
          },
          "metadata": {}
        }
      ]
    },
    {
      "cell_type": "code",
      "source": [
        "test(net,test_iter,None,device = devices[0])\n",
        "test_on_checkpoint(net, args.pt_path, test_iter, None, device=devices[0])"
      ],
      "metadata": {
        "colab": {
          "base_uri": "https://localhost:8080/"
        },
        "id": "m6j7s3WMnlAK",
        "outputId": "cff327d8-8fb6-4314-92cf-79b159624cef"
      },
      "execution_count": null,
      "outputs": [
        {
          "output_type": "stream",
          "name": "stderr",
          "text": [
            "32it [00:01, 16.55it/s]\n"
          ]
        },
        {
          "output_type": "stream",
          "name": "stdout",
          "text": [
            "test on final epoch -- acc: 66.70, f1-macro: 44.63\n",
            "test on /content/drive/MyDrive/CS5242/ckpt/DualTowerBGE-epoch1-val_acc0.65.pt -- acc: 66.70, f1-macro: 44.63\n"
          ]
        }
      ]
    },
    {
      "cell_type": "markdown",
      "source": [
        "### 4.3 Knowledge Distillation"
      ],
      "metadata": {
        "id": "Ndy_hwmjkX06"
      }
    },
    {
      "cell_type": "code",
      "source": [
        "student_model_name = \"BAAI/bge-small-zh-v1.5\"\n",
        "student_cache_dir = \"/content/drive/MyDrive/CS5242/bge-small-zh-v1.5\"\n",
        "\n",
        "teacher_model_name = \"BAAI/bge-base-zh-v1.5\"\n",
        "teacher_cache_dir = \"/content/drive/MyDrive/CS5242/bge-base-zh-v1.5\"\n",
        "\n",
        "data_dir = \"/content/drive/MyDrive/CS5242/\"\n",
        "test_data_name = \"test_public.json\"\n",
        "train_data_name = \"train.json\"\n",
        "\n",
        "task_name = \"NDDualTowerBGE\"\n",
        "devices = [torch.device(\"cuda\" if torch.cuda.is_available() else \"cpu\")]\n",
        "\n",
        "args = Args()\n",
        "args.lr = 3e-5\n",
        "args.num_epochs=5\n",
        "args.batch_size=64\n",
        "args.monitor = 'accuracy'\n",
        "\n",
        "models = os.listdir(\"/content/drive/MyDrive/CS5242/ckpt/\")\n",
        "for model in models:\n",
        "  if \"SingleTowerBGE\" in model:\n",
        "    teacher_ckpt_path = os.path.join(\"/content/drive/MyDrive/CS5242/ckpt/\",model)\n",
        "    break"
      ],
      "metadata": {
        "id": "rWaveqMLmGrP"
      },
      "execution_count": null,
      "outputs": []
    },
    {
      "cell_type": "code",
      "source": [
        "teacher_net = SingleTowerBGE(teacher_model_name, teacher_cache_dir, args.num_class)\n",
        "teacher_net.load_state_dict(torch.load(teacher_ckpt_path))\n",
        "teacher_net.to(devices[0])\n",
        "teacher_net.eval()\n",
        "for param in teacher_net.parameters():\n",
        "    param.requires_grad_(False)\n",
        "\n",
        "student_net = DualTowerBGE(student_model_name, student_cache_dir, args.num_class)\n",
        "student_net.to(devices[0])\n",
        "\n",
        "train_processor = BGEProcessor(data_dir,train_data_name)\n",
        "train_examples = train_processor.get_examples()[:18000]\n",
        "test_processor = BGEProcessor(data_dir,test_data_name)\n",
        "test_examples = test_processor.get_examples()[:2000]\n",
        "train_examples, dev_examples = train_test_split(train_examples, test_size=1/9, random_state=42)\n",
        "\n",
        "student_train_data = DualTowerBGEDataset(student_model_name, student_cache_dir,train_examples)\n",
        "student_dev_data = DualTowerBGEDataset(student_model_name, student_cache_dir,dev_examples)\n",
        "student_test_data = DualTowerBGEDataset(student_model_name, student_cache_dir,test_examples)\n",
        "\n",
        "teacher_train_data = SingleTowerBGEDataset(teacher_model_name, teacher_cache_dir, train_examples)\n",
        "\n",
        "student_train_iter = DataLoader(dataset=student_train_data,\n",
        "                        batch_size = args.batch_size,\n",
        "                        collate_fn = build_dual_bge_collate_fn(\n",
        "                                        AutoTokenizer.from_pretrained(\n",
        "                                        model_name,\n",
        "                                        cache_dir = cache_dir)),\n",
        "                        shuffle=False)\n",
        "student_dev_iter = DataLoader(dataset=student_dev_data,\n",
        "                        batch_size = args.batch_size,\n",
        "                        collate_fn = build_dual_bge_collate_fn(\n",
        "                                        AutoTokenizer.from_pretrained(\n",
        "                                        model_name,\n",
        "                                        cache_dir = cache_dir)),\n",
        "                        shuffle=False)\n",
        "student_test_iter = DataLoader(dataset=student_test_data,\n",
        "                       batch_size=args.batch_size,\n",
        "                       collate_fn = build_dual_bge_collate_fn(\n",
        "                                        AutoTokenizer.from_pretrained(\n",
        "                                        model_name,\n",
        "                                        cache_dir = cache_dir)),\n",
        "                       shuffle=False)\n",
        "teacher_train_iter = DataLoader(dataset=teacher_train_data,\n",
        "                       batch_size=args.batch_size,\n",
        "                       collate_fn = build_bge_collate_fn(\n",
        "                                        AutoTokenizer.from_pretrained(\n",
        "                                        model_name,\n",
        "                                        cache_dir = cache_dir)),\n",
        "                       shuffle=False)"
      ],
      "metadata": {
        "colab": {
          "base_uri": "https://localhost:8080/"
        },
        "id": "aIaUIaafikfc",
        "outputId": "b6041af1-3f6d-46d7-c117-820b4d2801f6"
      },
      "execution_count": null,
      "outputs": [
        {
          "output_type": "stream",
          "name": "stderr",
          "text": [
            "Converting data: 100%|██████████| 16000/16000 [00:07<00:00, 2191.57it/s]\n",
            "Converting data: 100%|██████████| 2000/2000 [00:01<00:00, 1716.62it/s]\n",
            "Converting data: 100%|██████████| 2000/2000 [00:01<00:00, 1664.82it/s]\n"
          ]
        },
        {
          "output_type": "stream",
          "name": "stdout",
          "text": [
            "16000\n"
          ]
        },
        {
          "output_type": "stream",
          "name": "stderr",
          "text": [
            "16000it [00:04, 3299.78it/s]\n"
          ]
        }
      ]
    },
    {
      "cell_type": "code",
      "source": [
        "def distillation_loss(student_logits, teacher_logits, labels, T=2.0, alpha=0.5):\n",
        "    soft_loss = nn.KLDivLoss(reduction='batchmean')(\n",
        "        F.log_softmax(student_logits / T, dim=1),\n",
        "        F.softmax(teacher_logits / T, dim=1)\n",
        "    ) * (T * T)\n",
        "    hard_loss = F.cross_entropy(student_logits, labels)\n",
        "    return alpha * soft_loss + (1 - alpha) * hard_loss\n",
        "\n",
        "def train_ND_batch(teacher_net, teacher_batch, student_net, student_batch, loss_fn, trainer, devices):\n",
        "    teacher_net.eval()\n",
        "    student_net.train()\n",
        "\n",
        "    teacher_batch = {k: v.to(devices[0]) for k, v in teacher_batch.items()}\n",
        "    student_batch = {k: v.to(devices[0]) for k, v in student_batch.items()}\n",
        "    labels = student_batch['label']\n",
        "\n",
        "    with torch.no_grad():\n",
        "        teacher_logits = teacher_net(**teacher_batch)\n",
        "\n",
        "    student_logits = student_net(**student_batch)\n",
        "\n",
        "    loss = loss_fn(student_logits, teacher_logits, labels)\n",
        "    trainer.zero_grad()\n",
        "    loss.backward()\n",
        "    trainer.step()\n",
        "    args.learning_rates.append(trainer.param_groups[0][\"lr\"])\n",
        "\n",
        "    return loss.item() * labels.shape[0], accuracy(student_logits, labels)\n",
        "\n",
        "def train_ND(teacher_net,\n",
        "             student_net,\n",
        "             teacher_train_iter,\n",
        "             student_train_iter,\n",
        "             valid_iter,\n",
        "             num_epochs,\n",
        "             optimizer,\n",
        "             lr,\n",
        "             wd,\n",
        "             num_warmup_steps,\n",
        "             devices,\n",
        "             task_name):\n",
        "    if optimizer == 'sgd':\n",
        "        trainer = torch.optim.SGD(student_net.parameters(), lr=lr, momentum=0.9, weight_decay=wd)\n",
        "    elif optimizer == 'adam':\n",
        "        trainer = torch.optim.Adam(student_net.parameters(), lr=lr, weight_decay=wd)\n",
        "    elif optimizer == 'adamw':\n",
        "        trainer = torch.optim.AdamW(student_net.parameters(), lr=lr, weight_decay=wd)\n",
        "\n",
        "    model_name = str(net.__class__.__name__)\n",
        "    scheduler = get_cosine_schedule_with_warmup(trainer, num_warmup_steps=num_warmup_steps, num_training_steps=num_epochs*len(student_train_iter))\n",
        "\n",
        "    loss = nn.CrossEntropyLoss(reduction=\"none\")\n",
        "    timer = Timer()\n",
        "    num_batches = len(train_iter)\n",
        "    legend = ['train loss', 'train acc']\n",
        "    if valid_iter is not None:\n",
        "        legend += ['valid loss', 'valid acc']\n",
        "    animator = Animator(xlabel='epoch', xlim=[1, num_epochs], legend=legend, figsize=(7, 5))\n",
        "\n",
        "    if args.monitor == 'loss':\n",
        "        monitor_val = math.inf\n",
        "    else:\n",
        "        monitor_val = -math.inf\n",
        "    for epoch in range(num_epochs):\n",
        "        net.train()\n",
        "        metric = Accumulator(4)\n",
        "        for i, (teacher_batch, student_batch) in enumerate(tqdm(zip(teacher_train_iter, student_train_iter))):\n",
        "            output = train_ND_batch(teacher_net,\n",
        "                                    teacher_batch,\n",
        "                                    student_net,\n",
        "                                    student_batch,\n",
        "                                    distillation_loss,\n",
        "                                    trainer,\n",
        "                                    devices)\n",
        "            timer.start()\n",
        "            labels = student_batch['label']\n",
        "            scheduler.step()\n",
        "            metric.add(output[0], output[1], labels.shape[0])\n",
        "            timer.stop()\n",
        "            if (i + 1) % (num_batches // 5) == 0 or i == num_batches - 1:\n",
        "                animator.add(epoch + (i + 1) / num_batches,\n",
        "                             (metric[0] / metric[2]  , metric[1] / metric[2], None, None))\n",
        "\n",
        "        if valid_iter is not None:\n",
        "            valid_loss, valid_acc = evaluate_loss_and_acc_gpu(student_net, valid_iter, loss, devices[0])\n",
        "            animator.add(epoch + 1, (None, None, valid_loss, valid_acc))\n",
        "            if args.monitor == 'loss':\n",
        "                if valid_loss < monitor_val:\n",
        "                    filename = task_name + f\"-epoch{epoch}-val_loss{valid_loss :.2f}.pt\"\n",
        "                    best_model_state = copy.deepcopy(student_net.state_dict())\n",
        "                    monitor_val = valid_loss\n",
        "            else:\n",
        "                if valid_acc > monitor_val:\n",
        "                    filename = task_name + f\"-epoch{epoch}-val_acc{valid_acc :.2f}.pt\"\n",
        "                    best_model_state = copy.deepcopy(student_net.state_dict())\n",
        "                    monitor_val = valid_acc\n",
        "\n",
        "\n",
        "    measures = (f'train loss {metric[0] / metric[2]:.3f}, '\n",
        "                f'train acc {metric[1] / metric[2]:.3f}')\n",
        "    if valid_iter is not None:\n",
        "        measures += f', valid loss {valid_loss:.3f}'\n",
        "        measures += f', valid acc  {valid_acc: .3f}'\n",
        "    print(measures + f'\\n{metric[2] * num_epochs / timer.sum():.1f}'\n",
        "          f' examples/sec on {str(devices)}')\n",
        "    args.pt_path = os.path.join(args.pt_path, filename)\n",
        "    torch.save(best_model_state, args.pt_path)\n",
        "    animator.save(args.img_path, filename + f\"-train_loss{metric[0] / metric[2]:.2f}.png\")"
      ],
      "metadata": {
        "id": "GvN3ReYH0uXC"
      },
      "execution_count": null,
      "outputs": []
    },
    {
      "cell_type": "code",
      "source": [
        "train_ND(\n",
        "          teacher_net,\n",
        "          student_net,\n",
        "          teacher_train_iter,\n",
        "          student_train_iter,\n",
        "          student_dev_iter,\n",
        "          args.num_epochs,\n",
        "          args.optimizer,\n",
        "          args.lr,\n",
        "          args.weight_decay,\n",
        "          args.num_warmup_steps,\n",
        "          devices,\n",
        "          task_name)"
      ],
      "metadata": {
        "colab": {
          "base_uri": "https://localhost:8080/",
          "height": 486
        },
        "id": "s9wSWvPM4UgU",
        "outputId": "af0ae85f-1be9-4c49-960b-8cebd1bc4a1f"
      },
      "execution_count": null,
      "outputs": [
        {
          "output_type": "stream",
          "name": "stdout",
          "text": [
            "train loss 0.377, train acc 0.776, valid loss 0.837, valid acc   0.657\n",
            "1451347.7 examples/sec on [device(type='cuda')]\n"
          ]
        },
        {
          "output_type": "display_data",
          "data": {
            "text/plain": [
              "<Figure size 700x500 with 1 Axes>"
            ],
            "image/svg+xml": "<?xml version=\"1.0\" encoding=\"utf-8\" standalone=\"no\"?>\n<!DOCTYPE svg PUBLIC \"-//W3C//DTD SVG 1.1//EN\"\n  \"http://www.w3.org/Graphics/SVG/1.1/DTD/svg11.dtd\">\n<svg xmlns:xlink=\"http://www.w3.org/1999/xlink\" width=\"435.854688pt\" height=\"321.95625pt\" viewBox=\"0 0 435.854688 321.95625\" xmlns=\"http://www.w3.org/2000/svg\" version=\"1.1\">\n <metadata>\n  <rdf:RDF xmlns:dc=\"http://purl.org/dc/elements/1.1/\" xmlns:cc=\"http://creativecommons.org/ns#\" xmlns:rdf=\"http://www.w3.org/1999/02/22-rdf-syntax-ns#\">\n   <cc:Work>\n    <dc:type rdf:resource=\"http://purl.org/dc/dcmitype/StillImage\"/>\n    <dc:date>2025-04-21T03:51:27.789071</dc:date>\n    <dc:format>image/svg+xml</dc:format>\n    <dc:creator>\n     <cc:Agent>\n      <dc:title>Matplotlib v3.10.0, https://matplotlib.org/</dc:title>\n     </cc:Agent>\n    </dc:creator>\n   </cc:Work>\n  </rdf:RDF>\n </metadata>\n <defs>\n  <style type=\"text/css\">*{stroke-linejoin: round; stroke-linecap: butt}</style>\n </defs>\n <g id=\"figure_1\">\n  <g id=\"patch_1\">\n   <path d=\"M 0 321.95625 \nL 435.854688 321.95625 \nL 435.854688 0 \nL 0 0 \nz\n\" style=\"fill: #ffffff\"/>\n  </g>\n  <g id=\"axes_1\">\n   <g id=\"patch_2\">\n    <path d=\"M 30.103125 284.4 \nL 420.703125 284.4 \nL 420.703125 7.2 \nL 30.103125 7.2 \nz\n\" style=\"fill: #ffffff\"/>\n   </g>\n   <g id=\"matplotlib.axis_1\">\n    <g id=\"xtick_1\">\n     <g id=\"line2d_1\">\n      <path d=\"M 30.103125 284.4 \nL 30.103125 7.2 \n\" clip-path=\"url(#p40b260ad5e)\" style=\"fill: none; stroke: #b0b0b0; stroke-width: 0.8; stroke-linecap: square\"/>\n     </g>\n     <g id=\"line2d_2\">\n      <defs>\n       <path id=\"m7a347d48ae\" d=\"M 0 0 \nL 0 3.5 \n\" style=\"stroke: #000000; stroke-width: 0.8\"/>\n      </defs>\n      <g>\n       <use xlink:href=\"#m7a347d48ae\" x=\"30.103125\" y=\"284.4\" style=\"stroke: #000000; stroke-width: 0.8\"/>\n      </g>\n     </g>\n     <g id=\"text_1\">\n      <!-- 1.0 -->\n      <g transform=\"translate(22.151563 298.998438) scale(0.1 -0.1)\">\n       <defs>\n        <path id=\"DejaVuSans-31\" d=\"M 794 531 \nL 1825 531 \nL 1825 4091 \nL 703 3866 \nL 703 4441 \nL 1819 4666 \nL 2450 4666 \nL 2450 531 \nL 3481 531 \nL 3481 0 \nL 794 0 \nL 794 531 \nz\n\" transform=\"scale(0.015625)\"/>\n        <path id=\"DejaVuSans-2e\" d=\"M 684 794 \nL 1344 794 \nL 1344 0 \nL 684 0 \nL 684 794 \nz\n\" transform=\"scale(0.015625)\"/>\n        <path id=\"DejaVuSans-30\" d=\"M 2034 4250 \nQ 1547 4250 1301 3770 \nQ 1056 3291 1056 2328 \nQ 1056 1369 1301 889 \nQ 1547 409 2034 409 \nQ 2525 409 2770 889 \nQ 3016 1369 3016 2328 \nQ 3016 3291 2770 3770 \nQ 2525 4250 2034 4250 \nz\nM 2034 4750 \nQ 2819 4750 3233 4129 \nQ 3647 3509 3647 2328 \nQ 3647 1150 3233 529 \nQ 2819 -91 2034 -91 \nQ 1250 -91 836 529 \nQ 422 1150 422 2328 \nQ 422 3509 836 4129 \nQ 1250 4750 2034 4750 \nz\n\" transform=\"scale(0.015625)\"/>\n       </defs>\n       <use xlink:href=\"#DejaVuSans-31\"/>\n       <use xlink:href=\"#DejaVuSans-2e\" transform=\"translate(63.623047 0)\"/>\n       <use xlink:href=\"#DejaVuSans-30\" transform=\"translate(95.410156 0)\"/>\n      </g>\n     </g>\n    </g>\n    <g id=\"xtick_2\">\n     <g id=\"line2d_3\">\n      <path d=\"M 78.928125 284.4 \nL 78.928125 7.2 \n\" clip-path=\"url(#p40b260ad5e)\" style=\"fill: none; stroke: #b0b0b0; stroke-width: 0.8; stroke-linecap: square\"/>\n     </g>\n     <g id=\"line2d_4\">\n      <g>\n       <use xlink:href=\"#m7a347d48ae\" x=\"78.928125\" y=\"284.4\" style=\"stroke: #000000; stroke-width: 0.8\"/>\n      </g>\n     </g>\n     <g id=\"text_2\">\n      <!-- 1.5 -->\n      <g transform=\"translate(70.976563 298.998438) scale(0.1 -0.1)\">\n       <defs>\n        <path id=\"DejaVuSans-35\" d=\"M 691 4666 \nL 3169 4666 \nL 3169 4134 \nL 1269 4134 \nL 1269 2991 \nQ 1406 3038 1543 3061 \nQ 1681 3084 1819 3084 \nQ 2600 3084 3056 2656 \nQ 3513 2228 3513 1497 \nQ 3513 744 3044 326 \nQ 2575 -91 1722 -91 \nQ 1428 -91 1123 -41 \nQ 819 9 494 109 \nL 494 744 \nQ 775 591 1075 516 \nQ 1375 441 1709 441 \nQ 2250 441 2565 725 \nQ 2881 1009 2881 1497 \nQ 2881 1984 2565 2268 \nQ 2250 2553 1709 2553 \nQ 1456 2553 1204 2497 \nQ 953 2441 691 2322 \nL 691 4666 \nz\n\" transform=\"scale(0.015625)\"/>\n       </defs>\n       <use xlink:href=\"#DejaVuSans-31\"/>\n       <use xlink:href=\"#DejaVuSans-2e\" transform=\"translate(63.623047 0)\"/>\n       <use xlink:href=\"#DejaVuSans-35\" transform=\"translate(95.410156 0)\"/>\n      </g>\n     </g>\n    </g>\n    <g id=\"xtick_3\">\n     <g id=\"line2d_5\">\n      <path d=\"M 127.753125 284.4 \nL 127.753125 7.2 \n\" clip-path=\"url(#p40b260ad5e)\" style=\"fill: none; stroke: #b0b0b0; stroke-width: 0.8; stroke-linecap: square\"/>\n     </g>\n     <g id=\"line2d_6\">\n      <g>\n       <use xlink:href=\"#m7a347d48ae\" x=\"127.753125\" y=\"284.4\" style=\"stroke: #000000; stroke-width: 0.8\"/>\n      </g>\n     </g>\n     <g id=\"text_3\">\n      <!-- 2.0 -->\n      <g transform=\"translate(119.801563 298.998438) scale(0.1 -0.1)\">\n       <defs>\n        <path id=\"DejaVuSans-32\" d=\"M 1228 531 \nL 3431 531 \nL 3431 0 \nL 469 0 \nL 469 531 \nQ 828 903 1448 1529 \nQ 2069 2156 2228 2338 \nQ 2531 2678 2651 2914 \nQ 2772 3150 2772 3378 \nQ 2772 3750 2511 3984 \nQ 2250 4219 1831 4219 \nQ 1534 4219 1204 4116 \nQ 875 4013 500 3803 \nL 500 4441 \nQ 881 4594 1212 4672 \nQ 1544 4750 1819 4750 \nQ 2544 4750 2975 4387 \nQ 3406 4025 3406 3419 \nQ 3406 3131 3298 2873 \nQ 3191 2616 2906 2266 \nQ 2828 2175 2409 1742 \nQ 1991 1309 1228 531 \nz\n\" transform=\"scale(0.015625)\"/>\n       </defs>\n       <use xlink:href=\"#DejaVuSans-32\"/>\n       <use xlink:href=\"#DejaVuSans-2e\" transform=\"translate(63.623047 0)\"/>\n       <use xlink:href=\"#DejaVuSans-30\" transform=\"translate(95.410156 0)\"/>\n      </g>\n     </g>\n    </g>\n    <g id=\"xtick_4\">\n     <g id=\"line2d_7\">\n      <path d=\"M 176.578125 284.4 \nL 176.578125 7.2 \n\" clip-path=\"url(#p40b260ad5e)\" style=\"fill: none; stroke: #b0b0b0; stroke-width: 0.8; stroke-linecap: square\"/>\n     </g>\n     <g id=\"line2d_8\">\n      <g>\n       <use xlink:href=\"#m7a347d48ae\" x=\"176.578125\" y=\"284.4\" style=\"stroke: #000000; stroke-width: 0.8\"/>\n      </g>\n     </g>\n     <g id=\"text_4\">\n      <!-- 2.5 -->\n      <g transform=\"translate(168.626563 298.998438) scale(0.1 -0.1)\">\n       <use xlink:href=\"#DejaVuSans-32\"/>\n       <use xlink:href=\"#DejaVuSans-2e\" transform=\"translate(63.623047 0)\"/>\n       <use xlink:href=\"#DejaVuSans-35\" transform=\"translate(95.410156 0)\"/>\n      </g>\n     </g>\n    </g>\n    <g id=\"xtick_5\">\n     <g id=\"line2d_9\">\n      <path d=\"M 225.403125 284.4 \nL 225.403125 7.2 \n\" clip-path=\"url(#p40b260ad5e)\" style=\"fill: none; stroke: #b0b0b0; stroke-width: 0.8; stroke-linecap: square\"/>\n     </g>\n     <g id=\"line2d_10\">\n      <g>\n       <use xlink:href=\"#m7a347d48ae\" x=\"225.403125\" y=\"284.4\" style=\"stroke: #000000; stroke-width: 0.8\"/>\n      </g>\n     </g>\n     <g id=\"text_5\">\n      <!-- 3.0 -->\n      <g transform=\"translate(217.451563 298.998438) scale(0.1 -0.1)\">\n       <defs>\n        <path id=\"DejaVuSans-33\" d=\"M 2597 2516 \nQ 3050 2419 3304 2112 \nQ 3559 1806 3559 1356 \nQ 3559 666 3084 287 \nQ 2609 -91 1734 -91 \nQ 1441 -91 1130 -33 \nQ 819 25 488 141 \nL 488 750 \nQ 750 597 1062 519 \nQ 1375 441 1716 441 \nQ 2309 441 2620 675 \nQ 2931 909 2931 1356 \nQ 2931 1769 2642 2001 \nQ 2353 2234 1838 2234 \nL 1294 2234 \nL 1294 2753 \nL 1863 2753 \nQ 2328 2753 2575 2939 \nQ 2822 3125 2822 3475 \nQ 2822 3834 2567 4026 \nQ 2313 4219 1838 4219 \nQ 1578 4219 1281 4162 \nQ 984 4106 628 3988 \nL 628 4550 \nQ 988 4650 1302 4700 \nQ 1616 4750 1894 4750 \nQ 2613 4750 3031 4423 \nQ 3450 4097 3450 3541 \nQ 3450 3153 3228 2886 \nQ 3006 2619 2597 2516 \nz\n\" transform=\"scale(0.015625)\"/>\n       </defs>\n       <use xlink:href=\"#DejaVuSans-33\"/>\n       <use xlink:href=\"#DejaVuSans-2e\" transform=\"translate(63.623047 0)\"/>\n       <use xlink:href=\"#DejaVuSans-30\" transform=\"translate(95.410156 0)\"/>\n      </g>\n     </g>\n    </g>\n    <g id=\"xtick_6\">\n     <g id=\"line2d_11\">\n      <path d=\"M 274.228125 284.4 \nL 274.228125 7.2 \n\" clip-path=\"url(#p40b260ad5e)\" style=\"fill: none; stroke: #b0b0b0; stroke-width: 0.8; stroke-linecap: square\"/>\n     </g>\n     <g id=\"line2d_12\">\n      <g>\n       <use xlink:href=\"#m7a347d48ae\" x=\"274.228125\" y=\"284.4\" style=\"stroke: #000000; stroke-width: 0.8\"/>\n      </g>\n     </g>\n     <g id=\"text_6\">\n      <!-- 3.5 -->\n      <g transform=\"translate(266.276563 298.998438) scale(0.1 -0.1)\">\n       <use xlink:href=\"#DejaVuSans-33\"/>\n       <use xlink:href=\"#DejaVuSans-2e\" transform=\"translate(63.623047 0)\"/>\n       <use xlink:href=\"#DejaVuSans-35\" transform=\"translate(95.410156 0)\"/>\n      </g>\n     </g>\n    </g>\n    <g id=\"xtick_7\">\n     <g id=\"line2d_13\">\n      <path d=\"M 323.053125 284.4 \nL 323.053125 7.2 \n\" clip-path=\"url(#p40b260ad5e)\" style=\"fill: none; stroke: #b0b0b0; stroke-width: 0.8; stroke-linecap: square\"/>\n     </g>\n     <g id=\"line2d_14\">\n      <g>\n       <use xlink:href=\"#m7a347d48ae\" x=\"323.053125\" y=\"284.4\" style=\"stroke: #000000; stroke-width: 0.8\"/>\n      </g>\n     </g>\n     <g id=\"text_7\">\n      <!-- 4.0 -->\n      <g transform=\"translate(315.101562 298.998438) scale(0.1 -0.1)\">\n       <defs>\n        <path id=\"DejaVuSans-34\" d=\"M 2419 4116 \nL 825 1625 \nL 2419 1625 \nL 2419 4116 \nz\nM 2253 4666 \nL 3047 4666 \nL 3047 1625 \nL 3713 1625 \nL 3713 1100 \nL 3047 1100 \nL 3047 0 \nL 2419 0 \nL 2419 1100 \nL 313 1100 \nL 313 1709 \nL 2253 4666 \nz\n\" transform=\"scale(0.015625)\"/>\n       </defs>\n       <use xlink:href=\"#DejaVuSans-34\"/>\n       <use xlink:href=\"#DejaVuSans-2e\" transform=\"translate(63.623047 0)\"/>\n       <use xlink:href=\"#DejaVuSans-30\" transform=\"translate(95.410156 0)\"/>\n      </g>\n     </g>\n    </g>\n    <g id=\"xtick_8\">\n     <g id=\"line2d_15\">\n      <path d=\"M 371.878125 284.4 \nL 371.878125 7.2 \n\" clip-path=\"url(#p40b260ad5e)\" style=\"fill: none; stroke: #b0b0b0; stroke-width: 0.8; stroke-linecap: square\"/>\n     </g>\n     <g id=\"line2d_16\">\n      <g>\n       <use xlink:href=\"#m7a347d48ae\" x=\"371.878125\" y=\"284.4\" style=\"stroke: #000000; stroke-width: 0.8\"/>\n      </g>\n     </g>\n     <g id=\"text_8\">\n      <!-- 4.5 -->\n      <g transform=\"translate(363.926562 298.998438) scale(0.1 -0.1)\">\n       <use xlink:href=\"#DejaVuSans-34\"/>\n       <use xlink:href=\"#DejaVuSans-2e\" transform=\"translate(63.623047 0)\"/>\n       <use xlink:href=\"#DejaVuSans-35\" transform=\"translate(95.410156 0)\"/>\n      </g>\n     </g>\n    </g>\n    <g id=\"xtick_9\">\n     <g id=\"line2d_17\">\n      <path d=\"M 420.703125 284.4 \nL 420.703125 7.2 \n\" clip-path=\"url(#p40b260ad5e)\" style=\"fill: none; stroke: #b0b0b0; stroke-width: 0.8; stroke-linecap: square\"/>\n     </g>\n     <g id=\"line2d_18\">\n      <g>\n       <use xlink:href=\"#m7a347d48ae\" x=\"420.703125\" y=\"284.4\" style=\"stroke: #000000; stroke-width: 0.8\"/>\n      </g>\n     </g>\n     <g id=\"text_9\">\n      <!-- 5.0 -->\n      <g transform=\"translate(412.751562 298.998438) scale(0.1 -0.1)\">\n       <use xlink:href=\"#DejaVuSans-35\"/>\n       <use xlink:href=\"#DejaVuSans-2e\" transform=\"translate(63.623047 0)\"/>\n       <use xlink:href=\"#DejaVuSans-30\" transform=\"translate(95.410156 0)\"/>\n      </g>\n     </g>\n    </g>\n    <g id=\"text_10\">\n     <!-- epoch -->\n     <g transform=\"translate(210.175 312.676562) scale(0.1 -0.1)\">\n      <defs>\n       <path id=\"DejaVuSans-65\" d=\"M 3597 1894 \nL 3597 1613 \nL 953 1613 \nQ 991 1019 1311 708 \nQ 1631 397 2203 397 \nQ 2534 397 2845 478 \nQ 3156 559 3463 722 \nL 3463 178 \nQ 3153 47 2828 -22 \nQ 2503 -91 2169 -91 \nQ 1331 -91 842 396 \nQ 353 884 353 1716 \nQ 353 2575 817 3079 \nQ 1281 3584 2069 3584 \nQ 2775 3584 3186 3129 \nQ 3597 2675 3597 1894 \nz\nM 3022 2063 \nQ 3016 2534 2758 2815 \nQ 2500 3097 2075 3097 \nQ 1594 3097 1305 2825 \nQ 1016 2553 972 2059 \nL 3022 2063 \nz\n\" transform=\"scale(0.015625)\"/>\n       <path id=\"DejaVuSans-70\" d=\"M 1159 525 \nL 1159 -1331 \nL 581 -1331 \nL 581 3500 \nL 1159 3500 \nL 1159 2969 \nQ 1341 3281 1617 3432 \nQ 1894 3584 2278 3584 \nQ 2916 3584 3314 3078 \nQ 3713 2572 3713 1747 \nQ 3713 922 3314 415 \nQ 2916 -91 2278 -91 \nQ 1894 -91 1617 61 \nQ 1341 213 1159 525 \nz\nM 3116 1747 \nQ 3116 2381 2855 2742 \nQ 2594 3103 2138 3103 \nQ 1681 3103 1420 2742 \nQ 1159 2381 1159 1747 \nQ 1159 1113 1420 752 \nQ 1681 391 2138 391 \nQ 2594 391 2855 752 \nQ 3116 1113 3116 1747 \nz\n\" transform=\"scale(0.015625)\"/>\n       <path id=\"DejaVuSans-6f\" d=\"M 1959 3097 \nQ 1497 3097 1228 2736 \nQ 959 2375 959 1747 \nQ 959 1119 1226 758 \nQ 1494 397 1959 397 \nQ 2419 397 2687 759 \nQ 2956 1122 2956 1747 \nQ 2956 2369 2687 2733 \nQ 2419 3097 1959 3097 \nz\nM 1959 3584 \nQ 2709 3584 3137 3096 \nQ 3566 2609 3566 1747 \nQ 3566 888 3137 398 \nQ 2709 -91 1959 -91 \nQ 1206 -91 779 398 \nQ 353 888 353 1747 \nQ 353 2609 779 3096 \nQ 1206 3584 1959 3584 \nz\n\" transform=\"scale(0.015625)\"/>\n       <path id=\"DejaVuSans-63\" d=\"M 3122 3366 \nL 3122 2828 \nQ 2878 2963 2633 3030 \nQ 2388 3097 2138 3097 \nQ 1578 3097 1268 2742 \nQ 959 2388 959 1747 \nQ 959 1106 1268 751 \nQ 1578 397 2138 397 \nQ 2388 397 2633 464 \nQ 2878 531 3122 666 \nL 3122 134 \nQ 2881 22 2623 -34 \nQ 2366 -91 2075 -91 \nQ 1284 -91 818 406 \nQ 353 903 353 1747 \nQ 353 2603 823 3093 \nQ 1294 3584 2113 3584 \nQ 2378 3584 2631 3529 \nQ 2884 3475 3122 3366 \nz\n\" transform=\"scale(0.015625)\"/>\n       <path id=\"DejaVuSans-68\" d=\"M 3513 2113 \nL 3513 0 \nL 2938 0 \nL 2938 2094 \nQ 2938 2591 2744 2837 \nQ 2550 3084 2163 3084 \nQ 1697 3084 1428 2787 \nQ 1159 2491 1159 1978 \nL 1159 0 \nL 581 0 \nL 581 4863 \nL 1159 4863 \nL 1159 2956 \nQ 1366 3272 1645 3428 \nQ 1925 3584 2291 3584 \nQ 2894 3584 3203 3211 \nQ 3513 2838 3513 2113 \nz\n\" transform=\"scale(0.015625)\"/>\n      </defs>\n      <use xlink:href=\"#DejaVuSans-65\"/>\n      <use xlink:href=\"#DejaVuSans-70\" transform=\"translate(61.523438 0)\"/>\n      <use xlink:href=\"#DejaVuSans-6f\" transform=\"translate(125 0)\"/>\n      <use xlink:href=\"#DejaVuSans-63\" transform=\"translate(186.181641 0)\"/>\n      <use xlink:href=\"#DejaVuSans-68\" transform=\"translate(241.162109 0)\"/>\n     </g>\n    </g>\n   </g>\n   <g id=\"matplotlib.axis_2\">\n    <g id=\"ytick_1\">\n     <g id=\"line2d_19\">\n      <path d=\"M 30.103125 262.243854 \nL 420.703125 262.243854 \n\" clip-path=\"url(#p40b260ad5e)\" style=\"fill: none; stroke: #b0b0b0; stroke-width: 0.8; stroke-linecap: square\"/>\n     </g>\n     <g id=\"line2d_20\">\n      <defs>\n       <path id=\"mc14b30bd9c\" d=\"M 0 0 \nL -3.5 0 \n\" style=\"stroke: #000000; stroke-width: 0.8\"/>\n      </defs>\n      <g>\n       <use xlink:href=\"#mc14b30bd9c\" x=\"30.103125\" y=\"262.243854\" style=\"stroke: #000000; stroke-width: 0.8\"/>\n      </g>\n     </g>\n     <g id=\"text_11\">\n      <!-- 0.4 -->\n      <g transform=\"translate(7.2 266.043073) scale(0.1 -0.1)\">\n       <use xlink:href=\"#DejaVuSans-30\"/>\n       <use xlink:href=\"#DejaVuSans-2e\" transform=\"translate(63.623047 0)\"/>\n       <use xlink:href=\"#DejaVuSans-34\" transform=\"translate(95.410156 0)\"/>\n      </g>\n     </g>\n    </g>\n    <g id=\"ytick_2\">\n     <g id=\"line2d_21\">\n      <path d=\"M 30.103125 221.128676 \nL 420.703125 221.128676 \n\" clip-path=\"url(#p40b260ad5e)\" style=\"fill: none; stroke: #b0b0b0; stroke-width: 0.8; stroke-linecap: square\"/>\n     </g>\n     <g id=\"line2d_22\">\n      <g>\n       <use xlink:href=\"#mc14b30bd9c\" x=\"30.103125\" y=\"221.128676\" style=\"stroke: #000000; stroke-width: 0.8\"/>\n      </g>\n     </g>\n     <g id=\"text_12\">\n      <!-- 0.5 -->\n      <g transform=\"translate(7.2 224.927895) scale(0.1 -0.1)\">\n       <use xlink:href=\"#DejaVuSans-30\"/>\n       <use xlink:href=\"#DejaVuSans-2e\" transform=\"translate(63.623047 0)\"/>\n       <use xlink:href=\"#DejaVuSans-35\" transform=\"translate(95.410156 0)\"/>\n      </g>\n     </g>\n    </g>\n    <g id=\"ytick_3\">\n     <g id=\"line2d_23\">\n      <path d=\"M 30.103125 180.013499 \nL 420.703125 180.013499 \n\" clip-path=\"url(#p40b260ad5e)\" style=\"fill: none; stroke: #b0b0b0; stroke-width: 0.8; stroke-linecap: square\"/>\n     </g>\n     <g id=\"line2d_24\">\n      <g>\n       <use xlink:href=\"#mc14b30bd9c\" x=\"30.103125\" y=\"180.013499\" style=\"stroke: #000000; stroke-width: 0.8\"/>\n      </g>\n     </g>\n     <g id=\"text_13\">\n      <!-- 0.6 -->\n      <g transform=\"translate(7.2 183.812717) scale(0.1 -0.1)\">\n       <defs>\n        <path id=\"DejaVuSans-36\" d=\"M 2113 2584 \nQ 1688 2584 1439 2293 \nQ 1191 2003 1191 1497 \nQ 1191 994 1439 701 \nQ 1688 409 2113 409 \nQ 2538 409 2786 701 \nQ 3034 994 3034 1497 \nQ 3034 2003 2786 2293 \nQ 2538 2584 2113 2584 \nz\nM 3366 4563 \nL 3366 3988 \nQ 3128 4100 2886 4159 \nQ 2644 4219 2406 4219 \nQ 1781 4219 1451 3797 \nQ 1122 3375 1075 2522 \nQ 1259 2794 1537 2939 \nQ 1816 3084 2150 3084 \nQ 2853 3084 3261 2657 \nQ 3669 2231 3669 1497 \nQ 3669 778 3244 343 \nQ 2819 -91 2113 -91 \nQ 1303 -91 875 529 \nQ 447 1150 447 2328 \nQ 447 3434 972 4092 \nQ 1497 4750 2381 4750 \nQ 2619 4750 2861 4703 \nQ 3103 4656 3366 4563 \nz\n\" transform=\"scale(0.015625)\"/>\n       </defs>\n       <use xlink:href=\"#DejaVuSans-30\"/>\n       <use xlink:href=\"#DejaVuSans-2e\" transform=\"translate(63.623047 0)\"/>\n       <use xlink:href=\"#DejaVuSans-36\" transform=\"translate(95.410156 0)\"/>\n      </g>\n     </g>\n    </g>\n    <g id=\"ytick_4\">\n     <g id=\"line2d_25\">\n      <path d=\"M 30.103125 138.898321 \nL 420.703125 138.898321 \n\" clip-path=\"url(#p40b260ad5e)\" style=\"fill: none; stroke: #b0b0b0; stroke-width: 0.8; stroke-linecap: square\"/>\n     </g>\n     <g id=\"line2d_26\">\n      <g>\n       <use xlink:href=\"#mc14b30bd9c\" x=\"30.103125\" y=\"138.898321\" style=\"stroke: #000000; stroke-width: 0.8\"/>\n      </g>\n     </g>\n     <g id=\"text_14\">\n      <!-- 0.7 -->\n      <g transform=\"translate(7.2 142.69754) scale(0.1 -0.1)\">\n       <defs>\n        <path id=\"DejaVuSans-37\" d=\"M 525 4666 \nL 3525 4666 \nL 3525 4397 \nL 1831 0 \nL 1172 0 \nL 2766 4134 \nL 525 4134 \nL 525 4666 \nz\n\" transform=\"scale(0.015625)\"/>\n       </defs>\n       <use xlink:href=\"#DejaVuSans-30\"/>\n       <use xlink:href=\"#DejaVuSans-2e\" transform=\"translate(63.623047 0)\"/>\n       <use xlink:href=\"#DejaVuSans-37\" transform=\"translate(95.410156 0)\"/>\n      </g>\n     </g>\n    </g>\n    <g id=\"ytick_5\">\n     <g id=\"line2d_27\">\n      <path d=\"M 30.103125 97.783143 \nL 420.703125 97.783143 \n\" clip-path=\"url(#p40b260ad5e)\" style=\"fill: none; stroke: #b0b0b0; stroke-width: 0.8; stroke-linecap: square\"/>\n     </g>\n     <g id=\"line2d_28\">\n      <g>\n       <use xlink:href=\"#mc14b30bd9c\" x=\"30.103125\" y=\"97.783143\" style=\"stroke: #000000; stroke-width: 0.8\"/>\n      </g>\n     </g>\n     <g id=\"text_15\">\n      <!-- 0.8 -->\n      <g transform=\"translate(7.2 101.582362) scale(0.1 -0.1)\">\n       <defs>\n        <path id=\"DejaVuSans-38\" d=\"M 2034 2216 \nQ 1584 2216 1326 1975 \nQ 1069 1734 1069 1313 \nQ 1069 891 1326 650 \nQ 1584 409 2034 409 \nQ 2484 409 2743 651 \nQ 3003 894 3003 1313 \nQ 3003 1734 2745 1975 \nQ 2488 2216 2034 2216 \nz\nM 1403 2484 \nQ 997 2584 770 2862 \nQ 544 3141 544 3541 \nQ 544 4100 942 4425 \nQ 1341 4750 2034 4750 \nQ 2731 4750 3128 4425 \nQ 3525 4100 3525 3541 \nQ 3525 3141 3298 2862 \nQ 3072 2584 2669 2484 \nQ 3125 2378 3379 2068 \nQ 3634 1759 3634 1313 \nQ 3634 634 3220 271 \nQ 2806 -91 2034 -91 \nQ 1263 -91 848 271 \nQ 434 634 434 1313 \nQ 434 1759 690 2068 \nQ 947 2378 1403 2484 \nz\nM 1172 3481 \nQ 1172 3119 1398 2916 \nQ 1625 2713 2034 2713 \nQ 2441 2713 2670 2916 \nQ 2900 3119 2900 3481 \nQ 2900 3844 2670 4047 \nQ 2441 4250 2034 4250 \nQ 1625 4250 1398 4047 \nQ 1172 3844 1172 3481 \nz\n\" transform=\"scale(0.015625)\"/>\n       </defs>\n       <use xlink:href=\"#DejaVuSans-30\"/>\n       <use xlink:href=\"#DejaVuSans-2e\" transform=\"translate(63.623047 0)\"/>\n       <use xlink:href=\"#DejaVuSans-38\" transform=\"translate(95.410156 0)\"/>\n      </g>\n     </g>\n    </g>\n    <g id=\"ytick_6\">\n     <g id=\"line2d_29\">\n      <path d=\"M 30.103125 56.667965 \nL 420.703125 56.667965 \n\" clip-path=\"url(#p40b260ad5e)\" style=\"fill: none; stroke: #b0b0b0; stroke-width: 0.8; stroke-linecap: square\"/>\n     </g>\n     <g id=\"line2d_30\">\n      <g>\n       <use xlink:href=\"#mc14b30bd9c\" x=\"30.103125\" y=\"56.667965\" style=\"stroke: #000000; stroke-width: 0.8\"/>\n      </g>\n     </g>\n     <g id=\"text_16\">\n      <!-- 0.9 -->\n      <g transform=\"translate(7.2 60.467184) scale(0.1 -0.1)\">\n       <defs>\n        <path id=\"DejaVuSans-39\" d=\"M 703 97 \nL 703 672 \nQ 941 559 1184 500 \nQ 1428 441 1663 441 \nQ 2288 441 2617 861 \nQ 2947 1281 2994 2138 \nQ 2813 1869 2534 1725 \nQ 2256 1581 1919 1581 \nQ 1219 1581 811 2004 \nQ 403 2428 403 3163 \nQ 403 3881 828 4315 \nQ 1253 4750 1959 4750 \nQ 2769 4750 3195 4129 \nQ 3622 3509 3622 2328 \nQ 3622 1225 3098 567 \nQ 2575 -91 1691 -91 \nQ 1453 -91 1209 -44 \nQ 966 3 703 97 \nz\nM 1959 2075 \nQ 2384 2075 2632 2365 \nQ 2881 2656 2881 3163 \nQ 2881 3666 2632 3958 \nQ 2384 4250 1959 4250 \nQ 1534 4250 1286 3958 \nQ 1038 3666 1038 3163 \nQ 1038 2656 1286 2365 \nQ 1534 2075 1959 2075 \nz\n\" transform=\"scale(0.015625)\"/>\n       </defs>\n       <use xlink:href=\"#DejaVuSans-30\"/>\n       <use xlink:href=\"#DejaVuSans-2e\" transform=\"translate(63.623047 0)\"/>\n       <use xlink:href=\"#DejaVuSans-39\" transform=\"translate(95.410156 0)\"/>\n      </g>\n     </g>\n    </g>\n    <g id=\"ytick_7\">\n     <g id=\"line2d_31\">\n      <path d=\"M 30.103125 15.552787 \nL 420.703125 15.552787 \n\" clip-path=\"url(#p40b260ad5e)\" style=\"fill: none; stroke: #b0b0b0; stroke-width: 0.8; stroke-linecap: square\"/>\n     </g>\n     <g id=\"line2d_32\">\n      <g>\n       <use xlink:href=\"#mc14b30bd9c\" x=\"30.103125\" y=\"15.552787\" style=\"stroke: #000000; stroke-width: 0.8\"/>\n      </g>\n     </g>\n     <g id=\"text_17\">\n      <!-- 1.0 -->\n      <g transform=\"translate(7.2 19.352006) scale(0.1 -0.1)\">\n       <use xlink:href=\"#DejaVuSans-31\"/>\n       <use xlink:href=\"#DejaVuSans-2e\" transform=\"translate(63.623047 0)\"/>\n       <use xlink:href=\"#DejaVuSans-30\" transform=\"translate(95.410156 0)\"/>\n      </g>\n     </g>\n    </g>\n   </g>\n   <g id=\"line2d_33\">\n    <path d=\"M -1 92.89068 \nL 10.573125 103.10104 \nL 30.103125 114.048655 \nL 49.633125 179.476642 \nL 69.163125 184.476222 \nL 88.693125 185.814113 \nL 108.223125 189.885281 \nL 127.753125 191.968868 \nL 147.283125 215.181206 \nL 166.813125 220.080909 \nL 186.343125 222.427322 \nL 205.873125 225.900351 \nL 225.403125 228.56832 \nL 244.933125 245.227023 \nL 264.463125 248.607063 \nL 283.993125 251.644087 \nL 303.523125 254.839752 \nL 323.053125 256.679665 \nL 342.583125 265.474228 \nL 362.113125 266.427073 \nL 381.643125 268.552083 \nL 401.173125 270.749625 \nL 420.703125 271.8 \n\" clip-path=\"url(#p40b260ad5e)\" style=\"fill: none; stroke: #1f77b4; stroke-width: 1.5; stroke-linecap: square\"/>\n   </g>\n   <g id=\"line2d_34\">\n    <path d=\"M -1 187.094771 \nL 10.573125 183.129258 \nL 30.103125 178.959922 \nL 49.633125 157.143181 \nL 69.163125 154.059543 \nL 88.693125 153.716916 \nL 108.223125 152.196511 \nL 127.753125 151.258571 \nL 147.283125 144.680143 \nL 166.813125 140.889837 \nL 186.343125 137.784785 \nL 205.873125 134.851045 \nL 225.403125 132.988014 \nL 244.933125 128.748011 \nL 264.463125 123.865584 \nL 283.993125 119.925379 \nL 303.523125 117.569822 \nL 323.053125 116.002306 \nL 342.583125 117.312852 \nL 362.113125 115.771033 \nL 381.643125 112.430425 \nL 401.173125 109.539514 \nL 420.703125 107.779271 \n\" clip-path=\"url(#p40b260ad5e)\" style=\"fill: none; stroke-dasharray: 5.55,2.4; stroke-dashoffset: 0; stroke: #bf00bf; stroke-width: 1.5\"/>\n   </g>\n   <g id=\"line2d_35\">\n    <path d=\"M 30.103125 97.451619 \nL 127.753125 99.382939 \nL 225.403125 82.935641 \nL 323.053125 83.629605 \nL 420.703125 82.606203 \n\" clip-path=\"url(#p40b260ad5e)\" style=\"fill: none; stroke-dasharray: 9.6,2.4,1.5,2.4; stroke-dashoffset: 0; stroke: #008000; stroke-width: 1.5\"/>\n   </g>\n   <g id=\"line2d_36\">\n    <path d=\"M 30.103125 160.278213 \nL 127.753125 155.549968 \nL 225.403125 157.400151 \nL 323.053125 157.400151 \nL 420.703125 156.372271 \n\" clip-path=\"url(#p40b260ad5e)\" style=\"fill: none; stroke-dasharray: 1.5,2.475; stroke-dashoffset: 0; stroke: #ff0000; stroke-width: 1.5\"/>\n   </g>\n   <g id=\"patch_3\">\n    <path d=\"M 30.103125 284.4 \nL 30.103125 7.2 \n\" style=\"fill: none; stroke: #000000; stroke-width: 0.8; stroke-linejoin: miter; stroke-linecap: square\"/>\n   </g>\n   <g id=\"patch_4\">\n    <path d=\"M 420.703125 284.4 \nL 420.703125 7.2 \n\" style=\"fill: none; stroke: #000000; stroke-width: 0.8; stroke-linejoin: miter; stroke-linecap: square\"/>\n   </g>\n   <g id=\"patch_5\">\n    <path d=\"M 30.103125 284.4 \nL 420.703125 284.4 \n\" style=\"fill: none; stroke: #000000; stroke-width: 0.8; stroke-linejoin: miter; stroke-linecap: square\"/>\n   </g>\n   <g id=\"patch_6\">\n    <path d=\"M 30.103125 7.2 \nL 420.703125 7.2 \n\" style=\"fill: none; stroke: #000000; stroke-width: 0.8; stroke-linejoin: miter; stroke-linecap: square\"/>\n   </g>\n   <g id=\"legend_1\">\n    <g id=\"patch_7\">\n     <path d=\"M 335.257812 73.9125 \nL 413.703125 73.9125 \nQ 415.703125 73.9125 415.703125 71.9125 \nL 415.703125 14.2 \nQ 415.703125 12.2 413.703125 12.2 \nL 335.257812 12.2 \nQ 333.257812 12.2 333.257812 14.2 \nL 333.257812 71.9125 \nQ 333.257812 73.9125 335.257812 73.9125 \nz\n\" style=\"fill: #ffffff; opacity: 0.8; stroke: #cccccc; stroke-linejoin: miter\"/>\n    </g>\n    <g id=\"line2d_37\">\n     <path d=\"M 337.257812 20.298437 \nL 347.257812 20.298437 \nL 357.257812 20.298437 \n\" style=\"fill: none; stroke: #1f77b4; stroke-width: 1.5; stroke-linecap: square\"/>\n    </g>\n    <g id=\"text_18\">\n     <!-- train loss -->\n     <g transform=\"translate(365.257812 23.798437) scale(0.1 -0.1)\">\n      <defs>\n       <path id=\"DejaVuSans-74\" d=\"M 1172 4494 \nL 1172 3500 \nL 2356 3500 \nL 2356 3053 \nL 1172 3053 \nL 1172 1153 \nQ 1172 725 1289 603 \nQ 1406 481 1766 481 \nL 2356 481 \nL 2356 0 \nL 1766 0 \nQ 1100 0 847 248 \nQ 594 497 594 1153 \nL 594 3053 \nL 172 3053 \nL 172 3500 \nL 594 3500 \nL 594 4494 \nL 1172 4494 \nz\n\" transform=\"scale(0.015625)\"/>\n       <path id=\"DejaVuSans-72\" d=\"M 2631 2963 \nQ 2534 3019 2420 3045 \nQ 2306 3072 2169 3072 \nQ 1681 3072 1420 2755 \nQ 1159 2438 1159 1844 \nL 1159 0 \nL 581 0 \nL 581 3500 \nL 1159 3500 \nL 1159 2956 \nQ 1341 3275 1631 3429 \nQ 1922 3584 2338 3584 \nQ 2397 3584 2469 3576 \nQ 2541 3569 2628 3553 \nL 2631 2963 \nz\n\" transform=\"scale(0.015625)\"/>\n       <path id=\"DejaVuSans-61\" d=\"M 2194 1759 \nQ 1497 1759 1228 1600 \nQ 959 1441 959 1056 \nQ 959 750 1161 570 \nQ 1363 391 1709 391 \nQ 2188 391 2477 730 \nQ 2766 1069 2766 1631 \nL 2766 1759 \nL 2194 1759 \nz\nM 3341 1997 \nL 3341 0 \nL 2766 0 \nL 2766 531 \nQ 2569 213 2275 61 \nQ 1981 -91 1556 -91 \nQ 1019 -91 701 211 \nQ 384 513 384 1019 \nQ 384 1609 779 1909 \nQ 1175 2209 1959 2209 \nL 2766 2209 \nL 2766 2266 \nQ 2766 2663 2505 2880 \nQ 2244 3097 1772 3097 \nQ 1472 3097 1187 3025 \nQ 903 2953 641 2809 \nL 641 3341 \nQ 956 3463 1253 3523 \nQ 1550 3584 1831 3584 \nQ 2591 3584 2966 3190 \nQ 3341 2797 3341 1997 \nz\n\" transform=\"scale(0.015625)\"/>\n       <path id=\"DejaVuSans-69\" d=\"M 603 3500 \nL 1178 3500 \nL 1178 0 \nL 603 0 \nL 603 3500 \nz\nM 603 4863 \nL 1178 4863 \nL 1178 4134 \nL 603 4134 \nL 603 4863 \nz\n\" transform=\"scale(0.015625)\"/>\n       <path id=\"DejaVuSans-6e\" d=\"M 3513 2113 \nL 3513 0 \nL 2938 0 \nL 2938 2094 \nQ 2938 2591 2744 2837 \nQ 2550 3084 2163 3084 \nQ 1697 3084 1428 2787 \nQ 1159 2491 1159 1978 \nL 1159 0 \nL 581 0 \nL 581 3500 \nL 1159 3500 \nL 1159 2956 \nQ 1366 3272 1645 3428 \nQ 1925 3584 2291 3584 \nQ 2894 3584 3203 3211 \nQ 3513 2838 3513 2113 \nz\n\" transform=\"scale(0.015625)\"/>\n       <path id=\"DejaVuSans-20\" transform=\"scale(0.015625)\"/>\n       <path id=\"DejaVuSans-6c\" d=\"M 603 4863 \nL 1178 4863 \nL 1178 0 \nL 603 0 \nL 603 4863 \nz\n\" transform=\"scale(0.015625)\"/>\n       <path id=\"DejaVuSans-73\" d=\"M 2834 3397 \nL 2834 2853 \nQ 2591 2978 2328 3040 \nQ 2066 3103 1784 3103 \nQ 1356 3103 1142 2972 \nQ 928 2841 928 2578 \nQ 928 2378 1081 2264 \nQ 1234 2150 1697 2047 \nL 1894 2003 \nQ 2506 1872 2764 1633 \nQ 3022 1394 3022 966 \nQ 3022 478 2636 193 \nQ 2250 -91 1575 -91 \nQ 1294 -91 989 -36 \nQ 684 19 347 128 \nL 347 722 \nQ 666 556 975 473 \nQ 1284 391 1588 391 \nQ 1994 391 2212 530 \nQ 2431 669 2431 922 \nQ 2431 1156 2273 1281 \nQ 2116 1406 1581 1522 \nL 1381 1569 \nQ 847 1681 609 1914 \nQ 372 2147 372 2553 \nQ 372 3047 722 3315 \nQ 1072 3584 1716 3584 \nQ 2034 3584 2315 3537 \nQ 2597 3491 2834 3397 \nz\n\" transform=\"scale(0.015625)\"/>\n      </defs>\n      <use xlink:href=\"#DejaVuSans-74\"/>\n      <use xlink:href=\"#DejaVuSans-72\" transform=\"translate(39.208984 0)\"/>\n      <use xlink:href=\"#DejaVuSans-61\" transform=\"translate(80.322266 0)\"/>\n      <use xlink:href=\"#DejaVuSans-69\" transform=\"translate(141.601562 0)\"/>\n      <use xlink:href=\"#DejaVuSans-6e\" transform=\"translate(169.384766 0)\"/>\n      <use xlink:href=\"#DejaVuSans-20\" transform=\"translate(232.763672 0)\"/>\n      <use xlink:href=\"#DejaVuSans-6c\" transform=\"translate(264.550781 0)\"/>\n      <use xlink:href=\"#DejaVuSans-6f\" transform=\"translate(292.333984 0)\"/>\n      <use xlink:href=\"#DejaVuSans-73\" transform=\"translate(353.515625 0)\"/>\n      <use xlink:href=\"#DejaVuSans-73\" transform=\"translate(405.615234 0)\"/>\n     </g>\n    </g>\n    <g id=\"line2d_38\">\n     <path d=\"M 337.257812 34.976562 \nL 347.257812 34.976562 \nL 357.257812 34.976562 \n\" style=\"fill: none; stroke-dasharray: 5.55,2.4; stroke-dashoffset: 0; stroke: #bf00bf; stroke-width: 1.5\"/>\n    </g>\n    <g id=\"text_19\">\n     <!-- train acc -->\n     <g transform=\"translate(365.257812 38.476562) scale(0.1 -0.1)\">\n      <use xlink:href=\"#DejaVuSans-74\"/>\n      <use xlink:href=\"#DejaVuSans-72\" transform=\"translate(39.208984 0)\"/>\n      <use xlink:href=\"#DejaVuSans-61\" transform=\"translate(80.322266 0)\"/>\n      <use xlink:href=\"#DejaVuSans-69\" transform=\"translate(141.601562 0)\"/>\n      <use xlink:href=\"#DejaVuSans-6e\" transform=\"translate(169.384766 0)\"/>\n      <use xlink:href=\"#DejaVuSans-20\" transform=\"translate(232.763672 0)\"/>\n      <use xlink:href=\"#DejaVuSans-61\" transform=\"translate(264.550781 0)\"/>\n      <use xlink:href=\"#DejaVuSans-63\" transform=\"translate(325.830078 0)\"/>\n      <use xlink:href=\"#DejaVuSans-63\" transform=\"translate(380.810547 0)\"/>\n     </g>\n    </g>\n    <g id=\"line2d_39\">\n     <path d=\"M 337.257812 49.654687 \nL 347.257812 49.654687 \nL 357.257812 49.654687 \n\" style=\"fill: none; stroke-dasharray: 9.6,2.4,1.5,2.4; stroke-dashoffset: 0; stroke: #008000; stroke-width: 1.5\"/>\n    </g>\n    <g id=\"text_20\">\n     <!-- valid loss -->\n     <g transform=\"translate(365.257812 53.154687) scale(0.1 -0.1)\">\n      <defs>\n       <path id=\"DejaVuSans-76\" d=\"M 191 3500 \nL 800 3500 \nL 1894 563 \nL 2988 3500 \nL 3597 3500 \nL 2284 0 \nL 1503 0 \nL 191 3500 \nz\n\" transform=\"scale(0.015625)\"/>\n       <path id=\"DejaVuSans-64\" d=\"M 2906 2969 \nL 2906 4863 \nL 3481 4863 \nL 3481 0 \nL 2906 0 \nL 2906 525 \nQ 2725 213 2448 61 \nQ 2172 -91 1784 -91 \nQ 1150 -91 751 415 \nQ 353 922 353 1747 \nQ 353 2572 751 3078 \nQ 1150 3584 1784 3584 \nQ 2172 3584 2448 3432 \nQ 2725 3281 2906 2969 \nz\nM 947 1747 \nQ 947 1113 1208 752 \nQ 1469 391 1925 391 \nQ 2381 391 2643 752 \nQ 2906 1113 2906 1747 \nQ 2906 2381 2643 2742 \nQ 2381 3103 1925 3103 \nQ 1469 3103 1208 2742 \nQ 947 2381 947 1747 \nz\n\" transform=\"scale(0.015625)\"/>\n      </defs>\n      <use xlink:href=\"#DejaVuSans-76\"/>\n      <use xlink:href=\"#DejaVuSans-61\" transform=\"translate(59.179688 0)\"/>\n      <use xlink:href=\"#DejaVuSans-6c\" transform=\"translate(120.458984 0)\"/>\n      <use xlink:href=\"#DejaVuSans-69\" transform=\"translate(148.242188 0)\"/>\n      <use xlink:href=\"#DejaVuSans-64\" transform=\"translate(176.025391 0)\"/>\n      <use xlink:href=\"#DejaVuSans-20\" transform=\"translate(239.501953 0)\"/>\n      <use xlink:href=\"#DejaVuSans-6c\" transform=\"translate(271.289062 0)\"/>\n      <use xlink:href=\"#DejaVuSans-6f\" transform=\"translate(299.072266 0)\"/>\n      <use xlink:href=\"#DejaVuSans-73\" transform=\"translate(360.253906 0)\"/>\n      <use xlink:href=\"#DejaVuSans-73\" transform=\"translate(412.353516 0)\"/>\n     </g>\n    </g>\n    <g id=\"line2d_40\">\n     <path d=\"M 337.257812 64.332812 \nL 347.257812 64.332812 \nL 357.257812 64.332812 \n\" style=\"fill: none; stroke-dasharray: 1.5,2.475; stroke-dashoffset: 0; stroke: #ff0000; stroke-width: 1.5\"/>\n    </g>\n    <g id=\"text_21\">\n     <!-- valid acc -->\n     <g transform=\"translate(365.257812 67.832812) scale(0.1 -0.1)\">\n      <use xlink:href=\"#DejaVuSans-76\"/>\n      <use xlink:href=\"#DejaVuSans-61\" transform=\"translate(59.179688 0)\"/>\n      <use xlink:href=\"#DejaVuSans-6c\" transform=\"translate(120.458984 0)\"/>\n      <use xlink:href=\"#DejaVuSans-69\" transform=\"translate(148.242188 0)\"/>\n      <use xlink:href=\"#DejaVuSans-64\" transform=\"translate(176.025391 0)\"/>\n      <use xlink:href=\"#DejaVuSans-20\" transform=\"translate(239.501953 0)\"/>\n      <use xlink:href=\"#DejaVuSans-61\" transform=\"translate(271.289062 0)\"/>\n      <use xlink:href=\"#DejaVuSans-63\" transform=\"translate(332.568359 0)\"/>\n      <use xlink:href=\"#DejaVuSans-63\" transform=\"translate(387.548828 0)\"/>\n     </g>\n    </g>\n   </g>\n  </g>\n </g>\n <defs>\n  <clipPath id=\"p40b260ad5e\">\n   <rect x=\"30.103125\" y=\"7.2\" width=\"390.6\" height=\"277.2\"/>\n  </clipPath>\n </defs>\n</svg>\n"
          },
          "metadata": {}
        }
      ]
    },
    {
      "cell_type": "code",
      "source": [
        "test(student_net,test_iter,None,device = devices[0])\n",
        "test_on_checkpoint(student_net, args.pt_path, test_iter, None, device=devices[0])"
      ],
      "metadata": {
        "colab": {
          "base_uri": "https://localhost:8080/"
        },
        "id": "rh8uUGgv5Dx1",
        "outputId": "2d69caf4-36c4-483a-aade-24ef1ad3c2e3"
      },
      "execution_count": null,
      "outputs": [
        {
          "output_type": "stream",
          "name": "stderr",
          "text": [
            "32it [00:01, 16.77it/s]\n"
          ]
        },
        {
          "output_type": "stream",
          "name": "stdout",
          "text": [
            "test on final epoch -- acc: 64.30, f1-macro: 49.85\n",
            "test on /content/drive/MyDrive/CS5242/ckpt/NDDualTowerBGE-epoch1-val_acc0.66.pt -- acc: 65.40, f1-macro: 48.52\n"
          ]
        }
      ]
    },
    {
      "cell_type": "markdown",
      "source": [
        "## LLM"
      ],
      "metadata": {
        "id": "cKsQna9UK-0Q"
      }
    },
    {
      "cell_type": "code",
      "source": [
        "data_dir = \"/content/drive/MyDrive/CS5242/\"\n",
        "model_name = \"Qwen/Qwen2.5-0.5B\"\n",
        "cache_dir = \"/content/drive/MyDrive/CS5242/Qwen2.5-0.5B\"\n",
        "test_data_name = \"test_public.json\"\n",
        "train_data_name = \"train.json\"\n",
        "\n",
        "args = Args()\n",
        "args.lr = 3e-5\n",
        "args.num_epochs=5\n",
        "args.batch_size=64\n",
        "args.monitor = 'accuracy'\n",
        "devices = [torch.device(\"cuda\" if torch.cuda.is_available() else \"cpu\")]\n",
        "task_name = \"Relevance with LLM\"\n",
        "download_model(model_name,cache_dir)"
      ],
      "metadata": {
        "colab": {
          "base_uri": "https://localhost:8080/"
        },
        "id": "VQTItGS5JM2H",
        "outputId": "910d1329-a188-4072-d05c-b71bf0d688d4"
      },
      "execution_count": 9,
      "outputs": [
        {
          "output_type": "stream",
          "name": "stdout",
          "text": [
            "Total Parameters: 494,032,768, Trainable: 494,032,768\n",
            "Qwen2Model(\n",
            "  (embed_tokens): Embedding(151936, 896)\n",
            "  (layers): ModuleList(\n",
            "    (0-23): 24 x Qwen2DecoderLayer(\n",
            "      (self_attn): Qwen2Attention(\n",
            "        (q_proj): Linear(in_features=896, out_features=896, bias=True)\n",
            "        (k_proj): Linear(in_features=896, out_features=128, bias=True)\n",
            "        (v_proj): Linear(in_features=896, out_features=128, bias=True)\n",
            "        (o_proj): Linear(in_features=896, out_features=896, bias=False)\n",
            "      )\n",
            "      (mlp): Qwen2MLP(\n",
            "        (gate_proj): Linear(in_features=896, out_features=4864, bias=False)\n",
            "        (up_proj): Linear(in_features=896, out_features=4864, bias=False)\n",
            "        (down_proj): Linear(in_features=4864, out_features=896, bias=False)\n",
            "        (act_fn): SiLU()\n",
            "      )\n",
            "      (input_layernorm): Qwen2RMSNorm((896,), eps=1e-06)\n",
            "      (post_attention_layernorm): Qwen2RMSNorm((896,), eps=1e-06)\n",
            "    )\n",
            "  )\n",
            "  (norm): Qwen2RMSNorm((896,), eps=1e-06)\n",
            "  (rotary_emb): Qwen2RotaryEmbedding()\n",
            ")\n"
          ]
        }
      ]
    },
    {
      "cell_type": "code",
      "source": [
        "class Qwen2LLMDataset(Dataset):\n",
        "    def __init__(self, model_name, cache_dir, samples):\n",
        "        self.tokenizer = AutoTokenizer.from_pretrained(\n",
        "            model_name, cache_dir=cache_dir, trust_remote_code=True\n",
        "        )\n",
        "        self.samples = samples\n",
        "        self.convert_data_to_features()\n",
        "\n",
        "    def convert_data_to_features(self):\n",
        "        self.data = []\n",
        "        system_prompt = \"你是一个搜索引擎，需要判断给定的用户查询和文档片段之间的相关性。\"\n",
        "        for sample in tqdm(self.samples, desc=\"Preparing ChatML prompts\"):\n",
        "            query = sample['query']\n",
        "            document = sample['title']\n",
        "            label = str(sample['label'])  # e.g. \"0\",\"1\",\"2\"\n",
        "            messages = [\n",
        "                {\"role\": \"system\",    \"content\": system_prompt},\n",
        "                {\"role\": \"user\",      \"content\":\n",
        "                    f\"查询内容：{query}\\n\"\n",
        "                    f\"文档片段：{document}\\n\"\n",
        "                    \"请根据相关性打分，评分范围为 0 到 2：\\n\"\n",
        "                    \"0：无关\\n1：一般相关\\n2：相关\\n\"\n",
        "                    \"你的回答（仅填写数字）：\"},\n",
        "                {\"role\": \"assistant\", \"content\": label}\n",
        "            ]\n",
        "            # 先拼 prompt，再 tokenize\n",
        "            prompt = self.tokenizer.apply_chat_template(\n",
        "                messages,\n",
        "                add_generation_prompt=False,\n",
        "                tokenize=False\n",
        "            )\n",
        "            encoded = self.tokenizer(\n",
        "                prompt,\n",
        "                truncation=True,\n",
        "                padding=False,\n",
        "                return_tensors=None\n",
        "            )\n",
        "            input_ids = encoded['input_ids']\n",
        "            # 只有最后 3 个 token 作为 label，其它位置都为 -100\n",
        "            label_ids = input_ids[-3:]\n",
        "            labels = [-100] * (len(input_ids) - 3) + label_ids\n",
        "\n",
        "            self.data.append({\n",
        "                \"input_ids\": input_ids,\n",
        "                \"attention_mask\": encoded['attention_mask'],\n",
        "                \"labels\": labels\n",
        "            })\n",
        "\n",
        "    def __getitem__(self, idx):\n",
        "        return self.data[idx]\n",
        "\n",
        "    def __len__(self):\n",
        "        return len(self.data)\n",
        "\n",
        "def build_qwen2_collate_fn(tokenizer):\n",
        "    def collate_fn(batch):\n",
        "        # 把 list-of-dicts 拆成三个 list-of-lists\n",
        "        input_ids_list     = [torch.tensor(ex[\"input_ids\"],     dtype=torch.long) for ex in batch]\n",
        "        attention_list     = [torch.tensor(ex[\"attention_mask\"], dtype=torch.long) for ex in batch]\n",
        "        labels_list        = [torch.tensor(ex[\"labels\"],        dtype=torch.long) for ex in batch]\n",
        "        from torch.nn.utils.rnn import pad_sequence\n",
        "\n",
        "        # 手动 pad_sequence\n",
        "        input_ids_padded      = pad_sequence(input_ids_list, batch_first=True, padding_value=tokenizer.pad_token_id)\n",
        "        attention_padded      = pad_sequence(attention_list, batch_first=True, padding_value=0)\n",
        "        labels_padded         = pad_sequence(labels_list, batch_first=True, padding_value=-100)\n",
        "\n",
        "        return {\n",
        "            \"input_ids\":      input_ids_padded,\n",
        "            \"attention_mask\": attention_padded,\n",
        "            \"labels\":         labels_padded,\n",
        "        }\n",
        "    return collate_fn\n",
        "\n",
        "class Qwen2LLMTestDataset(Dataset):\n",
        "    def __init__(self, model_name, cache_dir, samples):\n",
        "        self.tokenizer = AutoTokenizer.from_pretrained(\n",
        "            model_name, cache_dir=cache_dir, trust_remote_code=True\n",
        "        )\n",
        "        self.samples = samples\n",
        "        self.convert_data_to_features()\n",
        "\n",
        "    def convert_data_to_features(self):\n",
        "        self.data = []\n",
        "        system_prompt = \"你是一个搜索引擎，需要判断给定的用户查询和文档片段之间的相关性。\"\n",
        "        for sample in tqdm(self.samples, desc=\"Preparing ChatML prompts\"):\n",
        "            query = sample['query']\n",
        "            document = sample['title']\n",
        "            label = str(sample['label'])  # e.g. \"0\",\"1\",\"2\"\n",
        "            messages = [\n",
        "                {\"role\": \"system\",    \"content\": system_prompt},\n",
        "                {\"role\": \"user\",      \"content\":\n",
        "                    f\"查询内容：{query}\\n\"\n",
        "                    f\"文档片段：{document}\\n\"\n",
        "                    \"请根据相关性打分，评分范围为 0 到 2：\\n\"\n",
        "                    \"0：无关\\n1：一般相关\\n2：相关\\n\"\n",
        "                    \"你的回答（仅填写数字）：\"},\n",
        "            ]\n",
        "            # 先拼 prompt，再 tokenize\n",
        "            prompt = self.tokenizer.apply_chat_template(\n",
        "                messages,\n",
        "                add_generation_prompt=True,\n",
        "                tokenize=False\n",
        "            )\n",
        "            self.data.append({\"prompt\":prompt,\"label\":label})\n",
        "\n",
        "    def __getitem__(self, idx):\n",
        "        return self.data[idx]\n",
        "\n",
        "    def __len__(self):\n",
        "        return len(self.data)\n",
        "\n",
        "def build_qwen2_test_collate_fn(tokenizer):\n",
        "    def collate_fn(batch):\n",
        "        prompts = [sample['prompt'] for sample in batch]\n",
        "        labels = torch.tensor([item['label'] for item in batch])\n",
        "        inputs = tokenizer(prompts, return_tensors=\"pt\", padding=True, truncation=True).to(devices[0])\n",
        "        return {\n",
        "            \"input_ids\":      inputs[\"input_ids\"],\n",
        "            \"attention_mask\": inputs[\"attention_mask\"],\n",
        "            \"labels\":         labels,\n",
        "        }\n",
        "    return collate_fn\n",
        "\n",
        "def train_llm_batch(net, batch, optimizer, devices):\n",
        "    net.train()\n",
        "    optimizer.zero_grad()\n",
        "    outputs = net(**batch)\n",
        "    loss = outputs.loss\n",
        "    loss.backward()\n",
        "    optimizer.step()\n",
        "    return loss.item()\n",
        "\n",
        "def train_llm(\n",
        "    net, train_loader, valid_loader,\n",
        "    num_epochs, lr, wd, num_warmup_steps,\n",
        "    devices, output_dir, img_dir, monitor=\"loss\"\n",
        "):\n",
        "    optimizer = torch.optim.AdamW(net.parameters(), lr=lr, weight_decay=wd)\n",
        "    total_steps = num_epochs * len(train_loader)\n",
        "    scheduler = get_cosine_schedule_with_warmup(\n",
        "        optimizer, num_warmup_steps=num_warmup_steps, num_training_steps=total_steps\n",
        "    )\n",
        "\n",
        "    for epoch in range(1, num_epochs+1):\n",
        "        total_loss = 0.0\n",
        "        total_labels  = 0\n",
        "        for batch in tqdm(train_loader, desc=f\"Epoch {epoch} training\"):\n",
        "            loss = train_llm_batch(net, batch, optimizer, devices)\n",
        "            total_loss    += loss * batch['input_ids'].shape[0]\n",
        "            total_labels += batch['labels'].shape[0]\n",
        "            scheduler.step()\n",
        "\n",
        "        train_loss = total_loss / total_labels\n",
        "\n",
        "        if valid_iter is not None:\n",
        "            valid_loss = evaluate_loss_and_acc_gpu(student_net, valid_iter, loss, devices[0])\n",
        "            if valid_loss < monitor_val:\n",
        "                filename = task_name + f\"-epoch{epoch}-val_loss{valid_loss :.2f}.pt\"\n",
        "                best_model_state = copy.deepcopy(student_net.state_dict())\n",
        "                monitor_val = valid_loss\n",
        "\n",
        "    measures = (f'train loss {total_loss:.3f}')\n",
        "    if valid_iter is not None:\n",
        "        measures += f', valid loss {valid_loss:.3f}'\n",
        "    print(measures)\n",
        "    args.pt_path = os.path.join(args.pt_path, filename)\n",
        "    torch.save(best_model_state, args.pt_path)\n",
        "def test_llm(net,test_iter):\n",
        "  net.eval()\n",
        "  gt = []\n",
        "  with torch.no_grad():\n",
        "    for batch in test_iter:\n",
        "      outputs = net.generate(**batch)\n",
        "      generated_texts = tokenizer.batch_decode(outputs, skip_special_tokens=True)\n",
        "      gt += batch['labels']"
      ],
      "metadata": {
        "id": "FMOsIYLYwdFL"
      },
      "execution_count": null,
      "outputs": []
    },
    {
      "cell_type": "code",
      "source": [
        "train_processor = BGEProcessor(data_dir,train_data_name)\n",
        "train_examples = train_processor.get_examples()[:18000]\n",
        "test_processor = BGEProcessor(data_dir,test_data_name)\n",
        "test_examples = test_processor.get_examples()[:2000]\n",
        "train_examples, dev_examples = train_test_split(train_examples, test_size=1/9, random_state=42)\n",
        "\n",
        "train_data = Qwen2LLMDataset(model_name, cache_dir,train_examples)\n",
        "dev_data = Qwen2LLMDataset(model_name, cache_dir,dev_examples)\n",
        "test_data = Qwen2LLMDataset(model_name, cache_dir,test_examples)\n",
        "\n",
        "train_iter = DataLoader(dataset=train_data,\n",
        "                        batch_size = args.batch_size,\n",
        "                        collate_fn = build_qwen2_collate_fn(\n",
        "                                        AutoTokenizer.from_pretrained(\n",
        "                                        model_name,\n",
        "                                        cache_dir = cache_dir)),\n",
        "                        shuffle=False)\n",
        "dev_iter = DataLoader(dataset=dev_data,\n",
        "                        batch_size = args.batch_size,\n",
        "                        collate_fn = build_qwen2_collate_fn(\n",
        "                                        AutoTokenizer.from_pretrained(\n",
        "                                        model_name,\n",
        "                                        cache_dir = cache_dir)),\n",
        "                        shuffle=False)\n",
        "test_iter = DataLoader(dataset=test_data,\n",
        "                       batch_size=args.batch_size,\n",
        "                       collate_fn = build_qwen2_collate_fn(\n",
        "                                        AutoTokenizer.from_pretrained(\n",
        "                                        model_name,\n",
        "                                        cache_dir = cache_dir)),\n",
        "                       shuffle=False)"
      ],
      "metadata": {
        "id": "kF25vFOlf2Pa"
      },
      "execution_count": null,
      "outputs": []
    },
    {
      "cell_type": "code",
      "source": [
        "from transformers import AutoModelForCausalLM, AutoTokenizer\n",
        "tokenizer = AutoTokenizer.from_pretrained(\n",
        "    model_name,\n",
        "    cache_dir=cache_dir,\n",
        "    trust_remote_code=True\n",
        ")\n",
        "net = AutoModelForCausalLM.from_pretrained(\n",
        "    model_name,\n",
        "    cache_dir=cache_dir,\n",
        "    trust_remote_code=True,\n",
        "    device_map=\"auto\"\n",
        ")\n",
        "\n",
        "prompt = \"请解释一下牛顿第一定律。\"\n",
        "inputs = tokenizer(prompt, return_tensors=\"pt\").to(devices[0])\n",
        "labels = torch.cat([\n",
        "    torch.full((4,), -100, dtype=torch.long),\n",
        "    inputs['input_ids'][0][-4:]\n",
        "])\n",
        "inputs['labels'] = labels.unsqueeze(0)\n",
        "outputs = net(**inputs, max_new_tokens=128, do_sample=True)"
      ],
      "metadata": {
        "id": "U8dWLfy4jrbu"
      },
      "execution_count": 10,
      "outputs": []
    },
    {
      "cell_type": "code",
      "source": [
        "outputs.loss"
      ],
      "metadata": {
        "colab": {
          "base_uri": "https://localhost:8080/"
        },
        "id": "mkkQYnZwxxXW",
        "outputId": "6fe7a8dd-6648-48e9-eb22-d8177f4eff4a"
      },
      "execution_count": 85,
      "outputs": [
        {
          "output_type": "execute_result",
          "data": {
            "text/plain": [
              "tensor(1.4073, grad_fn=<NllLossBackward0>)"
            ]
          },
          "metadata": {},
          "execution_count": 85
        }
      ]
    },
    {
      "cell_type": "code",
      "source": [
        "prompts = [\n",
        "    \"请解释一下牛顿第一定律。\",\n",
        "    \"黑洞是如何形成的？\",\n",
        "    \"什么是量子纠缠？\"\n",
        "]\n",
        "\n",
        "# 批量tokenize\n",
        "inputs = tokenizer(prompts, return_tensors=\"pt\", padding=True, truncation=True).to(devices[0])\n",
        "\n",
        "inputs"
      ],
      "metadata": {
        "colab": {
          "base_uri": "https://localhost:8080/"
        },
        "id": "vyUssjS_j6Q9",
        "outputId": "5e4f493e-08da-4448-b8c2-2237f51d6cc3"
      },
      "execution_count": 14,
      "outputs": [
        {
          "output_type": "execute_result",
          "data": {
            "text/plain": [
              "{'input_ids': tensor([[ 14880, 104136, 100158, 100664, 100255,  99363, 117250,   1773],\n",
              "        [118718, 107853, 108165,  11319, 151643, 151643, 151643, 151643],\n",
              "        [106582, 109539, 115822,  11319, 151643, 151643, 151643, 151643]]), 'attention_mask': tensor([[1, 1, 1, 1, 1, 1, 1, 1],\n",
              "        [1, 1, 1, 1, 0, 0, 0, 0],\n",
              "        [1, 1, 1, 1, 0, 0, 0, 0]])}"
            ]
          },
          "metadata": {},
          "execution_count": 14
        }
      ]
    },
    {
      "cell_type": "code",
      "source": [
        "# 自定义采样参数\n",
        "outputs = net.generate(\n",
        "    **inputs,\n",
        "    max_new_tokens=128,\n",
        "    do_sample=True,       # 启用采样\n",
        "    temperature=0.5,      # 控制输出的多样性（越小越保守）\n",
        "    top_k=5,             # 只从概率前50的token中采样\n",
        "    top_p=0.9,           # nucleus sampling\n",
        "    num_return_sequences=1, # 每个prompt生成1个序列（可改为多样性生成）\n",
        "    eos_token_id=tokenizer.eos_token_id,  # 防止无限生成\n",
        ")"
      ],
      "metadata": {
        "id": "CX55LNNFlJQ7"
      },
      "execution_count": null,
      "outputs": []
    },
    {
      "cell_type": "code",
      "source": [
        "generated_texts = tokenizer.batch_decode(outputs, skip_special_tokens=True)\n",
        "generated_texts"
      ],
      "metadata": {
        "colab": {
          "base_uri": "https://localhost:8080/"
        },
        "id": "wfL6tmhzjfYg",
        "outputId": "030d29b8-9353-4bc7-c6b8-5b5bfea8e297"
      },
      "execution_count": 13,
      "outputs": [
        {
          "output_type": "execute_result",
          "data": {
            "text/plain": [
              "['请解释一下牛顿第一定律。 牛顿第一定律，也称为惯性定律，是经典力学中的基本原理之一。它描述了物体保持其静止或匀速直线运动状态的性质。具体来说，牛顿第一定律可以表述为：如果一个物体不受外力作用，那么它将保持静止状态或匀速直线运动状态。\\n\\n这个定律的核心思想是：物体的运动状态不会因为外部力量的介入而改变。换句话说，即使物体没有受到任何外力的作用，它仍然会继续沿着原有的路径运动，直到遇到新的外力或达到一个新的平衡状态。\\n\\n牛顿第一定律对于理解物体的',\n",
              " '黑洞是如何形成的？在宇宙中，黑洞是如何形成的？\\n\\n黑洞的形成是一个复杂的过程，涉及到多个物理定律和理论。以下是黑洞形成的几个关键步骤：\\n\\n1. **恒星演化**：当一颗大质量恒星（通常超过太阳质量的20倍）耗尽其核心燃料时，它会发生一系列的演化过程。首先，恒星的核心会坍缩，形成一个称为白矮星（比太阳小得多的恒星）的结构。随后，这个白矮星可能会继续坍缩，形成中子星或黑洞。\\n\\n2. **中子星**：在中子星形成的过程中，恒',\n",
              " '什么是量子纠缠？量子纠缠是量子力学中的一个概念，指的是两个或多个粒子之间的相互作用，使得它们的状态无法被单独描述，而只能通过描述它们的组合来描述。这种相互作用是如此的紧密，以至于当其中一个粒子的状态发生变化时，另一个粒子的状态也会随之改变，这种现象被称为量子纠缠。\\n量子纠缠的产生是由于量子力学中的叠加态。当两个粒子处于不同的状态时，它们的状态是叠加的，这意味着它们可以同时存在于不同的位置。当其中一个粒子的状态发生变化时，另一个粒子的状态也会随之改变，这种现象被称为量子纠缠。\\n量子纠缠的另一个重要特点是它的非线']"
            ]
          },
          "metadata": {},
          "execution_count": 13
        }
      ]
    },
    {
      "cell_type": "code",
      "source": [
        "system_prompt = \"你是一个搜索引擎，需要判断给定的用户查询和文档片段之间的相关性。\"\n",
        "query= \"ni\"\n",
        "document = \"3\"\n",
        "label = \"1\"\n",
        "messages = [\n",
        "    {\"role\": \"system\", \"content\": system_prompt},\n",
        "    {\n",
        "        \"role\": \"user\",\n",
        "        \"content\":\n",
        "            f\"查询内容：{query}\\n文档片段：{document}\\n请根据相关性打分，评分范围为 0 到 2：\\n\"\n",
        "            f\"0：无关\\n1：一般相关\\n2：相关\\n你的回答（仅填写数字）：\"\n",
        "    },\n",
        "    {\"role\": \"assistant\", \"content\": label}\n",
        "]\n",
        "tokenizer = AutoTokenizer.from_pretrained(\n",
        "    model_name,\n",
        "    cache_dir=cache_dir,\n",
        "    trust_remote_code=True\n",
        ")\n",
        "prompt = tokenizer.apply_chat_template(\n",
        "                messages,\n",
        "                add_generation_prompt=False,\n",
        "                tokenize=False\n",
        "            )\n",
        "encoded = tokenizer(\n",
        "  prompt,\n",
        "  truncation=True,\n",
        "  padding=False,\n",
        "  return_tensors=None\n",
        ")\n",
        "input_ids = encoded['input_ids']\n",
        "# 只有最后 3 个 token 作为 label，其它位置都为 -100\n",
        "label_ids = input_ids[-3:]\n",
        "labels = [-100] * (len(input_ids) - 3) + label_ids\n",
        "prompt"
      ],
      "metadata": {
        "colab": {
          "base_uri": "https://localhost:8080/",
          "height": 71
        },
        "id": "uX-xaA4VlE6H",
        "outputId": "8f95807d-3e6d-41a1-a584-737951c57da0"
      },
      "execution_count": 56,
      "outputs": [
        {
          "output_type": "execute_result",
          "data": {
            "text/plain": [
              "'<|im_start|>system\\n你是一个搜索引擎，需要判断给定的用户查询和文档片段之间的相关性。<|im_end|>\\n<|im_start|>user\\n查询内容：ni\\n文档片段：3\\n请根据相关性打分，评分范围为 0 到 2：\\n0：无关\\n1：一般相关\\n2：相关\\n你的回答（仅填写数字）：<|im_end|>\\n<|im_start|>assistant\\n1<|im_end|>\\n'"
            ],
            "application/vnd.google.colaboratory.intrinsic+json": {
              "type": "string"
            }
          },
          "metadata": {},
          "execution_count": 56
        }
      ]
    },
    {
      "cell_type": "code",
      "source": [],
      "metadata": {
        "colab": {
          "base_uri": "https://localhost:8080/",
          "height": 81,
          "referenced_widgets": [
            "852460e771834c53b0012656bad33eba",
            "ca4268cc9f09459cabdd2f56f56a782f",
            "20eed149b344463d83d366d863a2cbb5",
            "10beb62e7950467fa6035cf1b0742d20",
            "f2622230911348dfb776cd2f5f07ddaa",
            "0b94c8397bd84443a6e057d0ffad7d42",
            "5e2190ed4fbb42d69cc838914fc28bd6",
            "8c270cf01d3a4e84922da6e7d979bf04",
            "c654ecf4ec284ad1ac69ea0e70c8d43d",
            "8f5679bfaba74cc3bc11a3e30e745b0e",
            "d96a06e187804766a994afdad30b797f",
            "ed4b131d24e542f0adda24251e321552",
            "d373f741080a4d80ba2b8e277183d5b1",
            "650dfed0098a4863a5e3d31b1f467f28",
            "f22c54d4590b46c080379b47c4ac3153",
            "8d50b20d667546879c051290936897cd",
            "f5edcd98e32b473f9be4c04416fc3e64",
            "89b19166e9d04d67aadea8ac7504081c",
            "ca93dc01a1bc4ca9920123c0dd102695",
            "233e156300ae46d9bf396b8ea8d13aec",
            "9f49917fdfee46d0a1767de60e87b083",
            "d22905663e794b46b3810a43808bf484"
          ]
        },
        "id": "RSc0CDYtpIkq",
        "outputId": "490025ab-b6e7-422d-9721-4d7437e94687"
      },
      "execution_count": 43,
      "outputs": [
        {
          "output_type": "display_data",
          "data": {
            "text/plain": [
              "model.safetensors:   0%|          | 0.00/988M [00:00<?, ?B/s]"
            ],
            "application/vnd.jupyter.widget-view+json": {
              "version_major": 2,
              "version_minor": 0,
              "model_id": "852460e771834c53b0012656bad33eba"
            }
          },
          "metadata": {}
        },
        {
          "output_type": "display_data",
          "data": {
            "text/plain": [
              "generation_config.json:   0%|          | 0.00/138 [00:00<?, ?B/s]"
            ],
            "application/vnd.jupyter.widget-view+json": {
              "version_major": 2,
              "version_minor": 0,
              "model_id": "ed4b131d24e542f0adda24251e321552"
            }
          },
          "metadata": {}
        }
      ]
    },
    {
      "cell_type": "code",
      "source": [
        "outputs"
      ],
      "metadata": {
        "colab": {
          "base_uri": "https://localhost:8080/"
        },
        "id": "yT42DsQOsMDr",
        "outputId": "30a73222-1d21-40f8-c042-304a81b33fed"
      },
      "execution_count": 67,
      "outputs": [
        {
          "output_type": "execute_result",
          "data": {
            "text/plain": [
              "CausalLMOutputWithPast(loss=None, logits=tensor([[[ 5.8792,  9.3359,  8.1893,  ..., -4.5367, -4.5373, -4.5367],\n",
              "         [ 4.3462, 11.6389,  6.9472,  ..., -3.9331, -3.9340, -3.9332],\n",
              "         [ 4.0576, 12.3034,  5.9505,  ..., -4.1351, -4.1350, -4.1352],\n",
              "         ...,\n",
              "         [ 5.2344, 11.0406,  7.8873,  ..., -6.7608, -6.7591, -6.7606],\n",
              "         [ 7.9003, 13.1896, 10.7696,  ..., -5.2308, -5.2302, -5.2307],\n",
              "         [ 9.7818, 11.1747,  9.8012,  ..., -7.2374, -7.2365, -7.2373]]],\n",
              "       grad_fn=<UnsafeViewBackward0>), past_key_values=<transformers.cache_utils.DynamicCache object at 0x7fc995ce4c50>, hidden_states=None, attentions=None)"
            ]
          },
          "metadata": {},
          "execution_count": 67
        }
      ]
    },
    {
      "cell_type": "code",
      "source": [
        "inputs"
      ],
      "metadata": {
        "colab": {
          "base_uri": "https://localhost:8080/"
        },
        "id": "h2rahZwusUw-",
        "outputId": "de8c7381-6ad1-4b04-e335-d1d9d96361ad"
      },
      "execution_count": 49,
      "outputs": [
        {
          "output_type": "execute_result",
          "data": {
            "text/plain": [
              "{'input_ids': tensor([[ 14880, 104136, 100158, 100664, 100255,  99363, 117250,   1773]]), 'attention_mask': tensor([[1, 1, 1, 1, 1, 1, 1, 1]])}"
            ]
          },
          "metadata": {},
          "execution_count": 49
        }
      ]
    },
    {
      "cell_type": "code",
      "source": [],
      "metadata": {
        "id": "Th_Cr5P3sil8"
      },
      "execution_count": null,
      "outputs": []
    }
  ]
}