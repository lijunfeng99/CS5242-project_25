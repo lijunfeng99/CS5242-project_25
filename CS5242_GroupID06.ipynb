{
 "cells": [
  {
   "cell_type": "markdown",
   "metadata": {},
   "source": [
    "<a id=\"top\"></a>\n",
    "## Table of Contents\n",
    "* [0. Project Description](#0)\n",
    "* [1. Libraries](#1)\n",
    "* [2. Data Collection](#2)\n",
    "    - [2.1 Data Loader](#2.1)\n",
    "    - [2.2 An Overview of the Data](#2.2)\n",
    "* [3. Exploratory Data Analysis](#3) \n",
    "    - [3.1 Statistics](#3.1)\n",
    "        - [3.1.1 Distribution of Labels](#3.1.1)\n",
    "        - [3.1.2 Distribution of Document Lengths](#3.1.2)\n",
    "        - [3.1.3 Overlab between query and title](#3.1.3)\n",
    "    - [3.2 Summary of EDA and Futer steps](#3.2)\n",
    "* [4. Data Module](#4)\n",
    "    - [4.1 Pre-processing](#4.1)\n",
    "        - [4.1.1 Flitering out the Outliers](#4.1.1)\n",
    "        - [4.1.2 Upsampling of the training data via LLMs](#4.1.2)\n",
    "    - [4.2 Overview of the New Dataset](#4.2)\n",
    "* [5. Model Module](#5)\n",
    "* [6. Results](#6)\n",
    "* [7. Conclusion & Future Development](#7)\n",
    "\n",
    "The source code and basic project setup are available at https://github.com/lijunfeng99/CS5242-project_25"
   ]
  },
  {
   "cell_type": "markdown",
   "metadata": {},
   "source": [
    "##  0. <a name='0'></a>Project Description\n",
    "[Back to Table of Contents](#top)\n",
    "\n",
    "### Exploring Language Models for Query-Document Relevance Prediction on the QBQTC Dataset\n",
    "\n",
    "In this project, we aim to explore the effectiveness of various deep learning-based language models in predicting query-document relevance using the QBQTC dataset. Specifically, we will experiment with three prominent architectures: Recurrent Neural Networks (RNN), Transformer models, and BERT (Bidirectional Encoder Representations from Transformers).\n",
    "\n",
    "The QBQTC (QQ Browser Query Title Corpus) dataset is a large-scale Learning to Rank (LTR) dataset developed by the QQ Browser search engine team. It is designed for general web search scenarios and incorporates multi-dimensional annotations, including relevance, authority, content quality, and timeliness. For this project, we focus on the relevance labels, which indicate how well a given document title matches a user query:\n",
    "\n",
    "- 0: Poor relevance\n",
    "- 1: Moderately relevant\n",
    "- 2: Highly relevant\n",
    "\n",
    "The dataset is split into the following subsets:\n",
    "\n",
    "Training set: 180,000 samples\n",
    "Development set: 20,000 samples\n",
    "Public test set: 5,000 samples\n",
    "Our goal is to build and compare models that can effectively predict the relevance score between a query and a document title. The performance of each model will be evaluated on the development and test sets using appropriate ranking and classification metrics.\n",
    "\n",
    "Through this project, we aim to understand the relative strengths and limitations of different neural language model architectures in the context of information retrieval and learning to rank tasks."
   ]
  },
  {
   "cell_type": "markdown",
   "metadata": {},
   "source": [
    "##  1. <a name='1'></a>Libraries\n",
    "[Back to Table of Contents](#top)"
   ]
  },
  {
   "cell_type": "code",
   "execution_count": null,
   "metadata": {},
   "outputs": [],
   "source": [
    "%matplotlib inline\n",
    "import os\n",
    "import sys\n",
    "import math\n",
    "import time\n",
    "import json\n",
    "import copy\n",
    "import random\n",
    "import collections\n",
    "from collections import Counter\n",
    "import numpy as np\n",
    "import pandas as pd\n",
    "import matplotlib.pyplot as plt\n",
    "import seaborn as sns\n",
    "from matplotlib_inline import backend_inline\n",
    "from tqdm import tqdm\n",
    "from tqdm.notebook import tqdm as tqdm_notebook\n",
    "from tqdm.auto import tqdm as tqdm_auto\n",
    "import jieba\n",
    "import torch\n",
    "import torch.nn as nn\n",
    "import torch.nn.functional as F\n",
    "import torch.optim as optim\n",
    "from torch.utils.data import Dataset, DataLoader, TensorDataset\n",
    "from torch.nn.utils.rnn import pad_sequence\n",
    "from transformers import AutoTokenizer, AutoModel, AutoModelForCausalLM\n",
    "from transformers.optimization import get_cosine_schedule_with_warmup\n",
    "from sklearn.model_selection import train_test_split\n",
    "from sklearn.metrics import accuracy_score, classification_report, confusion_matrix, f1_score\n",
    "import ollama\n",
    "from IPython import display\n",
    "\n",
    "sys.path.append(\"/content/drive/MyDrive/CS5242/\")\n"
   ]
  },
  {
   "cell_type": "markdown",
   "metadata": {},
   "source": [
    "##  2. <a name='2'></a>Data Collection\n",
    "[Back to Table of Contents](#top)\n",
    "\n",
    "For data collection, we first collected about 6000 reviews data for the first time. However, after data analysis, we found that the distribution and proportion of the data were seriously uneven.The main problem is that the negative and neutral data are seriously insufficient, and the second is that the data of some aspects is also seriously insufficient. So we scoured multiple websites, controlling the data tags for each crawl, and finally got our current dataset."
   ]
  },
  {
   "cell_type": "markdown",
   "metadata": {},
   "source": [
    "###  2.1 <a name='2.1'></a> Data Loader\n",
    "\n",
    "To prepare the QBQTC dataset for model training and evaluation, we implemented a custom data loader in Python to handle the JSON-formatted data files. The dataset is stored in three separate files: `train.json`, `dev.json`, and `test.json`, located in the `./dataset/` directory.\n",
    "\n",
    "We defined a function read_json_file to read each file line by line and parse each line as a JSON object. This approach ensures robustness against potential formatting issues, as it skips any lines that cannot be properly parsed."
   ]
  },
  {
   "cell_type": "code",
   "execution_count": 2,
   "metadata": {},
   "outputs": [
    {
     "name": "stdout",
     "output_type": "stream",
     "text": [
      "read train.json，include 180000 \n",
      "read dev.json，include 20000 \n",
      "read test.json，include 5000 \n",
      "   id            query                           title label\n",
      "0   0            应届生实习                    实习生招聘-应届生求职网     1\n",
      "1   1  ln1+x-ln1+y=x-y  已知函数fx=1lnx+1-x则y=fx的图像高考吧百度贴吧     0\n",
      "2   2         大秦之悍卒189                   起点中文网阅文集团旗下网站     0\n",
      "3   3             出门经咒                     快快乐乐出门咒-豆丁网     1\n",
      "4   4           盖中盖广告词              谁知道盖中盖所有的广告词急用百度知道     1\n",
      "   id             query                                              title  \\\n",
      "0   0            小孩咳嗽感冒                              小孩感冒过后久咳嗽该吃什么药育儿问答宝宝树   \n",
      "1   1      前列腺癌根治术后能活多久                    前列腺癌转移能活多久前列腺癌治疗方法盘点-家庭医生在线肿瘤频道   \n",
      "2   2          英雄大作战022               英雄大作战v0.65无敌版英雄大作战v0.65无敌版小游戏4399小游戏   \n",
      "3   3  如何将一个文件复制到另一个文件里                           怎么把布局里的图纸复制到另外一个文件中去百度文库   \n",
      "4   4        gilneasart  gilneas-pictures&charactersart-worldofwarcraft...   \n",
      "\n",
      "  label  \n",
      "0     1  \n",
      "1     1  \n",
      "2     1  \n",
      "3     0  \n",
      "4     1  \n",
      "      id                query  \\\n",
      "0  13475  离婚申请之日起任何一方不同意离婚可以向   \n",
      "1  19170       淘宝里面图片轮播怎么上图片啊   \n",
      "2  15378               tpu和pc   \n",
      "3  11256             做完人流小腹刺痛   \n",
      "4   3189        央财金融专硕分数线2021   \n",
      "\n",
      "                                               title label  \n",
      "0  依据《中华人民共和国民法典》规定自婚姻登记机关收到离婚登记申请之日起任何一方不愿意离婚的可以...     1  \n",
      "1                             淘宝店铺里的轮播图片宝贝怎么弄上去啊百度知道     1  \n",
      "2                                 软硬大比拼硅胶tpu和pc材质对比-     1  \n",
      "3                    做完人流后左下腹伴有疼痛是怎么回事即问即答家庭医生在线即问即答     1  \n",
      "4                          中央财经大学2021年硕士研究生招生考试复试分数线     1  \n"
     ]
    }
   ],
   "source": [
    "dataset_path = './dataset/'\n",
    "\n",
    "def read_json_file(file_path):\n",
    "    data = []\n",
    "    with open(file_path, 'r', encoding='utf-8') as f:\n",
    "        for line in f:\n",
    "            try:\n",
    "                item = json.loads(line.strip())\n",
    "                data.append(item)\n",
    "            except json.JSONDecodeError:\n",
    "                print(f\"Error parsing line: {line}\")\n",
    "    return data\n",
    "\n",
    "files = ['train.json', 'dev.json', 'test.json']\n",
    "data_dict = {}\n",
    "\n",
    "for file in files:\n",
    "    file_path = os.path.join(dataset_path, file)\n",
    "    if os.path.exists(file_path):\n",
    "        data = read_json_file(file_path)\n",
    "        data_dict[file.split('.')[0]] = data\n",
    "        print(f\"read {file}，include {len(data)} \")\n",
    "\n",
    "train_df = pd.DataFrame(data_dict['train'])\n",
    "dev_df = pd.DataFrame(data_dict['dev'])\n",
    "test_df = pd.DataFrame(data_dict['test'])\n",
    "print(train_df.head())\n",
    "print(dev_df.head())\n",
    "print(test_df.head())\n"
   ]
  },
  {
   "cell_type": "markdown",
   "metadata": {},
   "source": [
    "###  2.2 <a name='2.2'></a> An Overview of the Data"
   ]
  },
  {
   "cell_type": "code",
   "execution_count": 3,
   "metadata": {},
   "outputs": [
    {
     "name": "stdout",
     "output_type": "stream",
     "text": [
      "#texts: 205000\n",
      "<class 'pandas.core.frame.DataFrame'>\n",
      "RangeIndex: 205000 entries, 0 to 204999\n",
      "Data columns (total 4 columns):\n",
      " #   Column  Non-Null Count   Dtype \n",
      "---  ------  --------------   ----- \n",
      " 0   id      205000 non-null  int64 \n",
      " 1   query   205000 non-null  object\n",
      " 2   title   205000 non-null  object\n",
      " 3   label   205000 non-null  int64 \n",
      "dtypes: int64(2), object(2)\n",
      "memory usage: 6.3+ MB\n",
      "None\n"
     ]
    },
    {
     "data": {
      "text/html": [
       "<div>\n",
       "<style scoped>\n",
       "    .dataframe tbody tr th:only-of-type {\n",
       "        vertical-align: middle;\n",
       "    }\n",
       "\n",
       "    .dataframe tbody tr th {\n",
       "        vertical-align: top;\n",
       "    }\n",
       "\n",
       "    .dataframe thead th {\n",
       "        text-align: right;\n",
       "    }\n",
       "</style>\n",
       "<table border=\"1\" class=\"dataframe\">\n",
       "  <thead>\n",
       "    <tr style=\"text-align: right;\">\n",
       "      <th></th>\n",
       "      <th>id</th>\n",
       "      <th>query</th>\n",
       "      <th>title</th>\n",
       "      <th>label</th>\n",
       "    </tr>\n",
       "  </thead>\n",
       "  <tbody>\n",
       "    <tr>\n",
       "      <th>0</th>\n",
       "      <td>0</td>\n",
       "      <td>应届生实习</td>\n",
       "      <td>实习生招聘-应届生求职网</td>\n",
       "      <td>1</td>\n",
       "    </tr>\n",
       "    <tr>\n",
       "      <th>1</th>\n",
       "      <td>1</td>\n",
       "      <td>ln1+x-ln1+y=x-y</td>\n",
       "      <td>已知函数fx=1lnx+1-x则y=fx的图像高考吧百度贴吧</td>\n",
       "      <td>0</td>\n",
       "    </tr>\n",
       "    <tr>\n",
       "      <th>2</th>\n",
       "      <td>2</td>\n",
       "      <td>大秦之悍卒189</td>\n",
       "      <td>起点中文网阅文集团旗下网站</td>\n",
       "      <td>0</td>\n",
       "    </tr>\n",
       "    <tr>\n",
       "      <th>3</th>\n",
       "      <td>3</td>\n",
       "      <td>出门经咒</td>\n",
       "      <td>快快乐乐出门咒-豆丁网</td>\n",
       "      <td>1</td>\n",
       "    </tr>\n",
       "    <tr>\n",
       "      <th>4</th>\n",
       "      <td>4</td>\n",
       "      <td>盖中盖广告词</td>\n",
       "      <td>谁知道盖中盖所有的广告词急用百度知道</td>\n",
       "      <td>1</td>\n",
       "    </tr>\n",
       "  </tbody>\n",
       "</table>\n",
       "</div>"
      ],
      "text/plain": [
       "   id            query                           title  label\n",
       "0   0            应届生实习                    实习生招聘-应届生求职网      1\n",
       "1   1  ln1+x-ln1+y=x-y  已知函数fx=1lnx+1-x则y=fx的图像高考吧百度贴吧      0\n",
       "2   2         大秦之悍卒189                   起点中文网阅文集团旗下网站      0\n",
       "3   3             出门经咒                     快快乐乐出门咒-豆丁网      1\n",
       "4   4           盖中盖广告词              谁知道盖中盖所有的广告词急用百度知道      1"
      ]
     },
     "execution_count": 3,
     "metadata": {},
     "output_type": "execute_result"
    }
   ],
   "source": [
    "\n",
    "# merge all data into one dataframe\n",
    "records = []\n",
    "for name, data in data_dict.items():\n",
    "    records.extend(data)\n",
    "df = pd.DataFrame.from_records(records)\n",
    "df[\"label\"] = df[\"label\"].astype(int)\n",
    "\n",
    "print(f'#texts: {len(df)}')\n",
    "print(df.info())\n",
    "df.head()"
   ]
  },
  {
   "cell_type": "markdown",
   "metadata": {},
   "source": [
    "##  3. <a name='3'></a>Exploratory Data Analysis\n",
    "[Back to Table of Contents](#top)"
   ]
  },
  {
   "cell_type": "markdown",
   "metadata": {},
   "source": [
    "###  3.1 <a name='3.1'></a> Statistics"
   ]
  },
  {
   "cell_type": "markdown",
   "metadata": {},
   "source": [
    "#### 3.1.1 Distribution of Labels\n",
    "According to the distribution of Labels in the dataset, we can see that the dataset is imbalanced. The number of *Lable1* is much larger than the number of *Label0*. This will lead to a bias in the model training. We need to handle this issue by using techniques such as oversampling or undersampling."
   ]
  },
  {
   "cell_type": "code",
   "execution_count": 4,
   "metadata": {},
   "outputs": [
    {
     "data": {
      "text/plain": [
       "<Axes: xlabel='label', ylabel='count'>"
      ]
     },
     "execution_count": 4,
     "metadata": {},
     "output_type": "execute_result"
    },
    {
     "data": {
      "image/png": "[encoded data removed]",
      "text/plain": [
       "<Figure size 640x480 with 1 Axes>"
      ]
     },
     "metadata": {},
     "output_type": "display_data"
    }
   ],
   "source": [
    "sns.countplot(x='label', data=df)"
   ]
  },
  {
   "cell_type": "markdown",
   "metadata": {},
   "source": [
    "#### 3.1.2 Distribution of Document Lengths\n",
    "\n",
    "EDA shows that query lengths are relatively short, averaging around 9.6 words, while titles are longer with a mean of 25.4 words. Both distributions have long tails, with maximum lengths of 246 for queries and 165 for titles, indicating some extreme outliers. The majority of queries fall between 6 and 11 words, and most titles between 15 and 31 words.\n",
    "\n",
    "For preprocessing, consider capping overly long inputs and truncating or padding as needed for model input consistency. "
   ]
  },
  {
   "cell_type": "code",
   "execution_count": 5,
   "metadata": {},
   "outputs": [
    {
     "data": {
      "image/png": "[encoded data removed]",
      "text/plain": [
       "<Figure size 640x480 with 1 Axes>"
      ]
     },
     "metadata": {},
     "output_type": "display_data"
    },
    {
     "name": "stdout",
     "output_type": "stream",
     "text": [
      "Query length description: count    205000.000000\n",
      "mean          9.599380\n",
      "std           7.293327\n",
      "min           1.000000\n",
      "25%           6.000000\n",
      "50%           8.000000\n",
      "75%          11.000000\n",
      "max         246.000000\n",
      "Name: query_len, dtype: float64\n",
      "Title length description: count    205000.000000\n",
      "mean         25.418395\n",
      "std          14.729485\n",
      "min           1.000000\n",
      "25%          15.000000\n",
      "50%          23.000000\n",
      "75%          31.000000\n",
      "max         165.000000\n",
      "Name: title_len, dtype: float64\n"
     ]
    }
   ],
   "source": [
    "df['query_len'] = df['query'].apply(len)\n",
    "df['title_len'] = df['title'].apply(len)\n",
    "\n",
    "sns.histplot(df['query_len'], bins=50, kde=True, legend=True, label=\"Query\")\n",
    "sns.histplot(df['title_len'], bins=50, kde=True, legend=True, label=\"Title\")\n",
    "plt.legend()\n",
    "plt.xlabel(\"Length\")\n",
    "plt.show()\n",
    "\n",
    "print(f\"Query length description: {df['query_len'].describe()}\")\n",
    "print(f\"Title length description: {df['title_len'].describe()}\")\n"
   ]
  },
  {
   "cell_type": "markdown",
   "metadata": {},
   "source": [
    "#### 3.1.3 Overlap between query and title\n",
    "\n",
    "To measure the textual similarity between queries and titles, we calculated the Jaccard similarity at the word level using Chinese word segmentation (jieba). The overall distribution of Jaccard similarity shows a relatively wide spread, indicating varying degrees of lexical overlap across samples.\n",
    "\n",
    "When visualizing the similarity distributions by relevance labels, we observed no strong or consistent patterns. While higher relevance scores (label 2) tend to have slightly higher average similarity, the distributions of all three labels (0, 1, 2) overlap significantly. This suggests that simple word-level overlap is not a reliable standalone indicator of semantic relevance. In other words, queries and titles can be relevant even with low lexical overlap, possibly due to paraphrasing, synonym usage, or implicit relationships that word-level comparison fails to capture.ç."
   ]
  },
  {
   "cell_type": "code",
   "execution_count": 6,
   "metadata": {},
   "outputs": [
    {
     "name": "stderr",
     "output_type": "stream",
     "text": [
      "Building prefix dict from the default dictionary ...\n",
      "Dumping model to file cache /var/folders/mg/t_zxv0bx41x3ty06pvsqh1280000gn/T/jieba.cache\n",
      "Loading model cost 0.370 seconds.\n",
      "Prefix dict has been built successfully.\n"
     ]
    },
    {
     "data": {
      "image/png": "[encoded data removed]",
      "text/plain": [
       "<Figure size 640x480 with 1 Axes>"
      ]
     },
     "metadata": {},
     "output_type": "display_data"
    }
   ],
   "source": [
    "def calc_Jaccard(row):\n",
    "    query_words = set(jieba.lcut(row['query']))\n",
    "    title_words = set(jieba.lcut(row['title']))\n",
    "    return len(query_words & title_words) / len(query_words | title_words)\n",
    "df[\"Jaccard_similarity\"] = df.apply(calc_Jaccard, axis=1)\n",
    "\n",
    "sns.histplot(df['Jaccard_similarity'], bins=50, kde=True, legend=True, label='Jaccard similarity')\n",
    "sns.histplot(\n",
    "    df[df['label'] == 0]['Jaccard_similarity'],\n",
    "    bins=50,\n",
    "    kde=True,\n",
    "    legend=True,\n",
    "    label='Poor Relevance'\n",
    ")\n",
    "sns.histplot(\n",
    "    df[df['label'] == 1]['Jaccard_similarity'],\n",
    "    bins=50,\n",
    "    kde=True,\n",
    "    legend=True,\n",
    "    label='Moderately Relevance'\n",
    ")\n",
    "sns.histplot(\n",
    "    df[df['label'] == 2]['Jaccard_similarity'],\n",
    "    bins=50,\n",
    "    kde=True,\n",
    "    legend=True,\n",
    "    label='Highly Relevance'\n",
    ")\n",
    "plt.xlabel('Jaccard similarity')\n",
    "plt.ylabel('Density')\n",
    "plt.legend()\n",
    "plt.show()"
   ]
  },
  {
   "cell_type": "markdown",
   "metadata": {},
   "source": [
    "### 3.2  <a name='3.2'></a> Summary of EDA and Futher steps\n",
    "#### Summary:\n",
    "- The dataset is **label-imbalanced**.\n",
    "- **Queries are short** (~9.6 words), while **titles are longer** (~25.4 words), with a few extreme outliers.\n",
    "- **Jaccard similarity** shows weak correlation with relevance, indicating that **lexical overlap is not enough** to capture semantic relevance.\n",
    "\n",
    "#### Next Steps:\n",
    "- Address **label imbalance** using resampling or class-weighted loss.\n",
    "- Apply **padding/truncation** to standardize input lengths."
   ]
  },
  {
   "cell_type": "markdown",
   "metadata": {},
   "source": [
    "##  4. <a name='4'></a>Data Module\n",
    "[Back to Table of Contents](#top)"
   ]
  },
  {
   "cell_type": "markdown",
   "metadata": {},
   "source": [
    "##  4.1 <a name='4.1'></a>Pre-processing"
   ]
  },
  {
   "cell_type": "markdown",
   "metadata": {},
   "source": [
    "###  4.1.1 <a name='4.1.1'></a> Filtering out the Outliers\n",
    "\n",
    "According to our EDA results, we identified extreme outliers in both query and title lengths. Extremely long texts may not only increase computational cost but also lead to noise in training, as they may not represent typical search engine queries or titles.\n",
    "\n",
    "To mitigate this, we filtered out entries where:\n",
    "- The **query length** exceeds 30 characters.\n",
    "- The **title length** exceeds 50 characters."
   ]
  },
  {
   "cell_type": "code",
   "execution_count": 9,
   "metadata": {},
   "outputs": [],
   "source": [
    "def filterout_length(data, max_len, column='text'):\n",
    "    filtered_data = []\n",
    "    for d in data:\n",
    "        if len(d[column]) <= max_len:\n",
    "            filtered_data.append(d)\n",
    "    return filtered_data\n",
    "\n",
    "for name, data in data_dict.items():\n",
    "    data_dict[name] = filterout_length(data, 50, 'title')\n",
    "    data_dict[name] = filterout_length(data_dict[name], 30, 'query')\n"
   ]
  },
  {
   "cell_type": "markdown",
   "metadata": {},
   "source": [
    "###  4.1.2 <a name='4.1.2'></a> Sampling of the training data via LLMs\n",
    "To balance the dataset, we use follow steps:\n",
    "\n",
    "1. Drop 50% of the data with *Lable1*;\n",
    "2. Use the LLM to rephrase all the data with *Label2* and add this sample to dataset.\n",
    "\n",
    "This both balances the class distribution and increases dataset diversity through LLM-generated paraphrases."
   ]
  },
  {
   "cell_type": "code",
   "execution_count": 8,
   "metadata": {},
   "outputs": [
    {
     "data": {
      "application/vnd.jupyter.widget-view+json": {
       "model_id": "71df06b3f8a743a49fb4dc5aa175e487",
       "version_major": 2,
       "version_minor": 0
      },
      "text/plain": [
       "  0%|          | 0/167097 [00:00<?, ?it/s]"
      ]
     },
     "metadata": {},
     "output_type": "display_data"
    },
    {
     "data": {
      "application/vnd.jupyter.widget-view+json": {
       "model_id": "f086ddd8c1f84e48a71f148396e1c3b1",
       "version_major": 2,
       "version_minor": 0
      },
      "text/plain": [
       "  0%|          | 0/18597 [00:00<?, ?it/s]"
      ]
     },
     "metadata": {},
     "output_type": "display_data"
    },
    {
     "data": {
      "application/vnd.jupyter.widget-view+json": {
       "model_id": "9e0cc3a957584b5ebac90a9c171faa31",
       "version_major": 2,
       "version_minor": 0
      },
      "text/plain": [
       "  0%|          | 0/4654 [00:00<?, ?it/s]"
      ]
     },
     "metadata": {},
     "output_type": "display_data"
    }
   ],
   "source": [
    "def chat_with_ollama(sentence):\n",
    "    client = ollama.Client()\n",
    "\n",
    "    model_name = \"mistral\"\n",
    "\n",
    "    response = client.chat(model=model_name, messages=[\n",
    "        {\"role\": \"user\", \"content\": f\"\"\"Please rephrase this sentence:{sentence}\"\"\"}\n",
    "    ],\n",
    "    options={\n",
    "        \"num_predict\": 15  # This is the equivalent of max_tokens in Ollama\n",
    "    })\n",
    "\n",
    "    return response['message']['content']\n",
    "\n",
    "newdata_dict = {}\n",
    "for name, data in data_dict.items():\n",
    "    newdata_dict[name] = []\n",
    "    id = 0\n",
    "    for item in tqdm(data):\n",
    "        id += 1\n",
    "        item['id'] = id\n",
    "        if item['label'] == '1':\n",
    "            if random.random() < 0.5:\n",
    "                newdata_dict[name].append(item)\n",
    "        elif item['label'] == '2':\n",
    "            newdata_dict[name].append(item)\n",
    "            id += 1\n",
    "            newdata_dict[name].append({\n",
    "                \"id\": id,\n",
    "                \"query\": chat_with_ollama(item['query']),\n",
    "                \"label\": \"2\",\n",
    "                \"title\": item['title'],\n",
    "            })\n",
    "        else:\n",
    "            newdata_dict[name].append(item)\n",
    "\n",
    "# save new data\n",
    "for name, data in newdata_dict.items():\n",
    "    with open(os.path.join(dataset_path, f\"{name}_new.json\"), \"w\") as f:\n",
    "        json.dump(data, f, indent=4)\n",
    "                "
   ]
  },
  {
   "cell_type": "markdown",
   "metadata": {},
   "source": [
    "## 4.2 <a name='4.2'></a> Overview of the New Dataset\n",
    "\n",
    "After comprehensive preprocessing, we finalized a clean and balanced dataset containing 154,592 samples. Each entry includes a query, a corresponding document title, and a relevance label (0–2). The dataset has been filtered to remove outlier lengths, with queries capped at 30 characters (mean ≈ 10.1) and titles at 50 (mean ≈ 22.8). Label imbalance was addressed via downsampling and LLM-based augmentation, resulting in a semantically diverse and model-ready corpus for training relevance models.\n"
   ]
  },
  {
   "cell_type": "code",
   "execution_count": 14,
   "metadata": {},
   "outputs": [
    {
     "name": "stdout",
     "output_type": "stream",
     "text": [
      "#texts: 154592\n",
      "<class 'pandas.core.frame.DataFrame'>\n",
      "RangeIndex: 154592 entries, 0 to 154591\n",
      "Data columns (total 4 columns):\n",
      " #   Column  Non-Null Count   Dtype \n",
      "---  ------  --------------   ----- \n",
      " 0   id      154592 non-null  int64 \n",
      " 1   query   154592 non-null  object\n",
      " 2   title   154592 non-null  object\n",
      " 3   label   154592 non-null  int64 \n",
      "dtypes: int64(2), object(2)\n",
      "memory usage: 4.7+ MB\n",
      "None\n"
     ]
    },
    {
     "data": {
      "image/png": "[encoded data removed]",
      "text/plain": [
       "<Figure size 640x480 with 1 Axes>"
      ]
     },
     "metadata": {},
     "output_type": "display_data"
    },
    {
     "data": {
      "image/png": "[encoded data removed]",
      "text/plain": [
       "<Figure size 640x480 with 1 Axes>"
      ]
     },
     "metadata": {},
     "output_type": "display_data"
    },
    {
     "name": "stdout",
     "output_type": "stream",
     "text": [
      "Query length description: count    154592.000000\n",
      "mean         10.086563\n",
      "std           5.892387\n",
      "min           1.000000\n",
      "25%           6.000000\n",
      "50%           9.000000\n",
      "75%          13.000000\n",
      "max          30.000000\n",
      "Name: query_len, dtype: float64\n",
      "Title length description: count    154592.000000\n",
      "mean         22.766631\n",
      "std          10.286630\n",
      "min           1.000000\n",
      "25%          15.000000\n",
      "50%          22.000000\n",
      "75%          29.000000\n",
      "max          50.000000\n",
      "Name: title_len, dtype: float64\n"
     ]
    }
   ],
   "source": [
    "files = ['train_new.json', 'dev_new.json', 'test_new.json']\n",
    "data_dict = {}\n",
    "\n",
    "for file in files:\n",
    "    file_path = os.path.join(dataset_path, file)\n",
    "    with open(file_path, 'r', encoding='utf-8') as f:\n",
    "        data_dict[file] = json.load(f)\n",
    "\n",
    "records = []\n",
    "for name, data in data_dict.items():\n",
    "    records.extend(data)\n",
    "df = pd.DataFrame.from_records(records)\n",
    "df[\"label\"] = df[\"label\"].astype(int)\n",
    "\n",
    "print(f'#texts: {len(df)}')\n",
    "print(df.info())\n",
    "df.head()\n",
    "\n",
    "sns.countplot(x='label', data=df)\n",
    "plt.show()\n",
    "\n",
    "df['query_len'] = df['query'].apply(len)\n",
    "df['title_len'] = df['title'].apply(len)\n",
    "\n",
    "sns.histplot(df['query_len'], bins=50, kde=True, legend=True, label=\"Query\")\n",
    "sns.histplot(df['title_len'], bins=50, kde=True, legend=True, label=\"Title\")\n",
    "plt.legend()\n",
    "plt.xlabel(\"Length\")\n",
    "plt.show()\n",
    "\n",
    "print(f\"Query length description: {df['query_len'].describe()}\")\n",
    "print(f\"Title length description: {df['title_len'].describe()}\")"
   ]
  },
  {
   "cell_type": "markdown",
   "metadata": {},
   "source": [
    "##  5. <a name='5'></a>Model Module\n",
    "[Back to Table of Contents](#top)"
   ]
  },
  {
   "cell_type": "markdown",
   "metadata": {},
   "source": [
    "###  5.1 <a name='5.2'></a>MLP\n",
    "[Back to Table of Contents](#top)"
   ]
  },
  {
   "cell_type": "markdown",
   "metadata": {},
   "source": [
    "![MLP Model Structure](img/mlp.jpg)"
   ]
  },
  {
   "cell_type": "markdown",
   "metadata": {},
   "source": [
    "The MLP model described consists of an embedding layer that transforms input tokens into dense vectors, followed by multiple fully-connected hidden layers with ReLU activations to learn nonlinear patterns, and concludes with an output layer that produces logits for classification."
   ]
  },
  {
   "cell_type": "markdown",
   "metadata": {},
   "source": [
    "Dataset Loading"
   ]
  },
  {
   "cell_type": "code",
   "execution_count": null,
   "metadata": {},
   "outputs": [],
   "source": [
    "data_path = \"/content/drive/MyDrive/CS5242/dataset/\"\n",
    "\n",
    "def load_data(file):\n",
    "    with open(data_path + file, 'r', encoding='utf-8') as f:\n",
    "        data = [json.loads(line) for line in f]\n",
    "    return pd.DataFrame(data)\n",
    "\n",
    "train_df = load_data('train.json')\n",
    "dev_df = load_data('dev.json')\n",
    "test_public_df = load_data('test_public.json')"
   ]
  },
  {
   "cell_type": "markdown",
   "metadata": {},
   "source": [
    "Building Vocab and Embedding Matrix\n"
   ]
  },
  {
   "cell_type": "code",
   "execution_count": null,
   "metadata": {},
   "outputs": [],
   "source": [
    "def build_vocab(sentences, max_vocab_size=10000):\n",
    "    counter = Counter()\n",
    "    for sent in sentences:\n",
    "        counter.update(sent.split())\n",
    "    vocab = {'<pad>': 0, '<unk>': 1}\n",
    "    for word, _ in counter.most_common(max_vocab_size - len(vocab)):\n",
    "        vocab[word] = len(vocab)\n",
    "    return vocab\n",
    "\n",
    "all_sentences = pd.concat([train_df, dev_df])['query'] + \" \" + pd.concat([train_df, dev_df])['title']\n",
    "vocab = build_vocab(all_sentences)\n",
    "\n",
    "embedding_dim = 100\n",
    "embedding_matrix = np.random.normal(scale=0.6, size=(len(vocab), embedding_dim)).astype(np.float32)"
   ]
  },
  {
   "cell_type": "markdown",
   "metadata": {},
   "source": [
    "Text Encoding and Label Preparation\n"
   ]
  },
  {
   "cell_type": "code",
   "execution_count": null,
   "metadata": {},
   "outputs": [],
   "source": [
    "def encode_text(df, vocab):\n",
    "    encoded = [\n",
    "        torch.tensor([vocab.get(w, vocab['<unk>']) for w in (q + \" \" + t).split()])\n",
    "        for q, t in zip(df['query'], df['title'])\n",
    "    ]\n",
    "    return pad_sequence(encoded, batch_first=True, padding_value=0)\n",
    "\n",
    "X_train_ids = encode_text(train_df, vocab)\n",
    "y_train = torch.tensor(train_df['label'].astype(int).values)\n",
    "\n",
    "X_dev_ids = encode_text(dev_df, vocab)\n",
    "y_dev = torch.tensor(dev_df['label'].astype(int).values)\n",
    "\n",
    "X_test_ids = encode_text(test_public_df, vocab)"
   ]
  },
  {
   "cell_type": "markdown",
   "metadata": {},
   "source": [
    "Defining the MLP Model"
   ]
  },
  {
   "cell_type": "code",
   "execution_count": null,
   "metadata": {},
   "outputs": [],
   "source": [
    "class MyMLP(nn.Module):\n",
    "    def __init__(self, embedding_matrix, hidden_dim, output_dim, num_layers):\n",
    "        super(MyMLP, self).__init__()\n",
    "        self.embedding = nn.Embedding.from_pretrained(torch.tensor(embedding_matrix))\n",
    "        self.hidden_dim = hidden_dim\n",
    "        self.layers = nn.ModuleList()\n",
    "\n",
    "        input_dim = embedding_matrix.shape[1]\n",
    "        for _ in range(num_layers - 1):\n",
    "            self.layers.append(nn.Linear(input_dim, hidden_dim))\n",
    "            input_dim = hidden_dim\n",
    "        self.out_layer = nn.Linear(hidden_dim, output_dim)\n",
    "\n",
    "    def forward(self, input_ids):\n",
    "        x = self.embedding(input_ids).mean(dim=1)\n",
    "        for layer in self.layers:\n",
    "            x = F.relu(layer(x))\n",
    "        x = self.out_layer(x)\n",
    "        return x"
   ]
  },
  {
   "cell_type": "markdown",
   "metadata": {},
   "source": [
    "Model Instantiation and Device Setup\n"
   ]
  },
  {
   "cell_type": "code",
   "execution_count": null,
   "metadata": {},
   "outputs": [
    {
     "data": {
      "text/plain": [
       "MyMLP(\n",
       "  (embedding): Embedding(10000, 100)\n",
       "  (layers): ModuleList(\n",
       "    (0): Linear(in_features=100, out_features=128, bias=True)\n",
       "    (1): Linear(in_features=128, out_features=128, bias=True)\n",
       "  )\n",
       "  (out_layer): Linear(in_features=128, out_features=3, bias=True)\n",
       ")"
      ]
     },
     "metadata": {},
     "output_type": "display_data"
    }
   ],
   "source": [
    "model = MyMLP(embedding_matrix, hidden_dim=128, output_dim=3, num_layers=3)\n",
    "device = torch.device(\"cuda\" if torch.cuda.is_available() else \"cpu\")\n",
    "model.to(device)"
   ]
  },
  {
   "cell_type": "markdown",
   "metadata": {},
   "source": [
    "Preparing Data Loaders"
   ]
  },
  {
   "cell_type": "code",
   "execution_count": null,
   "metadata": {},
   "outputs": [],
   "source": [
    "batch_size = 64\n",
    "\n",
    "train_loader = DataLoader(TensorDataset(X_train_ids, y_train), batch_size=batch_size, shuffle=True)\n",
    "dev_loader = DataLoader(TensorDataset(X_dev_ids, y_dev), batch_size=batch_size)\n",
    "test_loader = DataLoader(TensorDataset(X_test_ids), batch_size=batch_size)"
   ]
  },
  {
   "cell_type": "markdown",
   "metadata": {},
   "source": [
    "Model Training and Validation"
   ]
  },
  {
   "cell_type": "code",
   "execution_count": null,
   "metadata": {},
   "outputs": [
    {
     "name": "stdout",
     "output_type": "stream",
     "text": [
      "Epoch 1, Loss: 0.8952\n",
      "              precision    recall  f1-score   support\n",
      "\n",
      "           0     0.4826    0.0198    0.0381      4894\n",
      "           1     0.6315    0.9922    0.7718     12592\n",
      "           2     0.6000    0.0036    0.0071      2514\n",
      "\n",
      "    accuracy                         0.6300     20000\n",
      "   macro avg     0.5714    0.3385    0.2723     20000\n",
      "weighted avg     0.5911    0.6300    0.4961     20000\n",
      "\n",
      "Epoch 2, Loss: 0.8859\n",
      "              precision    recall  f1-score   support\n",
      "\n",
      "           0     0.4868    0.0793    0.1364      4894\n",
      "           1     0.6365    0.9693    0.7684     12592\n",
      "           2     0.5769    0.0060    0.0118      2514\n",
      "\n",
      "    accuracy                         0.6304     20000\n",
      "   macro avg     0.5667    0.3515    0.3055     20000\n",
      "weighted avg     0.5924    0.6304    0.5186     20000\n",
      "\n",
      "Epoch 3, Loss: 0.8737\n",
      "              precision    recall  f1-score   support\n",
      "\n",
      "           0     0.5833    0.0930    0.1604      4894\n",
      "           1     0.6401    0.9726    0.7721     12592\n",
      "           2     0.3678    0.0127    0.0246      2514\n",
      "\n",
      "    accuracy                         0.6367     20000\n",
      "   macro avg     0.5304    0.3594    0.3190     20000\n",
      "weighted avg     0.5920    0.6367    0.5284     20000\n",
      "\n",
      "Epoch 4, Loss: 0.8612\n",
      "              precision    recall  f1-score   support\n",
      "\n",
      "           0     0.6469    0.1071    0.1837      4894\n",
      "           1     0.6427    0.9754    0.7748     12592\n",
      "           2     0.3797    0.0119    0.0231      2514\n",
      "\n",
      "    accuracy                         0.6418     20000\n",
      "   macro avg     0.5564    0.3648    0.3272     20000\n",
      "weighted avg     0.6107    0.6418    0.5357     20000\n",
      "\n",
      "Epoch 5, Loss: 0.8500\n",
      "              precision    recall  f1-score   support\n",
      "\n",
      "           0     0.6120    0.1463    0.2361      4894\n",
      "           1     0.6477    0.9655    0.7753     12592\n",
      "           2     0.3770    0.0091    0.0179      2514\n",
      "\n",
      "    accuracy                         0.6448     20000\n",
      "   macro avg     0.5456    0.3736    0.3431     20000\n",
      "weighted avg     0.6049    0.6448    0.5482     20000\n",
      "\n"
     ]
    }
   ],
   "source": [
    "criterion = nn.CrossEntropyLoss()\n",
    "optimizer = optim.Adam(model.parameters(), lr=1e-3)\n",
    "\n",
    "epochs = 5\n",
    "for epoch in range(epochs):\n",
    "    model.train()\n",
    "    epoch_loss = 0\n",
    "    for inputs, labels in train_loader:\n",
    "        inputs, labels = inputs.to(device), labels.to(device)\n",
    "        optimizer.zero_grad()\n",
    "        outputs = model(inputs)\n",
    "        loss = criterion(outputs, labels)\n",
    "        loss.backward()\n",
    "        optimizer.step()\n",
    "        epoch_loss += loss.item()\n",
    "\n",
    "    print(f'Epoch {epoch+1}, Loss: {epoch_loss / len(train_loader):.4f}')\n",
    "\n",
    "    model.eval()\n",
    "    preds, truths = [], []\n",
    "    with torch.no_grad():\n",
    "        for inputs, labels in dev_loader:\n",
    "            inputs = inputs.to(device)\n",
    "            outputs = model(inputs)\n",
    "            preds.extend(outputs.argmax(dim=1).cpu().numpy())\n",
    "            truths.extend(labels.numpy())\n",
    "    print(classification_report(truths, preds, digits=4))\n"
   ]
  },
  {
   "cell_type": "markdown",
   "metadata": {},
   "source": [
    "Generating Predictions for the Test Set"
   ]
  },
  {
   "cell_type": "code",
   "execution_count": null,
   "metadata": {},
   "outputs": [],
   "source": [
    "model.eval()\n",
    "test_preds = []\n",
    "with torch.no_grad():\n",
    "    for inputs in test_loader:\n",
    "        inputs = inputs[0].to(device)\n",
    "        outputs = model(inputs)\n",
    "        test_preds.extend(outputs.argmax(dim=1).cpu().numpy())\n",
    "\n",
    "submission_df = pd.DataFrame({\n",
    "    \"id\": test_public_df[\"id\"],\n",
    "    \"label\": [str(x) for x in test_preds]\n",
    "})\n",
    "\n",
    "submission_df.to_json(\"test_public_predictions.json\", orient='records', lines=True, force_ascii=False)"
   ]
  },
  {
   "cell_type": "markdown",
   "metadata": {},
   "source": [
    "Evaluating Test Set Performance"
   ]
  },
  {
   "cell_type": "code",
   "execution_count": null,
   "metadata": {},
   "outputs": [
    {
     "data": {
      "application/vnd.google.colaboratory.intrinsic+json": {
       "summary": "{\n  \"name\": \"df_pred\",\n  \"rows\": 5000,\n  \"fields\": [\n    {\n      \"column\": \"id\",\n      \"properties\": {\n        \"dtype\": \"number\",\n        \"std\": 5729,\n        \"min\": 2,\n        \"max\": 19997,\n        \"num_unique_values\": 5000,\n        \"samples\": [\n          17752,\n          1974,\n          14928\n        ],\n        \"semantic_type\": \"\",\n        \"description\": \"\"\n      }\n    },\n    {\n      \"column\": \"label\",\n      \"properties\": {\n        \"dtype\": \"number\",\n        \"std\": 0,\n        \"min\": 0,\n        \"max\": 2,\n        \"num_unique_values\": 3,\n        \"samples\": [\n          1,\n          0,\n          2\n        ],\n        \"semantic_type\": \"\",\n        \"description\": \"\"\n      }\n    }\n  ]\n}",
       "type": "dataframe",
       "variable_name": "df_pred"
      },
      "text/html": [
       "\n",
       "  <div id=\"df-ed19cd3b-68fe-4307-a097-1c8c8c68e6a7\" class=\"colab-df-container\">\n",
       "    <div>\n",
       "<style scoped>\n",
       "    .dataframe tbody tr th:only-of-type {\n",
       "        vertical-align: middle;\n",
       "    }\n",
       "\n",
       "    .dataframe tbody tr th {\n",
       "        vertical-align: top;\n",
       "    }\n",
       "\n",
       "    .dataframe thead th {\n",
       "        text-align: right;\n",
       "    }\n",
       "</style>\n",
       "<table border=\"1\" class=\"dataframe\">\n",
       "  <thead>\n",
       "    <tr style=\"text-align: right;\">\n",
       "      <th></th>\n",
       "      <th>id</th>\n",
       "      <th>label</th>\n",
       "    </tr>\n",
       "  </thead>\n",
       "  <tbody>\n",
       "    <tr>\n",
       "      <th>0</th>\n",
       "      <td>13475</td>\n",
       "      <td>1</td>\n",
       "    </tr>\n",
       "    <tr>\n",
       "      <th>1</th>\n",
       "      <td>19170</td>\n",
       "      <td>1</td>\n",
       "    </tr>\n",
       "    <tr>\n",
       "      <th>2</th>\n",
       "      <td>15378</td>\n",
       "      <td>1</td>\n",
       "    </tr>\n",
       "    <tr>\n",
       "      <th>3</th>\n",
       "      <td>11256</td>\n",
       "      <td>1</td>\n",
       "    </tr>\n",
       "    <tr>\n",
       "      <th>4</th>\n",
       "      <td>3189</td>\n",
       "      <td>1</td>\n",
       "    </tr>\n",
       "  </tbody>\n",
       "</table>\n",
       "</div>\n",
       "    <div class=\"colab-df-buttons\">\n",
       "\n",
       "  <div class=\"colab-df-container\">\n",
       "    <button class=\"colab-df-convert\" onclick=\"convertToInteractive('df-ed19cd3b-68fe-4307-a097-1c8c8c68e6a7')\"\n",
       "            title=\"Convert this dataframe to an interactive table.\"\n",
       "            style=\"display:none;\">\n",
       "\n",
       "  <svg xmlns=\"http://www.w3.org/2000/svg\" height=\"24px\" viewBox=\"0 -960 960 960\">\n",
       "    <path d=\"M120-120v-720h720v720H120Zm60-500h600v-160H180v160Zm220 220h160v-160H400v160Zm0 220h160v-160H400v160ZM180-400h160v-160H180v160Zm440 0h160v-160H620v160ZM180-180h160v-160H180v160Zm440 0h160v-160H620v160Z\"/>\n",
       "  </svg>\n",
       "    </button>\n",
       "\n",
       "  <style>\n",
       "    .colab-df-container {\n",
       "      display:flex;\n",
       "      gap: 12px;\n",
       "    }\n",
       "\n",
       "    .colab-df-convert {\n",
       "      background-color: #E8F0FE;\n",
       "      border: none;\n",
       "      border-radius: 50%;\n",
       "      cursor: pointer;\n",
       "      display: none;\n",
       "      fill: #1967D2;\n",
       "      height: 32px;\n",
       "      padding: 0 0 0 0;\n",
       "      width: 32px;\n",
       "    }\n",
       "\n",
       "    .colab-df-convert:hover {\n",
       "      background-color: #E2EBFA;\n",
       "      box-shadow: 0px 1px 2px rgba(60, 64, 67, 0.3), 0px 1px 3px 1px rgba(60, 64, 67, 0.15);\n",
       "      fill: #174EA6;\n",
       "    }\n",
       "\n",
       "    .colab-df-buttons div {\n",
       "      margin-bottom: 4px;\n",
       "    }\n",
       "\n",
       "    [theme=dark] .colab-df-convert {\n",
       "      background-color: #3B4455;\n",
       "      fill: #D2E3FC;\n",
       "    }\n",
       "\n",
       "    [theme=dark] .colab-df-convert:hover {\n",
       "      background-color: #434B5C;\n",
       "      box-shadow: 0px 1px 3px 1px rgba(0, 0, 0, 0.15);\n",
       "      filter: drop-shadow(0px 1px 2px rgba(0, 0, 0, 0.3));\n",
       "      fill: #FFFFFF;\n",
       "    }\n",
       "  </style>\n",
       "\n",
       "    <script>\n",
       "      const buttonEl =\n",
       "        document.querySelector('#df-ed19cd3b-68fe-4307-a097-1c8c8c68e6a7 button.colab-df-convert');\n",
       "      buttonEl.style.display =\n",
       "        google.colab.kernel.accessAllowed ? 'block' : 'none';\n",
       "\n",
       "      async function convertToInteractive(key) {\n",
       "        const element = document.querySelector('#df-ed19cd3b-68fe-4307-a097-1c8c8c68e6a7');\n",
       "        const dataTable =\n",
       "          await google.colab.kernel.invokeFunction('convertToInteractive',\n",
       "                                                    [key], {});\n",
       "        if (!dataTable) return;\n",
       "\n",
       "        const docLinkHtml = 'Like what you see? Visit the ' +\n",
       "          '<a target=\"_blank\" href=https://colab.research.google.com/notebooks/data_table.ipynb>data table notebook</a>'\n",
       "          + ' to learn more about interactive tables.';\n",
       "        element.innerHTML = '';\n",
       "        dataTable['output_type'] = 'display_data';\n",
       "        await google.colab.output.renderOutput(dataTable, element);\n",
       "        const docLink = document.createElement('div');\n",
       "        docLink.innerHTML = docLinkHtml;\n",
       "        element.appendChild(docLink);\n",
       "      }\n",
       "    </script>\n",
       "  </div>\n",
       "\n",
       "\n",
       "<div id=\"df-957ffc41-d970-460a-a749-c74127d834ce\">\n",
       "  <button class=\"colab-df-quickchart\" onclick=\"quickchart('df-957ffc41-d970-460a-a749-c74127d834ce')\"\n",
       "            title=\"Suggest charts\"\n",
       "            style=\"display:none;\">\n",
       "\n",
       "<svg xmlns=\"http://www.w3.org/2000/svg\" height=\"24px\"viewBox=\"0 0 24 24\"\n",
       "     width=\"24px\">\n",
       "    <g>\n",
       "        <path d=\"M19 3H5c-1.1 0-2 .9-2 2v14c0 1.1.9 2 2 2h14c1.1 0 2-.9 2-2V5c0-1.1-.9-2-2-2zM9 17H7v-7h2v7zm4 0h-2V7h2v10zm4 0h-2v-4h2v4z\"/>\n",
       "    </g>\n",
       "</svg>\n",
       "  </button>\n",
       "\n",
       "<style>\n",
       "  .colab-df-quickchart {\n",
       "      --bg-color: #E8F0FE;\n",
       "      --fill-color: #1967D2;\n",
       "      --hover-bg-color: #E2EBFA;\n",
       "      --hover-fill-color: #174EA6;\n",
       "      --disabled-fill-color: #AAA;\n",
       "      --disabled-bg-color: #DDD;\n",
       "  }\n",
       "\n",
       "  [theme=dark] .colab-df-quickchart {\n",
       "      --bg-color: #3B4455;\n",
       "      --fill-color: #D2E3FC;\n",
       "      --hover-bg-color: #434B5C;\n",
       "      --hover-fill-color: #FFFFFF;\n",
       "      --disabled-bg-color: #3B4455;\n",
       "      --disabled-fill-color: #666;\n",
       "  }\n",
       "\n",
       "  .colab-df-quickchart {\n",
       "    background-color: var(--bg-color);\n",
       "    border: none;\n",
       "    border-radius: 50%;\n",
       "    cursor: pointer;\n",
       "    display: none;\n",
       "    fill: var(--fill-color);\n",
       "    height: 32px;\n",
       "    padding: 0;\n",
       "    width: 32px;\n",
       "  }\n",
       "\n",
       "  .colab-df-quickchart:hover {\n",
       "    background-color: var(--hover-bg-color);\n",
       "    box-shadow: 0 1px 2px rgba(60, 64, 67, 0.3), 0 1px 3px 1px rgba(60, 64, 67, 0.15);\n",
       "    fill: var(--button-hover-fill-color);\n",
       "  }\n",
       "\n",
       "  .colab-df-quickchart-complete:disabled,\n",
       "  .colab-df-quickchart-complete:disabled:hover {\n",
       "    background-color: var(--disabled-bg-color);\n",
       "    fill: var(--disabled-fill-color);\n",
       "    box-shadow: none;\n",
       "  }\n",
       "\n",
       "  .colab-df-spinner {\n",
       "    border: 2px solid var(--fill-color);\n",
       "    border-color: transparent;\n",
       "    border-bottom-color: var(--fill-color);\n",
       "    animation:\n",
       "      spin 1s steps(1) infinite;\n",
       "  }\n",
       "\n",
       "  @keyframes spin {\n",
       "    0% {\n",
       "      border-color: transparent;\n",
       "      border-bottom-color: var(--fill-color);\n",
       "      border-left-color: var(--fill-color);\n",
       "    }\n",
       "    20% {\n",
       "      border-color: transparent;\n",
       "      border-left-color: var(--fill-color);\n",
       "      border-top-color: var(--fill-color);\n",
       "    }\n",
       "    30% {\n",
       "      border-color: transparent;\n",
       "      border-left-color: var(--fill-color);\n",
       "      border-top-color: var(--fill-color);\n",
       "      border-right-color: var(--fill-color);\n",
       "    }\n",
       "    40% {\n",
       "      border-color: transparent;\n",
       "      border-right-color: var(--fill-color);\n",
       "      border-top-color: var(--fill-color);\n",
       "    }\n",
       "    60% {\n",
       "      border-color: transparent;\n",
       "      border-right-color: var(--fill-color);\n",
       "    }\n",
       "    80% {\n",
       "      border-color: transparent;\n",
       "      border-right-color: var(--fill-color);\n",
       "      border-bottom-color: var(--fill-color);\n",
       "    }\n",
       "    90% {\n",
       "      border-color: transparent;\n",
       "      border-bottom-color: var(--fill-color);\n",
       "    }\n",
       "  }\n",
       "</style>\n",
       "\n",
       "  <script>\n",
       "    async function quickchart(key) {\n",
       "      const quickchartButtonEl =\n",
       "        document.querySelector('#' + key + ' button');\n",
       "      quickchartButtonEl.disabled = true;  // To prevent multiple clicks.\n",
       "      quickchartButtonEl.classList.add('colab-df-spinner');\n",
       "      try {\n",
       "        const charts = await google.colab.kernel.invokeFunction(\n",
       "            'suggestCharts', [key], {});\n",
       "      } catch (error) {\n",
       "        console.error('Error during call to suggestCharts:', error);\n",
       "      }\n",
       "      quickchartButtonEl.classList.remove('colab-df-spinner');\n",
       "      quickchartButtonEl.classList.add('colab-df-quickchart-complete');\n",
       "    }\n",
       "    (() => {\n",
       "      let quickchartButtonEl =\n",
       "        document.querySelector('#df-957ffc41-d970-460a-a749-c74127d834ce button');\n",
       "      quickchartButtonEl.style.display =\n",
       "        google.colab.kernel.accessAllowed ? 'block' : 'none';\n",
       "    })();\n",
       "  </script>\n",
       "</div>\n",
       "\n",
       "    </div>\n",
       "  </div>\n"
      ],
      "text/plain": [
       "      id  label\n",
       "0  13475      1\n",
       "1  19170      1\n",
       "2  15378      1\n",
       "3  11256      1\n",
       "4   3189      1"
      ]
     },
     "metadata": {},
     "output_type": "display_data"
    }
   ],
   "source": [
    "import pandas as pd\n",
    "\n",
    "df_pred = pd.read_json(\"test_public_predictions.json\", lines=True)\n",
    "\n",
    "df_pred.head()\n"
   ]
  },
  {
   "cell_type": "code",
   "execution_count": null,
   "metadata": {},
   "outputs": [
    {
     "name": "stdout",
     "output_type": "stream",
     "text": [
      "Test Accuracy: 0.646\n",
      "Classification Report:\n",
      "               precision    recall  f1-score   support\n",
      "\n",
      "           0     0.6166    0.1290    0.2134      1209\n",
      "           1     0.6484    0.9725    0.7780      3159\n",
      "           2     0.2222    0.0032    0.0062       632\n",
      "\n",
      "    accuracy                         0.6460      5000\n",
      "   macro avg     0.4957    0.3682    0.3326      5000\n",
      "weighted avg     0.5868    0.6460    0.5439      5000\n",
      "\n"
     ]
    }
   ],
   "source": [
    "from sklearn.metrics import accuracy_score, classification_report\n",
    "\n",
    "df_true = load_data(\"test_public.json\")\n",
    "df_true = df_true.sort_values(\"id\").reset_index(drop=True)\n",
    "\n",
    "df_pred = pd.read_json(\"test_public_predictions.json\", lines=True)\n",
    "df_pred = df_pred.sort_values(\"id\").reset_index(drop=True)\n",
    "\n",
    "assert all(df_true[\"id\"].values == df_pred[\"id\"].values), \"The IDs do not match, please check!\"\n",
    "\n",
    "y_true = df_true[\"label\"].astype(int)\n",
    "y_pred = df_pred[\"label\"].astype(int)\n",
    "\n",
    "acc = accuracy_score(y_true, y_pred)\n",
    "print(\"Test Accuracy:\", acc)\n",
    "print(\"Classification Report:\\n\", classification_report(y_true, y_pred, digits=4))\n"
   ]
  },
  {
   "cell_type": "markdown",
   "metadata": {},
   "source": [
    "###  5.2 <a name='5.2'></a>CNN\n",
    "[Back to Table of Contents](#top)"
   ]
  },
  {
   "cell_type": "markdown",
   "metadata": {},
   "source": [
    "![CNN Model Structure](img/cnn.jpg)"
   ]
  },
  {
   "cell_type": "markdown",
   "metadata": {},
   "source": [
    "The model described is a TextCNN designed for text classification, consisting of an embedding layer initialized with pre-generated embeddings, followed by parallel convolutional layers with varying kernel sizes to capture different n-gram features.  Each convolutional output is pooled and concatenated to form a unified feature representation, which then passes through a dropout layer to reduce overfitting, and finally a fully connected layer produces logits for classification.  The network is trained using cross-entropy loss and optimized with the Adam algorithm, demonstrating effectiveness in capturing local textual patterns for accurate predictions."
   ]
  },
  {
   "cell_type": "markdown",
   "metadata": {},
   "source": [
    "Loading the Dataset"
   ]
  },
  {
   "cell_type": "code",
   "execution_count": null,
   "metadata": {},
   "outputs": [],
   "source": [
    "DATA_PATH = '/content/drive/MyDrive/CS5242/dataset/'\n",
    "\n",
    "def load_jsonl(file):\n",
    "    with open(DATA_PATH + file, 'r', encoding='utf-8') as f:\n",
    "        return pd.DataFrame([json.loads(line) for line in f])\n",
    "\n",
    "train_df = load_jsonl('train.json')\n",
    "dev_df = load_jsonl('dev.json')\n",
    "test_public_df = load_jsonl('test_public.json')"
   ]
  },
  {
   "cell_type": "markdown",
   "metadata": {},
   "source": [
    "Building Vocabulary and Encoding Text"
   ]
  },
  {
   "cell_type": "code",
   "execution_count": null,
   "metadata": {},
   "outputs": [],
   "source": [
    "def build_vocab(sentences, max_size=10000):\n",
    "    counter = Counter()\n",
    "    for sent in sentences:\n",
    "        counter.update(sent.split())\n",
    "    vocab = {'<pad>': 0, '<unk>': 1}\n",
    "    for word, _ in counter.most_common(max_size - len(vocab)):\n",
    "        vocab[word] = len(vocab)\n",
    "    return vocab\n",
    "\n",
    "def encode_text(df, vocab, min_len=5):\n",
    "    df['query'] = df['query'].astype(str)\n",
    "    df['title'] = df['title'].astype(str)\n",
    "\n",
    "    encoded = [\n",
    "        torch.tensor([vocab.get(w, vocab['<unk>']) for w in (q + \" \" + t).split()])\n",
    "        for q, t in zip(df['query'], df['title'])\n",
    "    ]\n",
    "    padded = [seq if len(seq) >= min_len else F.pad(seq, (0, min_len - len(seq)), value=0) for seq in encoded]\n",
    "    return pad_sequence(padded, batch_first=True, padding_value=0)\n",
    "\n",
    "train_text = train_df['query'].astype(str) + \" \" + train_df['title'].astype(str)\n",
    "dev_text = dev_df['query'].astype(str) + \" \" + dev_df['title'].astype(str)\n",
    "all_text = pd.concat([train_text, dev_text])\n",
    "\n",
    "vocab = build_vocab(all_text)\n",
    "embedding_dim = 100\n",
    "embedding_matrix = np.random.normal(0, 0.1, size=(len(vocab), embedding_dim)).astype(np.float32)\n",
    "\n",
    "X_train = encode_text(train_df, vocab)\n",
    "y_train = torch.tensor(train_df['label'].astype(int).values)\n",
    "\n",
    "X_dev = encode_text(dev_df, vocab)\n",
    "y_dev = torch.tensor(dev_df['label'].astype(int).values)\n",
    "\n",
    "X_test = encode_text(test_public_df, vocab)"
   ]
  },
  {
   "cell_type": "markdown",
   "metadata": {},
   "source": [
    "Defining the TextCNN Model"
   ]
  },
  {
   "cell_type": "code",
   "execution_count": null,
   "metadata": {},
   "outputs": [],
   "source": [
    "class TextCNN(nn.Module):\n",
    "    def __init__(self, embedding_matrix, num_classes, kernel_nums=[100, 100, 100], kernel_sizes=[3, 4, 5]):\n",
    "        super(TextCNN, self).__init__()\n",
    "        vocab_size, embed_dim = embedding_matrix.shape\n",
    "        self.embedding = nn.Embedding.from_pretrained(torch.tensor(embedding_matrix))\n",
    "        self.convs = nn.ModuleList([\n",
    "            nn.Conv2d(1, kernel_nums[i], (kernel_sizes[i], embed_dim))\n",
    "            for i in range(len(kernel_sizes))\n",
    "        ])\n",
    "        self.dropout = nn.Dropout(0.5)\n",
    "        self.fc = nn.Linear(sum(kernel_nums), num_classes)\n",
    "\n",
    "    def conv_and_pool(self, x, conv):\n",
    "        x = F.relu(conv(x)).squeeze(3)         # [batch_size, kernel_num, seq_len - k + 1]\n",
    "        x = F.max_pool1d(x, x.size(2)).squeeze(2)\n",
    "        return x\n",
    "\n",
    "    def forward(self, input_ids):\n",
    "        x = self.embedding(input_ids)          # [batch_size, seq_len, embed_dim]\n",
    "        x = x.unsqueeze(1)                     # [batch_size, 1, seq_len, embed_dim]\n",
    "        x = torch.cat([self.conv_and_pool(x, conv) for conv in self.convs], dim=1)\n",
    "        x = self.dropout(x)\n",
    "        logits = self.fc(x)\n",
    "        return logits"
   ]
  },
  {
   "cell_type": "markdown",
   "metadata": {},
   "source": [
    "Training and Validation of the TextCNN Model"
   ]
  },
  {
   "cell_type": "code",
   "execution_count": null,
   "metadata": {},
   "outputs": [
    {
     "name": "stdout",
     "output_type": "stream",
     "text": [
      "Epoch 1, Loss: 2524.9415\n",
      "Validation Accuracy: 0.6296\n",
      "              precision    recall  f1-score   support\n",
      "\n",
      "           0     0.0000    0.0000    0.0000      4894\n",
      "           1     0.6296    1.0000    0.7727     12592\n",
      "           2     0.0000    0.0000    0.0000      2514\n",
      "\n",
      "    accuracy                         0.6296     20000\n",
      "   macro avg     0.2099    0.3333    0.2576     20000\n",
      "weighted avg     0.3964    0.6296    0.4865     20000\n",
      "\n"
     ]
    },
    {
     "name": "stderr",
     "output_type": "stream",
     "text": [
      "/usr/local/lib/python3.11/dist-packages/sklearn/metrics/_classification.py:1565: UndefinedMetricWarning: Precision is ill-defined and being set to 0.0 in labels with no predicted samples. Use `zero_division` parameter to control this behavior.\n",
      "  _warn_prf(average, modifier, f\"{metric.capitalize()} is\", len(result))\n",
      "/usr/local/lib/python3.11/dist-packages/sklearn/metrics/_classification.py:1565: UndefinedMetricWarning: Precision is ill-defined and being set to 0.0 in labels with no predicted samples. Use `zero_division` parameter to control this behavior.\n",
      "  _warn_prf(average, modifier, f\"{metric.capitalize()} is\", len(result))\n",
      "/usr/local/lib/python3.11/dist-packages/sklearn/metrics/_classification.py:1565: UndefinedMetricWarning: Precision is ill-defined and being set to 0.0 in labels with no predicted samples. Use `zero_division` parameter to control this behavior.\n",
      "  _warn_prf(average, modifier, f\"{metric.capitalize()} is\", len(result))\n"
     ]
    },
    {
     "name": "stdout",
     "output_type": "stream",
     "text": [
      "Epoch 2, Loss: 2515.7200\n",
      "Validation Accuracy: 0.6296\n",
      "              precision    recall  f1-score   support\n",
      "\n",
      "           0     0.0000    0.0000    0.0000      4894\n",
      "           1     0.6296    1.0000    0.7727     12592\n",
      "           2     0.0000    0.0000    0.0000      2514\n",
      "\n",
      "    accuracy                         0.6296     20000\n",
      "   macro avg     0.2099    0.3333    0.2576     20000\n",
      "weighted avg     0.3964    0.6296    0.4865     20000\n",
      "\n"
     ]
    },
    {
     "name": "stderr",
     "output_type": "stream",
     "text": [
      "/usr/local/lib/python3.11/dist-packages/sklearn/metrics/_classification.py:1565: UndefinedMetricWarning: Precision is ill-defined and being set to 0.0 in labels with no predicted samples. Use `zero_division` parameter to control this behavior.\n",
      "  _warn_prf(average, modifier, f\"{metric.capitalize()} is\", len(result))\n",
      "/usr/local/lib/python3.11/dist-packages/sklearn/metrics/_classification.py:1565: UndefinedMetricWarning: Precision is ill-defined and being set to 0.0 in labels with no predicted samples. Use `zero_division` parameter to control this behavior.\n",
      "  _warn_prf(average, modifier, f\"{metric.capitalize()} is\", len(result))\n",
      "/usr/local/lib/python3.11/dist-packages/sklearn/metrics/_classification.py:1565: UndefinedMetricWarning: Precision is ill-defined and being set to 0.0 in labels with no predicted samples. Use `zero_division` parameter to control this behavior.\n",
      "  _warn_prf(average, modifier, f\"{metric.capitalize()} is\", len(result))\n"
     ]
    },
    {
     "name": "stdout",
     "output_type": "stream",
     "text": [
      "Epoch 3, Loss: 2510.1681\n",
      "Validation Accuracy: 0.6296\n",
      "              precision    recall  f1-score   support\n",
      "\n",
      "           0     0.5000    0.0002    0.0004      4894\n",
      "           1     0.6296    0.9999    0.7727     12592\n",
      "           2     0.0000    0.0000    0.0000      2514\n",
      "\n",
      "    accuracy                         0.6296     20000\n",
      "   macro avg     0.3765    0.3334    0.2577     20000\n",
      "weighted avg     0.5188    0.6296    0.4866     20000\n",
      "\n"
     ]
    },
    {
     "name": "stderr",
     "output_type": "stream",
     "text": [
      "/usr/local/lib/python3.11/dist-packages/sklearn/metrics/_classification.py:1565: UndefinedMetricWarning: Precision is ill-defined and being set to 0.0 in labels with no predicted samples. Use `zero_division` parameter to control this behavior.\n",
      "  _warn_prf(average, modifier, f\"{metric.capitalize()} is\", len(result))\n",
      "/usr/local/lib/python3.11/dist-packages/sklearn/metrics/_classification.py:1565: UndefinedMetricWarning: Precision is ill-defined and being set to 0.0 in labels with no predicted samples. Use `zero_division` parameter to control this behavior.\n",
      "  _warn_prf(average, modifier, f\"{metric.capitalize()} is\", len(result))\n",
      "/usr/local/lib/python3.11/dist-packages/sklearn/metrics/_classification.py:1565: UndefinedMetricWarning: Precision is ill-defined and being set to 0.0 in labels with no predicted samples. Use `zero_division` parameter to control this behavior.\n",
      "  _warn_prf(average, modifier, f\"{metric.capitalize()} is\", len(result))\n"
     ]
    },
    {
     "name": "stdout",
     "output_type": "stream",
     "text": [
      "Epoch 4, Loss: 2505.7881\n",
      "Validation Accuracy: 0.6301\n",
      "              precision    recall  f1-score   support\n",
      "\n",
      "           0     0.6000    0.0025    0.0049      4894\n",
      "           1     0.6301    0.9994    0.7729     12592\n",
      "           2     0.8571    0.0024    0.0048      2514\n",
      "\n",
      "    accuracy                         0.6301     20000\n",
      "   macro avg     0.6957    0.3347    0.2608     20000\n",
      "weighted avg     0.6512    0.6301    0.4884     20000\n",
      "\n",
      "Epoch 5, Loss: 2502.9500\n",
      "Validation Accuracy: 0.62985\n",
      "              precision    recall  f1-score   support\n",
      "\n",
      "           0     0.5769    0.0031    0.0061      4894\n",
      "           1     0.6303    0.9975    0.7725     12592\n",
      "           2     0.4565    0.0084    0.0164      2514\n",
      "\n",
      "    accuracy                         0.6299     20000\n",
      "   macro avg     0.5546    0.3363    0.2650     20000\n",
      "weighted avg     0.5954    0.6299    0.4899     20000\n",
      "\n"
     ]
    }
   ],
   "source": [
    "device = torch.device(\"cuda\" if torch.cuda.is_available() else \"cpu\")\n",
    "\n",
    "train_loader = DataLoader(TensorDataset(X_train, y_train), batch_size=64, shuffle=True)\n",
    "dev_loader = DataLoader(TensorDataset(X_dev, y_dev), batch_size=64)\n",
    "test_loader = DataLoader(TensorDataset(X_test), batch_size=64)\n",
    "\n",
    "model = TextCNN(embedding_matrix, num_classes=3)\n",
    "model.to(device)\n",
    "\n",
    "criterion = nn.CrossEntropyLoss()\n",
    "optimizer = optim.Adam(model.parameters(), lr=1e-3)\n",
    "\n",
    "for epoch in range(5):\n",
    "    model.train()\n",
    "    total_loss = 0\n",
    "    for batch_X, batch_y in train_loader:\n",
    "        batch_X, batch_y = batch_X.to(device), batch_y.to(device)\n",
    "        optimizer.zero_grad()\n",
    "        output = model(batch_X)\n",
    "        loss = criterion(output, batch_y)\n",
    "        loss.backward()\n",
    "        optimizer.step()\n",
    "        total_loss += loss.item()\n",
    "    print(f\"Epoch {epoch+1}, Loss: {total_loss:.4f}\")\n",
    "\n",
    "    model.eval()\n",
    "    preds, truths = [], []\n",
    "    with torch.no_grad():\n",
    "        for batch_X, batch_y in dev_loader:\n",
    "            batch_X = batch_X.to(device)\n",
    "            logits = model(batch_X)\n",
    "            preds.extend(torch.argmax(logits, dim=1).cpu().numpy())\n",
    "            truths.extend(batch_y.numpy())\n",
    "    print(\"Validation Accuracy:\", accuracy_score(truths, preds))\n",
    "    print(classification_report(truths, preds, digits=4))\n"
   ]
  },
  {
   "cell_type": "markdown",
   "metadata": {},
   "source": [
    "Evaluating Test Set Performance\n"
   ]
  },
  {
   "cell_type": "code",
   "execution_count": null,
   "metadata": {},
   "outputs": [
    {
     "name": "stdout",
     "output_type": "stream",
     "text": [
      "Test Accuracy: 0.632\n",
      "Classification Report:\n",
      "               precision    recall  f1-score   support\n",
      "\n",
      "           0     0.8333    0.0041    0.0082      1209\n",
      "           1     0.6322    0.9984    0.7742      3159\n",
      "           2     0.2000    0.0016    0.0031       632\n",
      "\n",
      "    accuracy                         0.6320      5000\n",
      "   macro avg     0.5552    0.3347    0.2618      5000\n",
      "weighted avg     0.6262    0.6320    0.4915      5000\n",
      "\n"
     ]
    }
   ],
   "source": [
    "from sklearn.metrics import accuracy_score, classification_report\n",
    "\n",
    "df_true = load_jsonl(\"test_public.json\")\n",
    "df_true = df_true.sort_values(\"id\").reset_index(drop=True)\n",
    "\n",
    "df_pred = pd.read_json(\"test_public_predictions_cnn.json\", lines=True)\n",
    "df_pred = df_pred.sort_values(\"id\").reset_index(drop=True)\n",
    "\n",
    "assert all(df_true[\"id\"].values == df_pred[\"id\"].values), \"❌ The IDs do not match, please check!\"\n",
    "\n",
    "y_true = df_true[\"label\"].astype(int)\n",
    "y_pred = df_pred[\"label\"].astype(int)\n",
    "\n",
    "acc = accuracy_score(y_true, y_pred)\n",
    "print(\"Test Accuracy:\", acc)\n",
    "print(\"Classification Report:\\n\", classification_report(y_true, y_pred, digits=4))\n"
   ]
  },
  {
   "cell_type": "markdown",
   "metadata": {},
   "source": [
    "###  5.3 <a name='5.3'></a>RNN(Single Tower+Tow Tower)\n",
    "[Back to Table of Contents](#top)"
   ]
  },
  {
   "cell_type": "markdown",
   "metadata": {},
   "source": [
    "![RNN](img/rnn.png)"
   ]
  },
  {
   "cell_type": "markdown",
   "metadata": {},
   "source": [
    "The SingleTowerRNN adopts a \"single-tower\" architecture. It first combines the two input texts (e.g., query and title) into a single sequence, then processes this combined sequence using a single RNN network, and finally outputs the prediction result through a fully connected layer. This model captures interaction information between the query and title early within the RNN layers.\n",
    "\n",
    "The TwoTowerRNN uses a \"two-tower\" architecture. It builds separate, independent RNN \"towers\" for each input text (e.g., query and title) to generate their respective representation vectors. These towers share the embedding layer but have independent RNN layers. After each tower processes its input, their respective final representation vectors are concatenated, and then fed into a fully connected layer for the final relevance prediction. This approach focuses on independently understanding the semantics of each input first, before making an interactive judgment."
   ]
  },
  {
   "cell_type": "markdown",
   "metadata": {},
   "source": [
    "####  Preprocessing <a name='Preprocessing'></a>"
   ]
  },
  {
   "cell_type": "code",
   "execution_count": null,
   "metadata": {},
   "outputs": [],
   "source": [
    "def tokenize(text):\n",
    "    \"\"\"Tokenizes Chinese text using jieba.\"\"\"\n",
    "    if text is None: return []\n",
    "    # Use cut_for_search for potentially better recall\n",
    "    return jieba.lcut_for_search(str(text)) # Ensure text is string\n",
    "\n",
    "def build_vocab(texts, max_size, min_freq):\n",
    "    \"\"\"Builds a vocabulary including <PAD>, <UNK>, <SEP>.\"\"\"\n",
    "    word_counts = Counter()\n",
    "    print(\"Building vocabulary...\")\n",
    "    for text in texts:\n",
    "        word_counts.update(text)\n",
    "\n",
    "    sorted_words = sorted(word_counts.items(), key=lambda x: (-x[1], x[0]))\n",
    "    max_real_words = max_size - 3 # Reserve space for PAD, UNK, SEP\n",
    "    vocab_words = [word for word, freq in sorted_words if freq >= min_freq]\n",
    "    if len(vocab_words) > max_real_words:\n",
    "        vocab_words = vocab_words[:max_real_words]\n",
    "\n",
    "    word_to_idx = {'<PAD>': 0, '<UNK>': 1, '<SEP>': 2}\n",
    "    idx_counter = 3\n",
    "    for word in vocab_words:\n",
    "        if word not in word_to_idx:\n",
    "             word_to_idx[word] = idx_counter\n",
    "             idx_counter += 1\n",
    "\n",
    "    print(f\"Vocabulary built with {len(word_to_idx)} words.\")\n",
    "    return word_to_idx\n",
    "\n",
    "def tokens_to_indices(tokens, word_to_idx, max_len):\n",
    "     \"\"\"Converts tokens to indices, truncates.\"\"\"\n",
    "     indices = [word_to_idx.get(word, word_to_idx['<UNK>']) for word in tokens]\n",
    "     return indices[:max_len]\n",
    "\n",
    "def pad_sequence(indices, max_len, pad_idx):\n",
    "    \"\"\"Pads sequence to max_len.\"\"\"\n",
    "    current_len = len(indices)\n",
    "    if current_len < max_len:\n",
    "        return indices + [pad_idx] * (max_len - current_len)\n",
    "    else:\n",
    "        return indices[:max_len]"
   ]
  },
  {
   "cell_type": "markdown",
   "metadata": {},
   "source": [
    "####  Unified Dataset <a name='Unified_Dataset'></a>"
   ]
  },
  {
   "cell_type": "code",
   "execution_count": null,
   "metadata": {},
   "outputs": [],
   "source": [
    "class RelevanceDataset(data.Dataset):\n",
    "    def __init__(self, queries, titles, labels, word_to_idx, max_query_len, max_title_len, max_combined_len):\n",
    "        self.queries = queries\n",
    "        self.titles = titles\n",
    "        self.labels = labels\n",
    "        self.word_to_idx = word_to_idx\n",
    "        self.max_query_len = max_query_len\n",
    "        self.max_title_len = max_title_len\n",
    "        self.max_combined_len = max_combined_len\n",
    "        self.pad_idx = word_to_idx['<PAD>']\n",
    "        self.sep_idx = word_to_idx['<SEP>']\n",
    "\n",
    "    def __len__(self):\n",
    "        return len(self.labels)\n",
    "\n",
    "    def __getitem__(self, index):\n",
    "        query = self.queries[index]\n",
    "        title = self.titles[index]\n",
    "        label = self.labels[index]\n",
    "\n",
    "        query_tokens = tokenize(query)\n",
    "        title_tokens = tokenize(title)\n",
    "\n",
    "        # Indices before padding (for combining)\n",
    "        query_indices_unpadded = tokens_to_indices(query_tokens, self.word_to_idx, self.max_query_len)\n",
    "        title_indices_unpadded = tokens_to_indices(title_tokens, self.word_to_idx, self.max_title_len)\n",
    "\n",
    "        # --- Prepare data for BOTH architectures ---\n",
    "\n",
    "        # For Two-Tower Model (Separate Padded Sequences)\n",
    "        query_padded = pad_sequence(query_indices_unpadded, self.max_query_len, self.pad_idx)\n",
    "        title_padded = pad_sequence(title_indices_unpadded, self.max_title_len, self.pad_idx)\n",
    "\n",
    "        # For Single-Tower Model (Combined Padded Sequence)\n",
    "        combined_indices = query_indices_unpadded + [self.sep_idx] + title_indices_unpadded\n",
    "        combined_padded = pad_sequence(combined_indices, self.max_combined_len, self.pad_idx)\n",
    "\n",
    "        # Convert to tensors\n",
    "        query_tensor = torch.tensor(query_padded, dtype=torch.long)\n",
    "        title_tensor = torch.tensor(title_padded, dtype=torch.long)\n",
    "        combined_tensor = torch.tensor(combined_padded, dtype=torch.long)\n",
    "        label_tensor = torch.tensor(label, dtype=torch.long)\n",
    "\n",
    "        return query_tensor, title_tensor, combined_tensor, label_tensor"
   ]
  },
  {
   "cell_type": "markdown",
   "metadata": {},
   "source": [
    "####  Model Definition <a name='Model_Definition'></a>"
   ]
  },
  {
   "cell_type": "code",
   "execution_count": null,
   "metadata": {},
   "outputs": [],
   "source": [
    "def _extract_final_hidden(hidden_state, num_layers, num_directions, batch_size):\n",
    "    # hidden_state shape: (num_layers * num_directions, batch_size, rnn_hidden_dim)\n",
    "    # Reshape to view layers and directions separately\n",
    "    hidden = hidden_state.view(num_layers, num_directions, batch_size, -1)\n",
    "    # Get the hidden state of the last layer (forward and backward if bidirectional)\n",
    "    # Shape: (num_directions, batch_size, rnn_hidden_dim)\n",
    "    hidden_last_layer = hidden[-1]\n",
    "    # Permute and reshape to (batch_size, num_directions * rnn_hidden_dim)\n",
    "    final_hidden = hidden_last_layer.permute(1, 0, 2).reshape(batch_size, -1)\n",
    "    return final_hidden\n",
    "\n",
    "class SingleTowerRNN(nn.Module):\n",
    "    def __init__(self, vocab_size, embedding_dim, hidden_dim, num_classes,\n",
    "                 rnn_layers, dropout_prob, bidirectional, rnn_nonlinearity, pad_idx):\n",
    "        super().__init__()\n",
    "        self.embedding = nn.Embedding(vocab_size, embedding_dim, padding_idx=pad_idx)\n",
    "        rnn_hidden_dim = hidden_dim // 2 if bidirectional else hidden_dim\n",
    "        num_directions = 2 if bidirectional else 1\n",
    "        self.rnn = nn.RNN(embedding_dim, rnn_hidden_dim, num_layers=rnn_layers,\n",
    "                          nonlinearity=rnn_nonlinearity, batch_first=True,\n",
    "                          dropout=dropout_prob if rnn_layers > 1 else 0,\n",
    "                          bidirectional=bidirectional)\n",
    "        self.dropout = nn.Dropout(dropout_prob)\n",
    "        self.fc = nn.Linear(hidden_dim, num_classes) # Input is hidden_dim (num_directions * rnn_hidden_dim)\n",
    "        self.rnn_layers = rnn_layers\n",
    "        self.num_directions = num_directions\n",
    "\n",
    "    def forward(self, combined_indices):\n",
    "        # combined_indices: (batch_size, max_combined_len)\n",
    "        embedded = self.dropout(self.embedding(combined_indices))\n",
    "        output, hidden = self.rnn(embedded)\n",
    "        # hidden: (num_layers * num_directions, batch_size, rnn_hidden_dim)\n",
    "        final_hidden = _extract_final_hidden(hidden, self.rnn_layers, self.num_directions, combined_indices.size(0))\n",
    "        # final_hidden: (batch_size, hidden_dim)\n",
    "        logits = self.fc(self.dropout(final_hidden))\n",
    "        return logits\n",
    "\n",
    "class TwoTowerRNN(nn.Module):\n",
    "    def __init__(self, vocab_size, embedding_dim, hidden_dim, num_classes,\n",
    "                 rnn_layers, dropout_prob, bidirectional, rnn_nonlinearity, pad_idx):\n",
    "        super().__init__()\n",
    "        # Share the embedding layer between towers\n",
    "        self.embedding = nn.Embedding(vocab_size, embedding_dim, padding_idx=pad_idx)\n",
    "\n",
    "        rnn_hidden_dim = hidden_dim // 2 if bidirectional else hidden_dim\n",
    "        num_directions = 2 if bidirectional else 1\n",
    "\n",
    "        self.rnn_query = nn.RNN(embedding_dim, rnn_hidden_dim, num_layers=rnn_layers,\n",
    "                                nonlinearity=rnn_nonlinearity, batch_first=True,\n",
    "                                dropout=dropout_prob if rnn_layers > 1 else 0,\n",
    "                                bidirectional=bidirectional)\n",
    "        self.rnn_title = nn.RNN(embedding_dim, rnn_hidden_dim, num_layers=rnn_layers,\n",
    "                                nonlinearity=rnn_nonlinearity, batch_first=True,\n",
    "                                dropout=dropout_prob if rnn_layers > 1 else 0,\n",
    "                                bidirectional=bidirectional)\n",
    "\n",
    "        self.dropout = nn.Dropout(dropout_prob)\n",
    "        # Input to FC layer is concatenation of final hidden states from both towers\n",
    "        self.fc = nn.Linear(hidden_dim * 2, num_classes)\n",
    "        self.rnn_layers = rnn_layers\n",
    "        self.num_directions = num_directions\n",
    "\n",
    "    def forward(self, query_indices, title_indices):\n",
    "        # query_indices: (batch_size, max_query_len)\n",
    "        # title_indices: (batch_size, max_title_len)\n",
    "\n",
    "        query_embedded = self.dropout(self.embedding(query_indices))\n",
    "        title_embedded = self.dropout(self.embedding(title_indices))\n",
    "\n",
    "        _, query_hidden = self.rnn_query(query_embedded)\n",
    "        _, title_hidden = self.rnn_title(title_embedded)\n",
    "        # hidden shapes: (num_layers * num_directions, batch_size, rnn_hidden_dim)\n",
    "\n",
    "        query_final_hidden = _extract_final_hidden(query_hidden, self.rnn_layers, self.num_directions, query_indices.size(0))\n",
    "        title_final_hidden = _extract_final_hidden(title_hidden, self.rnn_layers, self.num_directions, title_indices.size(0))\n",
    "        # final hidden shapes: (batch_size, hidden_dim)\n",
    "\n",
    "        # Concatenate the final states\n",
    "        combined = torch.cat((query_final_hidden, title_final_hidden), dim=1)\n",
    "        # combined: (batch_size, hidden_dim * 2)\n",
    "\n",
    "        logits = self.fc(self.dropout(combined))\n",
    "        return logits"
   ]
  },
  {
   "cell_type": "markdown",
   "metadata": {},
   "source": [
    "####  Training Function <a name='Training_Function'></a>"
   ]
  },
  {
   "cell_type": "code",
   "execution_count": null,
   "metadata": {},
   "outputs": [],
   "source": [
    "def train_model(model, model_architecture, train_loader, val_loader, optimizer, criterion, num_epochs, device, save_path):\n",
    "    print(f\"\\n--- Starting Training ({model_architecture.upper()}) ---\")\n",
    "    best_val_metric = -1.0 # Initialize with a value lower than any possible F1 score\n",
    "    start_train_time = time.time()\n",
    "\n",
    "    for epoch in range(num_epochs):\n",
    "        epoch_start_time = time.time()\n",
    "        model.train()\n",
    "        epoch_train_loss = 0.0\n",
    "        total_train_samples = 0\n",
    "\n",
    "        # --- Training Loop with TQDM ---\n",
    "        train_iterator = tqdm(train_loader, desc=f\"Epoch {epoch+1}/{num_epochs} Training\", leave=False)\n",
    "        for batch_idx, batch in enumerate(train_iterator):\n",
    "            query_batch, title_batch, combined_batch, labels_batch = batch\n",
    "            labels_batch = labels_batch.to(device)\n",
    "\n",
    "            optimizer.zero_grad()\n",
    "\n",
    "            if model_architecture == 'single':\n",
    "                model_input = combined_batch.to(device)\n",
    "                logits = model(model_input)\n",
    "            elif model_architecture == 'two':\n",
    "                query_input = query_batch.to(device)\n",
    "                title_input = title_batch.to(device)\n",
    "                logits = model(query_input, title_input)\n",
    "            else:\n",
    "                raise ValueError(\"Invalid model_architecture specified\")\n",
    "\n",
    "            loss = criterion(logits, labels_batch)\n",
    "            loss.backward()\n",
    "            optimizer.step()\n",
    "\n",
    "            epoch_train_loss += loss.item() * labels_batch.size(0)\n",
    "            total_train_samples += labels_batch.size(0)\n",
    "\n",
    "            # Update TQDM postfix with current batch loss\n",
    "            train_iterator.set_postfix(loss=f\"{loss.item():.4f}\")\n",
    "        # --- End Training Loop ---\n",
    "\n",
    "        avg_train_loss = epoch_train_loss / total_train_samples\n",
    "        print(f\"Epoch {epoch+1}/{num_epochs} Training: loss={avg_train_loss:.4f}\") # Print average loss after epoch\n",
    "\n",
    "        # --- Validation Step with TQDM ---\n",
    "        model.eval()\n",
    "        all_val_preds = []\n",
    "        all_val_labels = []\n",
    "\n",
    "        val_iterator = tqdm(val_loader, desc=f\"Epoch {epoch+1}/{num_epochs} Evaluating\", leave=False)\n",
    "        with torch.no_grad():\n",
    "            for batch in val_iterator:\n",
    "                query_batch, title_batch, combined_batch, labels_batch = batch\n",
    "                labels_batch = labels_batch.to(device)\n",
    "                all_val_labels.extend(labels_batch.cpu().numpy()) # Collect labels\n",
    "\n",
    "                if model_architecture == 'single':\n",
    "                    model_input = combined_batch.to(device)\n",
    "                    logits = model(model_input)\n",
    "                elif model_architecture == 'two':\n",
    "                    query_input = query_batch.to(device)\n",
    "                    title_input = title_batch.to(device)\n",
    "                    logits = model(query_input, title_input)\n",
    "                else:\n",
    "                    raise ValueError(\"Invalid model_architecture specified\")\n",
    "\n",
    "                preds = torch.argmax(logits, dim=1)\n",
    "                all_val_preds.extend(preds.cpu().numpy()) # Collect predictions\n",
    "        # --- End Validation Loop ---\n",
    "\n",
    "        # Calculate Validation Metrics\n",
    "        val_accuracy = accuracy_score(all_val_labels, all_val_preds)\n",
    "        # Calculate weighted F1 score\n",
    "        val_f1 = f1_score(all_val_labels, all_val_preds, average='weighted', zero_division=0)\n",
    "\n",
    "        print(f\"Validation Accuracy: {val_accuracy:.4f}\")\n",
    "        print(f\"Validation F1 Score: {val_f1:.4f}\")\n",
    "\n",
    "        # Print Classification Report for Validation\n",
    "        target_names = ['Relevance 0', 'Relevance 1', 'Relevance 2']\n",
    "        try:\n",
    "            unique_labels_in_data = sorted(list(set(all_val_labels) | set(all_val_preds)))\n",
    "            current_target_names = [target_names[i] for i in unique_labels_in_data if i < len(target_names)]\n",
    "            report = classification_report(all_val_labels, all_val_preds, target_names=current_target_names, labels=unique_labels_in_data, digits=4, zero_division=0)\n",
    "            print(report)\n",
    "        except Exception as e:\n",
    "            print(f\"Could not generate full classification report (validation): {e}\")\n",
    "            print(classification_report(all_val_labels, all_val_preds, digits=4, zero_division=0))\n",
    "\n",
    "\n",
    "        # Save best model based on weighted F1 score\n",
    "        if val_f1 > best_val_metric:\n",
    "            best_val_metric = val_f1\n",
    "            torch.save(model.state_dict(), save_path)\n",
    "            print(f\"save best model to {save_path} (Val F1: {best_val_metric:.4f})\") # Indicate saving\n",
    "\n",
    "    total_train_duration = time.time() - start_train_time\n",
    "    print(f\"--- Training Finished ({model_architecture.upper()}) in {total_train_duration:.2f}s ---\")\n",
    "    print(f\"Best Validation F1 Score ({model_architecture.upper()}): {best_val_metric:.4f}\")"
   ]
  },
  {
   "cell_type": "markdown",
   "metadata": {},
   "source": [
    "####  Evaluation Function <a name='Evaluation_Function'></a>"
   ]
  },
  {
   "cell_type": "code",
   "execution_count": null,
   "metadata": {},
   "outputs": [],
   "source": [
    "def evaluate_model(model, model_architecture, test_loader, criterion, device):\n",
    "    print(f\"\\n--- Starting Evaluation on Test Set ({model_architecture.upper()}) ---\")\n",
    "    model.eval()\n",
    "    all_preds = []\n",
    "    all_labels = []\n",
    "\n",
    "    # --- Evaluation Loop with TQDM ---\n",
    "    test_iterator = tqdm(test_loader, desc=\"Evaluating Test Set\", leave=True) # leave=True to keep bar after completion\n",
    "    with torch.no_grad():\n",
    "        for batch in test_iterator:\n",
    "            query_batch, title_batch, combined_batch, labels_batch = batch\n",
    "            labels_batch = labels_batch.to(device)\n",
    "            all_labels.extend(labels_batch.cpu().numpy()) # Collect labels\n",
    "\n",
    "            if model_architecture == 'single':\n",
    "                model_input = combined_batch.to(device)\n",
    "                logits = model(model_input)\n",
    "            elif model_architecture == 'two':\n",
    "                query_input = query_batch.to(device)\n",
    "                title_input = title_batch.to(device)\n",
    "                logits = model(query_input, title_input)\n",
    "            else:\n",
    "                raise ValueError(\"Invalid model_architecture specified\")\n",
    "\n",
    "            # loss = criterion(logits, labels_batch)\n",
    "            # total_loss += loss.item() * labels_batch.size(0)\n",
    "\n",
    "            preds = torch.argmax(logits, dim=1)\n",
    "            all_preds.extend(preds.cpu().numpy()) # Collect predictions\n",
    "    # --- End Evaluation Loop ---\n",
    "\n",
    "\n",
    "    if not all_labels:\n",
    "        print(\"Error: No samples found in the test loader for evaluation.\")\n",
    "        return 0.0, 0.0, [], [] # Return zeros or handle appropriately\n",
    "\n",
    "    # Calculate Test Metrics\n",
    "    accuracy = accuracy_score(all_labels, all_preds)\n",
    "    test_f1 = f1_score(all_labels, all_preds, average='weighted', zero_division=0) # Weighted F1\n",
    "\n",
    "    print(f\"Test Set Accuracy: {accuracy:.4f}\")\n",
    "    print(f\"Test Set F1 Score: {test_f1:.4f}\")\n",
    "\n",
    "    # Print Classification Report for Test Set\n",
    "    target_names = ['Relevance 0', 'Relevance 1', 'Relevance 2']\n",
    "    try:\n",
    "        unique_labels_in_data = sorted(list(set(all_labels) | set(all_preds)))\n",
    "        current_target_names = [target_names[i] for i in unique_labels_in_data if i < len(target_names)]\n",
    "        report = classification_report(all_labels, all_preds, target_names=current_target_names, labels=unique_labels_in_data, digits=4, zero_division=0)\n",
    "        print(report)\n",
    "    except Exception as e:\n",
    "        print(f\"Could not generate full classification report (test): {e}\")\n",
    "        print(classification_report(all_labels, all_preds, digits=4, zero_division=0))\n",
    "\n",
    "    # print(\"\\nConfusion Matrix:\")\n",
    "    # cm = confusion_matrix(all_labels, all_preds, labels=[0, 1, 2])\n",
    "    # print(cm)\n",
    "\n",
    "    print(f\"--- Evaluation Finished ({model_architecture.upper()}) ---\")\n",
    "    return accuracy, test_f1, all_preds, all_labels"
   ]
  },
  {
   "cell_type": "markdown",
   "metadata": {},
   "source": [
    "####  Main Execution <a name='Main_Execution'></a>"
   ]
  },
  {
   "cell_type": "code",
   "execution_count": null,
   "metadata": {},
   "outputs": [],
   "source": [
    "# Build Vocabulary from Training Data Only\n",
    "print(\"\\nTokenizing training data for vocabulary...\")\n",
    "train_query_tokens = [tokenize(q) for q in train_df['query']]\n",
    "train_title_tokens = [tokenize(t) for t in train_df['title']]\n",
    "word_to_idx = build_vocab(train_query_tokens + train_title_tokens,\n",
    "                          CONFIG[\"vocab_max_size\"], CONFIG[\"vocab_min_freq\"])\n",
    "vocab_size = len(word_to_idx)\n",
    "pad_idx = word_to_idx['<PAD>'] # Get pad index for models\n",
    "\n",
    "# Create Datasets and DataLoaders (Unified Dataset)\n",
    "train_dataset = RelevanceDataset(train_df['query'].tolist(), train_df['title'].tolist(), train_df['label'].tolist(),\n",
    "                                  word_to_idx, CONFIG[\"max_query_len\"], CONFIG[\"max_title_len\"], CONFIG[\"max_combined_len\"])\n",
    "val_dataset = RelevanceDataset(val_df['query'].tolist(), val_df['title'].tolist(), val_df['label'].tolist(),\n",
    "                                word_to_idx, CONFIG[\"max_query_len\"], CONFIG[\"max_title_len\"], CONFIG[\"max_combined_len\"])\n",
    "test_dataset = RelevanceDataset(test_df['query'].tolist(), test_df['title'].tolist(), test_df['label'].tolist(),\n",
    "                                word_to_idx, CONFIG[\"max_query_len\"], CONFIG[\"max_title_len\"], CONFIG[\"max_combined_len\"])\n",
    "\n",
    "train_loader = data.DataLoader(train_dataset, batch_size=CONFIG[\"batch_size\"], shuffle=True, num_workers=0, pin_memory=True)\n",
    "val_loader = data.DataLoader(val_dataset, batch_size=CONFIG[\"batch_size\"], shuffle=False, num_workers=0, pin_memory=True)\n",
    "test_loader = data.DataLoader(test_dataset, batch_size=CONFIG[\"batch_size\"], shuffle=False, num_workers=0, pin_memory=True)\n",
    "\n",
    "\n",
    "# --- Shared Components ---\n",
    "criterion = nn.CrossEntropyLoss()"
   ]
  },
  {
   "cell_type": "markdown",
   "metadata": {},
   "source": [
    "####  SINGLE TOWER RNN <a name='SINGLE_TOWER_RNN'></a>"
   ]
  },
  {
   "cell_type": "code",
   "execution_count": null,
   "metadata": {},
   "outputs": [
    {
     "name": "stdout",
     "output_type": "stream",
     "text": [
      "\n",
      "==================== SINGLE TOWER RNN ====================\n",
      "\n",
      "--- Starting Training (SINGLE) ---\n"
     ]
    },
    {
     "data": {
      "application/vnd.jupyter.widget-view+json": {
       "model_id": "47abbcb047544e8ca4ae0ad703e592bf",
       "version_major": 2,
       "version_minor": 0
      },
      "text/plain": [
       "Epoch 1/10 Training:   0%|          | 0/2813 [00:00<?, ?it/s]"
      ]
     },
     "metadata": {},
     "output_type": "display_data"
    },
    {
     "name": "stdout",
     "output_type": "stream",
     "text": [
      "Epoch 1/10 Training: loss=0.8758\n"
     ]
    },
    {
     "data": {
      "application/vnd.jupyter.widget-view+json": {
       "model_id": "50eb7cfc3f5d421abed48c78995a0320",
       "version_major": 2,
       "version_minor": 0
      },
      "text/plain": [
       "Epoch 1/10 Evaluating:   0%|          | 0/313 [00:00<?, ?it/s]"
      ]
     },
     "metadata": {},
     "output_type": "display_data"
    },
    {
     "name": "stdout",
     "output_type": "stream",
     "text": [
      "Validation Accuracy: 0.6317\n",
      "Validation F1 Score: 0.4961\n",
      "              precision    recall  f1-score   support\n",
      "\n",
      " Relevance 0     0.6025    0.0198    0.0384      4894\n",
      " Relevance 1     0.6319    0.9956    0.7731     12592\n",
      " Relevance 2     0.0000    0.0000    0.0000      2514\n",
      "\n",
      "    accuracy                         0.6317     20000\n",
      "   macro avg     0.4115    0.3385    0.2705     20000\n",
      "weighted avg     0.5453    0.6317    0.4961     20000\n",
      "\n",
      "save best model to best_single_tower_rnn.pth (Val F1: 0.4961)\n"
     ]
    },
    {
     "data": {
      "application/vnd.jupyter.widget-view+json": {
       "model_id": "b6568bd521054a209da220ab2f74226e",
       "version_major": 2,
       "version_minor": 0
      },
      "text/plain": [
       "Epoch 2/10 Training:   0%|          | 0/2813 [00:00<?, ?it/s]"
      ]
     },
     "metadata": {},
     "output_type": "display_data"
    },
    {
     "name": "stdout",
     "output_type": "stream",
     "text": [
      "Epoch 2/10 Training: loss=0.8417\n"
     ]
    },
    {
     "data": {
      "application/vnd.jupyter.widget-view+json": {
       "model_id": "923e2143dc0a4be0bc352c88086c9387",
       "version_major": 2,
       "version_minor": 0
      },
      "text/plain": [
       "Epoch 2/10 Evaluating:   0%|          | 0/313 [00:00<?, ?it/s]"
      ]
     },
     "metadata": {},
     "output_type": "display_data"
    },
    {
     "name": "stdout",
     "output_type": "stream",
     "text": [
      "Validation Accuracy: 0.6408\n",
      "Validation F1 Score: 0.5610\n",
      "              precision    recall  f1-score   support\n",
      "\n",
      " Relevance 0     0.5219    0.2260    0.3154      4894\n",
      " Relevance 1     0.6548    0.9299    0.7685     12592\n",
      " Relevance 2     0.0000    0.0000    0.0000      2514\n",
      "\n",
      "    accuracy                         0.6408     20000\n",
      "   macro avg     0.3923    0.3853    0.3613     20000\n",
      "weighted avg     0.5400    0.6408    0.5610     20000\n",
      "\n",
      "save best model to best_single_tower_rnn.pth (Val F1: 0.5610)\n"
     ]
    },
    {
     "data": {
      "application/vnd.jupyter.widget-view+json": {
       "model_id": "97d862be9ee04b9b9201f856b13d3664",
       "version_major": 2,
       "version_minor": 0
      },
      "text/plain": [
       "Epoch 3/10 Training:   0%|          | 0/2813 [00:00<?, ?it/s]"
      ]
     },
     "metadata": {},
     "output_type": "display_data"
    },
    {
     "name": "stdout",
     "output_type": "stream",
     "text": [
      "Epoch 3/10 Training: loss=0.8206\n"
     ]
    },
    {
     "data": {
      "application/vnd.jupyter.widget-view+json": {
       "model_id": "501a885c872344cd9fe2a14101ca6ed9",
       "version_major": 2,
       "version_minor": 0
      },
      "text/plain": [
       "Epoch 3/10 Evaluating:   0%|          | 0/313 [00:00<?, ?it/s]"
      ]
     },
     "metadata": {},
     "output_type": "display_data"
    },
    {
     "name": "stdout",
     "output_type": "stream",
     "text": [
      "Validation Accuracy: 0.6475\n",
      "Validation F1 Score: 0.5732\n",
      "              precision    recall  f1-score   support\n",
      "\n",
      " Relevance 0     0.5456    0.2638    0.3556      4894\n",
      " Relevance 1     0.6614    0.9256    0.7715     12592\n",
      " Relevance 2     0.4545    0.0020    0.0040      2514\n",
      "\n",
      "    accuracy                         0.6475     20000\n",
      "   macro avg     0.5538    0.3971    0.3770     20000\n",
      "weighted avg     0.6070    0.6475    0.5732     20000\n",
      "\n",
      "save best model to best_single_tower_rnn.pth (Val F1: 0.5732)\n"
     ]
    },
    {
     "data": {
      "application/vnd.jupyter.widget-view+json": {
       "model_id": "a9b16562a60c4e8ebdaf70e791b5ec81",
       "version_major": 2,
       "version_minor": 0
      },
      "text/plain": [
       "Epoch 4/10 Training:   0%|          | 0/2813 [00:00<?, ?it/s]"
      ]
     },
     "metadata": {},
     "output_type": "display_data"
    },
    {
     "name": "stdout",
     "output_type": "stream",
     "text": [
      "Epoch 4/10 Training: loss=0.8060\n"
     ]
    },
    {
     "data": {
      "application/vnd.jupyter.widget-view+json": {
       "model_id": "a66f75a522bd418691f38066c8f853ef",
       "version_major": 2,
       "version_minor": 0
      },
      "text/plain": [
       "Epoch 4/10 Evaluating:   0%|          | 0/313 [00:00<?, ?it/s]"
      ]
     },
     "metadata": {},
     "output_type": "display_data"
    },
    {
     "name": "stdout",
     "output_type": "stream",
     "text": [
      "Validation Accuracy: 0.6358\n",
      "Validation F1 Score: 0.5846\n",
      "              precision    recall  f1-score   support\n",
      "\n",
      " Relevance 0     0.4818    0.3897    0.4309      4894\n",
      " Relevance 1     0.6749    0.8549    0.7543     12592\n",
      " Relevance 2     0.4835    0.0175    0.0338      2514\n",
      "\n",
      "    accuracy                         0.6358     20000\n",
      "   macro avg     0.5467    0.4207    0.4063     20000\n",
      "weighted avg     0.6036    0.6358    0.5846     20000\n",
      "\n",
      "save best model to best_single_tower_rnn.pth (Val F1: 0.5846)\n"
     ]
    },
    {
     "data": {
      "application/vnd.jupyter.widget-view+json": {
       "model_id": "7a4403280a1f4122a61f5ee6295c443a",
       "version_major": 2,
       "version_minor": 0
      },
      "text/plain": [
       "Epoch 5/10 Training:   0%|          | 0/2813 [00:00<?, ?it/s]"
      ]
     },
     "metadata": {},
     "output_type": "display_data"
    },
    {
     "name": "stdout",
     "output_type": "stream",
     "text": [
      "Epoch 5/10 Training: loss=0.7935\n"
     ]
    },
    {
     "data": {
      "application/vnd.jupyter.widget-view+json": {
       "model_id": "31e1ad6a83244a3681f34c6b66b0b4e6",
       "version_major": 2,
       "version_minor": 0
      },
      "text/plain": [
       "Epoch 5/10 Evaluating:   0%|          | 0/313 [00:00<?, ?it/s]"
      ]
     },
     "metadata": {},
     "output_type": "display_data"
    },
    {
     "name": "stdout",
     "output_type": "stream",
     "text": [
      "Validation Accuracy: 0.6430\n",
      "Validation F1 Score: 0.5952\n",
      "              precision    recall  f1-score   support\n",
      "\n",
      " Relevance 0     0.5314    0.2540    0.3437      4894\n",
      " Relevance 1     0.6696    0.8899    0.7642     12592\n",
      " Relevance 2     0.4428    0.1631    0.2384      2514\n",
      "\n",
      "    accuracy                         0.6430     20000\n",
      "   macro avg     0.5479    0.4357    0.4488     20000\n",
      "weighted avg     0.6073    0.6430    0.5952     20000\n",
      "\n",
      "save best model to best_single_tower_rnn.pth (Val F1: 0.5952)\n"
     ]
    },
    {
     "data": {
      "application/vnd.jupyter.widget-view+json": {
       "model_id": "10efec64f3e047a8a5a6beb0a4608651",
       "version_major": 2,
       "version_minor": 0
      },
      "text/plain": [
       "Epoch 6/10 Training:   0%|          | 0/2813 [00:00<?, ?it/s]"
      ]
     },
     "metadata": {},
     "output_type": "display_data"
    },
    {
     "name": "stdout",
     "output_type": "stream",
     "text": [
      "Epoch 6/10 Training: loss=0.7862\n"
     ]
    },
    {
     "data": {
      "application/vnd.jupyter.widget-view+json": {
       "model_id": "a350e57b262e4be692aea11290d16da2",
       "version_major": 2,
       "version_minor": 0
      },
      "text/plain": [
       "Epoch 6/10 Evaluating:   0%|          | 0/313 [00:00<?, ?it/s]"
      ]
     },
     "metadata": {},
     "output_type": "display_data"
    },
    {
     "name": "stdout",
     "output_type": "stream",
     "text": [
      "Validation Accuracy: 0.6462\n",
      "Validation F1 Score: 0.6030\n",
      "              precision    recall  f1-score   support\n",
      "\n",
      " Relevance 0     0.5257    0.3222    0.3995      4894\n",
      " Relevance 1     0.6757    0.8761    0.7630     12592\n",
      " Relevance 2     0.4674    0.1253    0.1976      2514\n",
      "\n",
      "    accuracy                         0.6462     20000\n",
      "   macro avg     0.5563    0.4412    0.4534     20000\n",
      "weighted avg     0.6128    0.6462    0.6030     20000\n",
      "\n",
      "save best model to best_single_tower_rnn.pth (Val F1: 0.6030)\n"
     ]
    },
    {
     "data": {
      "application/vnd.jupyter.widget-view+json": {
       "model_id": "d785fda1a91b488893467db259fad0ec",
       "version_major": 2,
       "version_minor": 0
      },
      "text/plain": [
       "Epoch 7/10 Training:   0%|          | 0/2813 [00:00<?, ?it/s]"
      ]
     },
     "metadata": {},
     "output_type": "display_data"
    },
    {
     "name": "stdout",
     "output_type": "stream",
     "text": [
      "Epoch 7/10 Training: loss=0.7795\n"
     ]
    },
    {
     "data": {
      "application/vnd.jupyter.widget-view+json": {
       "model_id": "144a6ea3c60a45de9a8880020ef57821",
       "version_major": 2,
       "version_minor": 0
      },
      "text/plain": [
       "Epoch 7/10 Evaluating:   0%|          | 0/313 [00:00<?, ?it/s]"
      ]
     },
     "metadata": {},
     "output_type": "display_data"
    },
    {
     "name": "stdout",
     "output_type": "stream",
     "text": [
      "Validation Accuracy: 0.6412\n",
      "Validation F1 Score: 0.6082\n",
      "              precision    recall  f1-score   support\n",
      "\n",
      " Relevance 0     0.5071    0.3784    0.4334      4894\n",
      " Relevance 1     0.6845    0.8437    0.7558     12592\n",
      " Relevance 2     0.4215    0.1388    0.2089      2514\n",
      "\n",
      "    accuracy                         0.6412     20000\n",
      "   macro avg     0.5377    0.4537    0.4660     20000\n",
      "weighted avg     0.6081    0.6412    0.6082     20000\n",
      "\n",
      "save best model to best_single_tower_rnn.pth (Val F1: 0.6082)\n"
     ]
    },
    {
     "data": {
      "application/vnd.jupyter.widget-view+json": {
       "model_id": "78a294dbfc694ab39e91e1c8305f906f",
       "version_major": 2,
       "version_minor": 0
      },
      "text/plain": [
       "Epoch 8/10 Training:   0%|          | 0/2813 [00:00<?, ?it/s]"
      ]
     },
     "metadata": {},
     "output_type": "display_data"
    },
    {
     "name": "stdout",
     "output_type": "stream",
     "text": [
      "Epoch 8/10 Training: loss=0.7710\n"
     ]
    },
    {
     "data": {
      "application/vnd.jupyter.widget-view+json": {
       "model_id": "ac9e83124d6042fb83f7363735c0e1ac",
       "version_major": 2,
       "version_minor": 0
      },
      "text/plain": [
       "Epoch 8/10 Evaluating:   0%|          | 0/313 [00:00<?, ?it/s]"
      ]
     },
     "metadata": {},
     "output_type": "display_data"
    },
    {
     "name": "stdout",
     "output_type": "stream",
     "text": [
      "Validation Accuracy: 0.6448\n",
      "Validation F1 Score: 0.6138\n",
      "              precision    recall  f1-score   support\n",
      "\n",
      " Relevance 0     0.5146    0.3782    0.4360      4894\n",
      " Relevance 1     0.6874    0.8443    0.7578     12592\n",
      " Relevance 2     0.4402    0.1639    0.2388      2514\n",
      "\n",
      "    accuracy                         0.6448     20000\n",
      "   macro avg     0.5474    0.4621    0.4776     20000\n",
      "weighted avg     0.6140    0.6448    0.6138     20000\n",
      "\n",
      "save best model to best_single_tower_rnn.pth (Val F1: 0.6138)\n"
     ]
    },
    {
     "data": {
      "application/vnd.jupyter.widget-view+json": {
       "model_id": "73b95499d5c7470e94530aa02caed498",
       "version_major": 2,
       "version_minor": 0
      },
      "text/plain": [
       "Epoch 9/10 Training:   0%|          | 0/2813 [00:00<?, ?it/s]"
      ]
     },
     "metadata": {},
     "output_type": "display_data"
    },
    {
     "name": "stdout",
     "output_type": "stream",
     "text": [
      "Epoch 9/10 Training: loss=0.7650\n"
     ]
    },
    {
     "data": {
      "application/vnd.jupyter.widget-view+json": {
       "model_id": "fb76e7d350b24247bdeba890b28d0868",
       "version_major": 2,
       "version_minor": 0
      },
      "text/plain": [
       "Epoch 9/10 Evaluating:   0%|          | 0/313 [00:00<?, ?it/s]"
      ]
     },
     "metadata": {},
     "output_type": "display_data"
    },
    {
     "name": "stdout",
     "output_type": "stream",
     "text": [
      "Validation Accuracy: 0.6462\n",
      "Validation F1 Score: 0.6168\n",
      "              precision    recall  f1-score   support\n",
      "\n",
      " Relevance 0     0.5073    0.4003    0.4475      4894\n",
      " Relevance 1     0.6911    0.8385    0.7577     12592\n",
      " Relevance 2     0.4733    0.1619    0.2413      2514\n",
      "\n",
      "    accuracy                         0.6462     20000\n",
      "   macro avg     0.5572    0.4669    0.4821     20000\n",
      "weighted avg     0.6187    0.6462    0.6168     20000\n",
      "\n",
      "save best model to best_single_tower_rnn.pth (Val F1: 0.6168)\n"
     ]
    },
    {
     "data": {
      "application/vnd.jupyter.widget-view+json": {
       "model_id": "894131194df24d91a0c373db5ff87407",
       "version_major": 2,
       "version_minor": 0
      },
      "text/plain": [
       "Epoch 10/10 Training:   0%|          | 0/2813 [00:00<?, ?it/s]"
      ]
     },
     "metadata": {},
     "output_type": "display_data"
    },
    {
     "name": "stdout",
     "output_type": "stream",
     "text": [
      "Epoch 10/10 Training: loss=0.7583\n"
     ]
    },
    {
     "data": {
      "application/vnd.jupyter.widget-view+json": {
       "model_id": "50f17fac8ac44844b3d1f26053f04c66",
       "version_major": 2,
       "version_minor": 0
      },
      "text/plain": [
       "Epoch 10/10 Evaluating:   0%|          | 0/313 [00:00<?, ?it/s]"
      ]
     },
     "metadata": {},
     "output_type": "display_data"
    },
    {
     "name": "stdout",
     "output_type": "stream",
     "text": [
      "Validation Accuracy: 0.6379\n",
      "Validation F1 Score: 0.6156\n",
      "              precision    recall  f1-score   support\n",
      "\n",
      " Relevance 0     0.4999    0.4142    0.4530      4894\n",
      " Relevance 1     0.6949    0.8135    0.7496     12592\n",
      " Relevance 2     0.4037    0.1933    0.2614      2514\n",
      "\n",
      "    accuracy                         0.6379     20000\n",
      "   macro avg     0.5328    0.4737    0.4880     20000\n",
      "weighted avg     0.6106    0.6379    0.6156     20000\n",
      "\n",
      "--- Training Finished (SINGLE) in 602.04s ---\n",
      "Best Validation F1 Score (SINGLE): 0.6168\n",
      "\n",
      "Loading best single-tower model for final evaluation...\n",
      "\n",
      "--- Starting Evaluation on Test Set (SINGLE) ---\n"
     ]
    },
    {
     "data": {
      "application/vnd.jupyter.widget-view+json": {
       "model_id": "86b31dca56414d8a8327641f77ac14b6",
       "version_major": 2,
       "version_minor": 0
      },
      "text/plain": [
       "Evaluating Test Set:   0%|          | 0/79 [00:00<?, ?it/s]"
      ]
     },
     "metadata": {},
     "output_type": "display_data"
    },
    {
     "name": "stdout",
     "output_type": "stream",
     "text": [
      "Test Set Accuracy: 0.6440\n",
      "Test Set F1 Score: 0.6167\n",
      "              precision    recall  f1-score   support\n",
      "\n",
      " Relevance 0     0.5082    0.4119    0.4550      1209\n",
      " Relevance 1     0.6938    0.8297    0.7557      3159\n",
      " Relevance 2     0.4174    0.1598    0.2311       632\n",
      "\n",
      "    accuracy                         0.6440      5000\n",
      "   macro avg     0.5398    0.4671    0.4806      5000\n",
      "weighted avg     0.6139    0.6440    0.6167      5000\n",
      "\n",
      "--- Evaluation Finished (SINGLE) ---\n"
     ]
    }
   ],
   "source": [
    "print(\"\\n\" + \"=\"*20 + \" SINGLE TOWER RNN \" + \"=\"*20)\n",
    "single_tower_model = SingleTowerRNN(\n",
    "    vocab_size=vocab_size, embedding_dim=CONFIG[\"embedding_dim\"], hidden_dim=CONFIG[\"hidden_dim\"],\n",
    "    num_classes=CONFIG[\"num_classes\"], rnn_layers=CONFIG[\"rnn_layers\"], dropout_prob=CONFIG[\"dropout_prob\"],\n",
    "    bidirectional=CONFIG[\"rnn_bidirectional\"], rnn_nonlinearity=CONFIG[\"rnn_nonlinearity\"], pad_idx=pad_idx\n",
    ").to(CONFIG[\"device\"])\n",
    "optimizer_single = optim.Adam(single_tower_model.parameters(), lr=CONFIG[\"learning_rate\"])\n",
    "\n",
    "# Train Single Tower\n",
    "train_model(single_tower_model, 'single', train_loader, val_loader, optimizer_single, criterion,\n",
    "            CONFIG[\"num_epochs\"], CONFIG[\"device\"], CONFIG[\"save_path_single\"])\n",
    "\n",
    "# Evaluate Single Tower\n",
    "print(\"\\nLoading best single-tower model for final evaluation...\")\n",
    "try:\n",
    "    single_tower_model.load_state_dict(torch.load(CONFIG[\"save_path_single\"], map_location=CONFIG[\"device\"]))\n",
    "except Exception as e:\n",
    "    print(f\"Could not load saved single-tower model state: {e}. Evaluating model state after last epoch.\")\n",
    "accuracy_rnn_single, f1_rnn_single, _, _ = evaluate_model(single_tower_model, 'single', test_loader, criterion, CONFIG[\"device\"])"
   ]
  },
  {
   "cell_type": "markdown",
   "metadata": {},
   "source": [
    "####  TWO TOWER RNN <a name='TWO_TOWER_RNN'></a>"
   ]
  },
  {
   "cell_type": "code",
   "execution_count": null,
   "metadata": {},
   "outputs": [],
   "source": [
    "print(\"\\n\" + \"=\"*20 + \" TWO TOWER RNN \" + \"=\"*20)\n",
    "two_tower_model = TwoTowerRNN(\n",
    "    vocab_size=vocab_size, embedding_dim=CONFIG[\"embedding_dim\"], hidden_dim=CONFIG[\"hidden_dim\"],\n",
    "    num_classes=CONFIG[\"num_classes\"], rnn_layers=CONFIG[\"rnn_layers\"], dropout_prob=CONFIG[\"dropout_prob\"],\n",
    "    bidirectional=CONFIG[\"rnn_bidirectional\"], rnn_nonlinearity=CONFIG[\"rnn_nonlinearity\"], pad_idx=pad_idx\n",
    ").to(CONFIG[\"device\"])\n",
    "optimizer_two = optim.Adam(two_tower_model.parameters(), lr=CONFIG[\"learning_rate\"])\n",
    "\n",
    "# Train Two Tower\n",
    "train_model(two_tower_model, 'two', train_loader, val_loader, optimizer_two, criterion,\n",
    "            CONFIG[\"num_epochs\"], CONFIG[\"device\"], CONFIG[\"save_path_two\"])\n",
    "\n",
    "# Evaluate Two Tower\n",
    "print(\"\\nLoading best two-tower model for final evaluation...\")\n",
    "try:\n",
    "    two_tower_model.load_state_dict(torch.load(CONFIG[\"save_path_two\"], map_location=CONFIG[\"device\"]))\n",
    "except Exception as e:\n",
    "      print(f\"Could not load saved two-tower model state: {e}. Evaluating model state after last epoch.\")\n",
    "accuracy_rnn_two, f1_rnn_two, _, _ = evaluate_model(two_tower_model, 'two', test_loader, criterion, CONFIG[\"device\"])"
   ]
  },
  {
   "cell_type": "code",
   "execution_count": null,
   "metadata": {},
   "outputs": [
    {
     "name": "stdout",
     "output_type": "stream",
     "text": [
      "Epoch 1, Loss: 2524.9415\n",
      "Validation Accuracy: 0.6296\n",
      "              precision    recall  f1-score   support\n",
      "\n",
      "           0     0.0000    0.0000    0.0000      4894\n",
      "           1     0.6296    1.0000    0.7727     12592\n",
      "           2     0.0000    0.0000    0.0000      2514\n",
      "\n",
      "    accuracy                         0.6296     20000\n",
      "   macro avg     0.2099    0.3333    0.2576     20000\n",
      "weighted avg     0.3964    0.6296    0.4865     20000\n",
      "\n"
     ]
    },
    {
     "name": "stderr",
     "output_type": "stream",
     "text": [
      "/usr/local/lib/python3.11/dist-packages/sklearn/metrics/_classification.py:1565: UndefinedMetricWarning: Precision is ill-defined and being set to 0.0 in labels with no predicted samples. Use `zero_division` parameter to control this behavior.\n",
      "  _warn_prf(average, modifier, f\"{metric.capitalize()} is\", len(result))\n",
      "/usr/local/lib/python3.11/dist-packages/sklearn/metrics/_classification.py:1565: UndefinedMetricWarning: Precision is ill-defined and being set to 0.0 in labels with no predicted samples. Use `zero_division` parameter to control this behavior.\n",
      "  _warn_prf(average, modifier, f\"{metric.capitalize()} is\", len(result))\n",
      "/usr/local/lib/python3.11/dist-packages/sklearn/metrics/_classification.py:1565: UndefinedMetricWarning: Precision is ill-defined and being set to 0.0 in labels with no predicted samples. Use `zero_division` parameter to control this behavior.\n",
      "  _warn_prf(average, modifier, f\"{metric.capitalize()} is\", len(result))\n"
     ]
    },
    {
     "name": "stdout",
     "output_type": "stream",
     "text": [
      "Epoch 2, Loss: 2515.7200\n",
      "Validation Accuracy: 0.6296\n",
      "              precision    recall  f1-score   support\n",
      "\n",
      "           0     0.0000    0.0000    0.0000      4894\n",
      "           1     0.6296    1.0000    0.7727     12592\n",
      "           2     0.0000    0.0000    0.0000      2514\n",
      "\n",
      "    accuracy                         0.6296     20000\n",
      "   macro avg     0.2099    0.3333    0.2576     20000\n",
      "weighted avg     0.3964    0.6296    0.4865     20000\n",
      "\n"
     ]
    },
    {
     "name": "stderr",
     "output_type": "stream",
     "text": [
      "/usr/local/lib/python3.11/dist-packages/sklearn/metrics/_classification.py:1565: UndefinedMetricWarning: Precision is ill-defined and being set to 0.0 in labels with no predicted samples. Use `zero_division` parameter to control this behavior.\n",
      "  _warn_prf(average, modifier, f\"{metric.capitalize()} is\", len(result))\n",
      "/usr/local/lib/python3.11/dist-packages/sklearn/metrics/_classification.py:1565: UndefinedMetricWarning: Precision is ill-defined and being set to 0.0 in labels with no predicted samples. Use `zero_division` parameter to control this behavior.\n",
      "  _warn_prf(average, modifier, f\"{metric.capitalize()} is\", len(result))\n",
      "/usr/local/lib/python3.11/dist-packages/sklearn/metrics/_classification.py:1565: UndefinedMetricWarning: Precision is ill-defined and being set to 0.0 in labels with no predicted samples. Use `zero_division` parameter to control this behavior.\n",
      "  _warn_prf(average, modifier, f\"{metric.capitalize()} is\", len(result))\n"
     ]
    },
    {
     "name": "stdout",
     "output_type": "stream",
     "text": [
      "Epoch 3, Loss: 2510.1681\n",
      "Validation Accuracy: 0.6296\n",
      "              precision    recall  f1-score   support\n",
      "\n",
      "           0     0.5000    0.0002    0.0004      4894\n",
      "           1     0.6296    0.9999    0.7727     12592\n",
      "           2     0.0000    0.0000    0.0000      2514\n",
      "\n",
      "    accuracy                         0.6296     20000\n",
      "   macro avg     0.3765    0.3334    0.2577     20000\n",
      "weighted avg     0.5188    0.6296    0.4866     20000\n",
      "\n"
     ]
    },
    {
     "name": "stderr",
     "output_type": "stream",
     "text": [
      "/usr/local/lib/python3.11/dist-packages/sklearn/metrics/_classification.py:1565: UndefinedMetricWarning: Precision is ill-defined and being set to 0.0 in labels with no predicted samples. Use `zero_division` parameter to control this behavior.\n",
      "  _warn_prf(average, modifier, f\"{metric.capitalize()} is\", len(result))\n",
      "/usr/local/lib/python3.11/dist-packages/sklearn/metrics/_classification.py:1565: UndefinedMetricWarning: Precision is ill-defined and being set to 0.0 in labels with no predicted samples. Use `zero_division` parameter to control this behavior.\n",
      "  _warn_prf(average, modifier, f\"{metric.capitalize()} is\", len(result))\n",
      "/usr/local/lib/python3.11/dist-packages/sklearn/metrics/_classification.py:1565: UndefinedMetricWarning: Precision is ill-defined and being set to 0.0 in labels with no predicted samples. Use `zero_division` parameter to control this behavior.\n",
      "  _warn_prf(average, modifier, f\"{metric.capitalize()} is\", len(result))\n"
     ]
    },
    {
     "name": "stdout",
     "output_type": "stream",
     "text": [
      "Epoch 4, Loss: 2505.7881\n",
      "Validation Accuracy: 0.6301\n",
      "              precision    recall  f1-score   support\n",
      "\n",
      "           0     0.6000    0.0025    0.0049      4894\n",
      "           1     0.6301    0.9994    0.7729     12592\n",
      "           2     0.8571    0.0024    0.0048      2514\n",
      "\n",
      "    accuracy                         0.6301     20000\n",
      "   macro avg     0.6957    0.3347    0.2608     20000\n",
      "weighted avg     0.6512    0.6301    0.4884     20000\n",
      "\n",
      "Epoch 5, Loss: 2502.9500\n",
      "Validation Accuracy: 0.62985\n",
      "              precision    recall  f1-score   support\n",
      "\n",
      "           0     0.5769    0.0031    0.0061      4894\n",
      "           1     0.6303    0.9975    0.7725     12592\n",
      "           2     0.4565    0.0084    0.0164      2514\n",
      "\n",
      "    accuracy                         0.6299     20000\n",
      "   macro avg     0.5546    0.3363    0.2650     20000\n",
      "weighted avg     0.5954    0.6299    0.4899     20000\n",
      "\n"
     ]
    }
   ],
   "source": [
    "device = torch.device(\"cuda\" if torch.cuda.is_available() else \"cpu\")\n",
    "\n",
    "train_loader = DataLoader(TensorDataset(X_train, y_train), batch_size=64, shuffle=True)\n",
    "dev_loader = DataLoader(TensorDataset(X_dev, y_dev), batch_size=64)\n",
    "test_loader = DataLoader(TensorDataset(X_test), batch_size=64)\n",
    "\n",
    "model = TextCNN(embedding_matrix, num_classes=3)\n",
    "model.to(device)\n",
    "\n",
    "criterion = nn.CrossEntropyLoss()\n",
    "optimizer = optim.Adam(model.parameters(), lr=1e-3)\n",
    "\n",
    "for epoch in range(5):\n",
    "    model.train()\n",
    "    total_loss = 0\n",
    "    for batch_X, batch_y in train_loader:\n",
    "        batch_X, batch_y = batch_X.to(device), batch_y.to(device)\n",
    "        optimizer.zero_grad()\n",
    "        output = model(batch_X)\n",
    "        loss = criterion(output, batch_y)\n",
    "        loss.backward()\n",
    "        optimizer.step()\n",
    "        total_loss += loss.item()\n",
    "    print(f\"Epoch {epoch+1}, Loss: {total_loss:.4f}\")\n",
    "\n",
    "    model.eval()\n",
    "    preds, truths = [], []\n",
    "    with torch.no_grad():\n",
    "        for batch_X, batch_y in dev_loader:\n",
    "            batch_X = batch_X.to(device)\n",
    "            logits = model(batch_X)\n",
    "            preds.extend(torch.argmax(logits, dim=1).cpu().numpy())\n",
    "            truths.extend(batch_y.numpy())\n",
    "    print(\"Validation Accuracy:\", accuracy_score(truths, preds))\n",
    "    print(classification_report(truths, preds, digits=4))\n"
   ]
  },
  {
   "cell_type": "markdown",
   "metadata": {},
   "source": [
    "###  5.4 <a name='5.4'></a>LSTM(Single Tower+Tow Tower)\n",
    "[Back to Table of Contents](#top)"
   ]
  },
  {
   "cell_type": "markdown",
   "metadata": {},
   "source": [
    "![LSTM](img/lstm.png)"
   ]
  },
  {
   "cell_type": "markdown",
   "metadata": {},
   "source": [
    "Compared to basic RNN models, models using LSTM are generally more effective at handling longer text sequences and capturing long-range dependencies."
   ]
  },
  {
   "cell_type": "markdown",
   "metadata": {},
   "source": [
    "####  Model Definition <a name='Model_Definition'></a>"
   ]
  },
  {
   "cell_type": "code",
   "execution_count": null,
   "metadata": {},
   "outputs": [],
   "source": [
    "class SingleTowerLSTM(nn.Module):\n",
    "    def __init__(self, vocab_size, embedding_dim, hidden_dim, num_classes,\n",
    "                 rnn_layers, dropout_prob, bidirectional, pad_idx):\n",
    "        super().__init__()\n",
    "        self.embedding = nn.Embedding(vocab_size, embedding_dim, padding_idx=pad_idx)\n",
    "        lstm_hidden_dim = hidden_dim // 2 if bidirectional else hidden_dim\n",
    "        num_directions = 2 if bidirectional else 1\n",
    "        self.rnn = nn.LSTM(embedding_dim, lstm_hidden_dim, num_layers=rnn_layers,\n",
    "                           batch_first=True,\n",
    "                           dropout=dropout_prob if rnn_layers > 1 else 0,\n",
    "                           bidirectional=bidirectional)\n",
    "        self.dropout = nn.Dropout(dropout_prob)\n",
    "        # FC layer input dim is: total hidden_dim (num_directions * lstm_hidden_dim)\n",
    "        self.fc = nn.Linear(hidden_dim, num_classes)\n",
    "        self.rnn_layers = rnn_layers\n",
    "        self.num_directions = num_directions\n",
    "\n",
    "    def forward(self, combined_indices):\n",
    "        # combined_indices: (batch_size, max_combined_len)\n",
    "        embedded = self.dropout(self.embedding(combined_indices))\n",
    "        # output shape: (batch_size, seq_len, num_directions * lstm_hidden_dim)\n",
    "        # hidden_n shape: (num_layers * num_directions, batch_size, lstm_hidden_dim)\n",
    "        # cell_n shape:   (num_layers * num_directions, batch_size, lstm_hidden_dim)\n",
    "        output, (hidden_n, cell_n) = self.rnn(embedded)\n",
    "        final_hidden = _extract_final_hidden(hidden_n, self.rnn_layers, self.num_directions, combined_indices.size(0))\n",
    "        # final_hidden: (batch_size, hidden_dim)\n",
    "\n",
    "        logits = self.fc(self.dropout(final_hidden))\n",
    "        return logits\n",
    "\n",
    "class TwoTowerLSTM(nn.Module):\n",
    "    def __init__(self, vocab_size, embedding_dim, hidden_dim, num_classes,\n",
    "                 rnn_layers, dropout_prob, bidirectional, pad_idx): # Removed rnn_nonlinearity\n",
    "        super().__init__()\n",
    "        self.embedding = nn.Embedding(vocab_size, embedding_dim, padding_idx=pad_idx)\n",
    "\n",
    "        lstm_hidden_dim = hidden_dim // 2 if bidirectional else hidden_dim\n",
    "        num_directions = 2 if bidirectional else 1\n",
    "\n",
    "        # Use LSTM layers for query and title\n",
    "        self.rnn_query = nn.LSTM(embedding_dim, lstm_hidden_dim, num_layers=rnn_layers,\n",
    "                                 batch_first=True,\n",
    "                                 dropout=dropout_prob if rnn_layers > 1 else 0,\n",
    "                                 bidirectional=bidirectional)\n",
    "        self.rnn_title = nn.LSTM(embedding_dim, lstm_hidden_dim, num_layers=rnn_layers,\n",
    "                                 batch_first=True,\n",
    "                                 dropout=dropout_prob if rnn_layers > 1 else 0,\n",
    "                                 bidirectional=bidirectional)\n",
    "\n",
    "        self.dropout = nn.Dropout(dropout_prob)\n",
    "        # Input to FC layer is concatenation of final hidden states (h_n) from both towers\n",
    "        self.fc = nn.Linear(hidden_dim * 2, num_classes) # hidden_dim * 2 because of two towers\n",
    "        self.rnn_layers = rnn_layers\n",
    "        self.num_directions = num_directions\n",
    "\n",
    "    def forward(self, query_indices, title_indices):\n",
    "        # query_indices: (batch_size, max_query_len)\n",
    "        # title_indices: (batch_size, max_title_len)\n",
    "\n",
    "        query_embedded = self.dropout(self.embedding(query_indices))\n",
    "        title_embedded = self.dropout(self.embedding(title_indices))\n",
    "\n",
    "        _, (query_hidden_n, query_cell_n) = self.rnn_query(query_embedded)\n",
    "        _, (title_hidden_n, title_cell_n) = self.rnn_title(title_embedded)\n",
    "        # hidden_n shapes: (num_layers * num_directions, batch_size, lstm_hidden_dim)\n",
    "\n",
    "        query_final_hidden = _extract_final_hidden(query_hidden_n, self.rnn_layers, self.num_directions, query_indices.size(0))\n",
    "        title_final_hidden = _extract_final_hidden(title_hidden_n, self.rnn_layers, self.num_directions, title_indices.size(0))\n",
    "        # final hidden shapes: (batch_size, hidden_dim)\n",
    "\n",
    "        # Concatenate the final hidden states\n",
    "        combined = torch.cat((query_final_hidden, title_final_hidden), dim=1)\n",
    "        # combined: (batch_size, hidden_dim * 2)\n",
    "\n",
    "        logits = self.fc(self.dropout(combined))\n",
    "        return logits"
   ]
  },
  {
   "cell_type": "markdown",
   "metadata": {},
   "source": [
    "####  SINGLE TOWER LSTM <a name='SINGLE_TOWER_LSTM'></a>"
   ]
  },
  {
   "cell_type": "code",
   "execution_count": null,
   "metadata": {},
   "outputs": [
    {
     "name": "stdout",
     "output_type": "stream",
     "text": [
      "\n",
      "==================== SINGLE TOWER LSTM ====================\n",
      "\n",
      "--- Starting Training (SINGLE) ---\n"
     ]
    },
    {
     "data": {
      "application/vnd.jupyter.widget-view+json": {
       "model_id": "4bdd12449cf748f282e6db1d3bf6c141",
       "version_major": 2,
       "version_minor": 0
      },
      "text/plain": [
       "Epoch 1/10 Training:   0%|          | 0/2813 [00:00<?, ?it/s]"
      ]
     },
     "metadata": {},
     "output_type": "display_data"
    },
    {
     "name": "stdout",
     "output_type": "stream",
     "text": [
      "Epoch 1/10 Training: loss=0.8401\n"
     ]
    },
    {
     "data": {
      "application/vnd.jupyter.widget-view+json": {
       "model_id": "011ea2476d0b48e6a020f3db4cb9a159",
       "version_major": 2,
       "version_minor": 0
      },
      "text/plain": [
       "Epoch 1/10 Evaluating:   0%|          | 0/313 [00:00<?, ?it/s]"
      ]
     },
     "metadata": {},
     "output_type": "display_data"
    },
    {
     "name": "stdout",
     "output_type": "stream",
     "text": [
      "Validation Accuracy: 0.6462\n",
      "Validation F1 Score: 0.5908\n",
      "              precision    recall  f1-score   support\n",
      "\n",
      " Relevance 0     0.5175    0.3020    0.3814      4894\n",
      " Relevance 1     0.6701    0.8956    0.7666     12592\n",
      " Relevance 2     0.5335    0.0664    0.1181      2514\n",
      "\n",
      "    accuracy                         0.6462     20000\n",
      "   macro avg     0.5737    0.4214    0.4221     20000\n",
      "weighted avg     0.6156    0.6462    0.5908     20000\n",
      "\n",
      "save best model to best_single_tower_lstm.pth (Val F1: 0.5908)\n"
     ]
    },
    {
     "data": {
      "application/vnd.jupyter.widget-view+json": {
       "model_id": "62043cdc81f84ad89efed8d2bb0a48fc",
       "version_major": 2,
       "version_minor": 0
      },
      "text/plain": [
       "Epoch 2/10 Training:   0%|          | 0/2813 [00:00<?, ?it/s]"
      ]
     },
     "metadata": {},
     "output_type": "display_data"
    },
    {
     "name": "stdout",
     "output_type": "stream",
     "text": [
      "Epoch 2/10 Training: loss=0.7912\n"
     ]
    },
    {
     "data": {
      "application/vnd.jupyter.widget-view+json": {
       "model_id": "19ce7a7a4d3548178ee9346285a2b7f2",
       "version_major": 2,
       "version_minor": 0
      },
      "text/plain": [
       "Epoch 2/10 Evaluating:   0%|          | 0/313 [00:00<?, ?it/s]"
      ]
     },
     "metadata": {},
     "output_type": "display_data"
    },
    {
     "name": "stdout",
     "output_type": "stream",
     "text": [
      "Validation Accuracy: 0.6513\n",
      "Validation F1 Score: 0.6079\n",
      "              precision    recall  f1-score   support\n",
      "\n",
      " Relevance 0     0.5271    0.3441    0.4164      4894\n",
      " Relevance 1     0.6810    0.8783    0.7672     12592\n",
      " Relevance 2     0.4991    0.1122    0.1832      2514\n",
      "\n",
      "    accuracy                         0.6513     20000\n",
      "   macro avg     0.5691    0.4449    0.4556     20000\n",
      "weighted avg     0.6205    0.6513    0.6079     20000\n",
      "\n",
      "save best model to best_single_tower_lstm.pth (Val F1: 0.6079)\n"
     ]
    },
    {
     "data": {
      "application/vnd.jupyter.widget-view+json": {
       "model_id": "608b72385e4245228b67355872a6415f",
       "version_major": 2,
       "version_minor": 0
      },
      "text/plain": [
       "Epoch 3/10 Training:   0%|          | 0/2813 [00:00<?, ?it/s]"
      ]
     },
     "metadata": {},
     "output_type": "display_data"
    },
    {
     "name": "stdout",
     "output_type": "stream",
     "text": [
      "Epoch 3/10 Training: loss=0.7660\n"
     ]
    },
    {
     "data": {
      "application/vnd.jupyter.widget-view+json": {
       "model_id": "1aa225359ce947f0a27592cd46db83b4",
       "version_major": 2,
       "version_minor": 0
      },
      "text/plain": [
       "Epoch 3/10 Evaluating:   0%|          | 0/313 [00:00<?, ?it/s]"
      ]
     },
     "metadata": {},
     "output_type": "display_data"
    },
    {
     "name": "stdout",
     "output_type": "stream",
     "text": [
      "Validation Accuracy: 0.6558\n",
      "Validation F1 Score: 0.6201\n",
      "              precision    recall  f1-score   support\n",
      "\n",
      " Relevance 0     0.5571    0.2989    0.3891      4894\n",
      " Relevance 1     0.6844    0.8769    0.7688     12592\n",
      " Relevance 2     0.4915    0.2426    0.3249      2514\n",
      "\n",
      "    accuracy                         0.6558     20000\n",
      "   macro avg     0.5777    0.4728    0.4943     20000\n",
      "weighted avg     0.6290    0.6558    0.6201     20000\n",
      "\n",
      "save best model to best_single_tower_lstm.pth (Val F1: 0.6201)\n"
     ]
    },
    {
     "data": {
      "application/vnd.jupyter.widget-view+json": {
       "model_id": "d8fe9d59d1a64ab699e7fc974590721a",
       "version_major": 2,
       "version_minor": 0
      },
      "text/plain": [
       "Epoch 4/10 Training:   0%|          | 0/2813 [00:00<?, ?it/s]"
      ]
     },
     "metadata": {},
     "output_type": "display_data"
    },
    {
     "name": "stdout",
     "output_type": "stream",
     "text": [
      "Epoch 4/10 Training: loss=0.7474\n"
     ]
    },
    {
     "data": {
      "application/vnd.jupyter.widget-view+json": {
       "model_id": "5361d79589774456a3adeee022c842ae",
       "version_major": 2,
       "version_minor": 0
      },
      "text/plain": [
       "Epoch 4/10 Evaluating:   0%|          | 0/313 [00:00<?, ?it/s]"
      ]
     },
     "metadata": {},
     "output_type": "display_data"
    },
    {
     "name": "stdout",
     "output_type": "stream",
     "text": [
      "Validation Accuracy: 0.6585\n",
      "Validation F1 Score: 0.6192\n",
      "              precision    recall  f1-score   support\n",
      "\n",
      " Relevance 0     0.5711    0.2846    0.3799      4894\n",
      " Relevance 1     0.6829    0.8888    0.7724     12592\n",
      " Relevance 2     0.4996    0.2331    0.3179      2514\n",
      "\n",
      "    accuracy                         0.6585     20000\n",
      "   macro avg     0.5845    0.4688    0.4901     20000\n",
      "weighted avg     0.6325    0.6585    0.6192     20000\n",
      "\n"
     ]
    },
    {
     "data": {
      "application/vnd.jupyter.widget-view+json": {
       "model_id": "2f3c3fc13d26495c923d8a4acb021e36",
       "version_major": 2,
       "version_minor": 0
      },
      "text/plain": [
       "Epoch 5/10 Training:   0%|          | 0/2813 [00:00<?, ?it/s]"
      ]
     },
     "metadata": {},
     "output_type": "display_data"
    },
    {
     "name": "stdout",
     "output_type": "stream",
     "text": [
      "Epoch 5/10 Training: loss=0.7313\n"
     ]
    },
    {
     "data": {
      "application/vnd.jupyter.widget-view+json": {
       "model_id": "75b605d894ee4410a050f70396686313",
       "version_major": 2,
       "version_minor": 0
      },
      "text/plain": [
       "Epoch 5/10 Evaluating:   0%|          | 0/313 [00:00<?, ?it/s]"
      ]
     },
     "metadata": {},
     "output_type": "display_data"
    },
    {
     "name": "stdout",
     "output_type": "stream",
     "text": [
      "Validation Accuracy: 0.6590\n",
      "Validation F1 Score: 0.6349\n",
      "              precision    recall  f1-score   support\n",
      "\n",
      " Relevance 0     0.5474    0.3682    0.4403      4894\n",
      " Relevance 1     0.6985    0.8475    0.7658     12592\n",
      " Relevance 2     0.4941    0.2808    0.3581      2514\n",
      "\n",
      "    accuracy                         0.6590     20000\n",
      "   macro avg     0.5800    0.4989    0.5214     20000\n",
      "weighted avg     0.6358    0.6590    0.6349     20000\n",
      "\n",
      "save best model to best_single_tower_lstm.pth (Val F1: 0.6349)\n"
     ]
    },
    {
     "data": {
      "application/vnd.jupyter.widget-view+json": {
       "model_id": "215d7ed84a01451cbe18a10c371ae7bf",
       "version_major": 2,
       "version_minor": 0
      },
      "text/plain": [
       "Epoch 6/10 Training:   0%|          | 0/2813 [00:00<?, ?it/s]"
      ]
     },
     "metadata": {},
     "output_type": "display_data"
    },
    {
     "name": "stdout",
     "output_type": "stream",
     "text": [
      "Epoch 6/10 Training: loss=0.7174\n"
     ]
    },
    {
     "data": {
      "application/vnd.jupyter.widget-view+json": {
       "model_id": "b089a5151b174bedbed91a4b74d33a2e",
       "version_major": 2,
       "version_minor": 0
      },
      "text/plain": [
       "Epoch 6/10 Evaluating:   0%|          | 0/313 [00:00<?, ?it/s]"
      ]
     },
     "metadata": {},
     "output_type": "display_data"
    },
    {
     "name": "stdout",
     "output_type": "stream",
     "text": [
      "Validation Accuracy: 0.6585\n",
      "Validation F1 Score: 0.6294\n",
      "              precision    recall  f1-score   support\n",
      "\n",
      " Relevance 0     0.5512    0.3396    0.4203      4894\n",
      " Relevance 1     0.6928    0.8621    0.7682     12592\n",
      " Relevance 2     0.4966    0.2601    0.3414      2514\n",
      "\n",
      "    accuracy                         0.6585     20000\n",
      "   macro avg     0.5802    0.4873    0.5100     20000\n",
      "weighted avg     0.6335    0.6585    0.6294     20000\n",
      "\n"
     ]
    },
    {
     "data": {
      "application/vnd.jupyter.widget-view+json": {
       "model_id": "7f88d5ba90c64bc28f8a556ada5acd03",
       "version_major": 2,
       "version_minor": 0
      },
      "text/plain": [
       "Epoch 7/10 Training:   0%|          | 0/2813 [00:00<?, ?it/s]"
      ]
     },
     "metadata": {},
     "output_type": "display_data"
    },
    {
     "name": "stdout",
     "output_type": "stream",
     "text": [
      "Epoch 7/10 Training: loss=0.7051\n"
     ]
    },
    {
     "data": {
      "application/vnd.jupyter.widget-view+json": {
       "model_id": "7df328871de643d28242d1fb2baba1b4",
       "version_major": 2,
       "version_minor": 0
      },
      "text/plain": [
       "Epoch 7/10 Evaluating:   0%|          | 0/313 [00:00<?, ?it/s]"
      ]
     },
     "metadata": {},
     "output_type": "display_data"
    },
    {
     "name": "stdout",
     "output_type": "stream",
     "text": [
      "Validation Accuracy: 0.6562\n",
      "Validation F1 Score: 0.6378\n",
      "              precision    recall  f1-score   support\n",
      "\n",
      " Relevance 0     0.5266    0.4422    0.4807      4894\n",
      " Relevance 1     0.7068    0.8194    0.7590     12592\n",
      " Relevance 2     0.4957    0.2550    0.3367      2514\n",
      "\n",
      "    accuracy                         0.6562     20000\n",
      "   macro avg     0.5764    0.5055    0.5255     20000\n",
      "weighted avg     0.6362    0.6562    0.6378     20000\n",
      "\n",
      "save best model to best_single_tower_lstm.pth (Val F1: 0.6378)\n"
     ]
    },
    {
     "data": {
      "application/vnd.jupyter.widget-view+json": {
       "model_id": "c5954365c4f94ff882a0ebbf4e93966c",
       "version_major": 2,
       "version_minor": 0
      },
      "text/plain": [
       "Epoch 8/10 Training:   0%|          | 0/2813 [00:00<?, ?it/s]"
      ]
     },
     "metadata": {},
     "output_type": "display_data"
    },
    {
     "name": "stdout",
     "output_type": "stream",
     "text": [
      "Epoch 8/10 Training: loss=0.6939\n"
     ]
    },
    {
     "data": {
      "application/vnd.jupyter.widget-view+json": {
       "model_id": "18b3b60a9161472f81166311f9f55544",
       "version_major": 2,
       "version_minor": 0
      },
      "text/plain": [
       "Epoch 8/10 Evaluating:   0%|          | 0/313 [00:00<?, ?it/s]"
      ]
     },
     "metadata": {},
     "output_type": "display_data"
    },
    {
     "name": "stdout",
     "output_type": "stream",
     "text": [
      "Validation Accuracy: 0.6567\n",
      "Validation F1 Score: 0.6360\n",
      "              precision    recall  f1-score   support\n",
      "\n",
      " Relevance 0     0.5326    0.4119    0.4646      4894\n",
      " Relevance 1     0.7031    0.8312    0.7618     12592\n",
      " Relevance 2     0.4910    0.2593    0.3394      2514\n",
      "\n",
      "    accuracy                         0.6567     20000\n",
      "   macro avg     0.5756    0.5008    0.5219     20000\n",
      "weighted avg     0.6347    0.6567    0.6360     20000\n",
      "\n"
     ]
    },
    {
     "data": {
      "application/vnd.jupyter.widget-view+json": {
       "model_id": "f82fcaa9d0c64cefbb8fc87df37a0346",
       "version_major": 2,
       "version_minor": 0
      },
      "text/plain": [
       "Epoch 9/10 Training:   0%|          | 0/2813 [00:00<?, ?it/s]"
      ]
     },
     "metadata": {},
     "output_type": "display_data"
    },
    {
     "name": "stdout",
     "output_type": "stream",
     "text": [
      "Epoch 9/10 Training: loss=0.6851\n"
     ]
    },
    {
     "data": {
      "application/vnd.jupyter.widget-view+json": {
       "model_id": "fdf903aaed804ba1b298918f902e4459",
       "version_major": 2,
       "version_minor": 0
      },
      "text/plain": [
       "Epoch 9/10 Evaluating:   0%|          | 0/313 [00:00<?, ?it/s]"
      ]
     },
     "metadata": {},
     "output_type": "display_data"
    },
    {
     "name": "stdout",
     "output_type": "stream",
     "text": [
      "Validation Accuracy: 0.6541\n",
      "Validation F1 Score: 0.6375\n",
      "              precision    recall  f1-score   support\n",
      "\n",
      " Relevance 0     0.5197    0.4555    0.4855      4894\n",
      " Relevance 1     0.7080    0.8102    0.7557     12592\n",
      " Relevance 2     0.5000    0.2589    0.3412      2514\n",
      "\n",
      "    accuracy                         0.6541     20000\n",
      "   macro avg     0.5759    0.5082    0.5274     20000\n",
      "weighted avg     0.6358    0.6541    0.6375     20000\n",
      "\n"
     ]
    },
    {
     "data": {
      "application/vnd.jupyter.widget-view+json": {
       "model_id": "d9629fdac64a46a88679b206eeba112f",
       "version_major": 2,
       "version_minor": 0
      },
      "text/plain": [
       "Epoch 10/10 Training:   0%|          | 0/2813 [00:00<?, ?it/s]"
      ]
     },
     "metadata": {},
     "output_type": "display_data"
    },
    {
     "name": "stdout",
     "output_type": "stream",
     "text": [
      "Epoch 10/10 Training: loss=0.6759\n"
     ]
    },
    {
     "data": {
      "application/vnd.jupyter.widget-view+json": {
       "model_id": "6ecae6b261a943978e467f996d0f1dcc",
       "version_major": 2,
       "version_minor": 0
      },
      "text/plain": [
       "Epoch 10/10 Evaluating:   0%|          | 0/313 [00:00<?, ?it/s]"
      ]
     },
     "metadata": {},
     "output_type": "display_data"
    },
    {
     "name": "stdout",
     "output_type": "stream",
     "text": [
      "Validation Accuracy: 0.6560\n",
      "Validation F1 Score: 0.6406\n",
      "              precision    recall  f1-score   support\n",
      "\n",
      " Relevance 0     0.5286    0.4397    0.4801      4894\n",
      " Relevance 1     0.7104    0.8123    0.7580     12592\n",
      " Relevance 2     0.4824    0.2936    0.3650      2514\n",
      "\n",
      "    accuracy                         0.6560     20000\n",
      "   macro avg     0.5738    0.5152    0.5343     20000\n",
      "weighted avg     0.6373    0.6560    0.6406     20000\n",
      "\n",
      "save best model to best_single_tower_lstm.pth (Val F1: 0.6406)\n",
      "--- Training Finished (SINGLE) in 635.59s ---\n",
      "Best Validation F1 Score (SINGLE): 0.6406\n",
      "\n",
      "Loading best single-tower LSTM model for final evaluation...\n",
      "\n",
      "--- Starting Evaluation on Test Set (SINGLE) ---\n"
     ]
    },
    {
     "data": {
      "application/vnd.jupyter.widget-view+json": {
       "model_id": "65a27bf8ba41495babd714b167fb6b83",
       "version_major": 2,
       "version_minor": 0
      },
      "text/plain": [
       "Evaluating Test Set:   0%|          | 0/79 [00:00<?, ?it/s]"
      ]
     },
     "metadata": {},
     "output_type": "display_data"
    },
    {
     "name": "stdout",
     "output_type": "stream",
     "text": [
      "Test Set Accuracy: 0.6634\n",
      "Test Set F1 Score: 0.6487\n",
      "              precision    recall  f1-score   support\n",
      "\n",
      " Relevance 0     0.5357    0.4467    0.4871      1209\n",
      " Relevance 1     0.7185    0.8177    0.7649      3159\n",
      " Relevance 2     0.4887    0.3070    0.3771       632\n",
      "\n",
      "    accuracy                         0.6634      5000\n",
      "   macro avg     0.5810    0.5238    0.5430      5000\n",
      "weighted avg     0.6452    0.6634    0.6487      5000\n",
      "\n",
      "--- Evaluation Finished (SINGLE) ---\n"
     ]
    }
   ],
   "source": [
    "print(\"\\n\" + \"=\"*20 + \" SINGLE TOWER LSTM \" + \"=\"*20)\n",
    "single_tower_lstm_model = SingleTowerLSTM(\n",
    "    vocab_size=vocab_size, embedding_dim=CONFIG[\"embedding_dim\"], hidden_dim=CONFIG[\"hidden_dim\"],\n",
    "    num_classes=CONFIG[\"num_classes\"], rnn_layers=CONFIG[\"rnn_layers\"], dropout_prob=CONFIG[\"dropout_prob\"],\n",
    "    bidirectional=CONFIG[\"rnn_bidirectional\"],\n",
    "    pad_idx=pad_idx\n",
    ").to(CONFIG[\"device\"])\n",
    "optimizer_single_lstm = optim.Adam(single_tower_lstm_model.parameters(), lr=CONFIG[\"learning_rate\"])\n",
    "\n",
    "# Train Single Tower LSTM\n",
    "train_model(single_tower_lstm_model, 'single', train_loader, val_loader, optimizer_single_lstm, criterion,\n",
    "            CONFIG[\"num_epochs\"], CONFIG[\"device\"], CONFIG[\"save_path_single_lstm\"])\n",
    "\n",
    "# Evaluate Single Tower LSTM\n",
    "print(\"\\nLoading best single-tower LSTM model for final evaluation...\")\n",
    "try:\n",
    "    single_tower_lstm_model.load_state_dict(torch.load(CONFIG[\"save_path_single_lstm\"], map_location=CONFIG[\"device\"]))\n",
    "except Exception as e:\n",
    "    print(f\"Could not load saved single-tower LSTM model state: {e}. Evaluating model state after last epoch.\")\n",
    "accuracy_lstm_single, f1_lstm_single, _, _ = evaluate_model(single_tower_lstm_model, 'single', test_loader, criterion, CONFIG[\"device\"])"
   ]
  },
  {
   "cell_type": "markdown",
   "metadata": {},
   "source": [
    "####  TWO TOWER LSTM <a name='TWO_TOWER_LSTM'></a>"
   ]
  },
  {
   "cell_type": "code",
   "execution_count": null,
   "metadata": {},
   "outputs": [
    {
     "name": "stdout",
     "output_type": "stream",
     "text": [
      "\n",
      "==================== TWO TOWER LSTM ====================\n",
      "\n",
      "--- Starting Training (TWO) ---\n"
     ]
    },
    {
     "data": {
      "application/vnd.jupyter.widget-view+json": {
       "model_id": "f9bcb1afed554d8296195b2372a5155c",
       "version_major": 2,
       "version_minor": 0
      },
      "text/plain": [
       "Epoch 1/10 Training:   0%|          | 0/2813 [00:00<?, ?it/s]"
      ]
     },
     "metadata": {},
     "output_type": "display_data"
    },
    {
     "name": "stdout",
     "output_type": "stream",
     "text": [
      "Epoch 1/10 Training: loss=0.8342\n"
     ]
    },
    {
     "data": {
      "application/vnd.jupyter.widget-view+json": {
       "model_id": "483a78cda2de472a968adadcc8495bca",
       "version_major": 2,
       "version_minor": 0
      },
      "text/plain": [
       "Epoch 1/10 Evaluating:   0%|          | 0/313 [00:00<?, ?it/s]"
      ]
     },
     "metadata": {},
     "output_type": "display_data"
    },
    {
     "name": "stdout",
     "output_type": "stream",
     "text": [
      "Validation Accuracy: 0.6482\n",
      "Validation F1 Score: 0.6041\n",
      "              precision    recall  f1-score   support\n",
      "\n",
      " Relevance 0     0.5530    0.2366    0.3314      4894\n",
      " Relevance 1     0.6758    0.8901    0.7683     12592\n",
      " Relevance 2     0.4531    0.2383    0.3123      2514\n",
      "\n",
      "    accuracy                         0.6482     20000\n",
      "   macro avg     0.5606    0.4550    0.4707     20000\n",
      "weighted avg     0.6178    0.6482    0.6041     20000\n",
      "\n",
      "save best model to best_two_tower_lstm.pth (Val F1: 0.6041)\n"
     ]
    },
    {
     "data": {
      "application/vnd.jupyter.widget-view+json": {
       "model_id": "ccafc84024cc4fdb943df83019dd60c4",
       "version_major": 2,
       "version_minor": 0
      },
      "text/plain": [
       "Epoch 2/10 Training:   0%|          | 0/2813 [00:00<?, ?it/s]"
      ]
     },
     "metadata": {},
     "output_type": "display_data"
    },
    {
     "name": "stdout",
     "output_type": "stream",
     "text": [
      "Epoch 2/10 Training: loss=0.7886\n"
     ]
    },
    {
     "data": {
      "application/vnd.jupyter.widget-view+json": {
       "model_id": "e9767ad7ec6d4705a4d552e116f89207",
       "version_major": 2,
       "version_minor": 0
      },
      "text/plain": [
       "Epoch 2/10 Evaluating:   0%|          | 0/313 [00:00<?, ?it/s]"
      ]
     },
     "metadata": {},
     "output_type": "display_data"
    },
    {
     "name": "stdout",
     "output_type": "stream",
     "text": [
      "Validation Accuracy: 0.6515\n",
      "Validation F1 Score: 0.6171\n",
      "              precision    recall  f1-score   support\n",
      "\n",
      " Relevance 0     0.5614    0.2738    0.3681      4894\n",
      " Relevance 1     0.6862    0.8715    0.7678     12592\n",
      " Relevance 2     0.4426    0.2852    0.3469      2514\n",
      "\n",
      "    accuracy                         0.6515     20000\n",
      "   macro avg     0.5634    0.4768    0.4943     20000\n",
      "weighted avg     0.6250    0.6515    0.6171     20000\n",
      "\n",
      "save best model to best_two_tower_lstm.pth (Val F1: 0.6171)\n"
     ]
    },
    {
     "data": {
      "application/vnd.jupyter.widget-view+json": {
       "model_id": "c941521f800d4e349afcdb6c7f091fa0",
       "version_major": 2,
       "version_minor": 0
      },
      "text/plain": [
       "Epoch 3/10 Training:   0%|          | 0/2813 [00:00<?, ?it/s]"
      ]
     },
     "metadata": {},
     "output_type": "display_data"
    },
    {
     "name": "stdout",
     "output_type": "stream",
     "text": [
      "Epoch 3/10 Training: loss=0.7632\n"
     ]
    },
    {
     "data": {
      "application/vnd.jupyter.widget-view+json": {
       "model_id": "dc8d60e10bc647aa87665bd1f249a373",
       "version_major": 2,
       "version_minor": 0
      },
      "text/plain": [
       "Epoch 3/10 Evaluating:   0%|          | 0/313 [00:00<?, ?it/s]"
      ]
     },
     "metadata": {},
     "output_type": "display_data"
    },
    {
     "name": "stdout",
     "output_type": "stream",
     "text": [
      "Validation Accuracy: 0.6618\n",
      "Validation F1 Score: 0.6260\n",
      "              precision    recall  f1-score   support\n",
      "\n",
      " Relevance 0     0.5755    0.3202    0.4114      4894\n",
      " Relevance 1     0.6891    0.8829    0.7741     12592\n",
      " Relevance 2     0.4821    0.2196    0.3017      2514\n",
      "\n",
      "    accuracy                         0.6618     20000\n",
      "   macro avg     0.5822    0.4742    0.4957     20000\n",
      "weighted avg     0.6353    0.6618    0.6260     20000\n",
      "\n",
      "save best model to best_two_tower_lstm.pth (Val F1: 0.6260)\n"
     ]
    },
    {
     "data": {
      "application/vnd.jupyter.widget-view+json": {
       "model_id": "cbc4731d9e0c444f869f52cd04a5dc1d",
       "version_major": 2,
       "version_minor": 0
      },
      "text/plain": [
       "Epoch 4/10 Training:   0%|          | 0/2813 [00:00<?, ?it/s]"
      ]
     },
     "metadata": {},
     "output_type": "display_data"
    },
    {
     "name": "stdout",
     "output_type": "stream",
     "text": [
      "Epoch 4/10 Training: loss=0.7428\n"
     ]
    },
    {
     "data": {
      "application/vnd.jupyter.widget-view+json": {
       "model_id": "a2df5a0541444547a142058bb03e8737",
       "version_major": 2,
       "version_minor": 0
      },
      "text/plain": [
       "Epoch 4/10 Evaluating:   0%|          | 0/313 [00:00<?, ?it/s]"
      ]
     },
     "metadata": {},
     "output_type": "display_data"
    },
    {
     "name": "stdout",
     "output_type": "stream",
     "text": [
      "Validation Accuracy: 0.6604\n",
      "Validation F1 Score: 0.6338\n",
      "              precision    recall  f1-score   support\n",
      "\n",
      " Relevance 0     0.5584    0.3555    0.4345      4894\n",
      " Relevance 1     0.6980    0.8574    0.7695     12592\n",
      " Relevance 2     0.4746    0.2677    0.3423      2514\n",
      "\n",
      "    accuracy                         0.6604     20000\n",
      "   macro avg     0.5770    0.4935    0.5154     20000\n",
      "weighted avg     0.6358    0.6604    0.6338     20000\n",
      "\n",
      "save best model to best_two_tower_lstm.pth (Val F1: 0.6338)\n"
     ]
    },
    {
     "data": {
      "application/vnd.jupyter.widget-view+json": {
       "model_id": "9e229b4b1f7740bbb5f20864f1b21fe1",
       "version_major": 2,
       "version_minor": 0
      },
      "text/plain": [
       "Epoch 5/10 Training:   0%|          | 0/2813 [00:00<?, ?it/s]"
      ]
     },
     "metadata": {},
     "output_type": "display_data"
    },
    {
     "name": "stdout",
     "output_type": "stream",
     "text": [
      "Epoch 5/10 Training: loss=0.7254\n"
     ]
    },
    {
     "data": {
      "application/vnd.jupyter.widget-view+json": {
       "model_id": "40f7c15702ae4d7f82c4d7bd3dac5344",
       "version_major": 2,
       "version_minor": 0
      },
      "text/plain": [
       "Epoch 5/10 Evaluating:   0%|          | 0/313 [00:00<?, ?it/s]"
      ]
     },
     "metadata": {},
     "output_type": "display_data"
    },
    {
     "name": "stdout",
     "output_type": "stream",
     "text": [
      "Validation Accuracy: 0.6635\n",
      "Validation F1 Score: 0.6306\n",
      "              precision    recall  f1-score   support\n",
      "\n",
      " Relevance 0     0.5769    0.3304    0.4202      4894\n",
      " Relevance 1     0.6928    0.8779    0.7744     12592\n",
      " Relevance 2     0.4835    0.2387    0.3196      2514\n",
      "\n",
      "    accuracy                         0.6635     20000\n",
      "   macro avg     0.5844    0.4823    0.5047     20000\n",
      "weighted avg     0.6381    0.6635    0.6306     20000\n",
      "\n"
     ]
    },
    {
     "data": {
      "application/vnd.jupyter.widget-view+json": {
       "model_id": "6dd0ce6634bd4c1098e76cd8c4e60c80",
       "version_major": 2,
       "version_minor": 0
      },
      "text/plain": [
       "Epoch 6/10 Training:   0%|          | 0/2813 [00:00<?, ?it/s]"
      ]
     },
     "metadata": {},
     "output_type": "display_data"
    },
    {
     "name": "stdout",
     "output_type": "stream",
     "text": [
      "Epoch 6/10 Training: loss=0.7109\n"
     ]
    },
    {
     "data": {
      "application/vnd.jupyter.widget-view+json": {
       "model_id": "76a231020e61430b9106afb48a29dc6f",
       "version_major": 2,
       "version_minor": 0
      },
      "text/plain": [
       "Epoch 6/10 Evaluating:   0%|          | 0/313 [00:00<?, ?it/s]"
      ]
     },
     "metadata": {},
     "output_type": "display_data"
    },
    {
     "name": "stdout",
     "output_type": "stream",
     "text": [
      "Validation Accuracy: 0.6634\n",
      "Validation F1 Score: 0.6425\n",
      "              precision    recall  f1-score   support\n",
      "\n",
      " Relevance 0     0.5525    0.3948    0.4605      4894\n",
      " Relevance 1     0.7063    0.8416    0.7680     12592\n",
      " Relevance 2     0.4927    0.2940    0.3682      2514\n",
      "\n",
      "    accuracy                         0.6634     20000\n",
      "   macro avg     0.5838    0.5101    0.5322     20000\n",
      "weighted avg     0.6418    0.6634    0.6425     20000\n",
      "\n",
      "save best model to best_two_tower_lstm.pth (Val F1: 0.6425)\n"
     ]
    },
    {
     "data": {
      "application/vnd.jupyter.widget-view+json": {
       "model_id": "12bcca36b034403e98a89fe35dbc7e8d",
       "version_major": 2,
       "version_minor": 0
      },
      "text/plain": [
       "Epoch 7/10 Training:   0%|          | 0/2813 [00:00<?, ?it/s]"
      ]
     },
     "metadata": {},
     "output_type": "display_data"
    },
    {
     "name": "stdout",
     "output_type": "stream",
     "text": [
      "Epoch 7/10 Training: loss=0.6975\n"
     ]
    },
    {
     "data": {
      "application/vnd.jupyter.widget-view+json": {
       "model_id": "f48b68c004934c83b60e0726242ef7f5",
       "version_major": 2,
       "version_minor": 0
      },
      "text/plain": [
       "Epoch 7/10 Evaluating:   0%|          | 0/313 [00:00<?, ?it/s]"
      ]
     },
     "metadata": {},
     "output_type": "display_data"
    },
    {
     "name": "stdout",
     "output_type": "stream",
     "text": [
      "Validation Accuracy: 0.6636\n",
      "Validation F1 Score: 0.6404\n",
      "              precision    recall  f1-score   support\n",
      "\n",
      " Relevance 0     0.5826    0.3562    0.4420      4894\n",
      " Relevance 1     0.7031    0.8524    0.7706     12592\n",
      " Relevance 2     0.4575    0.3170    0.3745      2514\n",
      "\n",
      "    accuracy                         0.6636     20000\n",
      "   macro avg     0.5810    0.5085    0.5290     20000\n",
      "weighted avg     0.6427    0.6636    0.6404     20000\n",
      "\n"
     ]
    },
    {
     "data": {
      "application/vnd.jupyter.widget-view+json": {
       "model_id": "57266f137ec64b048f3953f9a73dd164",
       "version_major": 2,
       "version_minor": 0
      },
      "text/plain": [
       "Epoch 8/10 Training:   0%|          | 0/2813 [00:00<?, ?it/s]"
      ]
     },
     "metadata": {},
     "output_type": "display_data"
    },
    {
     "name": "stdout",
     "output_type": "stream",
     "text": [
      "Epoch 8/10 Training: loss=0.6864\n"
     ]
    },
    {
     "data": {
      "application/vnd.jupyter.widget-view+json": {
       "model_id": "43c59aeee8a74d26b70c4d314d27e829",
       "version_major": 2,
       "version_minor": 0
      },
      "text/plain": [
       "Epoch 8/10 Evaluating:   0%|          | 0/313 [00:00<?, ?it/s]"
      ]
     },
     "metadata": {},
     "output_type": "display_data"
    },
    {
     "name": "stdout",
     "output_type": "stream",
     "text": [
      "Validation Accuracy: 0.6667\n",
      "Validation F1 Score: 0.6453\n",
      "              precision    recall  f1-score   support\n",
      "\n",
      " Relevance 0     0.5695    0.3954    0.4667      4894\n",
      " Relevance 1     0.7080    0.8472    0.7714     12592\n",
      " Relevance 2     0.4762    0.2908    0.3611      2514\n",
      "\n",
      "    accuracy                         0.6667     20000\n",
      "   macro avg     0.5846    0.5111    0.5331     20000\n",
      "weighted avg     0.6450    0.6667    0.6453     20000\n",
      "\n",
      "save best model to best_two_tower_lstm.pth (Val F1: 0.6453)\n"
     ]
    },
    {
     "data": {
      "application/vnd.jupyter.widget-view+json": {
       "model_id": "de4622c007774aebb3b366a728716147",
       "version_major": 2,
       "version_minor": 0
      },
      "text/plain": [
       "Epoch 9/10 Training:   0%|          | 0/2813 [00:00<?, ?it/s]"
      ]
     },
     "metadata": {},
     "output_type": "display_data"
    },
    {
     "name": "stdout",
     "output_type": "stream",
     "text": [
      "Epoch 9/10 Training: loss=0.6748\n"
     ]
    },
    {
     "data": {
      "application/vnd.jupyter.widget-view+json": {
       "model_id": "f43c9e06203e4461967926094ce31dad",
       "version_major": 2,
       "version_minor": 0
      },
      "text/plain": [
       "Epoch 9/10 Evaluating:   0%|          | 0/313 [00:00<?, ?it/s]"
      ]
     },
     "metadata": {},
     "output_type": "display_data"
    },
    {
     "name": "stdout",
     "output_type": "stream",
     "text": [
      "Validation Accuracy: 0.6626\n",
      "Validation F1 Score: 0.6371\n",
      "              precision    recall  f1-score   support\n",
      "\n",
      " Relevance 0     0.5627    0.3833    0.4560      4894\n",
      " Relevance 1     0.7007    0.8540    0.7698     12592\n",
      " Relevance 2     0.4716    0.2474    0.3245      2514\n",
      "\n",
      "    accuracy                         0.6626     20000\n",
      "   macro avg     0.5783    0.4949    0.5168     20000\n",
      "weighted avg     0.6381    0.6626    0.6371     20000\n",
      "\n"
     ]
    },
    {
     "data": {
      "application/vnd.jupyter.widget-view+json": {
       "model_id": "4847aae1d50b4a599c2a5ed6a08c8e02",
       "version_major": 2,
       "version_minor": 0
      },
      "text/plain": [
       "Epoch 10/10 Training:   0%|          | 0/2813 [00:00<?, ?it/s]"
      ]
     },
     "metadata": {},
     "output_type": "display_data"
    },
    {
     "name": "stdout",
     "output_type": "stream",
     "text": [
      "Epoch 10/10 Training: loss=0.6660\n"
     ]
    },
    {
     "data": {
      "application/vnd.jupyter.widget-view+json": {
       "model_id": "d57509d0620c48b48af8fea5ab86d9d1",
       "version_major": 2,
       "version_minor": 0
      },
      "text/plain": [
       "Epoch 10/10 Evaluating:   0%|          | 0/313 [00:00<?, ?it/s]"
      ]
     },
     "metadata": {},
     "output_type": "display_data"
    },
    {
     "name": "stdout",
     "output_type": "stream",
     "text": [
      "Validation Accuracy: 0.6643\n",
      "Validation F1 Score: 0.6445\n",
      "              precision    recall  f1-score   support\n",
      "\n",
      " Relevance 0     0.5712    0.3911    0.4643      4894\n",
      " Relevance 1     0.7085    0.8407    0.7689     12592\n",
      " Relevance 2     0.4599    0.3123    0.3719      2514\n",
      "\n",
      "    accuracy                         0.6643     20000\n",
      "   macro avg     0.5798    0.5147    0.5351     20000\n",
      "weighted avg     0.6436    0.6643    0.6445     20000\n",
      "\n",
      "--- Training Finished (TWO) in 670.58s ---\n",
      "Best Validation F1 Score (TWO): 0.6453\n",
      "\n",
      "Loading best two-tower LSTM model for final evaluation...\n",
      "\n",
      "--- Starting Evaluation on Test Set (TWO) ---\n"
     ]
    },
    {
     "data": {
      "application/vnd.jupyter.widget-view+json": {
       "model_id": "0eca87b6af7d49a695d6eb03647a5eda",
       "version_major": 2,
       "version_minor": 0
      },
      "text/plain": [
       "Evaluating Test Set:   0%|          | 0/79 [00:00<?, ?it/s]"
      ]
     },
     "metadata": {},
     "output_type": "display_data"
    },
    {
     "name": "stdout",
     "output_type": "stream",
     "text": [
      "Test Set Accuracy: 0.6646\n",
      "Test Set F1 Score: 0.6434\n",
      "              precision    recall  f1-score   support\n",
      "\n",
      " Relevance 0     0.5707    0.3937    0.4660      1209\n",
      " Relevance 1     0.7057    0.8433    0.7684      3159\n",
      " Relevance 2     0.4680    0.2896    0.3578       632\n",
      "\n",
      "    accuracy                         0.6646      5000\n",
      "   macro avg     0.5815    0.5089    0.5307      5000\n",
      "weighted avg     0.6430    0.6646    0.6434      5000\n",
      "\n",
      "--- Evaluation Finished (TWO) ---\n"
     ]
    }
   ],
   "source": [
    "print(\"\\n\" + \"=\"*20 + \" TWO TOWER LSTM \" + \"=\"*20)\n",
    "two_tower_lstm_model = TwoTowerLSTM(\n",
    "    vocab_size=vocab_size, embedding_dim=CONFIG[\"embedding_dim\"], hidden_dim=CONFIG[\"hidden_dim\"],\n",
    "    num_classes=CONFIG[\"num_classes\"], rnn_layers=CONFIG[\"rnn_layers\"], dropout_prob=CONFIG[\"dropout_prob\"],\n",
    "    bidirectional=CONFIG[\"rnn_bidirectional\"],\n",
    "    pad_idx=pad_idx\n",
    ").to(CONFIG[\"device\"])\n",
    "optimizer_two_lstm = optim.Adam(two_tower_lstm_model.parameters(), lr=CONFIG[\"learning_rate\"])\n",
    "\n",
    "# Train Two Tower LSTM\n",
    "train_model(two_tower_lstm_model, 'two', train_loader, val_loader, optimizer_two_lstm, criterion,\n",
    "            CONFIG[\"num_epochs\"], CONFIG[\"device\"], CONFIG[\"save_path_two_lstm\"])\n",
    "\n",
    "# Evaluate Two Tower LSTM\n",
    "print(\"\\nLoading best two-tower LSTM model for final evaluation...\")\n",
    "try:\n",
    "    two_tower_lstm_model.load_state_dict(torch.load(CONFIG[\"save_path_two_lstm\"], map_location=CONFIG[\"device\"]))\n",
    "except Exception as e:\n",
    "      print(f\"Could not load saved two-tower LSTM model state: {e}. Evaluating model state after last epoch.\")\n",
    "accuracy_lstm_two, f1_lstm_two, _, _ = evaluate_model(two_tower_lstm_model, 'two', test_loader, criterion, CONFIG[\"device\"])"
   ]
  },
  {
   "cell_type": "markdown",
   "metadata": {},
   "source": [
    "###  5.5 <a name='5.3'></a>GRU(Single Tower+Tow Tower)\n",
    "[Back to Table of Contents](#top)"
   ]
  },
  {
   "cell_type": "markdown",
   "metadata": {},
   "source": [
    "![GRU](img/gru.png)"
   ]
  },
  {
   "cell_type": "markdown",
   "metadata": {},
   "source": [
    "GRU's performance is often comparable to LSTM, but due to its simpler structure and fewer parameters, it might offer advantages in training speed and memory consumption."
   ]
  },
  {
   "cell_type": "markdown",
   "metadata": {},
   "source": [
    "####  Model Definition <a name='Model_Definition'></a>"
   ]
  },
  {
   "cell_type": "code",
   "execution_count": null,
   "metadata": {},
   "outputs": [],
   "source": [
    "class SingleTowerGRU(nn.Module):\n",
    "    def __init__(self, vocab_size, embedding_dim, hidden_dim, num_classes,\n",
    "                 rnn_layers, dropout_prob, bidirectional, pad_idx):\n",
    "        super().__init__()\n",
    "        self.embedding = nn.Embedding(vocab_size, embedding_dim, padding_idx=pad_idx)\n",
    "        gru_hidden_dim = hidden_dim // 2 if bidirectional else hidden_dim\n",
    "        num_directions = 2 if bidirectional else 1\n",
    "        # Use nn.GRU layer\n",
    "        self.rnn = nn.GRU(embedding_dim, gru_hidden_dim, num_layers=rnn_layers,\n",
    "                          batch_first=True,\n",
    "                          dropout=dropout_prob if rnn_layers > 1 else 0,\n",
    "                          bidirectional=bidirectional)\n",
    "        self.dropout = nn.Dropout(dropout_prob)\n",
    "        self.fc = nn.Linear(hidden_dim, num_classes) # Input dim is total hidden_dim\n",
    "        self.rnn_layers = rnn_layers\n",
    "        self.num_directions = num_directions\n",
    "\n",
    "    def forward(self, combined_indices):\n",
    "        # combined_indices: (batch_size, max_combined_len)\n",
    "        embedded = self.dropout(self.embedding(combined_indices))\n",
    "        # output shape: (batch_size, seq_len, num_directions * gru_hidden_dim)\n",
    "        # hidden_n shape: (num_layers * num_directions, batch_size, gru_hidden_dim)\n",
    "        output, hidden_n = self.rnn(embedded)\n",
    "        final_hidden = _extract_final_hidden(hidden_n, self.rnn_layers, self.num_directions, combined_indices.size(0))\n",
    "        # final_hidden: (batch_size, hidden_dim)\n",
    "\n",
    "        logits = self.fc(self.dropout(final_hidden))\n",
    "        return logits\n",
    "\n",
    "class TwoTowerGRU(nn.Module):\n",
    "    def __init__(self, vocab_size, embedding_dim, hidden_dim, num_classes,\n",
    "                 rnn_layers, dropout_prob, bidirectional, pad_idx):\n",
    "        super().__init__()\n",
    "        self.embedding = nn.Embedding(vocab_size, embedding_dim, padding_idx=pad_idx)\n",
    "\n",
    "        gru_hidden_dim = hidden_dim // 2 if bidirectional else hidden_dim\n",
    "        num_directions = 2 if bidirectional else 1\n",
    "\n",
    "        # Use GRU layers for query and title\n",
    "        self.rnn_query = nn.GRU(embedding_dim, gru_hidden_dim, num_layers=rnn_layers,\n",
    "                                batch_first=True,\n",
    "                                dropout=dropout_prob if rnn_layers > 1 else 0,\n",
    "                                bidirectional=bidirectional)\n",
    "        self.rnn_title = nn.GRU(embedding_dim, gru_hidden_dim, num_layers=rnn_layers,\n",
    "                                batch_first=True,\n",
    "                                dropout=dropout_prob if rnn_layers > 1 else 0,\n",
    "                                bidirectional=bidirectional)\n",
    "\n",
    "        self.dropout = nn.Dropout(dropout_prob)\n",
    "        # Input to FC layer is concatenation of final hidden states (h_n) from both towers\n",
    "        self.fc = nn.Linear(hidden_dim * 2, num_classes)\n",
    "        self.rnn_layers = rnn_layers\n",
    "        self.num_directions = num_directions\n",
    "\n",
    "    def forward(self, query_indices, title_indices):\n",
    "        # query_indices: (batch_size, max_query_len)\n",
    "        # title_indices: (batch_size, max_title_len)\n",
    "\n",
    "        query_embedded = self.dropout(self.embedding(query_indices))\n",
    "        title_embedded = self.dropout(self.embedding(title_indices))\n",
    "\n",
    "        _, query_hidden_n = self.rnn_query(query_embedded)\n",
    "        _, title_hidden_n = self.rnn_title(title_embedded)\n",
    "        # hidden_n shapes: (num_layers * num_directions, batch_size, gru_hidden_dim)\n",
    "\n",
    "        query_final_hidden = _extract_final_hidden(query_hidden_n, self.rnn_layers, self.num_directions, query_indices.size(0))\n",
    "        title_final_hidden = _extract_final_hidden(title_hidden_n, self.rnn_layers, self.num_directions, title_indices.size(0))\n",
    "        # final hidden shapes: (batch_size, hidden_dim)\n",
    "\n",
    "        # Concatenate the final hidden states\n",
    "        combined = torch.cat((query_final_hidden, title_final_hidden), dim=1)\n",
    "        # combined: (batch_size, hidden_dim * 2)\n",
    "\n",
    "        logits = self.fc(self.dropout(combined))\n",
    "        return logits"
   ]
  },
  {
   "cell_type": "markdown",
   "metadata": {},
   "source": [
    "####  SINGLE TOWER GRU <a name='SINGLE_TOWER_GRU'></a>"
   ]
  },
  {
   "cell_type": "code",
   "execution_count": null,
   "metadata": {},
   "outputs": [
    {
     "name": "stdout",
     "output_type": "stream",
     "text": [
      "\n",
      "==================== SINGLE TOWER GRU ====================\n",
      "\n",
      "--- Starting Training (SINGLE) ---\n"
     ]
    },
    {
     "data": {
      "application/vnd.jupyter.widget-view+json": {
       "model_id": "78ce69c94dde44b1afd3c3f8b50488d1",
       "version_major": 2,
       "version_minor": 0
      },
      "text/plain": [
       "Epoch 1/10 Training:   0%|          | 0/2813 [00:00<?, ?it/s]"
      ]
     },
     "metadata": {},
     "output_type": "display_data"
    },
    {
     "name": "stdout",
     "output_type": "stream",
     "text": [
      "Epoch 1/10 Training: loss=0.8395\n"
     ]
    },
    {
     "data": {
      "application/vnd.jupyter.widget-view+json": {
       "model_id": "38556039be26431e977e6735a23a87e1",
       "version_major": 2,
       "version_minor": 0
      },
      "text/plain": [
       "Epoch 1/10 Evaluating:   0%|          | 0/313 [00:00<?, ?it/s]"
      ]
     },
     "metadata": {},
     "output_type": "display_data"
    },
    {
     "name": "stdout",
     "output_type": "stream",
     "text": [
      "Validation Accuracy: 0.6505\n",
      "Validation F1 Score: 0.6004\n",
      "              precision    recall  f1-score   support\n",
      "\n",
      " Relevance 0     0.5572    0.2327    0.3283      4894\n",
      " Relevance 1     0.6717    0.9042    0.7708     12592\n",
      " Relevance 2     0.4831    0.1933    0.2761      2514\n",
      "\n",
      "    accuracy                         0.6505     20000\n",
      "   macro avg     0.5707    0.4434    0.4584     20000\n",
      "weighted avg     0.6200    0.6505    0.6004     20000\n",
      "\n",
      "save best model to best_single_tower_gru.pth (Val F1: 0.6004)\n"
     ]
    },
    {
     "data": {
      "application/vnd.jupyter.widget-view+json": {
       "model_id": "5cdde88dbf144be1994adb8148b4b831",
       "version_major": 2,
       "version_minor": 0
      },
      "text/plain": [
       "Epoch 2/10 Training:   0%|          | 0/2813 [00:00<?, ?it/s]"
      ]
     },
     "metadata": {},
     "output_type": "display_data"
    },
    {
     "name": "stdout",
     "output_type": "stream",
     "text": [
      "Epoch 2/10 Training: loss=0.7910\n"
     ]
    },
    {
     "data": {
      "application/vnd.jupyter.widget-view+json": {
       "model_id": "d1257915a31d4ca59b63d1f939dbaa79",
       "version_major": 2,
       "version_minor": 0
      },
      "text/plain": [
       "Epoch 2/10 Evaluating:   0%|          | 0/313 [00:00<?, ?it/s]"
      ]
     },
     "metadata": {},
     "output_type": "display_data"
    },
    {
     "name": "stdout",
     "output_type": "stream",
     "text": [
      "Validation Accuracy: 0.6506\n",
      "Validation F1 Score: 0.6152\n",
      "              precision    recall  f1-score   support\n",
      "\n",
      " Relevance 0     0.5279    0.3327    0.4081      4894\n",
      " Relevance 1     0.6839    0.8671    0.7646     12592\n",
      " Relevance 2     0.4911    0.1858    0.2696      2514\n",
      "\n",
      "    accuracy                         0.6506     20000\n",
      "   macro avg     0.5676    0.4618    0.4808     20000\n",
      "weighted avg     0.6215    0.6506    0.6152     20000\n",
      "\n",
      "save best model to best_single_tower_gru.pth (Val F1: 0.6152)\n"
     ]
    },
    {
     "data": {
      "application/vnd.jupyter.widget-view+json": {
       "model_id": "74a81216df084b568f848bedc3d30ad9",
       "version_major": 2,
       "version_minor": 0
      },
      "text/plain": [
       "Epoch 3/10 Training:   0%|          | 0/2813 [00:00<?, ?it/s]"
      ]
     },
     "metadata": {},
     "output_type": "display_data"
    },
    {
     "name": "stdout",
     "output_type": "stream",
     "text": [
      "Epoch 3/10 Training: loss=0.7687\n"
     ]
    },
    {
     "data": {
      "application/vnd.jupyter.widget-view+json": {
       "model_id": "7576ad44fe064dbab9cbdeb240711088",
       "version_major": 2,
       "version_minor": 0
      },
      "text/plain": [
       "Epoch 3/10 Evaluating:   0%|          | 0/313 [00:00<?, ?it/s]"
      ]
     },
     "metadata": {},
     "output_type": "display_data"
    },
    {
     "name": "stdout",
     "output_type": "stream",
     "text": [
      "Validation Accuracy: 0.6550\n",
      "Validation F1 Score: 0.6206\n",
      "              precision    recall  f1-score   support\n",
      "\n",
      " Relevance 0     0.5562    0.2942    0.3849      4894\n",
      " Relevance 1     0.6852    0.8735    0.7680     12592\n",
      " Relevance 2     0.4867    0.2629    0.3414      2514\n",
      "\n",
      "    accuracy                         0.6550     20000\n",
      "   macro avg     0.5760    0.4769    0.4981     20000\n",
      "weighted avg     0.6287    0.6550    0.6206     20000\n",
      "\n",
      "save best model to best_single_tower_gru.pth (Val F1: 0.6206)\n"
     ]
    },
    {
     "data": {
      "application/vnd.jupyter.widget-view+json": {
       "model_id": "9b959c230e11431ebf66ba8fbf995fbb",
       "version_major": 2,
       "version_minor": 0
      },
      "text/plain": [
       "Epoch 4/10 Training:   0%|          | 0/2813 [00:00<?, ?it/s]"
      ]
     },
     "metadata": {},
     "output_type": "display_data"
    },
    {
     "name": "stdout",
     "output_type": "stream",
     "text": [
      "Epoch 4/10 Training: loss=0.7509\n"
     ]
    },
    {
     "data": {
      "application/vnd.jupyter.widget-view+json": {
       "model_id": "adf0b84f759a48a996ca8f64f3533e44",
       "version_major": 2,
       "version_minor": 0
      },
      "text/plain": [
       "Epoch 4/10 Evaluating:   0%|          | 0/313 [00:00<?, ?it/s]"
      ]
     },
     "metadata": {},
     "output_type": "display_data"
    },
    {
     "name": "stdout",
     "output_type": "stream",
     "text": [
      "Validation Accuracy: 0.6612\n",
      "Validation F1 Score: 0.6255\n",
      "              precision    recall  f1-score   support\n",
      "\n",
      " Relevance 0     0.5809    0.2934    0.3899      4894\n",
      " Relevance 1     0.6872    0.8833    0.7730     12592\n",
      " Relevance 2     0.4952    0.2645    0.3448      2514\n",
      "\n",
      "    accuracy                         0.6612     20000\n",
      "   macro avg     0.5878    0.4804    0.5026     20000\n",
      "weighted avg     0.6371    0.6612    0.6255     20000\n",
      "\n",
      "save best model to best_single_tower_gru.pth (Val F1: 0.6255)\n"
     ]
    },
    {
     "data": {
      "application/vnd.jupyter.widget-view+json": {
       "model_id": "d200b5c6f6454d6795160dce1b482c7b",
       "version_major": 2,
       "version_minor": 0
      },
      "text/plain": [
       "Epoch 5/10 Training:   0%|          | 0/2813 [00:00<?, ?it/s]"
      ]
     },
     "metadata": {},
     "output_type": "display_data"
    },
    {
     "name": "stdout",
     "output_type": "stream",
     "text": [
      "Epoch 5/10 Training: loss=0.7359\n"
     ]
    },
    {
     "data": {
      "application/vnd.jupyter.widget-view+json": {
       "model_id": "e6358938005d449eab554edaff437fd0",
       "version_major": 2,
       "version_minor": 0
      },
      "text/plain": [
       "Epoch 5/10 Evaluating:   0%|          | 0/313 [00:00<?, ?it/s]"
      ]
     },
     "metadata": {},
     "output_type": "display_data"
    },
    {
     "name": "stdout",
     "output_type": "stream",
     "text": [
      "Validation Accuracy: 0.6600\n",
      "Validation F1 Score: 0.6341\n",
      "              precision    recall  f1-score   support\n",
      "\n",
      " Relevance 0     0.5482    0.3670    0.4397      4894\n",
      " Relevance 1     0.6977    0.8534    0.7677     12592\n",
      " Relevance 2     0.4977    0.2617    0.3431      2514\n",
      "\n",
      "    accuracy                         0.6600     20000\n",
      "   macro avg     0.5812    0.4940    0.5168     20000\n",
      "weighted avg     0.6360    0.6600    0.6341     20000\n",
      "\n",
      "save best model to best_single_tower_gru.pth (Val F1: 0.6341)\n"
     ]
    },
    {
     "data": {
      "application/vnd.jupyter.widget-view+json": {
       "model_id": "e7e1f619b4484a328a9b2ff0cc895013",
       "version_major": 2,
       "version_minor": 0
      },
      "text/plain": [
       "Epoch 6/10 Training:   0%|          | 0/2813 [00:00<?, ?it/s]"
      ]
     },
     "metadata": {},
     "output_type": "display_data"
    },
    {
     "name": "stdout",
     "output_type": "stream",
     "text": [
      "Epoch 6/10 Training: loss=0.7243\n"
     ]
    },
    {
     "data": {
      "application/vnd.jupyter.widget-view+json": {
       "model_id": "b9c110ca9cf04da1a7f256a68228e57e",
       "version_major": 2,
       "version_minor": 0
      },
      "text/plain": [
       "Epoch 6/10 Evaluating:   0%|          | 0/313 [00:00<?, ?it/s]"
      ]
     },
     "metadata": {},
     "output_type": "display_data"
    },
    {
     "name": "stdout",
     "output_type": "stream",
     "text": [
      "Validation Accuracy: 0.6622\n",
      "Validation F1 Score: 0.6293\n",
      "              precision    recall  f1-score   support\n",
      "\n",
      " Relevance 0     0.5833    0.2983    0.3948      4894\n",
      " Relevance 1     0.6911    0.8777    0.7733     12592\n",
      " Relevance 2     0.4864    0.2912    0.3643      2514\n",
      "\n",
      "    accuracy                         0.6622     20000\n",
      "   macro avg     0.5869    0.4891    0.5108     20000\n",
      "weighted avg     0.6390    0.6622    0.6293     20000\n",
      "\n"
     ]
    },
    {
     "data": {
      "application/vnd.jupyter.widget-view+json": {
       "model_id": "90fdd7d874d942d0a0054c3540a52735",
       "version_major": 2,
       "version_minor": 0
      },
      "text/plain": [
       "Epoch 7/10 Training:   0%|          | 0/2813 [00:00<?, ?it/s]"
      ]
     },
     "metadata": {},
     "output_type": "display_data"
    },
    {
     "name": "stdout",
     "output_type": "stream",
     "text": [
      "Epoch 7/10 Training: loss=0.7134\n"
     ]
    },
    {
     "data": {
      "application/vnd.jupyter.widget-view+json": {
       "model_id": "fd35bd696d554d78a592c252961080fe",
       "version_major": 2,
       "version_minor": 0
      },
      "text/plain": [
       "Epoch 7/10 Evaluating:   0%|          | 0/313 [00:00<?, ?it/s]"
      ]
     },
     "metadata": {},
     "output_type": "display_data"
    },
    {
     "name": "stdout",
     "output_type": "stream",
     "text": [
      "Validation Accuracy: 0.6596\n",
      "Validation F1 Score: 0.6412\n",
      "              precision    recall  f1-score   support\n",
      "\n",
      " Relevance 0     0.5430    0.4130    0.4691      4894\n",
      " Relevance 1     0.7072    0.8284    0.7630     12592\n",
      " Relevance 2     0.4840    0.2944    0.3661      2514\n",
      "\n",
      "    accuracy                         0.6596     20000\n",
      "   macro avg     0.5781    0.5119    0.5327     20000\n",
      "weighted avg     0.6390    0.6596    0.6412     20000\n",
      "\n",
      "save best model to best_single_tower_gru.pth (Val F1: 0.6412)\n"
     ]
    },
    {
     "data": {
      "application/vnd.jupyter.widget-view+json": {
       "model_id": "3ba1030b6d274814a6ad698ca2b5337e",
       "version_major": 2,
       "version_minor": 0
      },
      "text/plain": [
       "Epoch 8/10 Training:   0%|          | 0/2813 [00:00<?, ?it/s]"
      ]
     },
     "metadata": {},
     "output_type": "display_data"
    },
    {
     "name": "stdout",
     "output_type": "stream",
     "text": [
      "Epoch 8/10 Training: loss=0.7027\n"
     ]
    },
    {
     "data": {
      "application/vnd.jupyter.widget-view+json": {
       "model_id": "82098d69d8a943968ea35591e03c2a98",
       "version_major": 2,
       "version_minor": 0
      },
      "text/plain": [
       "Epoch 8/10 Evaluating:   0%|          | 0/313 [00:00<?, ?it/s]"
      ]
     },
     "metadata": {},
     "output_type": "display_data"
    },
    {
     "name": "stdout",
     "output_type": "stream",
     "text": [
      "Validation Accuracy: 0.6589\n",
      "Validation F1 Score: 0.6423\n",
      "              precision    recall  f1-score   support\n",
      "\n",
      " Relevance 0     0.5564    0.3880    0.4572      4894\n",
      " Relevance 1     0.7092    0.8254    0.7629     12592\n",
      " Relevance 2     0.4584    0.3524    0.3985      2514\n",
      "\n",
      "    accuracy                         0.6589     20000\n",
      "   macro avg     0.5747    0.5219    0.5395     20000\n",
      "weighted avg     0.6403    0.6589    0.6423     20000\n",
      "\n",
      "save best model to best_single_tower_gru.pth (Val F1: 0.6423)\n"
     ]
    },
    {
     "data": {
      "application/vnd.jupyter.widget-view+json": {
       "model_id": "9631bf0b943c42a5aea88d79f73c6354",
       "version_major": 2,
       "version_minor": 0
      },
      "text/plain": [
       "Epoch 9/10 Training:   0%|          | 0/2813 [00:00<?, ?it/s]"
      ]
     },
     "metadata": {},
     "output_type": "display_data"
    },
    {
     "name": "stdout",
     "output_type": "stream",
     "text": [
      "Epoch 9/10 Training: loss=0.6946\n"
     ]
    },
    {
     "data": {
      "application/vnd.jupyter.widget-view+json": {
       "model_id": "9d4f00ebf8444e65a3cec24ce76fd64b",
       "version_major": 2,
       "version_minor": 0
      },
      "text/plain": [
       "Epoch 9/10 Evaluating:   0%|          | 0/313 [00:00<?, ?it/s]"
      ]
     },
     "metadata": {},
     "output_type": "display_data"
    },
    {
     "name": "stdout",
     "output_type": "stream",
     "text": [
      "Validation Accuracy: 0.6602\n",
      "Validation F1 Score: 0.6455\n",
      "              precision    recall  f1-score   support\n",
      "\n",
      " Relevance 0     0.5391    0.4324    0.4799      4894\n",
      " Relevance 1     0.7145    0.8166    0.7621     12592\n",
      " Relevance 2     0.4780    0.3202    0.3835      2514\n",
      "\n",
      "    accuracy                         0.6602     20000\n",
      "   macro avg     0.5772    0.5230    0.5418     20000\n",
      "weighted avg     0.6418    0.6602    0.6455     20000\n",
      "\n",
      "save best model to best_single_tower_gru.pth (Val F1: 0.6455)\n"
     ]
    },
    {
     "data": {
      "application/vnd.jupyter.widget-view+json": {
       "model_id": "95b763c803b94598aac3a886d4314eb6",
       "version_major": 2,
       "version_minor": 0
      },
      "text/plain": [
       "Epoch 10/10 Training:   0%|          | 0/2813 [00:00<?, ?it/s]"
      ]
     },
     "metadata": {},
     "output_type": "display_data"
    },
    {
     "name": "stdout",
     "output_type": "stream",
     "text": [
      "Epoch 10/10 Training: loss=0.6857\n"
     ]
    },
    {
     "data": {
      "application/vnd.jupyter.widget-view+json": {
       "model_id": "b394f1c054494f89997504fab48f086b",
       "version_major": 2,
       "version_minor": 0
      },
      "text/plain": [
       "Epoch 10/10 Evaluating:   0%|          | 0/313 [00:00<?, ?it/s]"
      ]
     },
     "metadata": {},
     "output_type": "display_data"
    },
    {
     "name": "stdout",
     "output_type": "stream",
     "text": [
      "Validation Accuracy: 0.6607\n",
      "Validation F1 Score: 0.6398\n",
      "              precision    recall  f1-score   support\n",
      "\n",
      " Relevance 0     0.5533    0.3915    0.4585      4894\n",
      " Relevance 1     0.7046    0.8395    0.7662     12592\n",
      " Relevance 2     0.4743    0.2896    0.3596      2514\n",
      "\n",
      "    accuracy                         0.6607     20000\n",
      "   macro avg     0.5774    0.5069    0.5281     20000\n",
      "weighted avg     0.6386    0.6607    0.6398     20000\n",
      "\n",
      "--- Training Finished (SINGLE) in 638.16s ---\n",
      "Best Validation F1 Score (SINGLE): 0.6455\n",
      "\n",
      "Loading best single-tower GRU model for final evaluation...\n",
      "\n",
      "--- Starting Evaluation on Test Set (SINGLE) ---\n"
     ]
    },
    {
     "data": {
      "application/vnd.jupyter.widget-view+json": {
       "model_id": "c42b3446bc954b9c883cb1f47bdd9d4f",
       "version_major": 2,
       "version_minor": 0
      },
      "text/plain": [
       "Evaluating Test Set:   0%|          | 0/79 [00:00<?, ?it/s]"
      ]
     },
     "metadata": {},
     "output_type": "display_data"
    },
    {
     "name": "stdout",
     "output_type": "stream",
     "text": [
      "Test Set Accuracy: 0.6640\n",
      "Test Set F1 Score: 0.6497\n",
      "              precision    recall  f1-score   support\n",
      "\n",
      " Relevance 0     0.5445    0.4351    0.4837      1209\n",
      " Relevance 1     0.7197    0.8192    0.7662      3159\n",
      " Relevance 2     0.4703    0.3259    0.3850       632\n",
      "\n",
      "    accuracy                         0.6640      5000\n",
      "   macro avg     0.5782    0.5268    0.5450      5000\n",
      "weighted avg     0.6458    0.6640    0.6497      5000\n",
      "\n",
      "--- Evaluation Finished (SINGLE) ---\n"
     ]
    }
   ],
   "source": [
    "print(\"\\n\" + \"=\"*20 + \" SINGLE TOWER GRU \" + \"=\"*20)\n",
    "single_tower_gru_model = SingleTowerGRU(\n",
    "    vocab_size=vocab_size, embedding_dim=CONFIG[\"embedding_dim\"], hidden_dim=CONFIG[\"hidden_dim\"],\n",
    "    num_classes=CONFIG[\"num_classes\"], rnn_layers=CONFIG[\"rnn_layers\"], dropout_prob=CONFIG[\"dropout_prob\"],\n",
    "    bidirectional=CONFIG[\"rnn_bidirectional\"],\n",
    "    pad_idx=pad_idx\n",
    ").to(CONFIG[\"device\"])\n",
    "optimizer_single_gru = optim.Adam(single_tower_gru_model.parameters(), lr=CONFIG[\"learning_rate\"])\n",
    "\n",
    "# Train Single Tower GRU\n",
    "train_model(single_tower_gru_model, 'single', train_loader, val_loader, optimizer_single_gru, criterion,\n",
    "            CONFIG[\"num_epochs\"], CONFIG[\"device\"], CONFIG[\"save_path_single_gru\"])\n",
    "\n",
    "# Evaluate Single Tower GRU\n",
    "print(\"\\nLoading best single-tower GRU model for final evaluation...\")\n",
    "try:\n",
    "    single_tower_gru_model.load_state_dict(torch.load(CONFIG[\"save_path_single_gru\"], map_location=CONFIG[\"device\"]))\n",
    "except Exception as e:\n",
    "    print(f\"Could not load saved single-tower GRU model state: {e}. Evaluating model state after last epoch.\")\n",
    "accuracy_gru_single, f1_gru_single, _, _ = evaluate_model(single_tower_gru_model, 'single', test_loader, criterion, CONFIG[\"device\"])"
   ]
  },
  {
   "cell_type": "markdown",
   "metadata": {},
   "source": [
    "####  TWO TOWER GRU <a name='TWO_TOWER_GRU'></a>"
   ]
  },
  {
   "cell_type": "code",
   "execution_count": null,
   "metadata": {},
   "outputs": [
    {
     "name": "stdout",
     "output_type": "stream",
     "text": [
      "\n",
      "==================== TWO TOWER GRU ====================\n",
      "\n",
      "--- Starting Training (TWO) ---\n"
     ]
    },
    {
     "data": {
      "application/vnd.jupyter.widget-view+json": {
       "model_id": "318fde5682a14907b6d677a545576645",
       "version_major": 2,
       "version_minor": 0
      },
      "text/plain": [
       "Epoch 1/10 Training:   0%|          | 0/2813 [00:00<?, ?it/s]"
      ]
     },
     "metadata": {},
     "output_type": "display_data"
    },
    {
     "name": "stdout",
     "output_type": "stream",
     "text": [
      "Epoch 1/10 Training: loss=0.8347\n"
     ]
    },
    {
     "data": {
      "application/vnd.jupyter.widget-view+json": {
       "model_id": "4669f2e7b1dd40b1a77e00d86f973899",
       "version_major": 2,
       "version_minor": 0
      },
      "text/plain": [
       "Epoch 1/10 Evaluating:   0%|          | 0/313 [00:00<?, ?it/s]"
      ]
     },
     "metadata": {},
     "output_type": "display_data"
    },
    {
     "name": "stdout",
     "output_type": "stream",
     "text": [
      "Validation Accuracy: 0.6507\n",
      "Validation F1 Score: 0.5941\n",
      "              precision    recall  f1-score   support\n",
      "\n",
      " Relevance 0     0.5598    0.2131    0.3087      4894\n",
      " Relevance 1     0.6693    0.9171    0.7739     12592\n",
      " Relevance 2     0.4785    0.1683    0.2490      2514\n",
      "\n",
      "    accuracy                         0.6507     20000\n",
      "   macro avg     0.5692    0.4328    0.4439     20000\n",
      "weighted avg     0.6186    0.6507    0.5941     20000\n",
      "\n",
      "save best model to best_two_tower_gru.pth (Val F1: 0.5941)\n"
     ]
    },
    {
     "data": {
      "application/vnd.jupyter.widget-view+json": {
       "model_id": "ef734eba0bd04721b84a47dcadd1a180",
       "version_major": 2,
       "version_minor": 0
      },
      "text/plain": [
       "Epoch 2/10 Training:   0%|          | 0/2813 [00:00<?, ?it/s]"
      ]
     },
     "metadata": {},
     "output_type": "display_data"
    },
    {
     "name": "stdout",
     "output_type": "stream",
     "text": [
      "Epoch 2/10 Training: loss=0.7873\n"
     ]
    },
    {
     "data": {
      "application/vnd.jupyter.widget-view+json": {
       "model_id": "7adc42834b4c4fa78548b6543caac645",
       "version_major": 2,
       "version_minor": 0
      },
      "text/plain": [
       "Epoch 2/10 Evaluating:   0%|          | 0/313 [00:00<?, ?it/s]"
      ]
     },
     "metadata": {},
     "output_type": "display_data"
    },
    {
     "name": "stdout",
     "output_type": "stream",
     "text": [
      "Validation Accuracy: 0.6550\n",
      "Validation F1 Score: 0.6231\n",
      "              precision    recall  f1-score   support\n",
      "\n",
      " Relevance 0     0.5555    0.2934    0.3840      4894\n",
      " Relevance 1     0.6895    0.8677    0.7684     12592\n",
      " Relevance 2     0.4700    0.2932    0.3611      2514\n",
      "\n",
      "    accuracy                         0.6550     20000\n",
      "   macro avg     0.5717    0.4848    0.5045     20000\n",
      "weighted avg     0.6291    0.6550    0.6231     20000\n",
      "\n",
      "save best model to best_two_tower_gru.pth (Val F1: 0.6231)\n"
     ]
    },
    {
     "data": {
      "application/vnd.jupyter.widget-view+json": {
       "model_id": "4ae61ba7f0354a738438c0244fb2987f",
       "version_major": 2,
       "version_minor": 0
      },
      "text/plain": [
       "Epoch 3/10 Training:   0%|          | 0/2813 [00:00<?, ?it/s]"
      ]
     },
     "metadata": {},
     "output_type": "display_data"
    },
    {
     "name": "stdout",
     "output_type": "stream",
     "text": [
      "Epoch 3/10 Training: loss=0.7628\n"
     ]
    },
    {
     "data": {
      "application/vnd.jupyter.widget-view+json": {
       "model_id": "15ecd49ed84647dca543836938d25197",
       "version_major": 2,
       "version_minor": 0
      },
      "text/plain": [
       "Epoch 3/10 Evaluating:   0%|          | 0/313 [00:00<?, ?it/s]"
      ]
     },
     "metadata": {},
     "output_type": "display_data"
    },
    {
     "name": "stdout",
     "output_type": "stream",
     "text": [
      "Validation Accuracy: 0.6584\n",
      "Validation F1 Score: 0.6263\n",
      "              precision    recall  f1-score   support\n",
      "\n",
      " Relevance 0     0.5595    0.3163    0.4041      4894\n",
      " Relevance 1     0.6901    0.8710    0.7701     12592\n",
      " Relevance 2     0.4877    0.2597    0.3390      2514\n",
      "\n",
      "    accuracy                         0.6584     20000\n",
      "   macro avg     0.5791    0.4824    0.5044     20000\n",
      "weighted avg     0.6327    0.6584    0.6263     20000\n",
      "\n",
      "save best model to best_two_tower_gru.pth (Val F1: 0.6263)\n"
     ]
    },
    {
     "data": {
      "application/vnd.jupyter.widget-view+json": {
       "model_id": "297952cbbcd44c3f8ed191a999bdc29d",
       "version_major": 2,
       "version_minor": 0
      },
      "text/plain": [
       "Epoch 4/10 Training:   0%|          | 0/2813 [00:00<?, ?it/s]"
      ]
     },
     "metadata": {},
     "output_type": "display_data"
    },
    {
     "name": "stdout",
     "output_type": "stream",
     "text": [
      "Epoch 4/10 Training: loss=0.7443\n"
     ]
    },
    {
     "data": {
      "application/vnd.jupyter.widget-view+json": {
       "model_id": "e9ba4f41694d44be8046961ede03ef24",
       "version_major": 2,
       "version_minor": 0
      },
      "text/plain": [
       "Epoch 4/10 Evaluating:   0%|          | 0/313 [00:00<?, ?it/s]"
      ]
     },
     "metadata": {},
     "output_type": "display_data"
    },
    {
     "name": "stdout",
     "output_type": "stream",
     "text": [
      "Validation Accuracy: 0.6622\n",
      "Validation F1 Score: 0.6304\n",
      "              precision    recall  f1-score   support\n",
      "\n",
      " Relevance 0     0.5891    0.2924    0.3908      4894\n",
      " Relevance 1     0.6938    0.8750    0.7739     12592\n",
      " Relevance 2     0.4698    0.3158    0.3777      2514\n",
      "\n",
      "    accuracy                         0.6622     20000\n",
      "   macro avg     0.5842    0.4944    0.5142     20000\n",
      "weighted avg     0.6400    0.6622    0.6304     20000\n",
      "\n",
      "save best model to best_two_tower_gru.pth (Val F1: 0.6304)\n"
     ]
    },
    {
     "data": {
      "application/vnd.jupyter.widget-view+json": {
       "model_id": "4e47a2c305a74968b79cdbdcf677ee9b",
       "version_major": 2,
       "version_minor": 0
      },
      "text/plain": [
       "Epoch 5/10 Training:   0%|          | 0/2813 [00:00<?, ?it/s]"
      ]
     },
     "metadata": {},
     "output_type": "display_data"
    },
    {
     "name": "stdout",
     "output_type": "stream",
     "text": [
      "Epoch 5/10 Training: loss=0.7270\n"
     ]
    },
    {
     "data": {
      "application/vnd.jupyter.widget-view+json": {
       "model_id": "c365c492a97c49eaab02740590c55d53",
       "version_major": 2,
       "version_minor": 0
      },
      "text/plain": [
       "Epoch 5/10 Evaluating:   0%|          | 0/313 [00:00<?, ?it/s]"
      ]
     },
     "metadata": {},
     "output_type": "display_data"
    },
    {
     "name": "stdout",
     "output_type": "stream",
     "text": [
      "Validation Accuracy: 0.6635\n",
      "Validation F1 Score: 0.6306\n",
      "              precision    recall  f1-score   support\n",
      "\n",
      " Relevance 0     0.5661    0.3641    0.4432      4894\n",
      " Relevance 1     0.6938    0.8729    0.7731     12592\n",
      " Relevance 2     0.4921    0.1977    0.2821      2514\n",
      "\n",
      "    accuracy                         0.6635     20000\n",
      "   macro avg     0.5840    0.4782    0.4994     20000\n",
      "weighted avg     0.6372    0.6635    0.6306     20000\n",
      "\n",
      "save best model to best_two_tower_gru.pth (Val F1: 0.6306)\n"
     ]
    },
    {
     "data": {
      "application/vnd.jupyter.widget-view+json": {
       "model_id": "7813ab5a667847f8941b47f804f89e9c",
       "version_major": 2,
       "version_minor": 0
      },
      "text/plain": [
       "Epoch 6/10 Training:   0%|          | 0/2813 [00:00<?, ?it/s]"
      ]
     },
     "metadata": {},
     "output_type": "display_data"
    },
    {
     "name": "stdout",
     "output_type": "stream",
     "text": [
      "Epoch 6/10 Training: loss=0.7129\n"
     ]
    },
    {
     "data": {
      "application/vnd.jupyter.widget-view+json": {
       "model_id": "841f470deb39444591c5a1ecbbf408a2",
       "version_major": 2,
       "version_minor": 0
      },
      "text/plain": [
       "Epoch 6/10 Evaluating:   0%|          | 0/313 [00:00<?, ?it/s]"
      ]
     },
     "metadata": {},
     "output_type": "display_data"
    },
    {
     "name": "stdout",
     "output_type": "stream",
     "text": [
      "Validation Accuracy: 0.6637\n",
      "Validation F1 Score: 0.6422\n",
      "              precision    recall  f1-score   support\n",
      "\n",
      " Relevance 0     0.5665    0.3754    0.4515      4894\n",
      " Relevance 1     0.7049    0.8459    0.7690     12592\n",
      " Relevance 2     0.4778    0.3126    0.3780      2514\n",
      "\n",
      "    accuracy                         0.6637     20000\n",
      "   macro avg     0.5830    0.5113    0.5328     20000\n",
      "weighted avg     0.6425    0.6637    0.6422     20000\n",
      "\n",
      "save best model to best_two_tower_gru.pth (Val F1: 0.6422)\n"
     ]
    },
    {
     "data": {
      "application/vnd.jupyter.widget-view+json": {
       "model_id": "9bf9b6c9c612445682553f9b435a1245",
       "version_major": 2,
       "version_minor": 0
      },
      "text/plain": [
       "Epoch 7/10 Training:   0%|          | 0/2813 [00:00<?, ?it/s]"
      ]
     },
     "metadata": {},
     "output_type": "display_data"
    },
    {
     "name": "stdout",
     "output_type": "stream",
     "text": [
      "Epoch 7/10 Training: loss=0.7009\n"
     ]
    },
    {
     "data": {
      "application/vnd.jupyter.widget-view+json": {
       "model_id": "715225fa852f49cda6c46a9a686ef6b6",
       "version_major": 2,
       "version_minor": 0
      },
      "text/plain": [
       "Epoch 7/10 Evaluating:   0%|          | 0/313 [00:00<?, ?it/s]"
      ]
     },
     "metadata": {},
     "output_type": "display_data"
    },
    {
     "name": "stdout",
     "output_type": "stream",
     "text": [
      "Validation Accuracy: 0.6635\n",
      "Validation F1 Score: 0.6433\n",
      "              precision    recall  f1-score   support\n",
      "\n",
      " Relevance 0     0.5544    0.4291    0.4838      4894\n",
      " Relevance 1     0.7098    0.8359    0.7677     12592\n",
      " Relevance 2     0.4657    0.2562    0.3305      2514\n",
      "\n",
      "    accuracy                         0.6635     20000\n",
      "   macro avg     0.5766    0.5071    0.5273     20000\n",
      "weighted avg     0.6411    0.6635    0.6433     20000\n",
      "\n",
      "save best model to best_two_tower_gru.pth (Val F1: 0.6433)\n"
     ]
    },
    {
     "data": {
      "application/vnd.jupyter.widget-view+json": {
       "model_id": "24bdf95153e542d283e18901112bcdf2",
       "version_major": 2,
       "version_minor": 0
      },
      "text/plain": [
       "Epoch 8/10 Training:   0%|          | 0/2813 [00:00<?, ?it/s]"
      ]
     },
     "metadata": {},
     "output_type": "display_data"
    },
    {
     "name": "stdout",
     "output_type": "stream",
     "text": [
      "Epoch 8/10 Training: loss=0.6886\n"
     ]
    },
    {
     "data": {
      "application/vnd.jupyter.widget-view+json": {
       "model_id": "c51e13b5ba96407bac52d6f847dc085a",
       "version_major": 2,
       "version_minor": 0
      },
      "text/plain": [
       "Epoch 8/10 Evaluating:   0%|          | 0/313 [00:00<?, ?it/s]"
      ]
     },
     "metadata": {},
     "output_type": "display_data"
    },
    {
     "name": "stdout",
     "output_type": "stream",
     "text": [
      "Validation Accuracy: 0.6641\n",
      "Validation F1 Score: 0.6466\n",
      "              precision    recall  f1-score   support\n",
      "\n",
      " Relevance 0     0.5604    0.4150    0.4769      4894\n",
      " Relevance 1     0.7116    0.8314    0.7669     12592\n",
      " Relevance 2     0.4697    0.3111    0.3743      2514\n",
      "\n",
      "    accuracy                         0.6641     20000\n",
      "   macro avg     0.5806    0.5192    0.5393     20000\n",
      "weighted avg     0.6442    0.6641    0.6466     20000\n",
      "\n",
      "save best model to best_two_tower_gru.pth (Val F1: 0.6466)\n"
     ]
    },
    {
     "data": {
      "application/vnd.jupyter.widget-view+json": {
       "model_id": "d038c2ef0d084a5589af2e7d51359a44",
       "version_major": 2,
       "version_minor": 0
      },
      "text/plain": [
       "Epoch 9/10 Training:   0%|          | 0/2813 [00:00<?, ?it/s]"
      ]
     },
     "metadata": {},
     "output_type": "display_data"
    },
    {
     "name": "stdout",
     "output_type": "stream",
     "text": [
      "Epoch 9/10 Training: loss=0.6803\n"
     ]
    },
    {
     "data": {
      "application/vnd.jupyter.widget-view+json": {
       "model_id": "b46ed2b7ff824c798438195382976632",
       "version_major": 2,
       "version_minor": 0
      },
      "text/plain": [
       "Epoch 9/10 Evaluating:   0%|          | 0/313 [00:00<?, ?it/s]"
      ]
     },
     "metadata": {},
     "output_type": "display_data"
    },
    {
     "name": "stdout",
     "output_type": "stream",
     "text": [
      "Validation Accuracy: 0.6677\n",
      "Validation F1 Score: 0.6435\n",
      "              precision    recall  f1-score   support\n",
      "\n",
      " Relevance 0     0.5911    0.3625    0.4494      4894\n",
      " Relevance 1     0.7029    0.8586    0.7730     12592\n",
      " Relevance 2     0.4753    0.3059    0.3722      2514\n",
      "\n",
      "    accuracy                         0.6677     20000\n",
      "   macro avg     0.5898    0.5090    0.5315     20000\n",
      "weighted avg     0.6470    0.6677    0.6435     20000\n",
      "\n"
     ]
    },
    {
     "data": {
      "application/vnd.jupyter.widget-view+json": {
       "model_id": "ccc23f101d6440f5916d07038fb26dd9",
       "version_major": 2,
       "version_minor": 0
      },
      "text/plain": [
       "Epoch 10/10 Training:   0%|          | 0/2813 [00:00<?, ?it/s]"
      ]
     },
     "metadata": {},
     "output_type": "display_data"
    },
    {
     "name": "stdout",
     "output_type": "stream",
     "text": [
      "Epoch 10/10 Training: loss=0.6704\n"
     ]
    },
    {
     "data": {
      "application/vnd.jupyter.widget-view+json": {
       "model_id": "1247eede9e934a27b67cd09e17a7be14",
       "version_major": 2,
       "version_minor": 0
      },
      "text/plain": [
       "Epoch 10/10 Evaluating:   0%|          | 0/313 [00:00<?, ?it/s]"
      ]
     },
     "metadata": {},
     "output_type": "display_data"
    },
    {
     "name": "stdout",
     "output_type": "stream",
     "text": [
      "Validation Accuracy: 0.6658\n",
      "Validation F1 Score: 0.6419\n",
      "              precision    recall  f1-score   support\n",
      "\n",
      " Relevance 0     0.5866    0.3792    0.4607      4894\n",
      " Relevance 1     0.7031    0.8544    0.7714     12592\n",
      " Relevance 2     0.4573    0.2788    0.3464      2514\n",
      "\n",
      "    accuracy                         0.6658     20000\n",
      "   macro avg     0.5823    0.5042    0.5262     20000\n",
      "weighted avg     0.6437    0.6658    0.6419     20000\n",
      "\n",
      "--- Training Finished (TWO) in 661.87s ---\n",
      "Best Validation F1 Score (TWO): 0.6466\n",
      "\n",
      "Loading best two-tower GRU model for final evaluation...\n",
      "\n",
      "--- Starting Evaluation on Test Set (TWO) ---\n"
     ]
    },
    {
     "data": {
      "application/vnd.jupyter.widget-view+json": {
       "model_id": "93fda56353434a26a00aab9ef7d16b22",
       "version_major": 2,
       "version_minor": 0
      },
      "text/plain": [
       "Evaluating Test Set:   0%|          | 0/79 [00:00<?, ?it/s]"
      ]
     },
     "metadata": {},
     "output_type": "display_data"
    },
    {
     "name": "stdout",
     "output_type": "stream",
     "text": [
      "Test Set Accuracy: 0.6708\n",
      "Test Set F1 Score: 0.6533\n",
      "              precision    recall  f1-score   support\n",
      "\n",
      " Relevance 0     0.5727    0.4202    0.4847      1209\n",
      " Relevance 1     0.7158    0.8370    0.7716      3159\n",
      " Relevance 2     0.4821    0.3196    0.3844       632\n",
      "\n",
      "    accuracy                         0.6708      5000\n",
      "   macro avg     0.5902    0.5256    0.5469      5000\n",
      "weighted avg     0.6516    0.6708    0.6533      5000\n",
      "\n",
      "--- Evaluation Finished (TWO) ---\n"
     ]
    }
   ],
   "source": [
    "print(\"\\n\" + \"=\"*20 + \" TWO TOWER GRU \" + \"=\"*20)\n",
    "two_tower_gru_model = TwoTowerGRU(\n",
    "    vocab_size=vocab_size, embedding_dim=CONFIG[\"embedding_dim\"], hidden_dim=CONFIG[\"hidden_dim\"],\n",
    "    num_classes=CONFIG[\"num_classes\"], rnn_layers=CONFIG[\"rnn_layers\"], dropout_prob=CONFIG[\"dropout_prob\"],\n",
    "    bidirectional=CONFIG[\"rnn_bidirectional\"],\n",
    "    pad_idx=pad_idx\n",
    ").to(CONFIG[\"device\"])\n",
    "optimizer_two_gru = optim.Adam(two_tower_gru_model.parameters(), lr=CONFIG[\"learning_rate\"])\n",
    "\n",
    "# Train Two Tower GRU\n",
    "train_model(two_tower_gru_model, 'two', train_loader, val_loader, optimizer_two_gru, criterion,\n",
    "            CONFIG[\"num_epochs\"], CONFIG[\"device\"], CONFIG[\"save_path_two_gru\"])\n",
    "\n",
    "# Evaluate Two Tower GRU\n",
    "print(\"\\nLoading best two-tower GRU model for final evaluation...\")\n",
    "try:\n",
    "    two_tower_gru_model.load_state_dict(torch.load(CONFIG[\"save_path_two_gru\"], map_location=CONFIG[\"device\"]))\n",
    "except Exception as e:\n",
    "      print(f\"Could not load saved two-tower GRU model state: {e}. Evaluating model state after last epoch.\")\n",
    "accuracy_gru_two, f1_gru_two, _, _ = evaluate_model(two_tower_gru_model, 'two', test_loader, criterion, CONFIG[\"device\"])"
   ]
  },
  {
   "cell_type": "markdown",
   "metadata": {},
   "source": [
    "###  5.6 <a name='5.6'></a>Transformer Model\n",
    "[Back to Table of Contents](#top)"
   ]
  },
  {
   "cell_type": "markdown",
   "metadata": {},
   "source": [
    "#### Architecture\n",
    "![Transformer](img/transformer.png)\n",
    "\n",
    "#### 1. Input Representation\n",
    "\n",
    "The model adopts a **character-level tokenization** strategy. Each input sequence, composed of a `query` and a `title`, is tokenized into individual characters and mapped to token IDs based on a constructed vocabulary. Two types of embeddings are employed:\n",
    "\n",
    "- **Word Embeddings**: Token IDs are projected into dense vectors of a fixed dimension (`embed_dim = 128`).\n",
    "- **Positional Embeddings**: Positional information is encoded via learnable embeddings, allowing the model to capture the sequential structure of the input.\n",
    "\n",
    "The final input embeddings are obtained by summing the word and positional embeddings.\n",
    "\n",
    "#### 2. Transformer Encoder\n",
    "\n",
    "The core of the model consists of a **Transformer encoder** comprising three stacked **TransformerEncoderLayers** (`num_layers = 3`). Each layer operates with:\n",
    "\n",
    "- A multi-head self-attention mechanism (`num_heads = 8`),\n",
    "- A feed-forward network with an intermediate dimension of `4 × embed_dim`,\n",
    "- Layer normalization and residual connections,\n",
    "- Support for an optional source key padding mask to handle variable-length inputs.\n",
    "\n",
    "This encoder processes the sequence embeddings and generates contextualized token representations.\n",
    "\n",
    "#### 3. Classification Head\n",
    "\n",
    "For classification, only the hidden state corresponding to the first token (analogous to the [CLS] token) is extracted. This representation is passed through a feed-forward network consisting of:\n",
    "\n",
    "- A linear transformation,\n",
    "- A ReLU activation function,\n",
    "- A dropout layer (`dropout rate = 0.1`) for regularization,\n",
    "- A final linear layer projecting to three output classes.\n",
    "\n",
    "The model is trained using the **cross-entropy loss** function when labels are provided.\n",
    "\n",
    "#### Training and Optimization\n",
    "\n",
    "The model is optimized using the **Adam optimizer** with an initial learning rate of 5e-4. A **linear learning rate scheduler with warmup** is utilized to improve training stability. During training, model selection is performed based on the best F1 score evaluated on the development set.\n",
    "\n"
   ]
  },
  {
   "cell_type": "code",
   "execution_count": null,
   "metadata": {},
   "outputs": [],
   "source": [
    "class TransformerMatchingModel(nn.Module):\n",
    "    def __init__(self, vocab_size, embed_dim=128, num_heads=8, num_layers=3, num_classes=3, max_length=256):\n",
    "        super(TransformerMatchingModel, self).__init__()\n",
    "\n",
    "        self.embedding = nn.Embedding(vocab_size, embed_dim)\n",
    "        self.position_embedding = nn.Embedding(max_length, embed_dim)\n",
    "\n",
    "        encoder_layer = nn.TransformerEncoderLayer(\n",
    "            d_model=embed_dim,\n",
    "            nhead=num_heads,\n",
    "            dim_feedforward=embed_dim*4,\n",
    "            batch_first=True\n",
    "        )\n",
    "        self.transformer = nn.TransformerEncoder(encoder_layer, num_layers=num_layers)\n",
    "\n",
    "        self.classifier = nn.Sequential(\n",
    "            nn.Linear(embed_dim, embed_dim),\n",
    "            nn.ReLU(),\n",
    "            nn.Dropout(0.1),\n",
    "            nn.Linear(embed_dim, num_classes)\n",
    "        )\n",
    "\n",
    "    def forward(self, input_ids, attention_mask=None, token_type_ids=None, labels=None):\n",
    "        batch_size, seq_len = input_ids.size()\n",
    "\n",
    "        positions = torch.arange(0, seq_len, device=input_ids.device).unsqueeze(0).expand(batch_size, -1)\n",
    "        word_embeddings = self.embedding(input_ids)\n",
    "        position_embeddings = self.position_embedding(positions)\n",
    "        embeddings = word_embeddings + position_embeddings\n",
    "\n",
    "        # src_key_padding_mask: shape [batch_size, seq_len], where True indicates padding\n",
    "        src_key_padding_mask = (attention_mask == 0) if attention_mask is not None else None\n",
    "\n",
    "        transformer_output = self.transformer(embeddings, src_key_padding_mask=src_key_padding_mask)\n",
    "        cls_output = transformer_output[:, 0, :]\n",
    "        logits = self.classifier(cls_output)\n",
    "\n",
    "        loss = None\n",
    "        if labels is not None:\n",
    "            loss = F.cross_entropy(logits, labels)\n",
    "\n",
    "        return SequenceClassifierOutput(\n",
    "            loss=loss,\n",
    "            logits=logits\n",
    "        )\n"
   ]
  },
  {
   "cell_type": "code",
   "execution_count": null,
   "metadata": {},
   "outputs": [],
   "source": [
    "def train_transformer_model():\n",
    "    all_text = list(train_df['query']) + list(train_df['title'])\n",
    "    all_text = [str(text) for text in all_text]\n",
    "\n",
    "    all_tokens = []\n",
    "    for text in all_text:\n",
    "        tokens = list(text)\n",
    "        all_tokens.extend(tokens)\n",
    "\n",
    "    vocab = {token: idx + 1 for idx, token in enumerate(set(all_tokens))}\n",
    "    vocab['<PAD>'] = 0  # pad\n",
    "    vocab['<UNK>'] = len(vocab)  # unkown\n",
    "\n",
    "    class SimpleTokenizer:\n",
    "        def __init__(self, vocab, max_length=128):\n",
    "            self.vocab = vocab\n",
    "            self.max_length = max_length\n",
    "\n",
    "        def __call__(self, query, title, add_special_tokens=True, max_length=None, padding='max_length', truncation=True, return_tensors='pt'):\n",
    "            if max_length is None:\n",
    "                max_length = self.max_length\n",
    "\n",
    "            query_tokens = list(query)\n",
    "            title_tokens = list(title)\n",
    "\n",
    "            query_ids = [self.vocab.get(token, self.vocab['<UNK>']) for token in query_tokens]\n",
    "            title_ids = [self.vocab.get(token, self.vocab['<UNK>']) for token in title_tokens]\n",
    "\n",
    "            if add_special_tokens:\n",
    "                input_ids = [self.vocab['<UNK>']] + query_ids + [self.vocab['<UNK>']] + title_ids + [self.vocab['<UNK>']]\n",
    "                token_type_ids = [0] * (len(query_ids) + 2) + [1] * (len(title_ids) + 1)\n",
    "            else:\n",
    "                input_ids = query_ids + title_ids\n",
    "                token_type_ids = [0] * len(query_ids) + [1] * len(title_ids)\n",
    "\n",
    "            if truncation and len(input_ids) > max_length:\n",
    "                input_ids = input_ids[:max_length]\n",
    "                token_type_ids = token_type_ids[:max_length]\n",
    "\n",
    "            attention_mask = [1] * len(input_ids)\n",
    "            if padding == 'max_length':\n",
    "                pad_length = max_length - len(input_ids)\n",
    "                input_ids = input_ids + [self.vocab['<PAD>']] * pad_length\n",
    "                attention_mask = attention_mask + [0] * pad_length\n",
    "                token_type_ids = token_type_ids + [0] * pad_length\n",
    "\n",
    "            if return_tensors == 'pt':\n",
    "                return {\n",
    "                    'input_ids': torch.tensor([input_ids]),\n",
    "                    'attention_mask': torch.tensor([attention_mask]),\n",
    "                    'token_type_ids': torch.tensor([token_type_ids])\n",
    "                }\n",
    "            else:\n",
    "                return {\n",
    "                    'input_ids': input_ids,\n",
    "                    'attention_mask': attention_mask,\n",
    "                    'token_type_ids': token_type_ids\n",
    "                }\n",
    "\n",
    "    tokenizer = SimpleTokenizer(vocab)\n",
    "\n",
    "    model = TransformerMatchingModel(\n",
    "        vocab_size=len(vocab),\n",
    "        embed_dim=128,\n",
    "        num_heads=8,\n",
    "        num_layers=3,\n",
    "        num_classes=3  # 0, 1, 2\n",
    "    )\n",
    "    model.to(device)\n",
    "\n",
    "    train_dataset = TextMatchingDataset(train_df, tokenizer)\n",
    "    dev_dataset = TextMatchingDataset(dev_df, tokenizer)\n",
    "\n",
    "    batch_size = 64\n",
    "    train_dataloader = DataLoader(train_dataset, batch_size=batch_size, shuffle=True)\n",
    "    dev_dataloader = DataLoader(dev_dataset, batch_size=batch_size)\n",
    "\n",
    "    optimizer = torch.optim.Adam(model.parameters(), lr=5e-4)\n",
    "\n",
    "    epochs = 5\n",
    "    total_steps = len(train_dataloader) * epochs\n",
    "\n",
    "    scheduler = get_linear_schedule_with_warmup(\n",
    "        optimizer,\n",
    "        num_warmup_steps=0.1 * total_steps,\n",
    "        num_training_steps=total_steps\n",
    "    )\n",
    "\n",
    "    best_f1 = 0\n",
    "    for epoch in range(epochs):\n",
    "        print(f\"Epoch {epoch + 1}/{epochs}\")\n",
    "\n",
    "        train_loss = train(model, train_dataloader, optimizer, scheduler, device)\n",
    "        print(f\"training loss: {train_loss:.4f}\")\n",
    "\n",
    "        accuracy, f1, report, _ = evaluate(model, dev_dataloader, device)\n",
    "        print(f\"Validation Accuracy: {accuracy:.4f}\")\n",
    "        print(f\"Validation F1 Score: {f1:.4f}\")\n",
    "        print(report)\n",
    "\n",
    "        if f1 > best_f1:\n",
    "            best_f1 = f1\n",
    "            torch.save(model.state_dict(), 'best_transformer_model.pt')\n",
    "            print(\"save best model\")\n",
    "\n",
    "    model.load_state_dict(torch.load('best_transformer_model.pt'))\n",
    "\n",
    "    test_public_dataset = TextMatchingDataset(test_public_df, tokenizer)\n",
    "    test_public_dataloader = DataLoader(test_public_dataset, batch_size=batch_size)\n",
    "\n",
    "    accuracy, f1, report, _ = evaluate(model, test_public_dataloader, device)\n",
    "    print(f\"Test Set Accuracy: {accuracy:.4f}\")\n",
    "    print(f\"Test Set F1 Score: {f1:.4f}\")\n",
    "    print(report)\n",
    "\n",
    "    # predict\n",
    "    # test_dataset = TextMatchingDataset(test_df, tokenizer)\n",
    "    # test_dataloader = DataLoader(test_dataset, batch_size=batch_size)\n",
    "\n",
    "    # predictions = predict(model, test_dataloader, device)\n",
    "\n",
    "    # test_df['predicted_label'] = predictions\n",
    "    # test_df[['id', 'predicted_label']].to_csv('transformer_predictions.csv', index=False)\n",
    "    # print(\"result: transformer_predictions.csv\")\n",
    "\n",
    "    return model\n"
   ]
  },
  {
   "cell_type": "code",
   "execution_count": null,
   "metadata": {},
   "outputs": [
    {
     "name": "stdout",
     "output_type": "stream",
     "text": [
      "\n",
      "train Transformer model...\n",
      "Epoch 1/5\n"
     ]
    },
    {
     "name": "stderr",
     "output_type": "stream",
     "text": [
      "Training: 100%|██████████| 2813/2813 [01:50<00:00, 25.52it/s, loss=1.01]\n"
     ]
    },
    {
     "name": "stdout",
     "output_type": "stream",
     "text": [
      "training loss: 0.8529\n"
     ]
    },
    {
     "name": "stderr",
     "output_type": "stream",
     "text": [
      "Evaluating: 100%|██████████| 313/313 [00:08<00:00, 38.23it/s]\n"
     ]
    },
    {
     "name": "stdout",
     "output_type": "stream",
     "text": [
      "Validation Accuracy: 0.6457\n",
      "Validation F1 Score: 0.5975\n",
      "              precision    recall  f1-score   support\n",
      "\n",
      "           0     0.5540    0.2432    0.3380      4894\n",
      "           1     0.6693    0.8945    0.7657     12592\n",
      "           2     0.4498    0.1834    0.2605      2514\n",
      "\n",
      "    accuracy                         0.6457     20000\n",
      "   macro avg     0.5577    0.4403    0.4547     20000\n",
      "weighted avg     0.6135    0.6457    0.5975     20000\n",
      "\n",
      "save best model\n",
      "Epoch 2/5\n"
     ]
    },
    {
     "name": "stderr",
     "output_type": "stream",
     "text": [
      "Training: 100%|██████████| 2813/2813 [01:52<00:00, 24.92it/s, loss=0.659]\n"
     ]
    },
    {
     "name": "stdout",
     "output_type": "stream",
     "text": [
      "training loss: 0.8035\n"
     ]
    },
    {
     "name": "stderr",
     "output_type": "stream",
     "text": [
      "Evaluating: 100%|██████████| 313/313 [00:08<00:00, 38.30it/s]\n"
     ]
    },
    {
     "name": "stdout",
     "output_type": "stream",
     "text": [
      "Validation Accuracy: 0.6544\n",
      "Validation F1 Score: 0.5901\n",
      "              precision    recall  f1-score   support\n",
      "\n",
      "           0     0.5815    0.2303    0.3299      4894\n",
      "           1     0.6643    0.9299    0.7749     12592\n",
      "           2     0.5793    0.1002    0.1709      2514\n",
      "\n",
      "    accuracy                         0.6544     20000\n",
      "   macro avg     0.6084    0.4201    0.4253     20000\n",
      "weighted avg     0.6333    0.6544    0.5901     20000\n",
      "\n",
      "Epoch 3/5\n"
     ]
    },
    {
     "name": "stderr",
     "output_type": "stream",
     "text": [
      "Training: 100%|██████████| 2813/2813 [01:50<00:00, 25.38it/s, loss=1.05]\n"
     ]
    },
    {
     "name": "stdout",
     "output_type": "stream",
     "text": [
      "training loss: 0.7766\n"
     ]
    },
    {
     "name": "stderr",
     "output_type": "stream",
     "text": [
      "Evaluating: 100%|██████████| 313/313 [00:08<00:00, 38.46it/s]\n"
     ]
    },
    {
     "name": "stdout",
     "output_type": "stream",
     "text": [
      "Validation Accuracy: 0.6579\n",
      "Validation F1 Score: 0.6009\n",
      "              precision    recall  f1-score   support\n",
      "\n",
      "           0     0.5783    0.2460    0.3452      4894\n",
      "           1     0.6702    0.9221    0.7762     12592\n",
      "           2     0.5758    0.1360    0.2201      2514\n",
      "\n",
      "    accuracy                         0.6579     20000\n",
      "   macro avg     0.6081    0.4347    0.4472     20000\n",
      "weighted avg     0.6359    0.6579    0.6009     20000\n",
      "\n",
      "save best model\n",
      "Epoch 4/5\n"
     ]
    },
    {
     "name": "stderr",
     "output_type": "stream",
     "text": [
      "Training: 100%|██████████| 2813/2813 [01:53<00:00, 24.88it/s, loss=0.567]\n"
     ]
    },
    {
     "name": "stdout",
     "output_type": "stream",
     "text": [
      "training loss: 0.7468\n"
     ]
    },
    {
     "name": "stderr",
     "output_type": "stream",
     "text": [
      "Evaluating: 100%|██████████| 313/313 [00:08<00:00, 38.58it/s]\n"
     ]
    },
    {
     "name": "stdout",
     "output_type": "stream",
     "text": [
      "Validation Accuracy: 0.6604\n",
      "Validation F1 Score: 0.6255\n",
      "              precision    recall  f1-score   support\n",
      "\n",
      "           0     0.5624    0.3269    0.4135      4894\n",
      "           1     0.6883    0.8781    0.7717     12592\n",
      "           2     0.5050    0.2192    0.3057      2514\n",
      "\n",
      "    accuracy                         0.6604     20000\n",
      "   macro avg     0.5852    0.4747    0.4970     20000\n",
      "weighted avg     0.6345    0.6604    0.6255     20000\n",
      "\n",
      "save best model\n",
      "Epoch 5/5\n"
     ]
    },
    {
     "name": "stderr",
     "output_type": "stream",
     "text": [
      "Training: 100%|██████████| 2813/2813 [01:49<00:00, 25.69it/s, loss=0.933]\n"
     ]
    },
    {
     "name": "stdout",
     "output_type": "stream",
     "text": [
      "training loss: 0.7171\n"
     ]
    },
    {
     "name": "stderr",
     "output_type": "stream",
     "text": [
      "Evaluating: 100%|██████████| 313/313 [00:08<00:00, 38.37it/s]\n"
     ]
    },
    {
     "name": "stdout",
     "output_type": "stream",
     "text": [
      "Validation Accuracy: 0.6609\n",
      "Validation F1 Score: 0.6268\n",
      "              precision    recall  f1-score   support\n",
      "\n",
      "           0     0.5642    0.3259    0.4132      4894\n",
      "           1     0.6895    0.8770    0.7720     12592\n",
      "           2     0.5009    0.2303    0.3155      2514\n",
      "\n",
      "    accuracy                         0.6609     20000\n",
      "   macro avg     0.5848    0.4777    0.5002     20000\n",
      "weighted avg     0.6351    0.6609    0.6268     20000\n",
      "\n",
      "save best model\n"
     ]
    },
    {
     "name": "stderr",
     "output_type": "stream",
     "text": [
      "Evaluating: 100%|██████████| 79/79 [00:02<00:00, 38.40it/s]\n"
     ]
    },
    {
     "name": "stdout",
     "output_type": "stream",
     "text": [
      "Test Set Accuracy: 0.6588\n",
      "Test Set F1 Score: 0.6277\n",
      "              precision    recall  f1-score   support\n",
      "\n",
      "           0     0.5637    0.3366    0.4215      1209\n",
      "           1     0.6912    0.8664    0.7689      3159\n",
      "           2     0.4717    0.2373    0.3158       632\n",
      "\n",
      "    accuracy                         0.6588      5000\n",
      "   macro avg     0.5755    0.4801    0.5021      5000\n",
      "weighted avg     0.6326    0.6588    0.6277      5000\n",
      "\n"
     ]
    }
   ],
   "source": [
    "print(\"\\ntrain Transformer model...\")\n",
    "transformer_model = train_transformer_model()"
   ]
  },
  {
   "cell_type": "markdown",
   "metadata": {},
   "source": [
    "###  5.7 <a name='5.7'></a>BERT-based Single Tower\n",
    "[Back to Table of Contents](#top)"
   ]
  },
  {
   "cell_type": "markdown",
   "metadata": {},
   "source": [
    "\n",
    "We fine-tune a pre-trained Single-Tower BERT (`bert-base-chinese`) to perform this **three-class text matching** task, where the objective is to predict the degree of relevance between a `query` and a `title`. \n",
    "\n",
    "The model architecture leverages the pre-trained **BERT encoder** for feature extraction and adds a simple classification head to adapt it to the specific task.\n",
    "\n",
    "#### Architecture\n",
    "![BERT_1](img/bert_1.png)\n",
    "#### 1. Input Encoding\n",
    "\n",
    "- The input consists of a `query` and a `title`, which are tokenized using the **BertTokenizer**.\n",
    "- Special tokens `[CLS]`, `[SEP]` are automatically inserted:\n",
    "  ```\n",
    "  [CLS] query tokens [SEP] title tokens [SEP]\n",
    "  ```\n",
    "- The tokenizer outputs:\n",
    "  - `input_ids`: Token IDs\n",
    "  - `attention_mask`: Binary mask indicating valid tokens\n",
    "  - `token_type_ids`: Segment IDs distinguishing query and title parts\n",
    "\n",
    "#### 2. Pre-trained BERT Encoder\n",
    "\n",
    "- The tokenized input is fed into **BERT** (`bert-base-chinese`), which produces contextualized embeddings for each token.\n",
    "- BERT’s output includes a special hidden state corresponding to the `[CLS]` token, which is used as the aggregate sequence representation.\n",
    "\n",
    "#### 3. Classification Head\n",
    "\n",
    "- A **single fully connected layer** is added on top of the `[CLS]` representation:\n",
    "  - Maps the `[CLS]` vector (size 768) to logits over 3 classes.\n",
    "- The model is trained using **cross-entropy loss**.\n",
    "\n",
    "#### 4. Training Setup\n",
    "\n",
    "- Optimizer: **AdamW** with a learning rate of 2e-5.\n",
    "- Learning Rate Scheduler: **Linear decay with warmup**.\n",
    "- Best model selection based on **validation F1 score**.\n",
    "\n",
    "\n"
   ]
  },
  {
   "cell_type": "code",
   "execution_count": null,
   "metadata": {},
   "outputs": [],
   "source": [
    "def train_bert_model():\n",
    "\n",
    "    tokenizer = BertTokenizer.from_pretrained('bert-base-chinese')\n",
    "    model = BertForSequenceClassification.from_pretrained(\n",
    "        'bert-base-chinese',\n",
    "        num_labels=3  # 0, 1, 2\n",
    "    )\n",
    "    model.to(device)\n",
    "\n",
    "    train_dataset = TextMatchingDataset(train_df, tokenizer)\n",
    "    dev_dataset = TextMatchingDataset(dev_df, tokenizer)\n",
    "\n",
    "    batch_size = 64\n",
    "    train_dataloader = DataLoader(train_dataset, batch_size=batch_size, shuffle=True)\n",
    "    dev_dataloader = DataLoader(dev_dataset, batch_size=batch_size)\n",
    "\n",
    "    optimizer = AdamW(model.parameters(), lr=2e-5)\n",
    "\n",
    "    epochs = 3\n",
    "    total_steps = len(train_dataloader) * epochs\n",
    "\n",
    "    scheduler = get_linear_schedule_with_warmup(\n",
    "        optimizer,\n",
    "        num_warmup_steps=0.1 * total_steps,\n",
    "        num_training_steps=total_steps\n",
    "    )\n",
    "\n",
    "    best_f1 = 0\n",
    "    for epoch in range(epochs):\n",
    "        print(f\"Epoch {epoch + 1}/{epochs}\")\n",
    "\n",
    "        train_loss = train(model, train_dataloader, optimizer, scheduler, device)\n",
    "        print(f\"training loss: {train_loss:.4f}\")\n",
    "\n",
    "        # val\n",
    "        accuracy, f1, report, _ = evaluate(model, dev_dataloader, device)\n",
    "        print(f\"Validation Accuracy: {accuracy:.4f}\")\n",
    "        print(f\"Validation F1 Score: {f1:.4f}\")\n",
    "        print(report)\n",
    "\n",
    "        if f1 > best_f1:\n",
    "            best_f1 = f1\n",
    "            torch.save(model.state_dict(), 'best_bert_model.pt')\n",
    "            print(\"save best model\")\n",
    "\n",
    "    model.load_state_dict(torch.load('best_bert_model.pt'))\n",
    "\n",
    "    # test_public\n",
    "    test_public_dataset = TextMatchingDataset(test_public_df, tokenizer)\n",
    "    test_public_dataloader = DataLoader(test_public_dataset, batch_size=batch_size)\n",
    "\n",
    "    accuracy, f1, report, _ = evaluate(model, test_public_dataloader, device)\n",
    "    print(f\"Test Set Accuracy: {accuracy:.4f}\")\n",
    "    print(f\"Test Set F1 Score: {f1:.4f}\")\n",
    "    print(report)\n",
    "\n",
    "\n",
    "    return model\n"
   ]
  },
  {
   "cell_type": "code",
   "execution_count": null,
   "metadata": {},
   "outputs": [
    {
     "name": "stdout",
     "output_type": "stream",
     "text": [
      "\n",
      "train Transformer_bge model...\n",
      "Epoch 1/5\n"
     ]
    },
    {
     "name": "stderr",
     "output_type": "stream",
     "text": [
      "Training: 100%|██████████| 5625/5625 [11:36<00:00,  8.08it/s, loss=0.621]\n"
     ]
    },
    {
     "name": "stdout",
     "output_type": "stream",
     "text": [
      "training loss: 0.7958\n"
     ]
    },
    {
     "name": "stderr",
     "output_type": "stream",
     "text": [
      "Evaluating: 100%|██████████| 625/625 [01:13<00:00,  8.55it/s]\n"
     ]
    },
    {
     "name": "stdout",
     "output_type": "stream",
     "text": [
      "Validation Accuracy: 0.6681\n",
      "Validation F1 Score: 0.5845\n",
      "              precision    recall  f1-score   support\n",
      "\n",
      "           0     0.7288    0.2372    0.3579      4894\n",
      "           1     0.6626    0.9676    0.7866     12592\n",
      "           2     0.8500    0.0068    0.0134      2514\n",
      "\n",
      "    accuracy                         0.6681     20000\n",
      "   macro avg     0.7472    0.4039    0.3860     20000\n",
      "weighted avg     0.7024    0.6681    0.5845     20000\n",
      "\n",
      "save best model\n",
      "Epoch 2/5\n"
     ]
    },
    {
     "name": "stderr",
     "output_type": "stream",
     "text": [
      "Training: 100%|██████████| 5625/5625 [11:35<00:00,  8.09it/s, loss=0.618]\n"
     ]
    },
    {
     "name": "stdout",
     "output_type": "stream",
     "text": [
      "training loss: 0.7376\n"
     ]
    },
    {
     "name": "stderr",
     "output_type": "stream",
     "text": [
      "Evaluating: 100%|██████████| 625/625 [01:12<00:00,  8.60it/s]\n"
     ]
    },
    {
     "name": "stdout",
     "output_type": "stream",
     "text": [
      "Validation Accuracy: 0.6916\n",
      "Validation F1 Score: 0.6571\n",
      "              precision    recall  f1-score   support\n",
      "\n",
      "           0     0.6631    0.4142    0.5099      4894\n",
      "           1     0.7041    0.9009    0.7904     12592\n",
      "           2     0.5548    0.1834    0.2756      2514\n",
      "\n",
      "    accuracy                         0.6916     20000\n",
      "   macro avg     0.6406    0.4995    0.5253     20000\n",
      "weighted avg     0.6753    0.6916    0.6571     20000\n",
      "\n",
      "save best model\n",
      "Epoch 3/5\n"
     ]
    },
    {
     "name": "stderr",
     "output_type": "stream",
     "text": [
      "Training: 100%|██████████| 5625/5625 [11:33<00:00,  8.11it/s, loss=0.737]\n"
     ]
    },
    {
     "name": "stdout",
     "output_type": "stream",
     "text": [
      "training loss: 0.7124\n"
     ]
    },
    {
     "name": "stderr",
     "output_type": "stream",
     "text": [
      "Evaluating: 100%|██████████| 625/625 [01:12<00:00,  8.64it/s]\n"
     ]
    },
    {
     "name": "stdout",
     "output_type": "stream",
     "text": [
      "Validation Accuracy: 0.6890\n",
      "Validation F1 Score: 0.6535\n",
      "              precision    recall  f1-score   support\n",
      "\n",
      "           0     0.6723    0.3756    0.4819      4894\n",
      "           1     0.7004    0.9064    0.7902     12592\n",
      "           2     0.5443    0.2100    0.3031      2514\n",
      "\n",
      "    accuracy                         0.6890     20000\n",
      "   macro avg     0.6390    0.4973    0.5251     20000\n",
      "weighted avg     0.6739    0.6890    0.6535     20000\n",
      "\n",
      "Epoch 4/5\n"
     ]
    },
    {
     "name": "stderr",
     "output_type": "stream",
     "text": [
      "Training: 100%|██████████| 5625/5625 [11:33<00:00,  8.11it/s, loss=0.749]\n"
     ]
    },
    {
     "name": "stdout",
     "output_type": "stream",
     "text": [
      "training loss: 0.6922\n"
     ]
    },
    {
     "name": "stderr",
     "output_type": "stream",
     "text": [
      "Evaluating: 100%|██████████| 625/625 [01:13<00:00,  8.55it/s]\n"
     ]
    },
    {
     "name": "stdout",
     "output_type": "stream",
     "text": [
      "Validation Accuracy: 0.6955\n",
      "Validation F1 Score: 0.6668\n",
      "              precision    recall  f1-score   support\n",
      "\n",
      "           0     0.7067    0.3796    0.4940      4894\n",
      "           1     0.7077    0.8989    0.7919     12592\n",
      "           2     0.5320    0.2912    0.3763      2514\n",
      "\n",
      "    accuracy                         0.6955     20000\n",
      "   macro avg     0.6488    0.5232    0.5541     20000\n",
      "weighted avg     0.6853    0.6955    0.6668     20000\n",
      "\n",
      "save best model\n",
      "Epoch 5/5\n"
     ]
    },
    {
     "name": "stderr",
     "output_type": "stream",
     "text": [
      "Training: 100%|██████████| 5625/5625 [11:35<00:00,  8.09it/s, loss=0.734]\n"
     ]
    },
    {
     "name": "stdout",
     "output_type": "stream",
     "text": [
      "training loss: 0.6700\n"
     ]
    },
    {
     "name": "stderr",
     "output_type": "stream",
     "text": [
      "Evaluating: 100%|██████████| 625/625 [01:12<00:00,  8.63it/s]\n"
     ]
    },
    {
     "name": "stdout",
     "output_type": "stream",
     "text": [
      "Validation Accuracy: 0.6979\n",
      "Validation F1 Score: 0.6786\n",
      "              precision    recall  f1-score   support\n",
      "\n",
      "           0     0.6958    0.4285    0.5303      4894\n",
      "           1     0.7210    0.8722    0.7894     12592\n",
      "           2     0.5017    0.3496    0.4121      2514\n",
      "\n",
      "    accuracy                         0.6979     20000\n",
      "   macro avg     0.6395    0.5501    0.5773     20000\n",
      "weighted avg     0.6872    0.6979    0.6786     20000\n",
      "\n",
      "save best model\n"
     ]
    },
    {
     "name": "stderr",
     "output_type": "stream",
     "text": [
      "Evaluating: 100%|██████████| 157/157 [00:18<00:00,  8.69it/s]"
     ]
    },
    {
     "name": "stdout",
     "output_type": "stream",
     "text": [
      "Test Set Accuracy: 0.7000\n",
      "Test Set F1 Score: 0.6812\n",
      "              precision    recall  f1-score   support\n",
      "\n",
      "           0     0.7020    0.4326    0.5353      1209\n",
      "           1     0.7245    0.8724    0.7916      3159\n",
      "           2     0.4900    0.3497    0.4081       632\n",
      "\n",
      "    accuracy                         0.7000      5000\n",
      "   macro avg     0.6388    0.5516    0.5784      5000\n",
      "weighted avg     0.6894    0.7000    0.6812      5000\n",
      "\n"
     ]
    },
    {
     "name": "stderr",
     "output_type": "stream",
     "text": [
      "\n"
     ]
    }
   ],
   "source": [
    "print(\"\\ntrain Transformer_bge model...\")\n",
    "transformer_model = train_bge_transformer_model()"
   ]
  },
  {
   "cell_type": "markdown",
   "metadata": {},
   "source": [
    "###  5.8 <a name='5.8'></a>BERT-based Dual-Tower\n",
    "[Back to Table of Contents](#top)"
   ]
  },
  {
   "cell_type": "markdown",
   "metadata": {},
   "source": [
    "We propose a **Dual-Tower BERT architecture** to address the text matching task. In this design, the `query` and `title` are encoded independently by two parallel BERT encoders (weight-sharing), and their representations are concatenated for final classification.\n",
    "\n",
    "This dual-tower structure enables independent semantic encoding of inputs, allowing for flexible retrieval and matching scenarios.\n",
    "\n",
    "#### Architecture\n",
    "![BERT_2](img/bert_2.png)\n",
    "\n",
    "#### 1. Input Encoding\n",
    "\n",
    "- **Separate Encoding**:\n",
    "  - Each `query` and `title` is **tokenized independently** using the **BertTokenizer**.\n",
    "  - Special tokens `[CLS]`, `[SEP]` are inserted into each sequence separately.\n",
    "  - The tokenizer outputs for each:\n",
    "    - `input_ids`\n",
    "    - `attention_mask`\n",
    "\n",
    "- **No Cross-Attention** between the query and title during encoding.\n",
    "\n",
    "#### 2. BERT Encoders\n",
    "\n",
    "- **Shared Weights**:\n",
    "  - Both the query and the title are passed through the **same pre-trained BERT encoder** (`bert-base-chinese`).\n",
    "- **Pooler Output Extraction**:\n",
    "  - For each input, we extract the **[CLS] token’s pooler output** (a 768-dimensional vector).\n",
    "  - Output vectors:\n",
    "    - `query_repr` (768-d)\n",
    "    - `title_repr` (768-d)\n",
    "\n",
    "#### 3. Representation Combination\n",
    "\n",
    "- The two representations are **concatenated** to form a combined vector of size `768 × 2 = 1536`.\n",
    "- This combined feature vector captures information from both inputs while maintaining their independent encoding paths.\n",
    "\n",
    "#### 4. Classification Head\n",
    "\n",
    "- A **single fully connected (linear) layer** is applied:\n",
    "  - Input: 1536-dimensional combined vector\n",
    "  - Output: 3 logits corresponding to the three relevance classes.\n",
    "\n",
    "- The model is optimized with **cross-entropy loss**.\n",
    "\n",
    "#### 5. Training Setup\n",
    "\n",
    "- Optimizer: **AdamW** with a learning rate of 2e-5.\n",
    "- Learning Rate Scheduler: **Linear decay with warmup**.\n",
    "- Model selection is based on the **best validation F1 score**.\n"
   ]
  },
  {
   "cell_type": "code",
   "execution_count": null,
   "metadata": {},
   "outputs": [],
   "source": [
    "class TextMatchingDataset_Dual(Dataset):\n",
    "    def __init__(self, df, tokenizer, max_length=128):\n",
    "        self.queries = df['query'].tolist()\n",
    "        self.titles = df['title'].tolist()\n",
    "        self.labels = df['label'].tolist() if 'label' in df.columns else [0] * len(df)\n",
    "        self.tokenizer = tokenizer\n",
    "        self.max_length = max_length\n",
    "\n",
    "    def __len__(self):\n",
    "        return len(self.queries)\n",
    "\n",
    "    def __getitem__(self, idx):\n",
    "        query = self.queries[idx]\n",
    "        title = self.titles[idx]\n",
    "        label = self.labels[idx]\n",
    "\n",
    "        query_enc = self.tokenizer(query, truncation=True, padding='max_length', max_length=self.max_length, return_tensors='pt')\n",
    "        title_enc = self.tokenizer(title, truncation=True, padding='max_length', max_length=self.max_length, return_tensors='pt')\n",
    "\n",
    "        return {\n",
    "            'input_ids_1': query_enc['input_ids'].squeeze(0),\n",
    "            'attention_mask_1': query_enc['attention_mask'].squeeze(0),\n",
    "            'input_ids_2': title_enc['input_ids'].squeeze(0),\n",
    "            'attention_mask_2': title_enc['attention_mask'].squeeze(0),\n",
    "            'label': torch.tensor(label, dtype=torch.long)\n",
    "        }\n"
   ]
  },
  {
   "cell_type": "code",
   "execution_count": null,
   "metadata": {},
   "outputs": [],
   "source": [
    "class DualTowerBERTModel(nn.Module):\n",
    "    def __init__(self, model_name='bert-base-chinese', hidden_size=768, num_classes=3):\n",
    "        super().__init__()\n",
    "        self.bert = BertModel.from_pretrained(model_name)\n",
    "        self.classifier = nn.Linear(hidden_size * 2, num_classes)\n",
    "\n",
    "    def forward(self, input_ids_1, attention_mask_1, input_ids_2, attention_mask_2):\n",
    "        output1 = self.bert(input_ids=input_ids_1, attention_mask=attention_mask_1).pooler_output\n",
    "        output2 = self.bert(input_ids=input_ids_2, attention_mask=attention_mask_2).pooler_output\n",
    "        combined = torch.cat([output1, output2], dim=1)\n",
    "        logits = self.classifier(combined)\n",
    "        return logits\n"
   ]
  },
  {
   "cell_type": "code",
   "execution_count": null,
   "metadata": {},
   "outputs": [],
   "source": [
    "def train(model, dataloader, optimizer, scheduler, device):\n",
    "    model.train()\n",
    "    total_loss = 0\n",
    "    for batch in tqdm(dataloader, desc=\"Training\"):\n",
    "        input_ids_1 = batch['input_ids_1'].to(device)\n",
    "        attention_mask_1 = batch['attention_mask_1'].to(device)\n",
    "        input_ids_2 = batch['input_ids_2'].to(device)\n",
    "        attention_mask_2 = batch['attention_mask_2'].to(device)\n",
    "        labels = batch['label'].to(device)\n",
    "\n",
    "        optimizer.zero_grad()\n",
    "        outputs = model(input_ids_1, attention_mask_1, input_ids_2, attention_mask_2)\n",
    "        loss = nn.CrossEntropyLoss()(outputs, labels)\n",
    "        loss.backward()\n",
    "        optimizer.step()\n",
    "        scheduler.step()\n",
    "        total_loss += loss.item()\n",
    "    return total_loss / len(dataloader)"
   ]
  },
  {
   "cell_type": "code",
   "execution_count": null,
   "metadata": {},
   "outputs": [],
   "source": [
    "\n",
    "def evaluate(model, dataloader, device):\n",
    "    model.eval()\n",
    "    all_preds = []\n",
    "    all_labels = []\n",
    "    with torch.no_grad():\n",
    "        for batch in tqdm(dataloader, desc=\"Evaluating\"):\n",
    "            input_ids_1 = batch['input_ids_1'].to(device)\n",
    "            attention_mask_1 = batch['attention_mask_1'].to(device)\n",
    "            input_ids_2 = batch['input_ids_2'].to(device)\n",
    "            attention_mask_2 = batch['attention_mask_2'].to(device)\n",
    "            labels = batch['label'].to(device)\n",
    "\n",
    "            outputs = model(input_ids_1, attention_mask_1, input_ids_2, attention_mask_2)\n",
    "            preds = torch.argmax(outputs, dim=1)\n",
    "\n",
    "            all_preds.extend(preds.cpu().numpy())\n",
    "            all_labels.extend(labels.cpu().numpy())\n",
    "\n",
    "    acc = accuracy_score(all_labels, all_preds)\n",
    "    f1 = f1_score(all_labels, all_preds, average='macro')\n",
    "    report = classification_report(all_labels, all_preds, digits=4)\n",
    "    return acc, f1, report, all_preds\n"
   ]
  },
  {
   "cell_type": "code",
   "execution_count": null,
   "metadata": {},
   "outputs": [],
   "source": [
    "def train_bert_model_Dual():\n",
    "    tokenizer = BertTokenizer.from_pretrained('bert-base-chinese')\n",
    "    model = DualTowerBERTModel().to(device)\n",
    "\n",
    "    train_dataset = TextMatchingDataset_Dual(train_df, tokenizer)\n",
    "    dev_dataset = TextMatchingDataset_Dual(dev_df, tokenizer)\n",
    "\n",
    "    batch_size = 64\n",
    "    train_loader = DataLoader(train_dataset, batch_size=batch_size, shuffle=True)\n",
    "    dev_loader = DataLoader(dev_dataset, batch_size=batch_size)\n",
    "\n",
    "    optimizer = AdamW(model.parameters(), lr=2e-5)\n",
    "    epochs = 3\n",
    "    total_steps = len(train_loader) * epochs\n",
    "    scheduler = get_linear_schedule_with_warmup(\n",
    "        optimizer,\n",
    "        num_warmup_steps=int(0.1 * total_steps),\n",
    "        num_training_steps=total_steps\n",
    "    )\n",
    "\n",
    "    best_f1 = 0\n",
    "    for epoch in range(epochs):\n",
    "        print(f\"\\nEpoch {epoch + 1}/{epochs}\")\n",
    "        train_loss = train(model, train_loader, optimizer, scheduler, device)\n",
    "        print(f\"training loss: {train_loss:.4f}\")\n",
    "\n",
    "        acc, f1, report, _ = evaluate(model, dev_loader, device)\n",
    "        print(f\"Validation Accuracy: {acc:.4f}\")\n",
    "        print(f\"Validation F1 Score: {f1:.4f}\")\n",
    "        print(report)\n",
    "\n",
    "\n",
    "        if f1 > best_f1:\n",
    "            best_f1 = f1\n",
    "            torch.save(model.state_dict(), 'best_dualtower_model.pt')\n",
    "            print(\"save best model\")\n",
    "\n",
    "    model.load_state_dict(torch.load('best_dualtower_model.pt'))\n",
    "\n",
    "    test_public_dataset = TextMatchingDataset_Dual(test_public_df, tokenizer)\n",
    "    test_public_dataloader = DataLoader(test_public_dataset, batch_size=batch_size)\n",
    "\n",
    "    accuracy, f1, report, _ = evaluate(model, test_public_dataloader, device)\n",
    "    print(f\"Test Set Accuracy: {accuracy:.4f}\")\n",
    "    print(f\"Test Set F1 Score: {f1:.4f}\")\n",
    "    print(report)\n",
    "    return model\n"
   ]
  },
  {
   "cell_type": "code",
   "execution_count": null,
   "metadata": {},
   "outputs": [
    {
     "name": "stdout",
     "output_type": "stream",
     "text": [
      "train BERT model...\n"
     ]
    },
    {
     "name": "stderr",
     "output_type": "stream",
     "text": [
      "Some weights of BertForSequenceClassification were not initialized from the model checkpoint at bert-base-chinese and are newly initialized: ['classifier.bias', 'classifier.weight']\n",
      "You should probably TRAIN this model on a down-stream task to be able to use it for predictions and inference.\n"
     ]
    },
    {
     "name": "stdout",
     "output_type": "stream",
     "text": [
      "Epoch 1/3\n"
     ]
    },
    {
     "name": "stderr",
     "output_type": "stream",
     "text": [
      "Training: 100%|██████████| 2813/2813 [27:56<00:00,  1.68it/s, loss=0.371]\n"
     ]
    },
    {
     "name": "stdout",
     "output_type": "stream",
     "text": [
      "training loss: 0.6991\n"
     ]
    },
    {
     "name": "stderr",
     "output_type": "stream",
     "text": [
      "Evaluating: 100%|██████████| 313/313 [01:09<00:00,  4.48it/s]\n"
     ]
    },
    {
     "name": "stdout",
     "output_type": "stream",
     "text": [
      "Validation Accuracy: 0.7220\n",
      "Validation F1 Score: 0.7145\n",
      "              precision    recall  f1-score   support\n",
      "\n",
      "           0     0.6961    0.5922    0.6399      4894\n",
      "           1     0.7594    0.8362    0.7959     12592\n",
      "           2     0.5137    0.4029    0.4516      2514\n",
      "\n",
      "    accuracy                         0.7220     20000\n",
      "   macro avg     0.6564    0.6104    0.6292     20000\n",
      "weighted avg     0.7130    0.7220    0.7145     20000\n",
      "\n",
      "save best model\n",
      "Epoch 2/3\n"
     ]
    },
    {
     "name": "stderr",
     "output_type": "stream",
     "text": [
      "Training: 100%|██████████| 2813/2813 [27:57<00:00,  1.68it/s, loss=0.593]\n"
     ]
    },
    {
     "name": "stdout",
     "output_type": "stream",
     "text": [
      "training loss: 0.5784\n"
     ]
    },
    {
     "name": "stderr",
     "output_type": "stream",
     "text": [
      "Evaluating: 100%|██████████| 313/313 [01:09<00:00,  4.48it/s]\n"
     ]
    },
    {
     "name": "stdout",
     "output_type": "stream",
     "text": [
      "Validation Accuracy: 0.7331\n",
      "Validation F1 Score: 0.7275\n",
      "              precision    recall  f1-score   support\n",
      "\n",
      "           0     0.7228    0.5936    0.6519      4894\n",
      "           1     0.7710    0.8420    0.8049     12592\n",
      "           2     0.5184    0.4594    0.4871      2514\n",
      "\n",
      "    accuracy                         0.7331     20000\n",
      "   macro avg     0.6707    0.6317    0.6480     20000\n",
      "weighted avg     0.7274    0.7331    0.7275     20000\n",
      "\n",
      "save best model\n",
      "Epoch 3/3\n"
     ]
    },
    {
     "name": "stderr",
     "output_type": "stream",
     "text": [
      "Training: 100%|██████████| 2813/2813 [27:57<00:00,  1.68it/s, loss=0.493]\n"
     ]
    },
    {
     "name": "stdout",
     "output_type": "stream",
     "text": [
      "training loss: 0.4887\n"
     ]
    },
    {
     "name": "stderr",
     "output_type": "stream",
     "text": [
      "Evaluating: 100%|██████████| 313/313 [01:09<00:00,  4.47it/s]\n"
     ]
    },
    {
     "name": "stdout",
     "output_type": "stream",
     "text": [
      "Validation Accuracy: 0.7308\n",
      "Validation F1 Score: 0.7274\n",
      "              precision    recall  f1-score   support\n",
      "\n",
      "           0     0.7166    0.5979    0.6519      4894\n",
      "           1     0.7759    0.8289    0.8015     12592\n",
      "           2     0.5077    0.4980    0.5028      2514\n",
      "\n",
      "    accuracy                         0.7308     20000\n",
      "   macro avg     0.6668    0.6416    0.6521     20000\n",
      "weighted avg     0.7277    0.7308    0.7274     20000\n",
      "\n"
     ]
    },
    {
     "name": "stderr",
     "output_type": "stream",
     "text": [
      "Evaluating: 100%|██████████| 79/79 [00:17<00:00,  4.52it/s]"
     ]
    },
    {
     "name": "stdout",
     "output_type": "stream",
     "text": [
      "Test Set Accuracy: 0.7408\n",
      "Test Set F1 Score: 0.7345\n",
      "              precision    recall  f1-score   support\n",
      "\n",
      "           0     0.7227    0.5906    0.6500      1209\n",
      "           1     0.7780    0.8531    0.8138      3159\n",
      "           2     0.5383    0.4668    0.5000       632\n",
      "\n",
      "    accuracy                         0.7408      5000\n",
      "   macro avg     0.6797    0.6368    0.6546      5000\n",
      "weighted avg     0.7343    0.7408    0.7345      5000\n",
      "\n"
     ]
    },
    {
     "name": "stderr",
     "output_type": "stream",
     "text": [
      "\n"
     ]
    }
   ],
   "source": [
    "print(\"train BERT model...\")\n",
    "bert_model = train_bert_model()"
   ]
  },
  {
   "cell_type": "markdown",
   "metadata": {},
   "source": [
    "### 5.9 <a name='5.8'></a>BGE-based Single-Tower \n",
    "[Back to Table of Contents](#top)\n",
    "\n",
    "<div style=\"display: flex; justify-content: center;\">\n",
    "  <img src=\"img/RetroMAE.png\" alt=\"RetroMAE\" width=\"500\"/>\n",
    "</div>\n",
    "\n",
    "**Removal of the NSP (Next Sentence Prediction) Task**\n",
    "BERT originally employed the **NSP** task to model relationships between sentences. However, subsequent research has shown that **NSP** provides limited benefits for downstream performance. BGE removes the **NSP** task entirely to avoid introducing unnecessary noise, allowing the model to focus more on fine-grained semantic representation learning.\n",
    "\n",
    "**Introduction of the MLLM (Masked Language Model for Matching) Pretraining Objective**\n",
    "BGE adopts a specially designed **MLLM** objective tailored for retrieval tasks. It combines masked language modeling with semantic matching, not only predicting masked tokens but also enhancing the modeling of relevance between paired texts.\n",
    "\n",
    "**Integration of RetroMAE as a Decoder Module**\n",
    "During pretraining, BGE incorporates **RetroMAE(Retrieval-oriented Masked AutoEncoder)**  as its decoder component to strengthen the model’s representation learning capability. By reconstructing the hidden representations of the original text, RetroMAE guides the encoder to learn more retrieval-friendly vector distributions, leading to significant improvements in retrieval-related tasks.\n",
    "\n",
    "**Incorporating Contrastive Learning**\n",
    "\n",
    "The BGE model introduces **contrastive learning** during pretraining to optimize sentence embeddings for semantic retrieval tasks.Unlike traditional language models like BERT, which are trained with **Masked Language Modeling** and **Next Sentence Prediction**, BGE focuses on learning embeddings where semantically similar sentences are close together in the vector space, and dissimilar ones are far apart.\n",
    "\n",
    "\n",
    "\n",
    "<div style=\"display: flex; justify-content: center;\">\n",
    "  <img src=\"img/single_tower_bge.jpg\" alt=\"single_tower_bge\" width=\"500\"/>\n",
    "</div>\n",
    "\n",
    "Single Tower Relevance Modeling with BGE refers to a design where both the query and document are concatenated and jointly fed into a single encoder, typically a transformer-based language model. The single-tower approach enables deeper interaction between the two inputs. This allows the model to better capture fine-grained semantic relationships and contextual dependencies. \n",
    "In BGE, the input format usually follows **[CLS] Query [SEP] Document [SEP]**, and the relevance score is computed from the **[CLS]** token embedding using a simple classifier. Although single-tower models are computationally heavier during inference, they often yield higher performance in tasks requiring precise matching, such as question answering and passage ranking.\n"
   ]
  },
  {
   "cell_type": "code",
   "execution_count": null,
   "metadata": {},
   "outputs": [],
   "source": [
    "class Args(object):\n",
    "    def __init__(self):\n",
    "        super().__init__()\n",
    "        self.optimizer = 'adamw'\n",
    "        self.batch_size = 16\n",
    "        self.num_epochs = 10\n",
    "        self.lr = 1e-3\n",
    "        self.weight_decay = 1e-4\n",
    "        self.lr_period = 4\n",
    "        self.lr_decay = 0.8\n",
    "        self.dropout = 0.1\n",
    "        self.embedding_dim = 300\n",
    "        self.hidden_dim = 300\n",
    "        self.num_class = 3\n",
    "        self.num_aspect = 6\n",
    "        self.max_seq_len = 500\n",
    "        self.num_warmup_steps = 200\n",
    "        self.pt_path = \"/content/drive/MyDrive/CS5242/ckpt\"\n",
    "        self.img_path = \"/content/drive/MyDrive/CS5242/images\"\n",
    "        self.learning_rates = []\n",
    "        self.monitor = 'loss'\n",
    "\n",
    "class Timer:\n",
    "    \"\"\"Record multiple running times.\"\"\"\n",
    "    def __init__(self):\n",
    "        \"\"\"Defined in :numref:`sec_minibatch_sgd`\"\"\"\n",
    "        self.times = []\n",
    "        self.start()\n",
    "\n",
    "    def start(self):\n",
    "        \"\"\"Start the timer.\"\"\"\n",
    "        self.tik = time.time()\n",
    "\n",
    "    def stop(self):\n",
    "        \"\"\"Stop the timer and record the time in a list.\"\"\"\n",
    "        self.times.append(time.time() - self.tik)\n",
    "        return self.times[-1]\n",
    "\n",
    "    def avg(self):\n",
    "        \"\"\"Return the average time.\"\"\"\n",
    "        return sum(self.times) / len(self.times)\n",
    "\n",
    "    def sum(self):\n",
    "        \"\"\"Return the sum of time.\"\"\"\n",
    "        return sum(self.times)\n",
    "\n",
    "    def cumsum(self):\n",
    "        \"\"\"Return the accumulated time.\"\"\"\n",
    "        return np.array(self.times).cumsum().tolist()\n",
    "\n",
    "class Accumulator:\n",
    "    \"\"\"For accumulating sums over `n` variables.\"\"\"\n",
    "    def __init__(self, n):\n",
    "        \"\"\"Defined in :numref:`sec_utils`\"\"\"\n",
    "        self.data = [0.0] * n\n",
    "\n",
    "    def add(self, *args):\n",
    "        self.data = [a + float(b) for a, b in zip(self.data, args)]\n",
    "\n",
    "    def reset(self):\n",
    "        self.data = [0.0] * len(self.data)\n",
    "\n",
    "    def __getitem__(self, idx):\n",
    "        return self.data[idx]\n",
    "\n",
    "class Animator:\n",
    "    \"\"\"For plotting data in animation.\"\"\"\n",
    "    def __init__(self, xlabel=None, ylabel=None, legend=None, xlim=None,\n",
    "                 ylim=None, xscale='linear', yscale='linear',\n",
    "                 fmts=('-', 'm--', 'g-.', 'r:'), nrows=1, ncols=1,\n",
    "                 figsize=(3.5, 2.5)):\n",
    "        \"\"\"Defined in :numref:`sec_utils`\"\"\"\n",
    "        # Incrementally plot multiple lines\n",
    "        if legend is None:\n",
    "            legend = []\n",
    "        use_svg_display()\n",
    "        self.fig, self.axes = plt.subplots(nrows, ncols, figsize=figsize)\n",
    "        if nrows * ncols == 1:\n",
    "            self.axes = [self.axes, ]\n",
    "        # Use a lambda function to capture arguments\n",
    "        self.config_axes = lambda: set_axes(self.axes[0], xlabel, ylabel, xlim, ylim, xscale, yscale, legend)\n",
    "        self.X, self.Y, self.fmts = None, None, fmts\n",
    "\n",
    "    def add(self, x, y):\n",
    "        # Add multiple data points into the figure\n",
    "        if not hasattr(y, \"__len__\"):\n",
    "            y = [y]\n",
    "        n = len(y)\n",
    "        if not hasattr(x, \"__len__\"):\n",
    "            x = [x] * n\n",
    "        if not self.X:\n",
    "            self.X = [[] for _ in range(n)]\n",
    "        if not self.Y:\n",
    "            self.Y = [[] for _ in range(n)]\n",
    "        for i, (a, b) in enumerate(zip(x, y)):\n",
    "            if a is not None and b is not None:\n",
    "                self.X[i].append(a)\n",
    "                self.Y[i].append(b)\n",
    "        self.axes[0].cla()\n",
    "        for x, y, fmt in zip(self.X, self.Y, self.fmts):\n",
    "            self.axes[0].plot(x, y, fmt)\n",
    "        self.config_axes()\n",
    "        display.display(self.fig)\n",
    "        display.clear_output(wait=True)\n",
    "\n",
    "    def save(self, output_dir, fname):\n",
    "        plt.savefig(os.path.join(output_dir, fname), dpi=600)\n",
    "\n",
    "class FocalLoss(nn.Module):\n",
    "    def __init__(self, alpha=None, gamma=2.0, reduction='mean'):\n",
    "        super(FocalLoss, self).__init__()\n",
    "        self.alpha = alpha\n",
    "        self.gamma = gamma\n",
    "        self.reduction = reduction\n",
    "\n",
    "    def forward(self, logits, targets):\n",
    "        \"\"\"\n",
    "        logits: [batch_size, num_classes]\n",
    "        targets: [batch_size] with class indices (0, 1, 2)\n",
    "        \"\"\"\n",
    "        ce_loss = F.cross_entropy(logits, targets, reduction='none')\n",
    "        pt = torch.exp(-ce_loss)\n",
    "        focal_loss = (1 - pt) ** self.gamma * ce_loss\n",
    "\n",
    "        if self.alpha is not None:\n",
    "            at = self.alpha.gather(0, targets)\n",
    "            focal_loss = at * focal_loss\n",
    "\n",
    "        if self.reduction == 'mean':\n",
    "            return focal_loss.mean()\n",
    "        elif self.reduction == 'sum':\n",
    "            return focal_loss.sum()\n",
    "        else:\n",
    "            return focal_loss\n",
    "\n",
    "def use_svg_display():\n",
    "    \"\"\"Use the svg format to display a plot in Jupyter.\"\"\"\n",
    "    backend_inline.set_matplotlib_formats('svg')\n",
    "\n",
    "def set_axes(axes, xlabel, ylabel, xlim, ylim, xscale, yscale, legend):\n",
    "    \"\"\"Set the axes for matplotlib.\"\"\"\n",
    "    axes.set_xlabel(xlabel), axes.set_ylabel(ylabel)\n",
    "    axes.set_xscale(xscale), axes.set_yscale(yscale)\n",
    "    axes.set_xlim(xlim),     axes.set_ylim(ylim)\n",
    "    if legend:\n",
    "        axes.legend(legend)\n",
    "    axes.grid()\n",
    "\n",
    "def count_parameters(model):\n",
    "    total = sum(p.numel() for p in model.parameters())\n",
    "    trainable = sum(p.numel() for p in model.parameters() if p.requires_grad)\n",
    "    return total, trainable\n",
    "\n",
    "def accuracy(y_pred, y):\n",
    "    \"\"\"Compute the number of correct predictions.\n",
    "    Defined in :numref:`sec_utils`\"\"\"\n",
    "    if len(y_pred.shape) > 1 and y_pred.shape[1] > 1:\n",
    "        y_pred = torch.argmax(y_pred, axis=1)\n",
    "    cmp = (y_pred.type(y.dtype)) == y\n",
    "    return float(torch.sum(cmp.type(y.dtype)))\n",
    "\n",
    "def download_model(model_name,cache_dir):\n",
    "  if not os.path.exists(cache_dir):\n",
    "    os.makedirs(cache_dir)\n",
    "  tokenizer = AutoTokenizer.from_pretrained(model_name, cache_dir=cache_dir)\n",
    "  model = AutoModel.from_pretrained(model_name, cache_dir=cache_dir)\n",
    "  total, trainable = count_parameters(model)\n",
    "  print(f\"Total Parameters: {total:,}, Trainable: {trainable:,}\")\n",
    "  print(model)\n",
    "\n",
    "def evaluate_loss_and_acc_gpu(net, data_iter, loss=None, device=None):\n",
    "    \"\"\"Compute the accuracy for a model on a dataset using a GPU.\"\"\"\n",
    "    if isinstance(net, nn.Module):\n",
    "        net.eval()\n",
    "        if not device:\n",
    "            device = next(iter(net.parameters())).device\n",
    "    if loss:\n",
    "        metric = Accumulator(3)\n",
    "    else:\n",
    "        metric = Accumulator(2)\n",
    "\n",
    "    with torch.no_grad():\n",
    "        for batch in data_iter:\n",
    "            if isinstance(batch, dict):\n",
    "                for k, v in batch.items():\n",
    "                    batch[k] = batch[k].to(device)\n",
    "            else:\n",
    "                batch = batch.to(device)\n",
    "            y = batch['label']\n",
    "            y_pred = net(**batch)\n",
    "            if loss:\n",
    "                metric.add(loss(y_pred, y).sum(), accuracy(y_pred, y), torch.numel(y))\n",
    "            else:\n",
    "                metric.add(accuracy(y_pred, y), torch.numel(y))\n",
    "    return (metric[0] / metric[2], metric[1] / metric[2]) if loss else metric[0] / metric[1]\n",
    "\n",
    "def train_batch(net, batch, loss, trainer, devices):\n",
    "    \"\"\"Train for a minibatch \"\"\"\n",
    "    if isinstance(batch, dict):\n",
    "        for k, v in batch.items():\n",
    "            batch[k] = batch[k].to(devices[0])\n",
    "    else:\n",
    "        batch = batch.to(devices[0])\n",
    "    y = batch['label']\n",
    "    net.train()\n",
    "    trainer.zero_grad()\n",
    "    pred = net(**batch)\n",
    "    l = loss(pred, y)\n",
    "    l.mean().backward()\n",
    "    trainer.step()\n",
    "    train_loss_sum = l.sum().item()\n",
    "    train_acc_sum = accuracy(pred, y)\n",
    "    args.learning_rates.append(trainer.param_groups[0][\"lr\"])\n",
    "    return train_loss_sum, train_acc_sum\n",
    "\n",
    "def train_transformer(net,\n",
    "                      train_iter,\n",
    "                      valid_iter,\n",
    "                      num_epochs,\n",
    "                      optimizer,\n",
    "                      lr,\n",
    "                      wd,\n",
    "                      num_warmup_steps,\n",
    "                      devices,\n",
    "                      task_name):\n",
    "    if optimizer == 'sgd':\n",
    "        trainer = torch.optim.SGD(net.parameters(), lr=lr, momentum=0.9, weight_decay=wd)\n",
    "    elif optimizer == 'adam':\n",
    "        trainer = torch.optim.Adam(net.parameters(), lr=lr, weight_decay=wd)\n",
    "    elif optimizer == 'adamw':\n",
    "        trainer = torch.optim.AdamW(net.parameters(), lr=lr, weight_decay=wd)\n",
    "\n",
    "    model_name = str(net.__class__.__name__)\n",
    "    scheduler = get_cosine_schedule_with_warmup(trainer, num_warmup_steps=num_warmup_steps, num_training_steps=num_epochs*len(train_iter))\n",
    "\n",
    "    loss = nn.CrossEntropyLoss(reduction=\"none\")\n",
    "    timer = Timer()\n",
    "    num_batches = len(train_iter)\n",
    "    legend = ['train loss', 'train acc']\n",
    "    if valid_iter is not None:\n",
    "        legend += ['valid loss', 'valid acc']\n",
    "    animator = Animator(xlabel='epoch', xlim=[1, num_epochs], legend=legend, figsize=(7, 5))\n",
    "\n",
    "    if args.monitor == 'loss':\n",
    "        monitor_val = math.inf\n",
    "    else:\n",
    "        monitor_val = -math.inf\n",
    "    for epoch in range(num_epochs):\n",
    "        net.train()\n",
    "        metric = Accumulator(4)\n",
    "        for i, batch in enumerate(tqdm(train_iter)):\n",
    "            timer.start()\n",
    "            labels = batch['label']\n",
    "            output = train_batch(net, batch, loss, trainer, devices)\n",
    "            scheduler.step()\n",
    "            metric.add(output[0], output[1], labels.shape[0])\n",
    "            timer.stop()\n",
    "            if (i + 1) % (num_batches // 5) == 0 or i == num_batches - 1:\n",
    "                animator.add(epoch + (i + 1) / num_batches,\n",
    "                             (metric[0] / metric[2], metric[1] / metric[2], None, None))\n",
    "\n",
    "        if valid_iter is not None:\n",
    "            valid_loss, valid_acc = evaluate_loss_and_acc_gpu(net, valid_iter, loss, devices[0])\n",
    "            animator.add(epoch + 1, (None, None, valid_loss, valid_acc))\n",
    "            if args.monitor == 'loss':\n",
    "                if valid_loss < monitor_val:\n",
    "                    filename = task_name + f\"-epoch{epoch}-val_loss{valid_loss :.2f}.pt\"\n",
    "                    best_model_state = copy.deepcopy(net.state_dict())\n",
    "                    monitor_val = valid_loss\n",
    "            else:\n",
    "                if valid_acc > monitor_val:\n",
    "                    filename = task_name + f\"-epoch{epoch}-val_acc{valid_acc :.2f}.pt\"\n",
    "                    best_model_state = copy.deepcopy(net.state_dict())\n",
    "                    monitor_val = valid_acc\n",
    "\n",
    "\n",
    "    measures = (f'train loss {metric[0] / metric[2]:.3f}, '\n",
    "                f'train acc {metric[1] / metric[2]:.3f}')\n",
    "    if valid_iter is not None:\n",
    "        measures += f', valid loss {valid_loss:.3f}'\n",
    "        measures += f', valid acc {valid_acc:.3f}'\n",
    "    print(measures + f'\\n{metric[2] * num_epochs / timer.sum():.1f}'\n",
    "          f' examples/sec on {str(devices)}')\n",
    "    args.pt_path = os.path.join(args.pt_path, filename)\n",
    "    torch.save(best_model_state, args.pt_path)\n",
    "    animator.save(args.img_path, filename + f\"-train_loss{metric[0] / metric[2]:.2f}.png\")\n",
    "\n",
    "def test(net, data_iter, output_dir=None, device=None):\n",
    "    net.eval()\n",
    "    full_logits=[]\n",
    "    full_label_ids=[]\n",
    "    for i, batch in tqdm(enumerate(data_iter)):\n",
    "        with torch.no_grad():\n",
    "            if isinstance(batch, dict):\n",
    "                for k, v in batch.items():\n",
    "                    batch[k] = batch[k].to(device)\n",
    "            else:\n",
    "                batch = batch.to(device)\n",
    "\n",
    "            logits = net(**batch)\n",
    "            logits = logits.detach().cpu().numpy()\n",
    "            y = batch['label'].cpu().numpy()\n",
    "\n",
    "            full_logits.extend(logits.tolist())\n",
    "            full_label_ids.extend(y.tolist())\n",
    "\n",
    "    y_pred = [np.argmax(logit) for logit in full_logits]\n",
    "    y_true = full_label_ids\n",
    "    f1 =sklearn.metrics.f1_score(y_true, y_pred, average='macro')\n",
    "    acc =sklearn.metrics.accuracy_score(y_true, y_pred)\n",
    "    print(f\"test on final epoch -- acc: {acc*100 :.2f}, f1-macro: {f1*100 :.2f}\")\n",
    "    if output_dir:\n",
    "        output_eval_json = os.path.join(output_dir, str(net.__class__.__name__) + \"_predictions.json\")\n",
    "        with open(output_eval_json, \"w\") as fw:\n",
    "            json.dump({\"logits\": full_logits, \"label_ids\": full_label_ids}, fw)\n",
    "\n",
    "def test_on_checkpoint(net, file_path, data_iter, output_dir=None, device=None):\n",
    "    state_dict = torch.load(file_path, map_location=device)\n",
    "    net.load_state_dict(state_dict)\n",
    "    net.to(device)\n",
    "    net.eval()\n",
    "    full_logits=[]\n",
    "    full_label_ids=[]\n",
    "    full_aspect_ids = []\n",
    "    for i, batch in enumerate(data_iter):\n",
    "        with torch.no_grad():\n",
    "            if isinstance(batch, dict):\n",
    "                for k, v in batch.items():\n",
    "                    batch[k] = batch[k].to(device)\n",
    "            else:\n",
    "                batch = batch.to(device)\n",
    "\n",
    "            logits = net(**batch)\n",
    "            logits = logits.detach().cpu().numpy()\n",
    "            y = batch['label'].cpu().numpy()\n",
    "\n",
    "            full_logits.extend(logits.tolist())\n",
    "            full_label_ids.extend(y.tolist())\n",
    "\n",
    "\n",
    "    y_pred = [np.argmax(logit) for logit in full_logits]\n",
    "    y_true = full_label_ids\n",
    "    f1 =sklearn.metrics.f1_score(y_true, y_pred, average='macro')\n",
    "    acc =sklearn.metrics.accuracy_score(y_true, y_pred)\n",
    "    print(f\"test on {file_path} -- acc: {acc*100 :.2f}, f1-macro: {f1*100 :.2f}\")\n",
    "    if output_dir:\n",
    "        output_eval_json = os.path.join(output_dir, str(net.__class__.__name__) + \"_predictions.json\")\n",
    "        with open(output_eval_json, \"w\") as fw:\n",
    "            json.dump({\"logits\": full_logits, \"label_ids\": full_label_ids}, fw)\n",
    "\n",
    "class BGEProcessor(object):\n",
    "    def __init__(self, data_dir, data_name):\n",
    "        self.data_dir = data_dir\n",
    "        self.data_name = data_name\n",
    "\n",
    "    def get_examples(self):\n",
    "        \"\"\"Read data from json file.\n",
    "        Args:\n",
    "            data_dir (string):\n",
    "                Path.\n",
    "            mode (string):\n",
    "                Indicate train/dev/test.\n",
    "        Returns:\n",
    "            examples for different modes.\n",
    "        \"\"\"\n",
    "        return self._create_examples(self._read_json(os.path.join(self.data_dir, self.data_name)))\n",
    "\n",
    "    def get_labels(self):\n",
    "        \"\"\"Return labels for specific dataset\"\"\"\n",
    "        return [\"negative\", \"neutral\", \"positive\"]\n",
    "\n",
    "    def _create_examples(self, datas):\n",
    "        \"\"\"Creates examples for the training and dev sets.\"\"\"\n",
    "        examples = []\n",
    "        for idx,data in enumerate(datas):\n",
    "            data['label'] = int(data[\"label\"])\n",
    "            examples.append(data)\n",
    "        return examples\n",
    "\n",
    "    def _read_json(self, input_file):\n",
    "        \"\"\"Reads a json file for tasks in sentiment analysis.\"\"\"\n",
    "        datas = []\n",
    "        with open(input_file, 'r', encoding='utf-8') as f:\n",
    "          for line in f:\n",
    "              obj = json.loads(line)\n",
    "              datas.append(obj)\n",
    "        return datas\n",
    "\n",
    "class SingleTowerBGEDataset(Dataset):\n",
    "    \"\"\"Build dataset and convert examples to features\"\"\"\n",
    "    def __init__(self, model_name, cache_dir, samples):\n",
    "        self.model_name = model_name\n",
    "        self.samples = samples\n",
    "        print(len(self.samples))\n",
    "        self.tokenizer = AutoTokenizer.from_pretrained(model_name, cache_dir=cache_dir)\n",
    "        self.convert_data_to_features()\n",
    "\n",
    "    def convert_data_to_features(self):\n",
    "        \"\"\"convert examples to features\"\"\"\n",
    "        label_map = {0: 0, 1: 1, 2: 2}\n",
    "\n",
    "        output = []\n",
    "        for (i, sample) in tqdm(enumerate(self.samples)):\n",
    "            feature = {}\n",
    "            query = sample['query']\n",
    "            document = sample['title']\n",
    "            inputs = self.tokenizer(query,\n",
    "                                    document,\n",
    "                                    return_tensors=\"pt\",\n",
    "                                    padding=True,\n",
    "                                    truncation=True)\n",
    "\n",
    "            input_ids = inputs[\"input_ids\"][0]\n",
    "            token_type_ids  = inputs[\"token_type_ids\"][0]\n",
    "            attention_mask = inputs[\"attention_mask\"][0]\n",
    "            label_id = label_map[sample['label']]\n",
    "            feature = {\n",
    "                \"input_ids\": input_ids,\n",
    "                \"token_type_ids\": token_type_ids,\n",
    "                \"attention_mask\": attention_mask,\n",
    "                \"label_id\": label_id\n",
    "            }\n",
    "            output += [feature]\n",
    "        self.data = output\n",
    "\n",
    "    def __getitem__(self, index):\n",
    "        return self.data[index]\n",
    "\n",
    "    def __len__(self):\n",
    "        return len(self.data)\n",
    "\n",
    "def build_bge_collate_fn(tokenizer):\n",
    "    def collate_fn(batch):\n",
    "        input_ids = [item['input_ids'] for item in batch]\n",
    "        attention_mask = [item['attention_mask'] for item in batch]\n",
    "        token_type_ids = [item['token_type_ids'] for item in batch]\n",
    "        label_ids = torch.tensor([item['label_id'] for item in batch])\n",
    "\n",
    "        padded = tokenizer.pad(\n",
    "            {\n",
    "                \"input_ids\": input_ids,\n",
    "                \"attention_mask\": attention_mask,\n",
    "                \"token_type_ids\": token_type_ids,\n",
    "            },\n",
    "            return_tensors=\"pt\",\n",
    "            padding=True\n",
    "        )\n",
    "\n",
    "        return {\n",
    "            \"input_ids\": padded[\"input_ids\"],\n",
    "            \"attention_mask\": padded[\"attention_mask\"],\n",
    "            \"token_type_ids\": padded[\"token_type_ids\"],\n",
    "            \"label\": label_ids\n",
    "        }\n",
    "    return collate_fn\n",
    "\n",
    "class DualTowerBGEDataset(Dataset):\n",
    "    \"\"\"Build dataset for dual tower model and convert examples to features separately\"\"\"\n",
    "    def __init__(self, model_name, cache_dir, samples):\n",
    "        self.tokenizer = AutoTokenizer.from_pretrained(model_name, cache_dir=cache_dir)\n",
    "        self.samples = samples\n",
    "        self.data = self.convert_data_to_features(samples)\n",
    "\n",
    "    def convert_data_to_features(self, samples):\n",
    "        label_map = {0: 0, 1: 1, 2: 2}\n",
    "        features = []\n",
    "\n",
    "        for sample in tqdm(samples, desc=\"Converting data\"):\n",
    "            query = sample['query']\n",
    "            document = sample['title']\n",
    "            label = label_map[sample['label']]\n",
    "\n",
    "            query_inputs = self.tokenizer(query,\n",
    "                                          return_tensors=\"pt\",\n",
    "                                          padding=True,\n",
    "                                          truncation=True)\n",
    "            doc_inputs = self.tokenizer(  document,\n",
    "                                          return_tensors=\"pt\",\n",
    "                                          padding=True,\n",
    "                                          truncation=True)\n",
    "\n",
    "            feature = {\n",
    "                \"query_input_ids\": query_inputs[\"input_ids\"].squeeze(0),\n",
    "                \"query_attention_mask\": query_inputs[\"attention_mask\"].squeeze(0),\n",
    "                \"query_token_type_ids\": query_inputs[\"token_type_ids\"].squeeze(0),\n",
    "\n",
    "                \"doc_input_ids\": doc_inputs[\"input_ids\"].squeeze(0),\n",
    "                \"doc_attention_mask\": doc_inputs[\"attention_mask\"].squeeze(0),\n",
    "                \"doc_token_type_ids\": doc_inputs[\"token_type_ids\"].squeeze(0),\n",
    "\n",
    "                \"label\": label\n",
    "            }\n",
    "            features.append(feature)\n",
    "        return features\n",
    "\n",
    "    def __getitem__(self, index):\n",
    "        return self.data[index]\n",
    "\n",
    "    def __len__(self):\n",
    "        return len(self.data)\n",
    "\n",
    "def build_dual_bge_collate_fn(tokenizer):\n",
    "    def collate_fn(batch):\n",
    "        query_input_ids = [item['query_input_ids'] for item in batch]\n",
    "        query_attention_mask = [item['query_attention_mask'] for item in batch]\n",
    "        query_token_type_ids = [item['query_token_type_ids'] for item in batch]\n",
    "\n",
    "        doc_input_ids = [item['doc_input_ids'] for item in batch]\n",
    "        doc_attention_mask = [item['doc_attention_mask'] for item in batch]\n",
    "        doc_token_type_ids = [item['doc_token_type_ids'] for item in batch]\n",
    "\n",
    "        label_ids = torch.tensor([item['label'] for item in batch])\n",
    "\n",
    "        # Padding query\n",
    "        query_batch = tokenizer.pad(\n",
    "            {\n",
    "                \"input_ids\": query_input_ids,\n",
    "                \"attention_mask\": query_attention_mask,\n",
    "                \"token_type_ids\": query_token_type_ids,\n",
    "            },\n",
    "            return_tensors=\"pt\",\n",
    "            padding=True\n",
    "        )\n",
    "\n",
    "        doc_batch = tokenizer.pad(\n",
    "            {\n",
    "                \"input_ids\": doc_input_ids,\n",
    "                \"attention_mask\": doc_attention_mask,\n",
    "                \"token_type_ids\": doc_token_type_ids,\n",
    "            },\n",
    "            return_tensors=\"pt\",\n",
    "            padding=True\n",
    "        )\n",
    "\n",
    "        return {\n",
    "            \"query_input_ids\": query_batch[\"input_ids\"],\n",
    "            \"query_attention_mask\": query_batch[\"attention_mask\"],\n",
    "            \"query_token_type_ids\": query_batch[\"token_type_ids\"],\n",
    "            \"doc_input_ids\": doc_batch[\"input_ids\"],\n",
    "            \"doc_attention_mask\": doc_batch[\"attention_mask\"],\n",
    "            \"doc_token_type_ids\": doc_batch[\"token_type_ids\"],\n",
    "            \"label\": label_ids\n",
    "        }\n",
    "\n",
    "    return collate_fn"
   ]
  },
  {
   "cell_type": "code",
   "execution_count": null,
   "metadata": {},
   "outputs": [
    {
     "name": "stdout",
     "output_type": "stream",
     "text": [
      "Total Parameters: 102,267,648, Trainable: 102,267,648\n",
      "BertModel(\n",
      "  (embeddings): BertEmbeddings(\n",
      "    (word_embeddings): Embedding(21128, 768, padding_idx=0)\n",
      "    (position_embeddings): Embedding(512, 768)\n",
      "    (token_type_embeddings): Embedding(2, 768)\n",
      "    (LayerNorm): LayerNorm((768,), eps=1e-12, elementwise_affine=True)\n",
      "    (dropout): Dropout(p=0.1, inplace=False)\n",
      "  )\n",
      "  (encoder): BertEncoder(\n",
      "    (layer): ModuleList(\n",
      "      (0-11): 12 x BertLayer(\n",
      "        (attention): BertAttention(\n",
      "          (self): BertSdpaSelfAttention(\n",
      "            (query): Linear(in_features=768, out_features=768, bias=True)\n",
      "            (key): Linear(in_features=768, out_features=768, bias=True)\n",
      "            (value): Linear(in_features=768, out_features=768, bias=True)\n",
      "            (dropout): Dropout(p=0.1, inplace=False)\n",
      "          )\n",
      "          (output): BertSelfOutput(\n",
      "            (dense): Linear(in_features=768, out_features=768, bias=True)\n",
      "            (LayerNorm): LayerNorm((768,), eps=1e-12, elementwise_affine=True)\n",
      "            (dropout): Dropout(p=0.1, inplace=False)\n",
      "          )\n",
      "        )\n",
      "        (intermediate): BertIntermediate(\n",
      "          (dense): Linear(in_features=768, out_features=3072, bias=True)\n",
      "          (intermediate_act_fn): GELUActivation()\n",
      "        )\n",
      "        (output): BertOutput(\n",
      "          (dense): Linear(in_features=3072, out_features=768, bias=True)\n",
      "          (LayerNorm): LayerNorm((768,), eps=1e-12, elementwise_affine=True)\n",
      "          (dropout): Dropout(p=0.1, inplace=False)\n",
      "        )\n",
      "      )\n",
      "    )\n",
      "  )\n",
      "  (pooler): BertPooler(\n",
      "    (dense): Linear(in_features=768, out_features=768, bias=True)\n",
      "    (activation): Tanh()\n",
      "  )\n",
      ")\n"
     ]
    }
   ],
   "source": [
    "data_dir = \"/content/drive/MyDrive/CS5242/\"\n",
    "model_name = \"BAAI/bge-base-zh-v1.5\" ; cache_dir = \"/content/drive/MyDrive/CS5242/bge-base-zh-v1.5\"\n",
    "test_data_name = \"test_public.json\" ; train_data_name = \"train.json\"\n",
    "task_name = \"SingleTowerBGE\"\n",
    "args = Args()\n",
    "args.lr = 3e-5\n",
    "args.num_epochs=5\n",
    "args.batch_size=64\n",
    "args.monitor = 'accuracy'\n",
    "devices = [torch.device(\"cuda\" if torch.cuda.is_available() else \"cpu\")]\n",
    "download_model(model_name,cache_dir)"
   ]
  },
  {
   "cell_type": "code",
   "execution_count": null,
   "metadata": {},
   "outputs": [],
   "source": [
    "class SingleTowerBGE(nn.Module):\n",
    "    \"\"\" Transformer encoder\"\"\"\n",
    "    def __init__(self, model_name,cache_dir,output_dim):\n",
    "        super().__init__()\n",
    "        self.model_name = model_name\n",
    "        self.cache_dir = cache_dir\n",
    "        self.bge = AutoModel.from_pretrained(self.model_name,cache_dir=self.cache_dir)\n",
    "        self.d_model = self.bge.config.hidden_size\n",
    "        self.clf = nn.Sequential(\n",
    "            nn.Linear(self.d_model, self.d_model),\n",
    "            nn.ReLU(),\n",
    "            nn.Dropout(p=0.1),\n",
    "            nn.Linear(self.d_model, output_dim),\n",
    "        )\n",
    "\n",
    "    def forward(self, input_ids, attention_mask, token_type_ids, **kwarg):\n",
    "        outputs = self.bge(\n",
    "            input_ids = input_ids,\n",
    "            attention_mask = attention_mask,\n",
    "            token_type_ids = token_type_ids,\n",
    "        ).last_hidden_state\n",
    "        logits = self.clf(outputs[:,0,:])\n",
    "        return logits"
   ]
  },
  {
   "cell_type": "code",
   "execution_count": null,
   "metadata": {},
   "outputs": [],
   "source": [
    "train_processor = BGEProcessor(data_dir,train_data_name)\n",
    "train_examples = train_processor.get_examples()[:45000]\n",
    "test_processor = BGEProcessor(data_dir,test_data_name)\n",
    "test_examples = test_processor.get_examples()[:5000]\n",
    "train_examples, dev_examples = train_test_split(train_examples, test_size=1/9, random_state=42)\n",
    "\n",
    "train_data = SingleTowerBGEDataset(model_name, cache_dir,train_examples)\n",
    "dev_data = SingleTowerBGEDataset(model_name, cache_dir,dev_examples)\n",
    "test_data = SingleTowerBGEDataset(model_name, cache_dir,test_examples)\n",
    "\n",
    "train_iter = DataLoader(dataset=train_data,\n",
    "                        batch_size = args.batch_size,\n",
    "                        collate_fn=build_bge_collate_fn(\n",
    "                              AutoTokenizer.from_pretrained(\n",
    "                                  model_name,\n",
    "                                  cache_dir = cache_dir)),\n",
    "                        shuffle=False)\n",
    "dev_iter = DataLoader(dataset=dev_data,\n",
    "                        batch_size = args.batch_size,\n",
    "                        collate_fn=build_bge_collate_fn(\n",
    "                              AutoTokenizer.from_pretrained(\n",
    "                                  model_name,\n",
    "                                  cache_dir = cache_dir)),\n",
    "                        shuffle=False)\n",
    "test_iter = DataLoader(dataset=test_data,\n",
    "                       batch_size=args.batch_size,\n",
    "                       collate_fn=build_bge_collate_fn(\n",
    "                              AutoTokenizer.from_pretrained(\n",
    "                                  model_name,\n",
    "                                  cache_dir = cache_dir)),\n",
    "                       shuffle=False)"
   ]
  },
  {
   "cell_type": "code",
   "execution_count": null,
   "metadata": {},
   "outputs": [
    {
     "name": "stdout",
     "output_type": "stream",
     "text": [
      "16000\n"
     ]
    },
    {
     "name": "stderr",
     "output_type": "stream",
     "text": [
      "16000it [00:05, 2688.04it/s]\n"
     ]
    },
    {
     "name": "stdout",
     "output_type": "stream",
     "text": [
      "2000\n"
     ]
    },
    {
     "name": "stderr",
     "output_type": "stream",
     "text": [
      "2000it [00:01, 1955.51it/s]\n"
     ]
    },
    {
     "name": "stdout",
     "output_type": "stream",
     "text": [
      "2000\n"
     ]
    },
    {
     "name": "stderr",
     "output_type": "stream",
     "text": [
      "2000it [00:00, 2373.35it/s]\n"
     ]
    }
   ],
   "source": [
    "train_data = SingleTowerBGEDataset(model_name, cache_dir,train_examples)\n",
    "dev_data = SingleTowerBGEDataset(model_name, cache_dir,dev_examples)\n",
    "test_data = SingleTowerBGEDataset(model_name, cache_dir,test_examples)"
   ]
  },
  {
   "cell_type": "code",
   "execution_count": null,
   "metadata": {},
   "outputs": [
    {
     "name": "stdout",
     "output_type": "stream",
     "text": [
      "train loss 0.238, train acc 0.913, valid loss 0.990, valid acc 0.679\n",
      "175.9 examples/sec on [device(type='cuda')]\n"
     ]
    },
    {
     "data": {
      "image/svg+xml": [
       "<?xml version=\"1.0\" encoding=\"utf-8\" standalone=\"no\"?>\n",
       "<!DOCTYPE svg PUBLIC \"-//W3C//DTD SVG 1.1//EN\"\n",
       "  \"http://www.w3.org/Graphics/SVG/1.1/DTD/svg11.dtd\">\n",
       "<svg xmlns:xlink=\"http://www.w3.org/1999/xlink\" width=\"435.854688pt\" height=\"321.95625pt\" viewBox=\"0 0 435.854688 321.95625\" xmlns=\"http://www.w3.org/2000/svg\" version=\"1.1\">\n",
       " <metadata>\n",
       "  <rdf:RDF xmlns:dc=\"http://purl.org/dc/elements/1.1/\" xmlns:cc=\"http://creativecommons.org/ns#\" xmlns:rdf=\"http://www.w3.org/1999/02/22-rdf-syntax-ns#\">\n",
       "   <cc:Work>\n",
       "    <dc:type rdf:resource=\"http://purl.org/dc/dcmitype/StillImage\"/>\n",
       "    <dc:date>2025-04-26T07:54:47.930962</dc:date>\n",
       "    <dc:format>image/svg+xml</dc:format>\n",
       "    <dc:creator>\n",
       "     <cc:Agent>\n",
       "      <dc:title>Matplotlib v3.10.0, https://matplotlib.org/</dc:title>\n",
       "     </cc:Agent>\n",
       "    </dc:creator>\n",
       "   </cc:Work>\n",
       "  </rdf:RDF>\n",
       " </metadata>\n",
       " <defs>\n",
       "  <style type=\"text/css\">*{stroke-linejoin: round; stroke-linecap: butt}</style>\n",
       " </defs>\n",
       " <g id=\"figure_1\">\n",
       "  <g id=\"patch_1\">\n",
       "   <path d=\"M 0 321.95625 \n",
       "L 435.854688 321.95625 \n",
       "L 435.854688 0 \n",
       "L 0 0 \n",
       "z\n",
       "\" style=\"fill: #ffffff\"/>\n",
       "  </g>\n",
       "  <g id=\"axes_1\">\n",
       "   <g id=\"patch_2\">\n",
       "    <path d=\"M 30.103125 284.4 \n",
       "L 420.703125 284.4 \n",
       "L 420.703125 7.2 \n",
       "L 30.103125 7.2 \n",
       "z\n",
       "\" style=\"fill: #ffffff\"/>\n",
       "   </g>\n",
       "   <g id=\"matplotlib.axis_1\">\n",
       "    <g id=\"xtick_1\">\n",
       "     <g id=\"line2d_1\">\n",
       "      <path d=\"M 30.103125 284.4 \n",
       "L 30.103125 7.2 \n",
       "\" clip-path=\"url(#p5fd9924327)\" style=\"fill: none; stroke: #b0b0b0; stroke-width: 0.8; stroke-linecap: square\"/>\n",
       "     </g>\n",
       "     <g id=\"line2d_2\">\n",
       "      <defs>\n",
       "       <path id=\"m14a0c43bb0\" d=\"M 0 0 \n",
       "L 0 3.5 \n",
       "\" style=\"stroke: #000000; stroke-width: 0.8\"/>\n",
       "      </defs>\n",
       "      <g>\n",
       "       <use xlink:href=\"#m14a0c43bb0\" x=\"30.103125\" y=\"284.4\" style=\"stroke: #000000; stroke-width: 0.8\"/>\n",
       "      </g>\n",
       "     </g>\n",
       "     <g id=\"text_1\">\n",
       "      <!-- 1.0 -->\n",
       "      <g transform=\"translate(22.151563 298.998438) scale(0.1 -0.1)\">\n",
       "       <defs>\n",
       "        <path id=\"DejaVuSans-31\" d=\"M 794 531 \n",
       "L 1825 531 \n",
       "L 1825 4091 \n",
       "L 703 3866 \n",
       "L 703 4441 \n",
       "L 1819 4666 \n",
       "L 2450 4666 \n",
       "L 2450 531 \n",
       "L 3481 531 \n",
       "L 3481 0 \n",
       "L 794 0 \n",
       "L 794 531 \n",
       "z\n",
       "\" transform=\"scale(0.015625)\"/>\n",
       "        <path id=\"DejaVuSans-2e\" d=\"M 684 794 \n",
       "L 1344 794 \n",
       "L 1344 0 \n",
       "L 684 0 \n",
       "L 684 794 \n",
       "z\n",
       "\" transform=\"scale(0.015625)\"/>\n",
       "        <path id=\"DejaVuSans-30\" d=\"M 2034 4250 \n",
       "Q 1547 4250 1301 3770 \n",
       "Q 1056 3291 1056 2328 \n",
       "Q 1056 1369 1301 889 \n",
       "Q 1547 409 2034 409 \n",
       "Q 2525 409 2770 889 \n",
       "Q 3016 1369 3016 2328 \n",
       "Q 3016 3291 2770 3770 \n",
       "Q 2525 4250 2034 4250 \n",
       "z\n",
       "M 2034 4750 \n",
       "Q 2819 4750 3233 4129 \n",
       "Q 3647 3509 3647 2328 \n",
       "Q 3647 1150 3233 529 \n",
       "Q 2819 -91 2034 -91 \n",
       "Q 1250 -91 836 529 \n",
       "Q 422 1150 422 2328 \n",
       "Q 422 3509 836 4129 \n",
       "Q 1250 4750 2034 4750 \n",
       "z\n",
       "\" transform=\"scale(0.015625)\"/>\n",
       "       </defs>\n",
       "       <use xlink:href=\"#DejaVuSans-31\"/>\n",
       "       <use xlink:href=\"#DejaVuSans-2e\" transform=\"translate(63.623047 0)\"/>\n",
       "       <use xlink:href=\"#DejaVuSans-30\" transform=\"translate(95.410156 0)\"/>\n",
       "      </g>\n",
       "     </g>\n",
       "    </g>\n",
       "    <g id=\"xtick_2\">\n",
       "     <g id=\"line2d_3\">\n",
       "      <path d=\"M 78.928125 284.4 \n",
       "L 78.928125 7.2 \n",
       "\" clip-path=\"url(#p5fd9924327)\" style=\"fill: none; stroke: #b0b0b0; stroke-width: 0.8; stroke-linecap: square\"/>\n",
       "     </g>\n",
       "     <g id=\"line2d_4\">\n",
       "      <g>\n",
       "       <use xlink:href=\"#m14a0c43bb0\" x=\"78.928125\" y=\"284.4\" style=\"stroke: #000000; stroke-width: 0.8\"/>\n",
       "      </g>\n",
       "     </g>\n",
       "     <g id=\"text_2\">\n",
       "      <!-- 1.5 -->\n",
       "      <g transform=\"translate(70.976563 298.998438) scale(0.1 -0.1)\">\n",
       "       <defs>\n",
       "        <path id=\"DejaVuSans-35\" d=\"M 691 4666 \n",
       "L 3169 4666 \n",
       "L 3169 4134 \n",
       "L 1269 4134 \n",
       "L 1269 2991 \n",
       "Q 1406 3038 1543 3061 \n",
       "Q 1681 3084 1819 3084 \n",
       "Q 2600 3084 3056 2656 \n",
       "Q 3513 2228 3513 1497 \n",
       "Q 3513 744 3044 326 \n",
       "Q 2575 -91 1722 -91 \n",
       "Q 1428 -91 1123 -41 \n",
       "Q 819 9 494 109 \n",
       "L 494 744 \n",
       "Q 775 591 1075 516 \n",
       "Q 1375 441 1709 441 \n",
       "Q 2250 441 2565 725 \n",
       "Q 2881 1009 2881 1497 \n",
       "Q 2881 1984 2565 2268 \n",
       "Q 2250 2553 1709 2553 \n",
       "Q 1456 2553 1204 2497 \n",
       "Q 953 2441 691 2322 \n",
       "L 691 4666 \n",
       "z\n",
       "\" transform=\"scale(0.015625)\"/>\n",
       "       </defs>\n",
       "       <use xlink:href=\"#DejaVuSans-31\"/>\n",
       "       <use xlink:href=\"#DejaVuSans-2e\" transform=\"translate(63.623047 0)\"/>\n",
       "       <use xlink:href=\"#DejaVuSans-35\" transform=\"translate(95.410156 0)\"/>\n",
       "      </g>\n",
       "     </g>\n",
       "    </g>\n",
       "    <g id=\"xtick_3\">\n",
       "     <g id=\"line2d_5\">\n",
       "      <path d=\"M 127.753125 284.4 \n",
       "L 127.753125 7.2 \n",
       "\" clip-path=\"url(#p5fd9924327)\" style=\"fill: none; stroke: #b0b0b0; stroke-width: 0.8; stroke-linecap: square\"/>\n",
       "     </g>\n",
       "     <g id=\"line2d_6\">\n",
       "      <g>\n",
       "       <use xlink:href=\"#m14a0c43bb0\" x=\"127.753125\" y=\"284.4\" style=\"stroke: #000000; stroke-width: 0.8\"/>\n",
       "      </g>\n",
       "     </g>\n",
       "     <g id=\"text_3\">\n",
       "      <!-- 2.0 -->\n",
       "      <g transform=\"translate(119.801563 298.998438) scale(0.1 -0.1)\">\n",
       "       <defs>\n",
       "        <path id=\"DejaVuSans-32\" d=\"M 1228 531 \n",
       "L 3431 531 \n",
       "L 3431 0 \n",
       "L 469 0 \n",
       "L 469 531 \n",
       "Q 828 903 1448 1529 \n",
       "Q 2069 2156 2228 2338 \n",
       "Q 2531 2678 2651 2914 \n",
       "Q 2772 3150 2772 3378 \n",
       "Q 2772 3750 2511 3984 \n",
       "Q 2250 4219 1831 4219 \n",
       "Q 1534 4219 1204 4116 \n",
       "Q 875 4013 500 3803 \n",
       "L 500 4441 \n",
       "Q 881 4594 1212 4672 \n",
       "Q 1544 4750 1819 4750 \n",
       "Q 2544 4750 2975 4387 \n",
       "Q 3406 4025 3406 3419 \n",
       "Q 3406 3131 3298 2873 \n",
       "Q 3191 2616 2906 2266 \n",
       "Q 2828 2175 2409 1742 \n",
       "Q 1991 1309 1228 531 \n",
       "z\n",
       "\" transform=\"scale(0.015625)\"/>\n",
       "       </defs>\n",
       "       <use xlink:href=\"#DejaVuSans-32\"/>\n",
       "       <use xlink:href=\"#DejaVuSans-2e\" transform=\"translate(63.623047 0)\"/>\n",
       "       <use xlink:href=\"#DejaVuSans-30\" transform=\"translate(95.410156 0)\"/>\n",
       "      </g>\n",
       "     </g>\n",
       "    </g>\n",
       "    <g id=\"xtick_4\">\n",
       "     <g id=\"line2d_7\">\n",
       "      <path d=\"M 176.578125 284.4 \n",
       "L 176.578125 7.2 \n",
       "\" clip-path=\"url(#p5fd9924327)\" style=\"fill: none; stroke: #b0b0b0; stroke-width: 0.8; stroke-linecap: square\"/>\n",
       "     </g>\n",
       "     <g id=\"line2d_8\">\n",
       "      <g>\n",
       "       <use xlink:href=\"#m14a0c43bb0\" x=\"176.578125\" y=\"284.4\" style=\"stroke: #000000; stroke-width: 0.8\"/>\n",
       "      </g>\n",
       "     </g>\n",
       "     <g id=\"text_4\">\n",
       "      <!-- 2.5 -->\n",
       "      <g transform=\"translate(168.626563 298.998438) scale(0.1 -0.1)\">\n",
       "       <use xlink:href=\"#DejaVuSans-32\"/>\n",
       "       <use xlink:href=\"#DejaVuSans-2e\" transform=\"translate(63.623047 0)\"/>\n",
       "       <use xlink:href=\"#DejaVuSans-35\" transform=\"translate(95.410156 0)\"/>\n",
       "      </g>\n",
       "     </g>\n",
       "    </g>\n",
       "    <g id=\"xtick_5\">\n",
       "     <g id=\"line2d_9\">\n",
       "      <path d=\"M 225.403125 284.4 \n",
       "L 225.403125 7.2 \n",
       "\" clip-path=\"url(#p5fd9924327)\" style=\"fill: none; stroke: #b0b0b0; stroke-width: 0.8; stroke-linecap: square\"/>\n",
       "     </g>\n",
       "     <g id=\"line2d_10\">\n",
       "      <g>\n",
       "       <use xlink:href=\"#m14a0c43bb0\" x=\"225.403125\" y=\"284.4\" style=\"stroke: #000000; stroke-width: 0.8\"/>\n",
       "      </g>\n",
       "     </g>\n",
       "     <g id=\"text_5\">\n",
       "      <!-- 3.0 -->\n",
       "      <g transform=\"translate(217.451563 298.998438) scale(0.1 -0.1)\">\n",
       "       <defs>\n",
       "        <path id=\"DejaVuSans-33\" d=\"M 2597 2516 \n",
       "Q 3050 2419 3304 2112 \n",
       "Q 3559 1806 3559 1356 \n",
       "Q 3559 666 3084 287 \n",
       "Q 2609 -91 1734 -91 \n",
       "Q 1441 -91 1130 -33 \n",
       "Q 819 25 488 141 \n",
       "L 488 750 \n",
       "Q 750 597 1062 519 \n",
       "Q 1375 441 1716 441 \n",
       "Q 2309 441 2620 675 \n",
       "Q 2931 909 2931 1356 \n",
       "Q 2931 1769 2642 2001 \n",
       "Q 2353 2234 1838 2234 \n",
       "L 1294 2234 \n",
       "L 1294 2753 \n",
       "L 1863 2753 \n",
       "Q 2328 2753 2575 2939 \n",
       "Q 2822 3125 2822 3475 \n",
       "Q 2822 3834 2567 4026 \n",
       "Q 2313 4219 1838 4219 \n",
       "Q 1578 4219 1281 4162 \n",
       "Q 984 4106 628 3988 \n",
       "L 628 4550 \n",
       "Q 988 4650 1302 4700 \n",
       "Q 1616 4750 1894 4750 \n",
       "Q 2613 4750 3031 4423 \n",
       "Q 3450 4097 3450 3541 \n",
       "Q 3450 3153 3228 2886 \n",
       "Q 3006 2619 2597 2516 \n",
       "z\n",
       "\" transform=\"scale(0.015625)\"/>\n",
       "       </defs>\n",
       "       <use xlink:href=\"#DejaVuSans-33\"/>\n",
       "       <use xlink:href=\"#DejaVuSans-2e\" transform=\"translate(63.623047 0)\"/>\n",
       "       <use xlink:href=\"#DejaVuSans-30\" transform=\"translate(95.410156 0)\"/>\n",
       "      </g>\n",
       "     </g>\n",
       "    </g>\n",
       "    <g id=\"xtick_6\">\n",
       "     <g id=\"line2d_11\">\n",
       "      <path d=\"M 274.228125 284.4 \n",
       "L 274.228125 7.2 \n",
       "\" clip-path=\"url(#p5fd9924327)\" style=\"fill: none; stroke: #b0b0b0; stroke-width: 0.8; stroke-linecap: square\"/>\n",
       "     </g>\n",
       "     <g id=\"line2d_12\">\n",
       "      <g>\n",
       "       <use xlink:href=\"#m14a0c43bb0\" x=\"274.228125\" y=\"284.4\" style=\"stroke: #000000; stroke-width: 0.8\"/>\n",
       "      </g>\n",
       "     </g>\n",
       "     <g id=\"text_6\">\n",
       "      <!-- 3.5 -->\n",
       "      <g transform=\"translate(266.276563 298.998438) scale(0.1 -0.1)\">\n",
       "       <use xlink:href=\"#DejaVuSans-33\"/>\n",
       "       <use xlink:href=\"#DejaVuSans-2e\" transform=\"translate(63.623047 0)\"/>\n",
       "       <use xlink:href=\"#DejaVuSans-35\" transform=\"translate(95.410156 0)\"/>\n",
       "      </g>\n",
       "     </g>\n",
       "    </g>\n",
       "    <g id=\"xtick_7\">\n",
       "     <g id=\"line2d_13\">\n",
       "      <path d=\"M 323.053125 284.4 \n",
       "L 323.053125 7.2 \n",
       "\" clip-path=\"url(#p5fd9924327)\" style=\"fill: none; stroke: #b0b0b0; stroke-width: 0.8; stroke-linecap: square\"/>\n",
       "     </g>\n",
       "     <g id=\"line2d_14\">\n",
       "      <g>\n",
       "       <use xlink:href=\"#m14a0c43bb0\" x=\"323.053125\" y=\"284.4\" style=\"stroke: #000000; stroke-width: 0.8\"/>\n",
       "      </g>\n",
       "     </g>\n",
       "     <g id=\"text_7\">\n",
       "      <!-- 4.0 -->\n",
       "      <g transform=\"translate(315.101562 298.998438) scale(0.1 -0.1)\">\n",
       "       <defs>\n",
       "        <path id=\"DejaVuSans-34\" d=\"M 2419 4116 \n",
       "L 825 1625 \n",
       "L 2419 1625 \n",
       "L 2419 4116 \n",
       "z\n",
       "M 2253 4666 \n",
       "L 3047 4666 \n",
       "L 3047 1625 \n",
       "L 3713 1625 \n",
       "L 3713 1100 \n",
       "L 3047 1100 \n",
       "L 3047 0 \n",
       "L 2419 0 \n",
       "L 2419 1100 \n",
       "L 313 1100 \n",
       "L 313 1709 \n",
       "L 2253 4666 \n",
       "z\n",
       "\" transform=\"scale(0.015625)\"/>\n",
       "       </defs>\n",
       "       <use xlink:href=\"#DejaVuSans-34\"/>\n",
       "       <use xlink:href=\"#DejaVuSans-2e\" transform=\"translate(63.623047 0)\"/>\n",
       "       <use xlink:href=\"#DejaVuSans-30\" transform=\"translate(95.410156 0)\"/>\n",
       "      </g>\n",
       "     </g>\n",
       "    </g>\n",
       "    <g id=\"xtick_8\">\n",
       "     <g id=\"line2d_15\">\n",
       "      <path d=\"M 371.878125 284.4 \n",
       "L 371.878125 7.2 \n",
       "\" clip-path=\"url(#p5fd9924327)\" style=\"fill: none; stroke: #b0b0b0; stroke-width: 0.8; stroke-linecap: square\"/>\n",
       "     </g>\n",
       "     <g id=\"line2d_16\">\n",
       "      <g>\n",
       "       <use xlink:href=\"#m14a0c43bb0\" x=\"371.878125\" y=\"284.4\" style=\"stroke: #000000; stroke-width: 0.8\"/>\n",
       "      </g>\n",
       "     </g>\n",
       "     <g id=\"text_8\">\n",
       "      <!-- 4.5 -->\n",
       "      <g transform=\"translate(363.926562 298.998438) scale(0.1 -0.1)\">\n",
       "       <use xlink:href=\"#DejaVuSans-34\"/>\n",
       "       <use xlink:href=\"#DejaVuSans-2e\" transform=\"translate(63.623047 0)\"/>\n",
       "       <use xlink:href=\"#DejaVuSans-35\" transform=\"translate(95.410156 0)\"/>\n",
       "      </g>\n",
       "     </g>\n",
       "    </g>\n",
       "    <g id=\"xtick_9\">\n",
       "     <g id=\"line2d_17\">\n",
       "      <path d=\"M 420.703125 284.4 \n",
       "L 420.703125 7.2 \n",
       "\" clip-path=\"url(#p5fd9924327)\" style=\"fill: none; stroke: #b0b0b0; stroke-width: 0.8; stroke-linecap: square\"/>\n",
       "     </g>\n",
       "     <g id=\"line2d_18\">\n",
       "      <g>\n",
       "       <use xlink:href=\"#m14a0c43bb0\" x=\"420.703125\" y=\"284.4\" style=\"stroke: #000000; stroke-width: 0.8\"/>\n",
       "      </g>\n",
       "     </g>\n",
       "     <g id=\"text_9\">\n",
       "      <!-- 5.0 -->\n",
       "      <g transform=\"translate(412.751562 298.998438) scale(0.1 -0.1)\">\n",
       "       <use xlink:href=\"#DejaVuSans-35\"/>\n",
       "       <use xlink:href=\"#DejaVuSans-2e\" transform=\"translate(63.623047 0)\"/>\n",
       "       <use xlink:href=\"#DejaVuSans-30\" transform=\"translate(95.410156 0)\"/>\n",
       "      </g>\n",
       "     </g>\n",
       "    </g>\n",
       "    <g id=\"text_10\">\n",
       "     <!-- epoch -->\n",
       "     <g transform=\"translate(210.175 312.676562) scale(0.1 -0.1)\">\n",
       "      <defs>\n",
       "       <path id=\"DejaVuSans-65\" d=\"M 3597 1894 \n",
       "L 3597 1613 \n",
       "L 953 1613 \n",
       "Q 991 1019 1311 708 \n",
       "Q 1631 397 2203 397 \n",
       "Q 2534 397 2845 478 \n",
       "Q 3156 559 3463 722 \n",
       "L 3463 178 \n",
       "Q 3153 47 2828 -22 \n",
       "Q 2503 -91 2169 -91 \n",
       "Q 1331 -91 842 396 \n",
       "Q 353 884 353 1716 \n",
       "Q 353 2575 817 3079 \n",
       "Q 1281 3584 2069 3584 \n",
       "Q 2775 3584 3186 3129 \n",
       "Q 3597 2675 3597 1894 \n",
       "z\n",
       "M 3022 2063 \n",
       "Q 3016 2534 2758 2815 \n",
       "Q 2500 3097 2075 3097 \n",
       "Q 1594 3097 1305 2825 \n",
       "Q 1016 2553 972 2059 \n",
       "L 3022 2063 \n",
       "z\n",
       "\" transform=\"scale(0.015625)\"/>\n",
       "       <path id=\"DejaVuSans-70\" d=\"M 1159 525 \n",
       "L 1159 -1331 \n",
       "L 581 -1331 \n",
       "L 581 3500 \n",
       "L 1159 3500 \n",
       "L 1159 2969 \n",
       "Q 1341 3281 1617 3432 \n",
       "Q 1894 3584 2278 3584 \n",
       "Q 2916 3584 3314 3078 \n",
       "Q 3713 2572 3713 1747 \n",
       "Q 3713 922 3314 415 \n",
       "Q 2916 -91 2278 -91 \n",
       "Q 1894 -91 1617 61 \n",
       "Q 1341 213 1159 525 \n",
       "z\n",
       "M 3116 1747 \n",
       "Q 3116 2381 2855 2742 \n",
       "Q 2594 3103 2138 3103 \n",
       "Q 1681 3103 1420 2742 \n",
       "Q 1159 2381 1159 1747 \n",
       "Q 1159 1113 1420 752 \n",
       "Q 1681 391 2138 391 \n",
       "Q 2594 391 2855 752 \n",
       "Q 3116 1113 3116 1747 \n",
       "z\n",
       "\" transform=\"scale(0.015625)\"/>\n",
       "       <path id=\"DejaVuSans-6f\" d=\"M 1959 3097 \n",
       "Q 1497 3097 1228 2736 \n",
       "Q 959 2375 959 1747 \n",
       "Q 959 1119 1226 758 \n",
       "Q 1494 397 1959 397 \n",
       "Q 2419 397 2687 759 \n",
       "Q 2956 1122 2956 1747 \n",
       "Q 2956 2369 2687 2733 \n",
       "Q 2419 3097 1959 3097 \n",
       "z\n",
       "M 1959 3584 \n",
       "Q 2709 3584 3137 3096 \n",
       "Q 3566 2609 3566 1747 \n",
       "Q 3566 888 3137 398 \n",
       "Q 2709 -91 1959 -91 \n",
       "Q 1206 -91 779 398 \n",
       "Q 353 888 353 1747 \n",
       "Q 353 2609 779 3096 \n",
       "Q 1206 3584 1959 3584 \n",
       "z\n",
       "\" transform=\"scale(0.015625)\"/>\n",
       "       <path id=\"DejaVuSans-63\" d=\"M 3122 3366 \n",
       "L 3122 2828 \n",
       "Q 2878 2963 2633 3030 \n",
       "Q 2388 3097 2138 3097 \n",
       "Q 1578 3097 1268 2742 \n",
       "Q 959 2388 959 1747 \n",
       "Q 959 1106 1268 751 \n",
       "Q 1578 397 2138 397 \n",
       "Q 2388 397 2633 464 \n",
       "Q 2878 531 3122 666 \n",
       "L 3122 134 \n",
       "Q 2881 22 2623 -34 \n",
       "Q 2366 -91 2075 -91 \n",
       "Q 1284 -91 818 406 \n",
       "Q 353 903 353 1747 \n",
       "Q 353 2603 823 3093 \n",
       "Q 1294 3584 2113 3584 \n",
       "Q 2378 3584 2631 3529 \n",
       "Q 2884 3475 3122 3366 \n",
       "z\n",
       "\" transform=\"scale(0.015625)\"/>\n",
       "       <path id=\"DejaVuSans-68\" d=\"M 3513 2113 \n",
       "L 3513 0 \n",
       "L 2938 0 \n",
       "L 2938 2094 \n",
       "Q 2938 2591 2744 2837 \n",
       "Q 2550 3084 2163 3084 \n",
       "Q 1697 3084 1428 2787 \n",
       "Q 1159 2491 1159 1978 \n",
       "L 1159 0 \n",
       "L 581 0 \n",
       "L 581 4863 \n",
       "L 1159 4863 \n",
       "L 1159 2956 \n",
       "Q 1366 3272 1645 3428 \n",
       "Q 1925 3584 2291 3584 \n",
       "Q 2894 3584 3203 3211 \n",
       "Q 3513 2838 3513 2113 \n",
       "z\n",
       "\" transform=\"scale(0.015625)\"/>\n",
       "      </defs>\n",
       "      <use xlink:href=\"#DejaVuSans-65\"/>\n",
       "      <use xlink:href=\"#DejaVuSans-70\" transform=\"translate(61.523438 0)\"/>\n",
       "      <use xlink:href=\"#DejaVuSans-6f\" transform=\"translate(125 0)\"/>\n",
       "      <use xlink:href=\"#DejaVuSans-63\" transform=\"translate(186.181641 0)\"/>\n",
       "      <use xlink:href=\"#DejaVuSans-68\" transform=\"translate(241.162109 0)\"/>\n",
       "     </g>\n",
       "    </g>\n",
       "   </g>\n",
       "   <g id=\"matplotlib.axis_2\">\n",
       "    <g id=\"ytick_1\">\n",
       "     <g id=\"line2d_19\">\n",
       "      <path d=\"M 30.103125 251.046671 \n",
       "L 420.703125 251.046671 \n",
       "\" clip-path=\"url(#p5fd9924327)\" style=\"fill: none; stroke: #b0b0b0; stroke-width: 0.8; stroke-linecap: square\"/>\n",
       "     </g>\n",
       "     <g id=\"line2d_20\">\n",
       "      <defs>\n",
       "       <path id=\"m4c4016ba45\" d=\"M 0 0 \n",
       "L -3.5 0 \n",
       "\" style=\"stroke: #000000; stroke-width: 0.8\"/>\n",
       "      </defs>\n",
       "      <g>\n",
       "       <use xlink:href=\"#m4c4016ba45\" x=\"30.103125\" y=\"251.046671\" style=\"stroke: #000000; stroke-width: 0.8\"/>\n",
       "      </g>\n",
       "     </g>\n",
       "     <g id=\"text_11\">\n",
       "      <!-- 0.3 -->\n",
       "      <g transform=\"translate(7.2 254.84589) scale(0.1 -0.1)\">\n",
       "       <use xlink:href=\"#DejaVuSans-30\"/>\n",
       "       <use xlink:href=\"#DejaVuSans-2e\" transform=\"translate(63.623047 0)\"/>\n",
       "       <use xlink:href=\"#DejaVuSans-33\" transform=\"translate(95.410156 0)\"/>\n",
       "      </g>\n",
       "     </g>\n",
       "    </g>\n",
       "    <g id=\"ytick_2\">\n",
       "     <g id=\"line2d_21\">\n",
       "      <path d=\"M 30.103125 217.54693 \n",
       "L 420.703125 217.54693 \n",
       "\" clip-path=\"url(#p5fd9924327)\" style=\"fill: none; stroke: #b0b0b0; stroke-width: 0.8; stroke-linecap: square\"/>\n",
       "     </g>\n",
       "     <g id=\"line2d_22\">\n",
       "      <g>\n",
       "       <use xlink:href=\"#m4c4016ba45\" x=\"30.103125\" y=\"217.54693\" style=\"stroke: #000000; stroke-width: 0.8\"/>\n",
       "      </g>\n",
       "     </g>\n",
       "     <g id=\"text_12\">\n",
       "      <!-- 0.4 -->\n",
       "      <g transform=\"translate(7.2 221.346148) scale(0.1 -0.1)\">\n",
       "       <use xlink:href=\"#DejaVuSans-30\"/>\n",
       "       <use xlink:href=\"#DejaVuSans-2e\" transform=\"translate(63.623047 0)\"/>\n",
       "       <use xlink:href=\"#DejaVuSans-34\" transform=\"translate(95.410156 0)\"/>\n",
       "      </g>\n",
       "     </g>\n",
       "    </g>\n",
       "    <g id=\"ytick_3\">\n",
       "     <g id=\"line2d_23\">\n",
       "      <path d=\"M 30.103125 184.047188 \n",
       "L 420.703125 184.047188 \n",
       "\" clip-path=\"url(#p5fd9924327)\" style=\"fill: none; stroke: #b0b0b0; stroke-width: 0.8; stroke-linecap: square\"/>\n",
       "     </g>\n",
       "     <g id=\"line2d_24\">\n",
       "      <g>\n",
       "       <use xlink:href=\"#m4c4016ba45\" x=\"30.103125\" y=\"184.047188\" style=\"stroke: #000000; stroke-width: 0.8\"/>\n",
       "      </g>\n",
       "     </g>\n",
       "     <g id=\"text_13\">\n",
       "      <!-- 0.5 -->\n",
       "      <g transform=\"translate(7.2 187.846407) scale(0.1 -0.1)\">\n",
       "       <use xlink:href=\"#DejaVuSans-30\"/>\n",
       "       <use xlink:href=\"#DejaVuSans-2e\" transform=\"translate(63.623047 0)\"/>\n",
       "       <use xlink:href=\"#DejaVuSans-35\" transform=\"translate(95.410156 0)\"/>\n",
       "      </g>\n",
       "     </g>\n",
       "    </g>\n",
       "    <g id=\"ytick_4\">\n",
       "     <g id=\"line2d_25\">\n",
       "      <path d=\"M 30.103125 150.547446 \n",
       "L 420.703125 150.547446 \n",
       "\" clip-path=\"url(#p5fd9924327)\" style=\"fill: none; stroke: #b0b0b0; stroke-width: 0.8; stroke-linecap: square\"/>\n",
       "     </g>\n",
       "     <g id=\"line2d_26\">\n",
       "      <g>\n",
       "       <use xlink:href=\"#m4c4016ba45\" x=\"30.103125\" y=\"150.547446\" style=\"stroke: #000000; stroke-width: 0.8\"/>\n",
       "      </g>\n",
       "     </g>\n",
       "     <g id=\"text_14\">\n",
       "      <!-- 0.6 -->\n",
       "      <g transform=\"translate(7.2 154.346665) scale(0.1 -0.1)\">\n",
       "       <defs>\n",
       "        <path id=\"DejaVuSans-36\" d=\"M 2113 2584 \n",
       "Q 1688 2584 1439 2293 \n",
       "Q 1191 2003 1191 1497 \n",
       "Q 1191 994 1439 701 \n",
       "Q 1688 409 2113 409 \n",
       "Q 2538 409 2786 701 \n",
       "Q 3034 994 3034 1497 \n",
       "Q 3034 2003 2786 2293 \n",
       "Q 2538 2584 2113 2584 \n",
       "z\n",
       "M 3366 4563 \n",
       "L 3366 3988 \n",
       "Q 3128 4100 2886 4159 \n",
       "Q 2644 4219 2406 4219 \n",
       "Q 1781 4219 1451 3797 \n",
       "Q 1122 3375 1075 2522 \n",
       "Q 1259 2794 1537 2939 \n",
       "Q 1816 3084 2150 3084 \n",
       "Q 2853 3084 3261 2657 \n",
       "Q 3669 2231 3669 1497 \n",
       "Q 3669 778 3244 343 \n",
       "Q 2819 -91 2113 -91 \n",
       "Q 1303 -91 875 529 \n",
       "Q 447 1150 447 2328 \n",
       "Q 447 3434 972 4092 \n",
       "Q 1497 4750 2381 4750 \n",
       "Q 2619 4750 2861 4703 \n",
       "Q 3103 4656 3366 4563 \n",
       "z\n",
       "\" transform=\"scale(0.015625)\"/>\n",
       "       </defs>\n",
       "       <use xlink:href=\"#DejaVuSans-30\"/>\n",
       "       <use xlink:href=\"#DejaVuSans-2e\" transform=\"translate(63.623047 0)\"/>\n",
       "       <use xlink:href=\"#DejaVuSans-36\" transform=\"translate(95.410156 0)\"/>\n",
       "      </g>\n",
       "     </g>\n",
       "    </g>\n",
       "    <g id=\"ytick_5\">\n",
       "     <g id=\"line2d_27\">\n",
       "      <path d=\"M 30.103125 117.047705 \n",
       "L 420.703125 117.047705 \n",
       "\" clip-path=\"url(#p5fd9924327)\" style=\"fill: none; stroke: #b0b0b0; stroke-width: 0.8; stroke-linecap: square\"/>\n",
       "     </g>\n",
       "     <g id=\"line2d_28\">\n",
       "      <g>\n",
       "       <use xlink:href=\"#m4c4016ba45\" x=\"30.103125\" y=\"117.047705\" style=\"stroke: #000000; stroke-width: 0.8\"/>\n",
       "      </g>\n",
       "     </g>\n",
       "     <g id=\"text_15\">\n",
       "      <!-- 0.7 -->\n",
       "      <g transform=\"translate(7.2 120.846924) scale(0.1 -0.1)\">\n",
       "       <defs>\n",
       "        <path id=\"DejaVuSans-37\" d=\"M 525 4666 \n",
       "L 3525 4666 \n",
       "L 3525 4397 \n",
       "L 1831 0 \n",
       "L 1172 0 \n",
       "L 2766 4134 \n",
       "L 525 4134 \n",
       "L 525 4666 \n",
       "z\n",
       "\" transform=\"scale(0.015625)\"/>\n",
       "       </defs>\n",
       "       <use xlink:href=\"#DejaVuSans-30\"/>\n",
       "       <use xlink:href=\"#DejaVuSans-2e\" transform=\"translate(63.623047 0)\"/>\n",
       "       <use xlink:href=\"#DejaVuSans-37\" transform=\"translate(95.410156 0)\"/>\n",
       "      </g>\n",
       "     </g>\n",
       "    </g>\n",
       "    <g id=\"ytick_6\">\n",
       "     <g id=\"line2d_29\">\n",
       "      <path d=\"M 30.103125 83.547963 \n",
       "L 420.703125 83.547963 \n",
       "\" clip-path=\"url(#p5fd9924327)\" style=\"fill: none; stroke: #b0b0b0; stroke-width: 0.8; stroke-linecap: square\"/>\n",
       "     </g>\n",
       "     <g id=\"line2d_30\">\n",
       "      <g>\n",
       "       <use xlink:href=\"#m4c4016ba45\" x=\"30.103125\" y=\"83.547963\" style=\"stroke: #000000; stroke-width: 0.8\"/>\n",
       "      </g>\n",
       "     </g>\n",
       "     <g id=\"text_16\">\n",
       "      <!-- 0.8 -->\n",
       "      <g transform=\"translate(7.2 87.347182) scale(0.1 -0.1)\">\n",
       "       <defs>\n",
       "        <path id=\"DejaVuSans-38\" d=\"M 2034 2216 \n",
       "Q 1584 2216 1326 1975 \n",
       "Q 1069 1734 1069 1313 \n",
       "Q 1069 891 1326 650 \n",
       "Q 1584 409 2034 409 \n",
       "Q 2484 409 2743 651 \n",
       "Q 3003 894 3003 1313 \n",
       "Q 3003 1734 2745 1975 \n",
       "Q 2488 2216 2034 2216 \n",
       "z\n",
       "M 1403 2484 \n",
       "Q 997 2584 770 2862 \n",
       "Q 544 3141 544 3541 \n",
       "Q 544 4100 942 4425 \n",
       "Q 1341 4750 2034 4750 \n",
       "Q 2731 4750 3128 4425 \n",
       "Q 3525 4100 3525 3541 \n",
       "Q 3525 3141 3298 2862 \n",
       "Q 3072 2584 2669 2484 \n",
       "Q 3125 2378 3379 2068 \n",
       "Q 3634 1759 3634 1313 \n",
       "Q 3634 634 3220 271 \n",
       "Q 2806 -91 2034 -91 \n",
       "Q 1263 -91 848 271 \n",
       "Q 434 634 434 1313 \n",
       "Q 434 1759 690 2068 \n",
       "Q 947 2378 1403 2484 \n",
       "z\n",
       "M 1172 3481 \n",
       "Q 1172 3119 1398 2916 \n",
       "Q 1625 2713 2034 2713 \n",
       "Q 2441 2713 2670 2916 \n",
       "Q 2900 3119 2900 3481 \n",
       "Q 2900 3844 2670 4047 \n",
       "Q 2441 4250 2034 4250 \n",
       "Q 1625 4250 1398 4047 \n",
       "Q 1172 3844 1172 3481 \n",
       "z\n",
       "\" transform=\"scale(0.015625)\"/>\n",
       "       </defs>\n",
       "       <use xlink:href=\"#DejaVuSans-30\"/>\n",
       "       <use xlink:href=\"#DejaVuSans-2e\" transform=\"translate(63.623047 0)\"/>\n",
       "       <use xlink:href=\"#DejaVuSans-38\" transform=\"translate(95.410156 0)\"/>\n",
       "      </g>\n",
       "     </g>\n",
       "    </g>\n",
       "    <g id=\"ytick_7\">\n",
       "     <g id=\"line2d_31\">\n",
       "      <path d=\"M 30.103125 50.048222 \n",
       "L 420.703125 50.048222 \n",
       "\" clip-path=\"url(#p5fd9924327)\" style=\"fill: none; stroke: #b0b0b0; stroke-width: 0.8; stroke-linecap: square\"/>\n",
       "     </g>\n",
       "     <g id=\"line2d_32\">\n",
       "      <g>\n",
       "       <use xlink:href=\"#m4c4016ba45\" x=\"30.103125\" y=\"50.048222\" style=\"stroke: #000000; stroke-width: 0.8\"/>\n",
       "      </g>\n",
       "     </g>\n",
       "     <g id=\"text_17\">\n",
       "      <!-- 0.9 -->\n",
       "      <g transform=\"translate(7.2 53.84744) scale(0.1 -0.1)\">\n",
       "       <defs>\n",
       "        <path id=\"DejaVuSans-39\" d=\"M 703 97 \n",
       "L 703 672 \n",
       "Q 941 559 1184 500 \n",
       "Q 1428 441 1663 441 \n",
       "Q 2288 441 2617 861 \n",
       "Q 2947 1281 2994 2138 \n",
       "Q 2813 1869 2534 1725 \n",
       "Q 2256 1581 1919 1581 \n",
       "Q 1219 1581 811 2004 \n",
       "Q 403 2428 403 3163 \n",
       "Q 403 3881 828 4315 \n",
       "Q 1253 4750 1959 4750 \n",
       "Q 2769 4750 3195 4129 \n",
       "Q 3622 3509 3622 2328 \n",
       "Q 3622 1225 3098 567 \n",
       "Q 2575 -91 1691 -91 \n",
       "Q 1453 -91 1209 -44 \n",
       "Q 966 3 703 97 \n",
       "z\n",
       "M 1959 2075 \n",
       "Q 2384 2075 2632 2365 \n",
       "Q 2881 2656 2881 3163 \n",
       "Q 2881 3666 2632 3958 \n",
       "Q 2384 4250 1959 4250 \n",
       "Q 1534 4250 1286 3958 \n",
       "Q 1038 3666 1038 3163 \n",
       "Q 1038 2656 1286 2365 \n",
       "Q 1534 2075 1959 2075 \n",
       "z\n",
       "\" transform=\"scale(0.015625)\"/>\n",
       "       </defs>\n",
       "       <use xlink:href=\"#DejaVuSans-30\"/>\n",
       "       <use xlink:href=\"#DejaVuSans-2e\" transform=\"translate(63.623047 0)\"/>\n",
       "       <use xlink:href=\"#DejaVuSans-39\" transform=\"translate(95.410156 0)\"/>\n",
       "      </g>\n",
       "     </g>\n",
       "    </g>\n",
       "    <g id=\"ytick_8\">\n",
       "     <g id=\"line2d_33\">\n",
       "      <path d=\"M 30.103125 16.54848 \n",
       "L 420.703125 16.54848 \n",
       "\" clip-path=\"url(#p5fd9924327)\" style=\"fill: none; stroke: #b0b0b0; stroke-width: 0.8; stroke-linecap: square\"/>\n",
       "     </g>\n",
       "     <g id=\"line2d_34\">\n",
       "      <g>\n",
       "       <use xlink:href=\"#m4c4016ba45\" x=\"30.103125\" y=\"16.54848\" style=\"stroke: #000000; stroke-width: 0.8\"/>\n",
       "      </g>\n",
       "     </g>\n",
       "     <g id=\"text_18\">\n",
       "      <!-- 1.0 -->\n",
       "      <g transform=\"translate(7.2 20.347699) scale(0.1 -0.1)\">\n",
       "       <use xlink:href=\"#DejaVuSans-31\"/>\n",
       "       <use xlink:href=\"#DejaVuSans-2e\" transform=\"translate(63.623047 0)\"/>\n",
       "       <use xlink:href=\"#DejaVuSans-30\" transform=\"translate(95.410156 0)\"/>\n",
       "      </g>\n",
       "     </g>\n",
       "    </g>\n",
       "   </g>\n",
       "   <g id=\"line2d_35\">\n",
       "    <path d=\"M -1 86.666756 \n",
       "L 10.573125 91.51803 \n",
       "L 30.103125 96.649176 \n",
       "L 49.633125 122.711187 \n",
       "L 69.163125 135.026604 \n",
       "L 88.693125 141.890957 \n",
       "L 108.223125 147.47729 \n",
       "L 127.753125 150.376404 \n",
       "L 147.283125 165.224063 \n",
       "L 166.813125 182.351369 \n",
       "L 186.343125 191.238502 \n",
       "L 205.873125 197.491108 \n",
       "L 225.403125 201.481447 \n",
       "L 244.933125 214.438531 \n",
       "L 264.463125 230.999085 \n",
       "L 283.993125 239.159909 \n",
       "L 303.523125 243.65065 \n",
       "L 323.053125 246.014772 \n",
       "L 342.583125 252.692574 \n",
       "L 362.113125 263.616104 \n",
       "L 381.643125 268.876255 \n",
       "L 401.173125 271.580845 \n",
       "L 420.703125 271.8 \n",
       "\" clip-path=\"url(#p5fd9924327)\" style=\"fill: none; stroke: #1f77b4; stroke-width: 1.5; stroke-linecap: square\"/>\n",
       "   </g>\n",
       "   <g id=\"line2d_36\">\n",
       "    <path d=\"M -1 135.577072 \n",
       "L 10.573125 132.886801 \n",
       "L 30.103125 130.640225 \n",
       "L 49.633125 116.042713 \n",
       "L 69.163125 109.887135 \n",
       "L 88.693125 106.579036 \n",
       "L 108.223125 104.10843 \n",
       "L 127.753125 103.43006 \n",
       "L 147.283125 95.565996 \n",
       "L 166.813125 87.211997 \n",
       "L 186.343125 82.529013 \n",
       "L 205.873125 79.5594 \n",
       "L 225.403125 77.819507 \n",
       "L 244.933125 71.906803 \n",
       "L 264.463125 63.448118 \n",
       "L 283.993125 59.749188 \n",
       "L 303.523125 58.035816 \n",
       "L 323.053125 57.032918 \n",
       "L 342.583125 55.450055 \n",
       "L 362.113125 50.006347 \n",
       "L 381.643125 47.521783 \n",
       "L 401.173125 46.195751 \n",
       "L 420.703125 45.844004 \n",
       "\" clip-path=\"url(#p5fd9924327)\" style=\"fill: none; stroke-dasharray: 5.55,2.4; stroke-dashoffset: 0; stroke: #bf00bf; stroke-width: 1.5\"/>\n",
       "   </g>\n",
       "   <g id=\"line2d_37\">\n",
       "    <path d=\"M 30.103125 123.29103 \n",
       "L 127.753125 107.402533 \n",
       "L 225.403125 70.217615 \n",
       "L 323.053125 37.50893 \n",
       "L 420.703125 19.8 \n",
       "\" clip-path=\"url(#p5fd9924327)\" style=\"fill: none; stroke-dasharray: 9.6,2.4,1.5,2.4; stroke-dashoffset: 0; stroke: #008000; stroke-width: 1.5\"/>\n",
       "   </g>\n",
       "   <g id=\"line2d_38\">\n",
       "    <path d=\"M 30.103125 114.769722 \n",
       "L 127.753125 117.382702 \n",
       "L 225.403125 119.794684 \n",
       "L 323.053125 127.231626 \n",
       "L 420.703125 124.082651 \n",
       "\" clip-path=\"url(#p5fd9924327)\" style=\"fill: none; stroke-dasharray: 1.5,2.475; stroke-dashoffset: 0; stroke: #ff0000; stroke-width: 1.5\"/>\n",
       "   </g>\n",
       "   <g id=\"patch_3\">\n",
       "    <path d=\"M 30.103125 284.4 \n",
       "L 30.103125 7.2 \n",
       "\" style=\"fill: none; stroke: #000000; stroke-width: 0.8; stroke-linejoin: miter; stroke-linecap: square\"/>\n",
       "   </g>\n",
       "   <g id=\"patch_4\">\n",
       "    <path d=\"M 420.703125 284.4 \n",
       "L 420.703125 7.2 \n",
       "\" style=\"fill: none; stroke: #000000; stroke-width: 0.8; stroke-linejoin: miter; stroke-linecap: square\"/>\n",
       "   </g>\n",
       "   <g id=\"patch_5\">\n",
       "    <path d=\"M 30.103125 284.4 \n",
       "L 420.703125 284.4 \n",
       "\" style=\"fill: none; stroke: #000000; stroke-width: 0.8; stroke-linejoin: miter; stroke-linecap: square\"/>\n",
       "   </g>\n",
       "   <g id=\"patch_6\">\n",
       "    <path d=\"M 30.103125 7.2 \n",
       "L 420.703125 7.2 \n",
       "\" style=\"fill: none; stroke: #000000; stroke-width: 0.8; stroke-linejoin: miter; stroke-linecap: square\"/>\n",
       "   </g>\n",
       "   <g id=\"legend_1\">\n",
       "    <g id=\"patch_7\">\n",
       "     <path d=\"M 37.103125 73.9125 \n",
       "L 115.548438 73.9125 \n",
       "Q 117.548438 73.9125 117.548438 71.9125 \n",
       "L 117.548438 14.2 \n",
       "Q 117.548438 12.2 115.548438 12.2 \n",
       "L 37.103125 12.2 \n",
       "Q 35.103125 12.2 35.103125 14.2 \n",
       "L 35.103125 71.9125 \n",
       "Q 35.103125 73.9125 37.103125 73.9125 \n",
       "z\n",
       "\" style=\"fill: #ffffff; opacity: 0.8; stroke: #cccccc; stroke-linejoin: miter\"/>\n",
       "    </g>\n",
       "    <g id=\"line2d_39\">\n",
       "     <path d=\"M 39.103125 20.298437 \n",
       "L 49.103125 20.298437 \n",
       "L 59.103125 20.298437 \n",
       "\" style=\"fill: none; stroke: #1f77b4; stroke-width: 1.5; stroke-linecap: square\"/>\n",
       "    </g>\n",
       "    <g id=\"text_19\">\n",
       "     <!-- train loss -->\n",
       "     <g transform=\"translate(67.103125 23.798437) scale(0.1 -0.1)\">\n",
       "      <defs>\n",
       "       <path id=\"DejaVuSans-74\" d=\"M 1172 4494 \n",
       "L 1172 3500 \n",
       "L 2356 3500 \n",
       "L 2356 3053 \n",
       "L 1172 3053 \n",
       "L 1172 1153 \n",
       "Q 1172 725 1289 603 \n",
       "Q 1406 481 1766 481 \n",
       "L 2356 481 \n",
       "L 2356 0 \n",
       "L 1766 0 \n",
       "Q 1100 0 847 248 \n",
       "Q 594 497 594 1153 \n",
       "L 594 3053 \n",
       "L 172 3053 \n",
       "L 172 3500 \n",
       "L 594 3500 \n",
       "L 594 4494 \n",
       "L 1172 4494 \n",
       "z\n",
       "\" transform=\"scale(0.015625)\"/>\n",
       "       <path id=\"DejaVuSans-72\" d=\"M 2631 2963 \n",
       "Q 2534 3019 2420 3045 \n",
       "Q 2306 3072 2169 3072 \n",
       "Q 1681 3072 1420 2755 \n",
       "Q 1159 2438 1159 1844 \n",
       "L 1159 0 \n",
       "L 581 0 \n",
       "L 581 3500 \n",
       "L 1159 3500 \n",
       "L 1159 2956 \n",
       "Q 1341 3275 1631 3429 \n",
       "Q 1922 3584 2338 3584 \n",
       "Q 2397 3584 2469 3576 \n",
       "Q 2541 3569 2628 3553 \n",
       "L 2631 2963 \n",
       "z\n",
       "\" transform=\"scale(0.015625)\"/>\n",
       "       <path id=\"DejaVuSans-61\" d=\"M 2194 1759 \n",
       "Q 1497 1759 1228 1600 \n",
       "Q 959 1441 959 1056 \n",
       "Q 959 750 1161 570 \n",
       "Q 1363 391 1709 391 \n",
       "Q 2188 391 2477 730 \n",
       "Q 2766 1069 2766 1631 \n",
       "L 2766 1759 \n",
       "L 2194 1759 \n",
       "z\n",
       "M 3341 1997 \n",
       "L 3341 0 \n",
       "L 2766 0 \n",
       "L 2766 531 \n",
       "Q 2569 213 2275 61 \n",
       "Q 1981 -91 1556 -91 \n",
       "Q 1019 -91 701 211 \n",
       "Q 384 513 384 1019 \n",
       "Q 384 1609 779 1909 \n",
       "Q 1175 2209 1959 2209 \n",
       "L 2766 2209 \n",
       "L 2766 2266 \n",
       "Q 2766 2663 2505 2880 \n",
       "Q 2244 3097 1772 3097 \n",
       "Q 1472 3097 1187 3025 \n",
       "Q 903 2953 641 2809 \n",
       "L 641 3341 \n",
       "Q 956 3463 1253 3523 \n",
       "Q 1550 3584 1831 3584 \n",
       "Q 2591 3584 2966 3190 \n",
       "Q 3341 2797 3341 1997 \n",
       "z\n",
       "\" transform=\"scale(0.015625)\"/>\n",
       "       <path id=\"DejaVuSans-69\" d=\"M 603 3500 \n",
       "L 1178 3500 \n",
       "L 1178 0 \n",
       "L 603 0 \n",
       "L 603 3500 \n",
       "z\n",
       "M 603 4863 \n",
       "L 1178 4863 \n",
       "L 1178 4134 \n",
       "L 603 4134 \n",
       "L 603 4863 \n",
       "z\n",
       "\" transform=\"scale(0.015625)\"/>\n",
       "       <path id=\"DejaVuSans-6e\" d=\"M 3513 2113 \n",
       "L 3513 0 \n",
       "L 2938 0 \n",
       "L 2938 2094 \n",
       "Q 2938 2591 2744 2837 \n",
       "Q 2550 3084 2163 3084 \n",
       "Q 1697 3084 1428 2787 \n",
       "Q 1159 2491 1159 1978 \n",
       "L 1159 0 \n",
       "L 581 0 \n",
       "L 581 3500 \n",
       "L 1159 3500 \n",
       "L 1159 2956 \n",
       "Q 1366 3272 1645 3428 \n",
       "Q 1925 3584 2291 3584 \n",
       "Q 2894 3584 3203 3211 \n",
       "Q 3513 2838 3513 2113 \n",
       "z\n",
       "\" transform=\"scale(0.015625)\"/>\n",
       "       <path id=\"DejaVuSans-20\" transform=\"scale(0.015625)\"/>\n",
       "       <path id=\"DejaVuSans-6c\" d=\"M 603 4863 \n",
       "L 1178 4863 \n",
       "L 1178 0 \n",
       "L 603 0 \n",
       "L 603 4863 \n",
       "z\n",
       "\" transform=\"scale(0.015625)\"/>\n",
       "       <path id=\"DejaVuSans-73\" d=\"M 2834 3397 \n",
       "L 2834 2853 \n",
       "Q 2591 2978 2328 3040 \n",
       "Q 2066 3103 1784 3103 \n",
       "Q 1356 3103 1142 2972 \n",
       "Q 928 2841 928 2578 \n",
       "Q 928 2378 1081 2264 \n",
       "Q 1234 2150 1697 2047 \n",
       "L 1894 2003 \n",
       "Q 2506 1872 2764 1633 \n",
       "Q 3022 1394 3022 966 \n",
       "Q 3022 478 2636 193 \n",
       "Q 2250 -91 1575 -91 \n",
       "Q 1294 -91 989 -36 \n",
       "Q 684 19 347 128 \n",
       "L 347 722 \n",
       "Q 666 556 975 473 \n",
       "Q 1284 391 1588 391 \n",
       "Q 1994 391 2212 530 \n",
       "Q 2431 669 2431 922 \n",
       "Q 2431 1156 2273 1281 \n",
       "Q 2116 1406 1581 1522 \n",
       "L 1381 1569 \n",
       "Q 847 1681 609 1914 \n",
       "Q 372 2147 372 2553 \n",
       "Q 372 3047 722 3315 \n",
       "Q 1072 3584 1716 3584 \n",
       "Q 2034 3584 2315 3537 \n",
       "Q 2597 3491 2834 3397 \n",
       "z\n",
       "\" transform=\"scale(0.015625)\"/>\n",
       "      </defs>\n",
       "      <use xlink:href=\"#DejaVuSans-74\"/>\n",
       "      <use xlink:href=\"#DejaVuSans-72\" transform=\"translate(39.208984 0)\"/>\n",
       "      <use xlink:href=\"#DejaVuSans-61\" transform=\"translate(80.322266 0)\"/>\n",
       "      <use xlink:href=\"#DejaVuSans-69\" transform=\"translate(141.601562 0)\"/>\n",
       "      <use xlink:href=\"#DejaVuSans-6e\" transform=\"translate(169.384766 0)\"/>\n",
       "      <use xlink:href=\"#DejaVuSans-20\" transform=\"translate(232.763672 0)\"/>\n",
       "      <use xlink:href=\"#DejaVuSans-6c\" transform=\"translate(264.550781 0)\"/>\n",
       "      <use xlink:href=\"#DejaVuSans-6f\" transform=\"translate(292.333984 0)\"/>\n",
       "      <use xlink:href=\"#DejaVuSans-73\" transform=\"translate(353.515625 0)\"/>\n",
       "      <use xlink:href=\"#DejaVuSans-73\" transform=\"translate(405.615234 0)\"/>\n",
       "     </g>\n",
       "    </g>\n",
       "    <g id=\"line2d_40\">\n",
       "     <path d=\"M 39.103125 34.976562 \n",
       "L 49.103125 34.976562 \n",
       "L 59.103125 34.976562 \n",
       "\" style=\"fill: none; stroke-dasharray: 5.55,2.4; stroke-dashoffset: 0; stroke: #bf00bf; stroke-width: 1.5\"/>\n",
       "    </g>\n",
       "    <g id=\"text_20\">\n",
       "     <!-- train acc -->\n",
       "     <g transform=\"translate(67.103125 38.476562) scale(0.1 -0.1)\">\n",
       "      <use xlink:href=\"#DejaVuSans-74\"/>\n",
       "      <use xlink:href=\"#DejaVuSans-72\" transform=\"translate(39.208984 0)\"/>\n",
       "      <use xlink:href=\"#DejaVuSans-61\" transform=\"translate(80.322266 0)\"/>\n",
       "      <use xlink:href=\"#DejaVuSans-69\" transform=\"translate(141.601562 0)\"/>\n",
       "      <use xlink:href=\"#DejaVuSans-6e\" transform=\"translate(169.384766 0)\"/>\n",
       "      <use xlink:href=\"#DejaVuSans-20\" transform=\"translate(232.763672 0)\"/>\n",
       "      <use xlink:href=\"#DejaVuSans-61\" transform=\"translate(264.550781 0)\"/>\n",
       "      <use xlink:href=\"#DejaVuSans-63\" transform=\"translate(325.830078 0)\"/>\n",
       "      <use xlink:href=\"#DejaVuSans-63\" transform=\"translate(380.810547 0)\"/>\n",
       "     </g>\n",
       "    </g>\n",
       "    <g id=\"line2d_41\">\n",
       "     <path d=\"M 39.103125 49.654687 \n",
       "L 49.103125 49.654687 \n",
       "L 59.103125 49.654687 \n",
       "\" style=\"fill: none; stroke-dasharray: 9.6,2.4,1.5,2.4; stroke-dashoffset: 0; stroke: #008000; stroke-width: 1.5\"/>\n",
       "    </g>\n",
       "    <g id=\"text_21\">\n",
       "     <!-- valid loss -->\n",
       "     <g transform=\"translate(67.103125 53.154687) scale(0.1 -0.1)\">\n",
       "      <defs>\n",
       "       <path id=\"DejaVuSans-76\" d=\"M 191 3500 \n",
       "L 800 3500 \n",
       "L 1894 563 \n",
       "L 2988 3500 \n",
       "L 3597 3500 \n",
       "L 2284 0 \n",
       "L 1503 0 \n",
       "L 191 3500 \n",
       "z\n",
       "\" transform=\"scale(0.015625)\"/>\n",
       "       <path id=\"DejaVuSans-64\" d=\"M 2906 2969 \n",
       "L 2906 4863 \n",
       "L 3481 4863 \n",
       "L 3481 0 \n",
       "L 2906 0 \n",
       "L 2906 525 \n",
       "Q 2725 213 2448 61 \n",
       "Q 2172 -91 1784 -91 \n",
       "Q 1150 -91 751 415 \n",
       "Q 353 922 353 1747 \n",
       "Q 353 2572 751 3078 \n",
       "Q 1150 3584 1784 3584 \n",
       "Q 2172 3584 2448 3432 \n",
       "Q 2725 3281 2906 2969 \n",
       "z\n",
       "M 947 1747 \n",
       "Q 947 1113 1208 752 \n",
       "Q 1469 391 1925 391 \n",
       "Q 2381 391 2643 752 \n",
       "Q 2906 1113 2906 1747 \n",
       "Q 2906 2381 2643 2742 \n",
       "Q 2381 3103 1925 3103 \n",
       "Q 1469 3103 1208 2742 \n",
       "Q 947 2381 947 1747 \n",
       "z\n",
       "\" transform=\"scale(0.015625)\"/>\n",
       "      </defs>\n",
       "      <use xlink:href=\"#DejaVuSans-76\"/>\n",
       "      <use xlink:href=\"#DejaVuSans-61\" transform=\"translate(59.179688 0)\"/>\n",
       "      <use xlink:href=\"#DejaVuSans-6c\" transform=\"translate(120.458984 0)\"/>\n",
       "      <use xlink:href=\"#DejaVuSans-69\" transform=\"translate(148.242188 0)\"/>\n",
       "      <use xlink:href=\"#DejaVuSans-64\" transform=\"translate(176.025391 0)\"/>\n",
       "      <use xlink:href=\"#DejaVuSans-20\" transform=\"translate(239.501953 0)\"/>\n",
       "      <use xlink:href=\"#DejaVuSans-6c\" transform=\"translate(271.289062 0)\"/>\n",
       "      <use xlink:href=\"#DejaVuSans-6f\" transform=\"translate(299.072266 0)\"/>\n",
       "      <use xlink:href=\"#DejaVuSans-73\" transform=\"translate(360.253906 0)\"/>\n",
       "      <use xlink:href=\"#DejaVuSans-73\" transform=\"translate(412.353516 0)\"/>\n",
       "     </g>\n",
       "    </g>\n",
       "    <g id=\"line2d_42\">\n",
       "     <path d=\"M 39.103125 64.332812 \n",
       "L 49.103125 64.332812 \n",
       "L 59.103125 64.332812 \n",
       "\" style=\"fill: none; stroke-dasharray: 1.5,2.475; stroke-dashoffset: 0; stroke: #ff0000; stroke-width: 1.5\"/>\n",
       "    </g>\n",
       "    <g id=\"text_22\">\n",
       "     <!-- valid acc -->\n",
       "     <g transform=\"translate(67.103125 67.832812) scale(0.1 -0.1)\">\n",
       "      <use xlink:href=\"#DejaVuSans-76\"/>\n",
       "      <use xlink:href=\"#DejaVuSans-61\" transform=\"translate(59.179688 0)\"/>\n",
       "      <use xlink:href=\"#DejaVuSans-6c\" transform=\"translate(120.458984 0)\"/>\n",
       "      <use xlink:href=\"#DejaVuSans-69\" transform=\"translate(148.242188 0)\"/>\n",
       "      <use xlink:href=\"#DejaVuSans-64\" transform=\"translate(176.025391 0)\"/>\n",
       "      <use xlink:href=\"#DejaVuSans-20\" transform=\"translate(239.501953 0)\"/>\n",
       "      <use xlink:href=\"#DejaVuSans-61\" transform=\"translate(271.289062 0)\"/>\n",
       "      <use xlink:href=\"#DejaVuSans-63\" transform=\"translate(332.568359 0)\"/>\n",
       "      <use xlink:href=\"#DejaVuSans-63\" transform=\"translate(387.548828 0)\"/>\n",
       "     </g>\n",
       "    </g>\n",
       "   </g>\n",
       "  </g>\n",
       " </g>\n",
       " <defs>\n",
       "  <clipPath id=\"p5fd9924327\">\n",
       "   <rect x=\"30.103125\" y=\"7.2\" width=\"390.6\" height=\"277.2\"/>\n",
       "  </clipPath>\n",
       " </defs>\n",
       "</svg>\n"
      ],
      "text/plain": [
       "<Figure size 700x500 with 1 Axes>"
      ]
     },
     "metadata": {},
     "output_type": "display_data"
    }
   ],
   "source": [
    "net = SingleTowerBGE(model_name,cache_dir,args.num_class).to(devices[0])\n",
    "train_transformer(net,\n",
    "                  train_iter,\n",
    "                  dev_iter,\n",
    "                  args.num_epochs,\n",
    "                  args.optimizer,\n",
    "                  args.lr,\n",
    "                  args.weight_decay,\n",
    "                  args.num_warmup_steps,\n",
    "                  devices,\n",
    "                  task_name)"
   ]
  },
  {
   "cell_type": "code",
   "execution_count": null,
   "metadata": {},
   "outputs": [
    {
     "name": "stderr",
     "output_type": "stream",
     "text": [
      "0it [00:00, ?it/s]You're using a BertTokenizerFast tokenizer. Please note that with a fast tokenizer, using the `__call__` method is faster than using a method to encode the text followed by a call to the `pad` method to get a padded encoding.\n",
      "79it [00:09,  7.93it/s]\n"
     ]
    },
    {
     "name": "stdout",
     "output_type": "stream",
     "text": [
      "test on final epoch -- acc: 67.60, f1-macro: 59.46\n",
      "test on /content/drive/MyDrive/CS5242/ckpt/SingleTowerBGE-epoch0-val_acc0.71.pt -- acc: 70.20, f1-macro: 55.78\n"
     ]
    }
   ],
   "source": [
    "test(net,test_iter,None,device = devices[0])\n",
    "test_on_checkpoint(net, args.pt_path, test_iter, None, device=devices[0])"
   ]
  },
  {
   "cell_type": "markdown",
   "metadata": {},
   "source": [
    "### 5.10 <a name='5.8'></a> Dual Tower Relevance Modeling with BGE\n",
    "[Back to Table of Contents](#top)\n",
    "\n",
    "<div style=\"display: flex; justify-content: center;\">\n",
    "  <img src=\"img/dual_tower_bge.jpg\" alt=\"dual_tower_bge\" width=\"500\"/>\n",
    "</div>\n",
    "\n",
    "Dual Tower Relevance Modeling with BGE refers to a design where the query and document are processed separately through two independent encoders, typically based on transformer architectures. Each encoder generates a dense embedding for its respective input (query or document). The relevance score is then computed based on the similarity (e.g., dot product or cosine similarity) between the two embeddings.\n",
    "\n",
    "Compared to single-tower models, the dual-tower approach enables much faster inference because query and document embeddings can be pre-computed and stored for efficient retrieval. Although dual-tower models might sacrifice some fine-grained interaction between the query and document, they are highly scalable and particularly effective for large-scale retrieval tasks."
   ]
  },
  {
   "cell_type": "code",
   "execution_count": null,
   "metadata": {},
   "outputs": [
    {
     "name": "stdout",
     "output_type": "stream",
     "text": [
      "Total Parameters: 23,953,920, Trainable: 23,953,920\n",
      "BertModel(\n",
      "  (embeddings): BertEmbeddings(\n",
      "    (word_embeddings): Embedding(21128, 512, padding_idx=0)\n",
      "    (position_embeddings): Embedding(512, 512)\n",
      "    (token_type_embeddings): Embedding(2, 512)\n",
      "    (LayerNorm): LayerNorm((512,), eps=1e-12, elementwise_affine=True)\n",
      "    (dropout): Dropout(p=0.1, inplace=False)\n",
      "  )\n",
      "  (encoder): BertEncoder(\n",
      "    (layer): ModuleList(\n",
      "      (0-3): 4 x BertLayer(\n",
      "        (attention): BertAttention(\n",
      "          (self): BertSdpaSelfAttention(\n",
      "            (query): Linear(in_features=512, out_features=512, bias=True)\n",
      "            (key): Linear(in_features=512, out_features=512, bias=True)\n",
      "            (value): Linear(in_features=512, out_features=512, bias=True)\n",
      "            (dropout): Dropout(p=0.1, inplace=False)\n",
      "          )\n",
      "          (output): BertSelfOutput(\n",
      "            (dense): Linear(in_features=512, out_features=512, bias=True)\n",
      "            (LayerNorm): LayerNorm((512,), eps=1e-12, elementwise_affine=True)\n",
      "            (dropout): Dropout(p=0.1, inplace=False)\n",
      "          )\n",
      "        )\n",
      "        (intermediate): BertIntermediate(\n",
      "          (dense): Linear(in_features=512, out_features=2048, bias=True)\n",
      "          (intermediate_act_fn): GELUActivation()\n",
      "        )\n",
      "        (output): BertOutput(\n",
      "          (dense): Linear(in_features=2048, out_features=512, bias=True)\n",
      "          (LayerNorm): LayerNorm((512,), eps=1e-12, elementwise_affine=True)\n",
      "          (dropout): Dropout(p=0.1, inplace=False)\n",
      "        )\n",
      "      )\n",
      "    )\n",
      "  )\n",
      "  (pooler): BertPooler(\n",
      "    (dense): Linear(in_features=512, out_features=512, bias=True)\n",
      "    (activation): Tanh()\n",
      "  )\n",
      ")\n"
     ]
    }
   ],
   "source": [
    "data_dir = \"/content/drive/MyDrive/CS5242/\"\n",
    "model_name = \"BAAI/bge-small-zh-v1.5\" ; cache_dir = \"/content/drive/MyDrive/CS5242/bge-small-zh-v1.5\"\n",
    "test_data_name = \"test_public.json\" ; train_data_name = \"train.json\"\n",
    "args = Args()\n",
    "args.lr = 3e-5\n",
    "args.num_epochs=5\n",
    "args.batch_size=64\n",
    "args.monitor = 'accuracy'\n",
    "devices = [torch.device(\"cuda\" if torch.cuda.is_available() else \"cpu\")]\n",
    "task_name = \"DualTowerBGE\"\n",
    "download_model(model_name,cache_dir)"
   ]
  },
  {
   "cell_type": "code",
   "execution_count": null,
   "metadata": {},
   "outputs": [
    {
     "name": "stderr",
     "output_type": "stream",
     "text": [
      "Converting data: 100%|██████████| 40000/40000 [00:16<00:00, 2410.45it/s]\n",
      "Converting data: 100%|██████████| 5000/5000 [00:02<00:00, 1892.07it/s]\n",
      "Converting data: 100%|██████████| 5000/5000 [00:02<00:00, 2494.71it/s]\n"
     ]
    }
   ],
   "source": [
    "train_processor = BGEProcessor(data_dir,train_data_name)\n",
    "train_examples = train_processor.get_examples()[:45000]\n",
    "test_processor = BGEProcessor(data_dir,test_data_name)\n",
    "test_examples = test_processor.get_examples()[:5000]\n",
    "train_examples, dev_examples = train_test_split(train_examples, test_size=1/9, random_state=42)\n",
    "\n",
    "train_data = DualTowerBGEDataset(model_name, cache_dir,train_examples)\n",
    "dev_data = DualTowerBGEDataset(model_name, cache_dir,dev_examples)\n",
    "test_data = DualTowerBGEDataset(model_name, cache_dir,test_examples)\n",
    "\n",
    "train_iter = DataLoader(dataset=train_data,\n",
    "                        batch_size = args.batch_size,\n",
    "                        collate_fn = build_dual_bge_collate_fn(\n",
    "                                        AutoTokenizer.from_pretrained(\n",
    "                                        model_name,\n",
    "                                        cache_dir = cache_dir)),\n",
    "                        shuffle=False)\n",
    "dev_iter = DataLoader(dataset=dev_data,\n",
    "                        batch_size = args.batch_size,\n",
    "                        collate_fn = build_dual_bge_collate_fn(\n",
    "                                        AutoTokenizer.from_pretrained(\n",
    "                                        model_name,\n",
    "                                        cache_dir = cache_dir)),\n",
    "                        shuffle=False)\n",
    "test_iter = DataLoader(dataset=test_data,\n",
    "                       batch_size=args.batch_size,\n",
    "                       collate_fn = build_dual_bge_collate_fn(\n",
    "                                        AutoTokenizer.from_pretrained(\n",
    "                                        model_name,\n",
    "                                        cache_dir = cache_dir)),\n",
    "                       shuffle=False)"
   ]
  },
  {
   "cell_type": "code",
   "execution_count": null,
   "metadata": {},
   "outputs": [],
   "source": [
    "class DualTowerBGE(nn.Module):\n",
    "    \"\"\" Dual Tower Transformer Encoder \"\"\"\n",
    "    def __init__(self, model_name, cache_dir, output_dim):\n",
    "        super().__init__()\n",
    "        self.model_name = model_name\n",
    "        self.cache_dir = cache_dir\n",
    "        self.query_encoder = AutoModel.from_pretrained(self.model_name, cache_dir=self.cache_dir)\n",
    "        self.doc_encoder = AutoModel.from_pretrained(self.model_name, cache_dir=self.cache_dir)\n",
    "        self.d_model = self.query_encoder.config.hidden_size\n",
    "        self.clf = nn.Sequential(\n",
    "            nn.Linear(self.d_model * 2, self.d_model),\n",
    "            nn.ReLU(),\n",
    "            nn.Dropout(p=0.1),\n",
    "            nn.Linear(self.d_model, output_dim),\n",
    "        )\n",
    "\n",
    "    def forward(self, query_input_ids,\n",
    "                      query_attention_mask,\n",
    "                      query_token_type_ids,\n",
    "                      doc_input_ids,\n",
    "                      doc_attention_mask,\n",
    "                      doc_token_type_ids,\n",
    "                      **kwargs):\n",
    "        '''\n",
    "        query_inputs: dict, doc_inputs: dict\n",
    "        Including input_ids, attention_mask, token_type_ids\n",
    "        '''\n",
    "        query_inputs = {\"input_ids\":query_input_ids,\n",
    "                        \"attention_mask\":query_attention_mask,\n",
    "                        \"token_type_ids\":query_token_type_ids}\n",
    "        doc_inputs   = {\"input_ids\":doc_input_ids,\n",
    "                        \"attention_mask\":doc_attention_mask,\n",
    "                        \"token_type_ids\":doc_token_type_ids}\n",
    "        query_output = self.query_encoder(**query_inputs).last_hidden_state[:, 0, :]  # [CLS]\n",
    "        doc_output = self.doc_encoder(**doc_inputs).last_hidden_state[:, 0, :]        # [CLS]\n",
    "        concat = torch.cat([query_output, doc_output], dim=-1)  # [batch, 2*d_model]\n",
    "        logits = self.clf(concat)\n",
    "        return logits"
   ]
  },
  {
   "cell_type": "code",
   "execution_count": null,
   "metadata": {},
   "outputs": [
    {
     "name": "stdout",
     "output_type": "stream",
     "text": [
      "train loss 0.499, train acc 0.796, valid loss 0.864, valid acc 0.663\n",
      "814.2 examples/sec on [device(type='cuda')]\n"
     ]
    },
    {
     "data": {
      "image/svg+xml": [
       "<?xml version=\"1.0\" encoding=\"utf-8\" standalone=\"no\"?>\n",
       "<!DOCTYPE svg PUBLIC \"-//W3C//DTD SVG 1.1//EN\"\n",
       "  \"http://www.w3.org/Graphics/SVG/1.1/DTD/svg11.dtd\">\n",
       "<svg xmlns:xlink=\"http://www.w3.org/1999/xlink\" width=\"435.854688pt\" height=\"321.95625pt\" viewBox=\"0 0 435.854688 321.95625\" xmlns=\"http://www.w3.org/2000/svg\" version=\"1.1\">\n",
       " <metadata>\n",
       "  <rdf:RDF xmlns:dc=\"http://purl.org/dc/elements/1.1/\" xmlns:cc=\"http://creativecommons.org/ns#\" xmlns:rdf=\"http://www.w3.org/1999/02/22-rdf-syntax-ns#\">\n",
       "   <cc:Work>\n",
       "    <dc:type rdf:resource=\"http://purl.org/dc/dcmitype/StillImage\"/>\n",
       "    <dc:date>2025-04-26T08:01:50.336303</dc:date>\n",
       "    <dc:format>image/svg+xml</dc:format>\n",
       "    <dc:creator>\n",
       "     <cc:Agent>\n",
       "      <dc:title>Matplotlib v3.10.0, https://matplotlib.org/</dc:title>\n",
       "     </cc:Agent>\n",
       "    </dc:creator>\n",
       "   </cc:Work>\n",
       "  </rdf:RDF>\n",
       " </metadata>\n",
       " <defs>\n",
       "  <style type=\"text/css\">*{stroke-linejoin: round; stroke-linecap: butt}</style>\n",
       " </defs>\n",
       " <g id=\"figure_1\">\n",
       "  <g id=\"patch_1\">\n",
       "   <path d=\"M 0 321.95625 \n",
       "L 435.854688 321.95625 \n",
       "L 435.854688 0 \n",
       "L 0 0 \n",
       "z\n",
       "\" style=\"fill: #ffffff\"/>\n",
       "  </g>\n",
       "  <g id=\"axes_1\">\n",
       "   <g id=\"patch_2\">\n",
       "    <path d=\"M 30.103125 284.4 \n",
       "L 420.703125 284.4 \n",
       "L 420.703125 7.2 \n",
       "L 30.103125 7.2 \n",
       "z\n",
       "\" style=\"fill: #ffffff\"/>\n",
       "   </g>\n",
       "   <g id=\"matplotlib.axis_1\">\n",
       "    <g id=\"xtick_1\">\n",
       "     <g id=\"line2d_1\">\n",
       "      <path d=\"M 30.103125 284.4 \n",
       "L 30.103125 7.2 \n",
       "\" clip-path=\"url(#p3f05c9dc2f)\" style=\"fill: none; stroke: #b0b0b0; stroke-width: 0.8; stroke-linecap: square\"/>\n",
       "     </g>\n",
       "     <g id=\"line2d_2\">\n",
       "      <defs>\n",
       "       <path id=\"mb444dfbb9b\" d=\"M 0 0 \n",
       "L 0 3.5 \n",
       "\" style=\"stroke: #000000; stroke-width: 0.8\"/>\n",
       "      </defs>\n",
       "      <g>\n",
       "       <use xlink:href=\"#mb444dfbb9b\" x=\"30.103125\" y=\"284.4\" style=\"stroke: #000000; stroke-width: 0.8\"/>\n",
       "      </g>\n",
       "     </g>\n",
       "     <g id=\"text_1\">\n",
       "      <!-- 1.0 -->\n",
       "      <g transform=\"translate(22.151563 298.998438) scale(0.1 -0.1)\">\n",
       "       <defs>\n",
       "        <path id=\"DejaVuSans-31\" d=\"M 794 531 \n",
       "L 1825 531 \n",
       "L 1825 4091 \n",
       "L 703 3866 \n",
       "L 703 4441 \n",
       "L 1819 4666 \n",
       "L 2450 4666 \n",
       "L 2450 531 \n",
       "L 3481 531 \n",
       "L 3481 0 \n",
       "L 794 0 \n",
       "L 794 531 \n",
       "z\n",
       "\" transform=\"scale(0.015625)\"/>\n",
       "        <path id=\"DejaVuSans-2e\" d=\"M 684 794 \n",
       "L 1344 794 \n",
       "L 1344 0 \n",
       "L 684 0 \n",
       "L 684 794 \n",
       "z\n",
       "\" transform=\"scale(0.015625)\"/>\n",
       "        <path id=\"DejaVuSans-30\" d=\"M 2034 4250 \n",
       "Q 1547 4250 1301 3770 \n",
       "Q 1056 3291 1056 2328 \n",
       "Q 1056 1369 1301 889 \n",
       "Q 1547 409 2034 409 \n",
       "Q 2525 409 2770 889 \n",
       "Q 3016 1369 3016 2328 \n",
       "Q 3016 3291 2770 3770 \n",
       "Q 2525 4250 2034 4250 \n",
       "z\n",
       "M 2034 4750 \n",
       "Q 2819 4750 3233 4129 \n",
       "Q 3647 3509 3647 2328 \n",
       "Q 3647 1150 3233 529 \n",
       "Q 2819 -91 2034 -91 \n",
       "Q 1250 -91 836 529 \n",
       "Q 422 1150 422 2328 \n",
       "Q 422 3509 836 4129 \n",
       "Q 1250 4750 2034 4750 \n",
       "z\n",
       "\" transform=\"scale(0.015625)\"/>\n",
       "       </defs>\n",
       "       <use xlink:href=\"#DejaVuSans-31\"/>\n",
       "       <use xlink:href=\"#DejaVuSans-2e\" transform=\"translate(63.623047 0)\"/>\n",
       "       <use xlink:href=\"#DejaVuSans-30\" transform=\"translate(95.410156 0)\"/>\n",
       "      </g>\n",
       "     </g>\n",
       "    </g>\n",
       "    <g id=\"xtick_2\">\n",
       "     <g id=\"line2d_3\">\n",
       "      <path d=\"M 78.928125 284.4 \n",
       "L 78.928125 7.2 \n",
       "\" clip-path=\"url(#p3f05c9dc2f)\" style=\"fill: none; stroke: #b0b0b0; stroke-width: 0.8; stroke-linecap: square\"/>\n",
       "     </g>\n",
       "     <g id=\"line2d_4\">\n",
       "      <g>\n",
       "       <use xlink:href=\"#mb444dfbb9b\" x=\"78.928125\" y=\"284.4\" style=\"stroke: #000000; stroke-width: 0.8\"/>\n",
       "      </g>\n",
       "     </g>\n",
       "     <g id=\"text_2\">\n",
       "      <!-- 1.5 -->\n",
       "      <g transform=\"translate(70.976563 298.998438) scale(0.1 -0.1)\">\n",
       "       <defs>\n",
       "        <path id=\"DejaVuSans-35\" d=\"M 691 4666 \n",
       "L 3169 4666 \n",
       "L 3169 4134 \n",
       "L 1269 4134 \n",
       "L 1269 2991 \n",
       "Q 1406 3038 1543 3061 \n",
       "Q 1681 3084 1819 3084 \n",
       "Q 2600 3084 3056 2656 \n",
       "Q 3513 2228 3513 1497 \n",
       "Q 3513 744 3044 326 \n",
       "Q 2575 -91 1722 -91 \n",
       "Q 1428 -91 1123 -41 \n",
       "Q 819 9 494 109 \n",
       "L 494 744 \n",
       "Q 775 591 1075 516 \n",
       "Q 1375 441 1709 441 \n",
       "Q 2250 441 2565 725 \n",
       "Q 2881 1009 2881 1497 \n",
       "Q 2881 1984 2565 2268 \n",
       "Q 2250 2553 1709 2553 \n",
       "Q 1456 2553 1204 2497 \n",
       "Q 953 2441 691 2322 \n",
       "L 691 4666 \n",
       "z\n",
       "\" transform=\"scale(0.015625)\"/>\n",
       "       </defs>\n",
       "       <use xlink:href=\"#DejaVuSans-31\"/>\n",
       "       <use xlink:href=\"#DejaVuSans-2e\" transform=\"translate(63.623047 0)\"/>\n",
       "       <use xlink:href=\"#DejaVuSans-35\" transform=\"translate(95.410156 0)\"/>\n",
       "      </g>\n",
       "     </g>\n",
       "    </g>\n",
       "    <g id=\"xtick_3\">\n",
       "     <g id=\"line2d_5\">\n",
       "      <path d=\"M 127.753125 284.4 \n",
       "L 127.753125 7.2 \n",
       "\" clip-path=\"url(#p3f05c9dc2f)\" style=\"fill: none; stroke: #b0b0b0; stroke-width: 0.8; stroke-linecap: square\"/>\n",
       "     </g>\n",
       "     <g id=\"line2d_6\">\n",
       "      <g>\n",
       "       <use xlink:href=\"#mb444dfbb9b\" x=\"127.753125\" y=\"284.4\" style=\"stroke: #000000; stroke-width: 0.8\"/>\n",
       "      </g>\n",
       "     </g>\n",
       "     <g id=\"text_3\">\n",
       "      <!-- 2.0 -->\n",
       "      <g transform=\"translate(119.801563 298.998438) scale(0.1 -0.1)\">\n",
       "       <defs>\n",
       "        <path id=\"DejaVuSans-32\" d=\"M 1228 531 \n",
       "L 3431 531 \n",
       "L 3431 0 \n",
       "L 469 0 \n",
       "L 469 531 \n",
       "Q 828 903 1448 1529 \n",
       "Q 2069 2156 2228 2338 \n",
       "Q 2531 2678 2651 2914 \n",
       "Q 2772 3150 2772 3378 \n",
       "Q 2772 3750 2511 3984 \n",
       "Q 2250 4219 1831 4219 \n",
       "Q 1534 4219 1204 4116 \n",
       "Q 875 4013 500 3803 \n",
       "L 500 4441 \n",
       "Q 881 4594 1212 4672 \n",
       "Q 1544 4750 1819 4750 \n",
       "Q 2544 4750 2975 4387 \n",
       "Q 3406 4025 3406 3419 \n",
       "Q 3406 3131 3298 2873 \n",
       "Q 3191 2616 2906 2266 \n",
       "Q 2828 2175 2409 1742 \n",
       "Q 1991 1309 1228 531 \n",
       "z\n",
       "\" transform=\"scale(0.015625)\"/>\n",
       "       </defs>\n",
       "       <use xlink:href=\"#DejaVuSans-32\"/>\n",
       "       <use xlink:href=\"#DejaVuSans-2e\" transform=\"translate(63.623047 0)\"/>\n",
       "       <use xlink:href=\"#DejaVuSans-30\" transform=\"translate(95.410156 0)\"/>\n",
       "      </g>\n",
       "     </g>\n",
       "    </g>\n",
       "    <g id=\"xtick_4\">\n",
       "     <g id=\"line2d_7\">\n",
       "      <path d=\"M 176.578125 284.4 \n",
       "L 176.578125 7.2 \n",
       "\" clip-path=\"url(#p3f05c9dc2f)\" style=\"fill: none; stroke: #b0b0b0; stroke-width: 0.8; stroke-linecap: square\"/>\n",
       "     </g>\n",
       "     <g id=\"line2d_8\">\n",
       "      <g>\n",
       "       <use xlink:href=\"#mb444dfbb9b\" x=\"176.578125\" y=\"284.4\" style=\"stroke: #000000; stroke-width: 0.8\"/>\n",
       "      </g>\n",
       "     </g>\n",
       "     <g id=\"text_4\">\n",
       "      <!-- 2.5 -->\n",
       "      <g transform=\"translate(168.626563 298.998438) scale(0.1 -0.1)\">\n",
       "       <use xlink:href=\"#DejaVuSans-32\"/>\n",
       "       <use xlink:href=\"#DejaVuSans-2e\" transform=\"translate(63.623047 0)\"/>\n",
       "       <use xlink:href=\"#DejaVuSans-35\" transform=\"translate(95.410156 0)\"/>\n",
       "      </g>\n",
       "     </g>\n",
       "    </g>\n",
       "    <g id=\"xtick_5\">\n",
       "     <g id=\"line2d_9\">\n",
       "      <path d=\"M 225.403125 284.4 \n",
       "L 225.403125 7.2 \n",
       "\" clip-path=\"url(#p3f05c9dc2f)\" style=\"fill: none; stroke: #b0b0b0; stroke-width: 0.8; stroke-linecap: square\"/>\n",
       "     </g>\n",
       "     <g id=\"line2d_10\">\n",
       "      <g>\n",
       "       <use xlink:href=\"#mb444dfbb9b\" x=\"225.403125\" y=\"284.4\" style=\"stroke: #000000; stroke-width: 0.8\"/>\n",
       "      </g>\n",
       "     </g>\n",
       "     <g id=\"text_5\">\n",
       "      <!-- 3.0 -->\n",
       "      <g transform=\"translate(217.451563 298.998438) scale(0.1 -0.1)\">\n",
       "       <defs>\n",
       "        <path id=\"DejaVuSans-33\" d=\"M 2597 2516 \n",
       "Q 3050 2419 3304 2112 \n",
       "Q 3559 1806 3559 1356 \n",
       "Q 3559 666 3084 287 \n",
       "Q 2609 -91 1734 -91 \n",
       "Q 1441 -91 1130 -33 \n",
       "Q 819 25 488 141 \n",
       "L 488 750 \n",
       "Q 750 597 1062 519 \n",
       "Q 1375 441 1716 441 \n",
       "Q 2309 441 2620 675 \n",
       "Q 2931 909 2931 1356 \n",
       "Q 2931 1769 2642 2001 \n",
       "Q 2353 2234 1838 2234 \n",
       "L 1294 2234 \n",
       "L 1294 2753 \n",
       "L 1863 2753 \n",
       "Q 2328 2753 2575 2939 \n",
       "Q 2822 3125 2822 3475 \n",
       "Q 2822 3834 2567 4026 \n",
       "Q 2313 4219 1838 4219 \n",
       "Q 1578 4219 1281 4162 \n",
       "Q 984 4106 628 3988 \n",
       "L 628 4550 \n",
       "Q 988 4650 1302 4700 \n",
       "Q 1616 4750 1894 4750 \n",
       "Q 2613 4750 3031 4423 \n",
       "Q 3450 4097 3450 3541 \n",
       "Q 3450 3153 3228 2886 \n",
       "Q 3006 2619 2597 2516 \n",
       "z\n",
       "\" transform=\"scale(0.015625)\"/>\n",
       "       </defs>\n",
       "       <use xlink:href=\"#DejaVuSans-33\"/>\n",
       "       <use xlink:href=\"#DejaVuSans-2e\" transform=\"translate(63.623047 0)\"/>\n",
       "       <use xlink:href=\"#DejaVuSans-30\" transform=\"translate(95.410156 0)\"/>\n",
       "      </g>\n",
       "     </g>\n",
       "    </g>\n",
       "    <g id=\"xtick_6\">\n",
       "     <g id=\"line2d_11\">\n",
       "      <path d=\"M 274.228125 284.4 \n",
       "L 274.228125 7.2 \n",
       "\" clip-path=\"url(#p3f05c9dc2f)\" style=\"fill: none; stroke: #b0b0b0; stroke-width: 0.8; stroke-linecap: square\"/>\n",
       "     </g>\n",
       "     <g id=\"line2d_12\">\n",
       "      <g>\n",
       "       <use xlink:href=\"#mb444dfbb9b\" x=\"274.228125\" y=\"284.4\" style=\"stroke: #000000; stroke-width: 0.8\"/>\n",
       "      </g>\n",
       "     </g>\n",
       "     <g id=\"text_6\">\n",
       "      <!-- 3.5 -->\n",
       "      <g transform=\"translate(266.276563 298.998438) scale(0.1 -0.1)\">\n",
       "       <use xlink:href=\"#DejaVuSans-33\"/>\n",
       "       <use xlink:href=\"#DejaVuSans-2e\" transform=\"translate(63.623047 0)\"/>\n",
       "       <use xlink:href=\"#DejaVuSans-35\" transform=\"translate(95.410156 0)\"/>\n",
       "      </g>\n",
       "     </g>\n",
       "    </g>\n",
       "    <g id=\"xtick_7\">\n",
       "     <g id=\"line2d_13\">\n",
       "      <path d=\"M 323.053125 284.4 \n",
       "L 323.053125 7.2 \n",
       "\" clip-path=\"url(#p3f05c9dc2f)\" style=\"fill: none; stroke: #b0b0b0; stroke-width: 0.8; stroke-linecap: square\"/>\n",
       "     </g>\n",
       "     <g id=\"line2d_14\">\n",
       "      <g>\n",
       "       <use xlink:href=\"#mb444dfbb9b\" x=\"323.053125\" y=\"284.4\" style=\"stroke: #000000; stroke-width: 0.8\"/>\n",
       "      </g>\n",
       "     </g>\n",
       "     <g id=\"text_7\">\n",
       "      <!-- 4.0 -->\n",
       "      <g transform=\"translate(315.101562 298.998438) scale(0.1 -0.1)\">\n",
       "       <defs>\n",
       "        <path id=\"DejaVuSans-34\" d=\"M 2419 4116 \n",
       "L 825 1625 \n",
       "L 2419 1625 \n",
       "L 2419 4116 \n",
       "z\n",
       "M 2253 4666 \n",
       "L 3047 4666 \n",
       "L 3047 1625 \n",
       "L 3713 1625 \n",
       "L 3713 1100 \n",
       "L 3047 1100 \n",
       "L 3047 0 \n",
       "L 2419 0 \n",
       "L 2419 1100 \n",
       "L 313 1100 \n",
       "L 313 1709 \n",
       "L 2253 4666 \n",
       "z\n",
       "\" transform=\"scale(0.015625)\"/>\n",
       "       </defs>\n",
       "       <use xlink:href=\"#DejaVuSans-34\"/>\n",
       "       <use xlink:href=\"#DejaVuSans-2e\" transform=\"translate(63.623047 0)\"/>\n",
       "       <use xlink:href=\"#DejaVuSans-30\" transform=\"translate(95.410156 0)\"/>\n",
       "      </g>\n",
       "     </g>\n",
       "    </g>\n",
       "    <g id=\"xtick_8\">\n",
       "     <g id=\"line2d_15\">\n",
       "      <path d=\"M 371.878125 284.4 \n",
       "L 371.878125 7.2 \n",
       "\" clip-path=\"url(#p3f05c9dc2f)\" style=\"fill: none; stroke: #b0b0b0; stroke-width: 0.8; stroke-linecap: square\"/>\n",
       "     </g>\n",
       "     <g id=\"line2d_16\">\n",
       "      <g>\n",
       "       <use xlink:href=\"#mb444dfbb9b\" x=\"371.878125\" y=\"284.4\" style=\"stroke: #000000; stroke-width: 0.8\"/>\n",
       "      </g>\n",
       "     </g>\n",
       "     <g id=\"text_8\">\n",
       "      <!-- 4.5 -->\n",
       "      <g transform=\"translate(363.926562 298.998438) scale(0.1 -0.1)\">\n",
       "       <use xlink:href=\"#DejaVuSans-34\"/>\n",
       "       <use xlink:href=\"#DejaVuSans-2e\" transform=\"translate(63.623047 0)\"/>\n",
       "       <use xlink:href=\"#DejaVuSans-35\" transform=\"translate(95.410156 0)\"/>\n",
       "      </g>\n",
       "     </g>\n",
       "    </g>\n",
       "    <g id=\"xtick_9\">\n",
       "     <g id=\"line2d_17\">\n",
       "      <path d=\"M 420.703125 284.4 \n",
       "L 420.703125 7.2 \n",
       "\" clip-path=\"url(#p3f05c9dc2f)\" style=\"fill: none; stroke: #b0b0b0; stroke-width: 0.8; stroke-linecap: square\"/>\n",
       "     </g>\n",
       "     <g id=\"line2d_18\">\n",
       "      <g>\n",
       "       <use xlink:href=\"#mb444dfbb9b\" x=\"420.703125\" y=\"284.4\" style=\"stroke: #000000; stroke-width: 0.8\"/>\n",
       "      </g>\n",
       "     </g>\n",
       "     <g id=\"text_9\">\n",
       "      <!-- 5.0 -->\n",
       "      <g transform=\"translate(412.751562 298.998438) scale(0.1 -0.1)\">\n",
       "       <use xlink:href=\"#DejaVuSans-35\"/>\n",
       "       <use xlink:href=\"#DejaVuSans-2e\" transform=\"translate(63.623047 0)\"/>\n",
       "       <use xlink:href=\"#DejaVuSans-30\" transform=\"translate(95.410156 0)\"/>\n",
       "      </g>\n",
       "     </g>\n",
       "    </g>\n",
       "    <g id=\"text_10\">\n",
       "     <!-- epoch -->\n",
       "     <g transform=\"translate(210.175 312.676562) scale(0.1 -0.1)\">\n",
       "      <defs>\n",
       "       <path id=\"DejaVuSans-65\" d=\"M 3597 1894 \n",
       "L 3597 1613 \n",
       "L 953 1613 \n",
       "Q 991 1019 1311 708 \n",
       "Q 1631 397 2203 397 \n",
       "Q 2534 397 2845 478 \n",
       "Q 3156 559 3463 722 \n",
       "L 3463 178 \n",
       "Q 3153 47 2828 -22 \n",
       "Q 2503 -91 2169 -91 \n",
       "Q 1331 -91 842 396 \n",
       "Q 353 884 353 1716 \n",
       "Q 353 2575 817 3079 \n",
       "Q 1281 3584 2069 3584 \n",
       "Q 2775 3584 3186 3129 \n",
       "Q 3597 2675 3597 1894 \n",
       "z\n",
       "M 3022 2063 \n",
       "Q 3016 2534 2758 2815 \n",
       "Q 2500 3097 2075 3097 \n",
       "Q 1594 3097 1305 2825 \n",
       "Q 1016 2553 972 2059 \n",
       "L 3022 2063 \n",
       "z\n",
       "\" transform=\"scale(0.015625)\"/>\n",
       "       <path id=\"DejaVuSans-70\" d=\"M 1159 525 \n",
       "L 1159 -1331 \n",
       "L 581 -1331 \n",
       "L 581 3500 \n",
       "L 1159 3500 \n",
       "L 1159 2969 \n",
       "Q 1341 3281 1617 3432 \n",
       "Q 1894 3584 2278 3584 \n",
       "Q 2916 3584 3314 3078 \n",
       "Q 3713 2572 3713 1747 \n",
       "Q 3713 922 3314 415 \n",
       "Q 2916 -91 2278 -91 \n",
       "Q 1894 -91 1617 61 \n",
       "Q 1341 213 1159 525 \n",
       "z\n",
       "M 3116 1747 \n",
       "Q 3116 2381 2855 2742 \n",
       "Q 2594 3103 2138 3103 \n",
       "Q 1681 3103 1420 2742 \n",
       "Q 1159 2381 1159 1747 \n",
       "Q 1159 1113 1420 752 \n",
       "Q 1681 391 2138 391 \n",
       "Q 2594 391 2855 752 \n",
       "Q 3116 1113 3116 1747 \n",
       "z\n",
       "\" transform=\"scale(0.015625)\"/>\n",
       "       <path id=\"DejaVuSans-6f\" d=\"M 1959 3097 \n",
       "Q 1497 3097 1228 2736 \n",
       "Q 959 2375 959 1747 \n",
       "Q 959 1119 1226 758 \n",
       "Q 1494 397 1959 397 \n",
       "Q 2419 397 2687 759 \n",
       "Q 2956 1122 2956 1747 \n",
       "Q 2956 2369 2687 2733 \n",
       "Q 2419 3097 1959 3097 \n",
       "z\n",
       "M 1959 3584 \n",
       "Q 2709 3584 3137 3096 \n",
       "Q 3566 2609 3566 1747 \n",
       "Q 3566 888 3137 398 \n",
       "Q 2709 -91 1959 -91 \n",
       "Q 1206 -91 779 398 \n",
       "Q 353 888 353 1747 \n",
       "Q 353 2609 779 3096 \n",
       "Q 1206 3584 1959 3584 \n",
       "z\n",
       "\" transform=\"scale(0.015625)\"/>\n",
       "       <path id=\"DejaVuSans-63\" d=\"M 3122 3366 \n",
       "L 3122 2828 \n",
       "Q 2878 2963 2633 3030 \n",
       "Q 2388 3097 2138 3097 \n",
       "Q 1578 3097 1268 2742 \n",
       "Q 959 2388 959 1747 \n",
       "Q 959 1106 1268 751 \n",
       "Q 1578 397 2138 397 \n",
       "Q 2388 397 2633 464 \n",
       "Q 2878 531 3122 666 \n",
       "L 3122 134 \n",
       "Q 2881 22 2623 -34 \n",
       "Q 2366 -91 2075 -91 \n",
       "Q 1284 -91 818 406 \n",
       "Q 353 903 353 1747 \n",
       "Q 353 2603 823 3093 \n",
       "Q 1294 3584 2113 3584 \n",
       "Q 2378 3584 2631 3529 \n",
       "Q 2884 3475 3122 3366 \n",
       "z\n",
       "\" transform=\"scale(0.015625)\"/>\n",
       "       <path id=\"DejaVuSans-68\" d=\"M 3513 2113 \n",
       "L 3513 0 \n",
       "L 2938 0 \n",
       "L 2938 2094 \n",
       "Q 2938 2591 2744 2837 \n",
       "Q 2550 3084 2163 3084 \n",
       "Q 1697 3084 1428 2787 \n",
       "Q 1159 2491 1159 1978 \n",
       "L 1159 0 \n",
       "L 581 0 \n",
       "L 581 4863 \n",
       "L 1159 4863 \n",
       "L 1159 2956 \n",
       "Q 1366 3272 1645 3428 \n",
       "Q 1925 3584 2291 3584 \n",
       "Q 2894 3584 3203 3211 \n",
       "Q 3513 2838 3513 2113 \n",
       "z\n",
       "\" transform=\"scale(0.015625)\"/>\n",
       "      </defs>\n",
       "      <use xlink:href=\"#DejaVuSans-65\"/>\n",
       "      <use xlink:href=\"#DejaVuSans-70\" transform=\"translate(61.523438 0)\"/>\n",
       "      <use xlink:href=\"#DejaVuSans-6f\" transform=\"translate(125 0)\"/>\n",
       "      <use xlink:href=\"#DejaVuSans-63\" transform=\"translate(186.181641 0)\"/>\n",
       "      <use xlink:href=\"#DejaVuSans-68\" transform=\"translate(241.162109 0)\"/>\n",
       "     </g>\n",
       "    </g>\n",
       "   </g>\n",
       "   <g id=\"matplotlib.axis_2\">\n",
       "    <g id=\"ytick_1\">\n",
       "     <g id=\"line2d_19\">\n",
       "      <path d=\"M 30.103125 270.488187 \n",
       "L 420.703125 270.488187 \n",
       "\" clip-path=\"url(#p3f05c9dc2f)\" style=\"fill: none; stroke: #b0b0b0; stroke-width: 0.8; stroke-linecap: square\"/>\n",
       "     </g>\n",
       "     <g id=\"line2d_20\">\n",
       "      <defs>\n",
       "       <path id=\"mb34ad4dc30\" d=\"M 0 0 \n",
       "L -3.5 0 \n",
       "\" style=\"stroke: #000000; stroke-width: 0.8\"/>\n",
       "      </defs>\n",
       "      <g>\n",
       "       <use xlink:href=\"#mb34ad4dc30\" x=\"30.103125\" y=\"270.488187\" style=\"stroke: #000000; stroke-width: 0.8\"/>\n",
       "      </g>\n",
       "     </g>\n",
       "     <g id=\"text_11\">\n",
       "      <!-- 0.5 -->\n",
       "      <g transform=\"translate(7.2 274.287406) scale(0.1 -0.1)\">\n",
       "       <use xlink:href=\"#DejaVuSans-30\"/>\n",
       "       <use xlink:href=\"#DejaVuSans-2e\" transform=\"translate(63.623047 0)\"/>\n",
       "       <use xlink:href=\"#DejaVuSans-35\" transform=\"translate(95.410156 0)\"/>\n",
       "      </g>\n",
       "     </g>\n",
       "    </g>\n",
       "    <g id=\"ytick_2\">\n",
       "     <g id=\"line2d_21\">\n",
       "      <path d=\"M 30.103125 216.720978 \n",
       "L 420.703125 216.720978 \n",
       "\" clip-path=\"url(#p3f05c9dc2f)\" style=\"fill: none; stroke: #b0b0b0; stroke-width: 0.8; stroke-linecap: square\"/>\n",
       "     </g>\n",
       "     <g id=\"line2d_22\">\n",
       "      <g>\n",
       "       <use xlink:href=\"#mb34ad4dc30\" x=\"30.103125\" y=\"216.720978\" style=\"stroke: #000000; stroke-width: 0.8\"/>\n",
       "      </g>\n",
       "     </g>\n",
       "     <g id=\"text_12\">\n",
       "      <!-- 0.6 -->\n",
       "      <g transform=\"translate(7.2 220.520197) scale(0.1 -0.1)\">\n",
       "       <defs>\n",
       "        <path id=\"DejaVuSans-36\" d=\"M 2113 2584 \n",
       "Q 1688 2584 1439 2293 \n",
       "Q 1191 2003 1191 1497 \n",
       "Q 1191 994 1439 701 \n",
       "Q 1688 409 2113 409 \n",
       "Q 2538 409 2786 701 \n",
       "Q 3034 994 3034 1497 \n",
       "Q 3034 2003 2786 2293 \n",
       "Q 2538 2584 2113 2584 \n",
       "z\n",
       "M 3366 4563 \n",
       "L 3366 3988 \n",
       "Q 3128 4100 2886 4159 \n",
       "Q 2644 4219 2406 4219 \n",
       "Q 1781 4219 1451 3797 \n",
       "Q 1122 3375 1075 2522 \n",
       "Q 1259 2794 1537 2939 \n",
       "Q 1816 3084 2150 3084 \n",
       "Q 2853 3084 3261 2657 \n",
       "Q 3669 2231 3669 1497 \n",
       "Q 3669 778 3244 343 \n",
       "Q 2819 -91 2113 -91 \n",
       "Q 1303 -91 875 529 \n",
       "Q 447 1150 447 2328 \n",
       "Q 447 3434 972 4092 \n",
       "Q 1497 4750 2381 4750 \n",
       "Q 2619 4750 2861 4703 \n",
       "Q 3103 4656 3366 4563 \n",
       "z\n",
       "\" transform=\"scale(0.015625)\"/>\n",
       "       </defs>\n",
       "       <use xlink:href=\"#DejaVuSans-30\"/>\n",
       "       <use xlink:href=\"#DejaVuSans-2e\" transform=\"translate(63.623047 0)\"/>\n",
       "       <use xlink:href=\"#DejaVuSans-36\" transform=\"translate(95.410156 0)\"/>\n",
       "      </g>\n",
       "     </g>\n",
       "    </g>\n",
       "    <g id=\"ytick_3\">\n",
       "     <g id=\"line2d_23\">\n",
       "      <path d=\"M 30.103125 162.953769 \n",
       "L 420.703125 162.953769 \n",
       "\" clip-path=\"url(#p3f05c9dc2f)\" style=\"fill: none; stroke: #b0b0b0; stroke-width: 0.8; stroke-linecap: square\"/>\n",
       "     </g>\n",
       "     <g id=\"line2d_24\">\n",
       "      <g>\n",
       "       <use xlink:href=\"#mb34ad4dc30\" x=\"30.103125\" y=\"162.953769\" style=\"stroke: #000000; stroke-width: 0.8\"/>\n",
       "      </g>\n",
       "     </g>\n",
       "     <g id=\"text_13\">\n",
       "      <!-- 0.7 -->\n",
       "      <g transform=\"translate(7.2 166.752988) scale(0.1 -0.1)\">\n",
       "       <defs>\n",
       "        <path id=\"DejaVuSans-37\" d=\"M 525 4666 \n",
       "L 3525 4666 \n",
       "L 3525 4397 \n",
       "L 1831 0 \n",
       "L 1172 0 \n",
       "L 2766 4134 \n",
       "L 525 4134 \n",
       "L 525 4666 \n",
       "z\n",
       "\" transform=\"scale(0.015625)\"/>\n",
       "       </defs>\n",
       "       <use xlink:href=\"#DejaVuSans-30\"/>\n",
       "       <use xlink:href=\"#DejaVuSans-2e\" transform=\"translate(63.623047 0)\"/>\n",
       "       <use xlink:href=\"#DejaVuSans-37\" transform=\"translate(95.410156 0)\"/>\n",
       "      </g>\n",
       "     </g>\n",
       "    </g>\n",
       "    <g id=\"ytick_4\">\n",
       "     <g id=\"line2d_25\">\n",
       "      <path d=\"M 30.103125 109.18656 \n",
       "L 420.703125 109.18656 \n",
       "\" clip-path=\"url(#p3f05c9dc2f)\" style=\"fill: none; stroke: #b0b0b0; stroke-width: 0.8; stroke-linecap: square\"/>\n",
       "     </g>\n",
       "     <g id=\"line2d_26\">\n",
       "      <g>\n",
       "       <use xlink:href=\"#mb34ad4dc30\" x=\"30.103125\" y=\"109.18656\" style=\"stroke: #000000; stroke-width: 0.8\"/>\n",
       "      </g>\n",
       "     </g>\n",
       "     <g id=\"text_14\">\n",
       "      <!-- 0.8 -->\n",
       "      <g transform=\"translate(7.2 112.985779) scale(0.1 -0.1)\">\n",
       "       <defs>\n",
       "        <path id=\"DejaVuSans-38\" d=\"M 2034 2216 \n",
       "Q 1584 2216 1326 1975 \n",
       "Q 1069 1734 1069 1313 \n",
       "Q 1069 891 1326 650 \n",
       "Q 1584 409 2034 409 \n",
       "Q 2484 409 2743 651 \n",
       "Q 3003 894 3003 1313 \n",
       "Q 3003 1734 2745 1975 \n",
       "Q 2488 2216 2034 2216 \n",
       "z\n",
       "M 1403 2484 \n",
       "Q 997 2584 770 2862 \n",
       "Q 544 3141 544 3541 \n",
       "Q 544 4100 942 4425 \n",
       "Q 1341 4750 2034 4750 \n",
       "Q 2731 4750 3128 4425 \n",
       "Q 3525 4100 3525 3541 \n",
       "Q 3525 3141 3298 2862 \n",
       "Q 3072 2584 2669 2484 \n",
       "Q 3125 2378 3379 2068 \n",
       "Q 3634 1759 3634 1313 \n",
       "Q 3634 634 3220 271 \n",
       "Q 2806 -91 2034 -91 \n",
       "Q 1263 -91 848 271 \n",
       "Q 434 634 434 1313 \n",
       "Q 434 1759 690 2068 \n",
       "Q 947 2378 1403 2484 \n",
       "z\n",
       "M 1172 3481 \n",
       "Q 1172 3119 1398 2916 \n",
       "Q 1625 2713 2034 2713 \n",
       "Q 2441 2713 2670 2916 \n",
       "Q 2900 3119 2900 3481 \n",
       "Q 2900 3844 2670 4047 \n",
       "Q 2441 4250 2034 4250 \n",
       "Q 1625 4250 1398 4047 \n",
       "Q 1172 3844 1172 3481 \n",
       "z\n",
       "\" transform=\"scale(0.015625)\"/>\n",
       "       </defs>\n",
       "       <use xlink:href=\"#DejaVuSans-30\"/>\n",
       "       <use xlink:href=\"#DejaVuSans-2e\" transform=\"translate(63.623047 0)\"/>\n",
       "       <use xlink:href=\"#DejaVuSans-38\" transform=\"translate(95.410156 0)\"/>\n",
       "      </g>\n",
       "     </g>\n",
       "    </g>\n",
       "    <g id=\"ytick_5\">\n",
       "     <g id=\"line2d_27\">\n",
       "      <path d=\"M 30.103125 55.419351 \n",
       "L 420.703125 55.419351 \n",
       "\" clip-path=\"url(#p3f05c9dc2f)\" style=\"fill: none; stroke: #b0b0b0; stroke-width: 0.8; stroke-linecap: square\"/>\n",
       "     </g>\n",
       "     <g id=\"line2d_28\">\n",
       "      <g>\n",
       "       <use xlink:href=\"#mb34ad4dc30\" x=\"30.103125\" y=\"55.419351\" style=\"stroke: #000000; stroke-width: 0.8\"/>\n",
       "      </g>\n",
       "     </g>\n",
       "     <g id=\"text_15\">\n",
       "      <!-- 0.9 -->\n",
       "      <g transform=\"translate(7.2 59.21857) scale(0.1 -0.1)\">\n",
       "       <defs>\n",
       "        <path id=\"DejaVuSans-39\" d=\"M 703 97 \n",
       "L 703 672 \n",
       "Q 941 559 1184 500 \n",
       "Q 1428 441 1663 441 \n",
       "Q 2288 441 2617 861 \n",
       "Q 2947 1281 2994 2138 \n",
       "Q 2813 1869 2534 1725 \n",
       "Q 2256 1581 1919 1581 \n",
       "Q 1219 1581 811 2004 \n",
       "Q 403 2428 403 3163 \n",
       "Q 403 3881 828 4315 \n",
       "Q 1253 4750 1959 4750 \n",
       "Q 2769 4750 3195 4129 \n",
       "Q 3622 3509 3622 2328 \n",
       "Q 3622 1225 3098 567 \n",
       "Q 2575 -91 1691 -91 \n",
       "Q 1453 -91 1209 -44 \n",
       "Q 966 3 703 97 \n",
       "z\n",
       "M 1959 2075 \n",
       "Q 2384 2075 2632 2365 \n",
       "Q 2881 2656 2881 3163 \n",
       "Q 2881 3666 2632 3958 \n",
       "Q 2384 4250 1959 4250 \n",
       "Q 1534 4250 1286 3958 \n",
       "Q 1038 3666 1038 3163 \n",
       "Q 1038 2656 1286 2365 \n",
       "Q 1534 2075 1959 2075 \n",
       "z\n",
       "\" transform=\"scale(0.015625)\"/>\n",
       "       </defs>\n",
       "       <use xlink:href=\"#DejaVuSans-30\"/>\n",
       "       <use xlink:href=\"#DejaVuSans-2e\" transform=\"translate(63.623047 0)\"/>\n",
       "       <use xlink:href=\"#DejaVuSans-39\" transform=\"translate(95.410156 0)\"/>\n",
       "      </g>\n",
       "     </g>\n",
       "    </g>\n",
       "   </g>\n",
       "   <g id=\"line2d_29\">\n",
       "    <path d=\"M -1 77.615319 \n",
       "L 10.573125 83.543851 \n",
       "L 30.103125 90.125219 \n",
       "L 49.633125 122.339215 \n",
       "L 69.163125 130.142567 \n",
       "L 88.693125 140.434384 \n",
       "L 108.223125 144.901823 \n",
       "L 127.753125 147.508174 \n",
       "L 147.283125 163.864414 \n",
       "L 166.813125 173.222176 \n",
       "L 186.343125 188.248744 \n",
       "L 205.873125 194.185119 \n",
       "L 225.403125 197.585862 \n",
       "L 244.933125 211.99531 \n",
       "L 264.463125 221.238985 \n",
       "L 283.993125 236.52558 \n",
       "L 303.523125 243.125317 \n",
       "L 323.053125 244.964488 \n",
       "L 342.583125 246.546829 \n",
       "L 362.113125 252.806168 \n",
       "L 381.643125 266.932524 \n",
       "L 401.173125 271.8 \n",
       "L 420.703125 270.870628 \n",
       "\" clip-path=\"url(#p3f05c9dc2f)\" style=\"fill: none; stroke: #1f77b4; stroke-width: 1.5; stroke-linecap: square\"/>\n",
       "   </g>\n",
       "   <g id=\"line2d_30\">\n",
       "    <path d=\"M -1 207.755571 \n",
       "L 10.573125 204.556147 \n",
       "L 30.103125 201.316673 \n",
       "L 49.633125 183.116473 \n",
       "L 69.163125 180.999389 \n",
       "L 88.693125 176.261154 \n",
       "L 108.223125 173.47198 \n",
       "L 127.753125 173.075446 \n",
       "L 147.283125 165.373294 \n",
       "L 166.813125 160.836685 \n",
       "L 186.343125 153.813344 \n",
       "L 205.873125 150.570509 \n",
       "L 225.403125 149.216247 \n",
       "L 244.933125 139.901078 \n",
       "L 264.463125 134.725985 \n",
       "L 283.993125 127.75865 \n",
       "L 303.523125 124.493413 \n",
       "L 323.053125 123.838125 \n",
       "L 342.583125 122.493945 \n",
       "L 362.113125 119.704771 \n",
       "L 381.643125 112.524608 \n",
       "L 401.173125 110.329113 \n",
       "L 420.703125 111.256598 \n",
       "\" clip-path=\"url(#p3f05c9dc2f)\" style=\"fill: none; stroke-dasharray: 5.55,2.4; stroke-dashoffset: 0; stroke: #bf00bf; stroke-width: 1.5\"/>\n",
       "   </g>\n",
       "   <g id=\"line2d_31\">\n",
       "    <path d=\"M 30.103125 130.114438 \n",
       "L 127.753125 130.760294 \n",
       "L 225.403125 112.055445 \n",
       "L 323.053125 81.24973 \n",
       "L 420.703125 74.88189 \n",
       "\" clip-path=\"url(#p3f05c9dc2f)\" style=\"fill: none; stroke-dasharray: 9.6,2.4,1.5,2.4; stroke-dashoffset: 0; stroke: #008000; stroke-width: 1.5\"/>\n",
       "   </g>\n",
       "   <g id=\"line2d_32\">\n",
       "    <path d=\"M 30.103125 182.955171 \n",
       "L 127.753125 178.868863 \n",
       "L 225.403125 182.309965 \n",
       "L 323.053125 182.094896 \n",
       "L 420.703125 183.062705 \n",
       "\" clip-path=\"url(#p3f05c9dc2f)\" style=\"fill: none; stroke-dasharray: 1.5,2.475; stroke-dashoffset: 0; stroke: #ff0000; stroke-width: 1.5\"/>\n",
       "   </g>\n",
       "   <g id=\"patch_3\">\n",
       "    <path d=\"M 30.103125 284.4 \n",
       "L 30.103125 7.2 \n",
       "\" style=\"fill: none; stroke: #000000; stroke-width: 0.8; stroke-linejoin: miter; stroke-linecap: square\"/>\n",
       "   </g>\n",
       "   <g id=\"patch_4\">\n",
       "    <path d=\"M 420.703125 284.4 \n",
       "L 420.703125 7.2 \n",
       "\" style=\"fill: none; stroke: #000000; stroke-width: 0.8; stroke-linejoin: miter; stroke-linecap: square\"/>\n",
       "   </g>\n",
       "   <g id=\"patch_5\">\n",
       "    <path d=\"M 30.103125 284.4 \n",
       "L 420.703125 284.4 \n",
       "\" style=\"fill: none; stroke: #000000; stroke-width: 0.8; stroke-linejoin: miter; stroke-linecap: square\"/>\n",
       "   </g>\n",
       "   <g id=\"patch_6\">\n",
       "    <path d=\"M 30.103125 7.2 \n",
       "L 420.703125 7.2 \n",
       "\" style=\"fill: none; stroke: #000000; stroke-width: 0.8; stroke-linejoin: miter; stroke-linecap: square\"/>\n",
       "   </g>\n",
       "   <g id=\"legend_1\">\n",
       "    <g id=\"patch_7\">\n",
       "     <path d=\"M 335.257812 73.9125 \n",
       "L 413.703125 73.9125 \n",
       "Q 415.703125 73.9125 415.703125 71.9125 \n",
       "L 415.703125 14.2 \n",
       "Q 415.703125 12.2 413.703125 12.2 \n",
       "L 335.257812 12.2 \n",
       "Q 333.257812 12.2 333.257812 14.2 \n",
       "L 333.257812 71.9125 \n",
       "Q 333.257812 73.9125 335.257812 73.9125 \n",
       "z\n",
       "\" style=\"fill: #ffffff; opacity: 0.8; stroke: #cccccc; stroke-linejoin: miter\"/>\n",
       "    </g>\n",
       "    <g id=\"line2d_33\">\n",
       "     <path d=\"M 337.257812 20.298437 \n",
       "L 347.257812 20.298437 \n",
       "L 357.257812 20.298437 \n",
       "\" style=\"fill: none; stroke: #1f77b4; stroke-width: 1.5; stroke-linecap: square\"/>\n",
       "    </g>\n",
       "    <g id=\"text_16\">\n",
       "     <!-- train loss -->\n",
       "     <g transform=\"translate(365.257812 23.798437) scale(0.1 -0.1)\">\n",
       "      <defs>\n",
       "       <path id=\"DejaVuSans-74\" d=\"M 1172 4494 \n",
       "L 1172 3500 \n",
       "L 2356 3500 \n",
       "L 2356 3053 \n",
       "L 1172 3053 \n",
       "L 1172 1153 \n",
       "Q 1172 725 1289 603 \n",
       "Q 1406 481 1766 481 \n",
       "L 2356 481 \n",
       "L 2356 0 \n",
       "L 1766 0 \n",
       "Q 1100 0 847 248 \n",
       "Q 594 497 594 1153 \n",
       "L 594 3053 \n",
       "L 172 3053 \n",
       "L 172 3500 \n",
       "L 594 3500 \n",
       "L 594 4494 \n",
       "L 1172 4494 \n",
       "z\n",
       "\" transform=\"scale(0.015625)\"/>\n",
       "       <path id=\"DejaVuSans-72\" d=\"M 2631 2963 \n",
       "Q 2534 3019 2420 3045 \n",
       "Q 2306 3072 2169 3072 \n",
       "Q 1681 3072 1420 2755 \n",
       "Q 1159 2438 1159 1844 \n",
       "L 1159 0 \n",
       "L 581 0 \n",
       "L 581 3500 \n",
       "L 1159 3500 \n",
       "L 1159 2956 \n",
       "Q 1341 3275 1631 3429 \n",
       "Q 1922 3584 2338 3584 \n",
       "Q 2397 3584 2469 3576 \n",
       "Q 2541 3569 2628 3553 \n",
       "L 2631 2963 \n",
       "z\n",
       "\" transform=\"scale(0.015625)\"/>\n",
       "       <path id=\"DejaVuSans-61\" d=\"M 2194 1759 \n",
       "Q 1497 1759 1228 1600 \n",
       "Q 959 1441 959 1056 \n",
       "Q 959 750 1161 570 \n",
       "Q 1363 391 1709 391 \n",
       "Q 2188 391 2477 730 \n",
       "Q 2766 1069 2766 1631 \n",
       "L 2766 1759 \n",
       "L 2194 1759 \n",
       "z\n",
       "M 3341 1997 \n",
       "L 3341 0 \n",
       "L 2766 0 \n",
       "L 2766 531 \n",
       "Q 2569 213 2275 61 \n",
       "Q 1981 -91 1556 -91 \n",
       "Q 1019 -91 701 211 \n",
       "Q 384 513 384 1019 \n",
       "Q 384 1609 779 1909 \n",
       "Q 1175 2209 1959 2209 \n",
       "L 2766 2209 \n",
       "L 2766 2266 \n",
       "Q 2766 2663 2505 2880 \n",
       "Q 2244 3097 1772 3097 \n",
       "Q 1472 3097 1187 3025 \n",
       "Q 903 2953 641 2809 \n",
       "L 641 3341 \n",
       "Q 956 3463 1253 3523 \n",
       "Q 1550 3584 1831 3584 \n",
       "Q 2591 3584 2966 3190 \n",
       "Q 3341 2797 3341 1997 \n",
       "z\n",
       "\" transform=\"scale(0.015625)\"/>\n",
       "       <path id=\"DejaVuSans-69\" d=\"M 603 3500 \n",
       "L 1178 3500 \n",
       "L 1178 0 \n",
       "L 603 0 \n",
       "L 603 3500 \n",
       "z\n",
       "M 603 4863 \n",
       "L 1178 4863 \n",
       "L 1178 4134 \n",
       "L 603 4134 \n",
       "L 603 4863 \n",
       "z\n",
       "\" transform=\"scale(0.015625)\"/>\n",
       "       <path id=\"DejaVuSans-6e\" d=\"M 3513 2113 \n",
       "L 3513 0 \n",
       "L 2938 0 \n",
       "L 2938 2094 \n",
       "Q 2938 2591 2744 2837 \n",
       "Q 2550 3084 2163 3084 \n",
       "Q 1697 3084 1428 2787 \n",
       "Q 1159 2491 1159 1978 \n",
       "L 1159 0 \n",
       "L 581 0 \n",
       "L 581 3500 \n",
       "L 1159 3500 \n",
       "L 1159 2956 \n",
       "Q 1366 3272 1645 3428 \n",
       "Q 1925 3584 2291 3584 \n",
       "Q 2894 3584 3203 3211 \n",
       "Q 3513 2838 3513 2113 \n",
       "z\n",
       "\" transform=\"scale(0.015625)\"/>\n",
       "       <path id=\"DejaVuSans-20\" transform=\"scale(0.015625)\"/>\n",
       "       <path id=\"DejaVuSans-6c\" d=\"M 603 4863 \n",
       "L 1178 4863 \n",
       "L 1178 0 \n",
       "L 603 0 \n",
       "L 603 4863 \n",
       "z\n",
       "\" transform=\"scale(0.015625)\"/>\n",
       "       <path id=\"DejaVuSans-73\" d=\"M 2834 3397 \n",
       "L 2834 2853 \n",
       "Q 2591 2978 2328 3040 \n",
       "Q 2066 3103 1784 3103 \n",
       "Q 1356 3103 1142 2972 \n",
       "Q 928 2841 928 2578 \n",
       "Q 928 2378 1081 2264 \n",
       "Q 1234 2150 1697 2047 \n",
       "L 1894 2003 \n",
       "Q 2506 1872 2764 1633 \n",
       "Q 3022 1394 3022 966 \n",
       "Q 3022 478 2636 193 \n",
       "Q 2250 -91 1575 -91 \n",
       "Q 1294 -91 989 -36 \n",
       "Q 684 19 347 128 \n",
       "L 347 722 \n",
       "Q 666 556 975 473 \n",
       "Q 1284 391 1588 391 \n",
       "Q 1994 391 2212 530 \n",
       "Q 2431 669 2431 922 \n",
       "Q 2431 1156 2273 1281 \n",
       "Q 2116 1406 1581 1522 \n",
       "L 1381 1569 \n",
       "Q 847 1681 609 1914 \n",
       "Q 372 2147 372 2553 \n",
       "Q 372 3047 722 3315 \n",
       "Q 1072 3584 1716 3584 \n",
       "Q 2034 3584 2315 3537 \n",
       "Q 2597 3491 2834 3397 \n",
       "z\n",
       "\" transform=\"scale(0.015625)\"/>\n",
       "      </defs>\n",
       "      <use xlink:href=\"#DejaVuSans-74\"/>\n",
       "      <use xlink:href=\"#DejaVuSans-72\" transform=\"translate(39.208984 0)\"/>\n",
       "      <use xlink:href=\"#DejaVuSans-61\" transform=\"translate(80.322266 0)\"/>\n",
       "      <use xlink:href=\"#DejaVuSans-69\" transform=\"translate(141.601562 0)\"/>\n",
       "      <use xlink:href=\"#DejaVuSans-6e\" transform=\"translate(169.384766 0)\"/>\n",
       "      <use xlink:href=\"#DejaVuSans-20\" transform=\"translate(232.763672 0)\"/>\n",
       "      <use xlink:href=\"#DejaVuSans-6c\" transform=\"translate(264.550781 0)\"/>\n",
       "      <use xlink:href=\"#DejaVuSans-6f\" transform=\"translate(292.333984 0)\"/>\n",
       "      <use xlink:href=\"#DejaVuSans-73\" transform=\"translate(353.515625 0)\"/>\n",
       "      <use xlink:href=\"#DejaVuSans-73\" transform=\"translate(405.615234 0)\"/>\n",
       "     </g>\n",
       "    </g>\n",
       "    <g id=\"line2d_34\">\n",
       "     <path d=\"M 337.257812 34.976562 \n",
       "L 347.257812 34.976562 \n",
       "L 357.257812 34.976562 \n",
       "\" style=\"fill: none; stroke-dasharray: 5.55,2.4; stroke-dashoffset: 0; stroke: #bf00bf; stroke-width: 1.5\"/>\n",
       "    </g>\n",
       "    <g id=\"text_17\">\n",
       "     <!-- train acc -->\n",
       "     <g transform=\"translate(365.257812 38.476562) scale(0.1 -0.1)\">\n",
       "      <use xlink:href=\"#DejaVuSans-74\"/>\n",
       "      <use xlink:href=\"#DejaVuSans-72\" transform=\"translate(39.208984 0)\"/>\n",
       "      <use xlink:href=\"#DejaVuSans-61\" transform=\"translate(80.322266 0)\"/>\n",
       "      <use xlink:href=\"#DejaVuSans-69\" transform=\"translate(141.601562 0)\"/>\n",
       "      <use xlink:href=\"#DejaVuSans-6e\" transform=\"translate(169.384766 0)\"/>\n",
       "      <use xlink:href=\"#DejaVuSans-20\" transform=\"translate(232.763672 0)\"/>\n",
       "      <use xlink:href=\"#DejaVuSans-61\" transform=\"translate(264.550781 0)\"/>\n",
       "      <use xlink:href=\"#DejaVuSans-63\" transform=\"translate(325.830078 0)\"/>\n",
       "      <use xlink:href=\"#DejaVuSans-63\" transform=\"translate(380.810547 0)\"/>\n",
       "     </g>\n",
       "    </g>\n",
       "    <g id=\"line2d_35\">\n",
       "     <path d=\"M 337.257812 49.654687 \n",
       "L 347.257812 49.654687 \n",
       "L 357.257812 49.654687 \n",
       "\" style=\"fill: none; stroke-dasharray: 9.6,2.4,1.5,2.4; stroke-dashoffset: 0; stroke: #008000; stroke-width: 1.5\"/>\n",
       "    </g>\n",
       "    <g id=\"text_18\">\n",
       "     <!-- valid loss -->\n",
       "     <g transform=\"translate(365.257812 53.154687) scale(0.1 -0.1)\">\n",
       "      <defs>\n",
       "       <path id=\"DejaVuSans-76\" d=\"M 191 3500 \n",
       "L 800 3500 \n",
       "L 1894 563 \n",
       "L 2988 3500 \n",
       "L 3597 3500 \n",
       "L 2284 0 \n",
       "L 1503 0 \n",
       "L 191 3500 \n",
       "z\n",
       "\" transform=\"scale(0.015625)\"/>\n",
       "       <path id=\"DejaVuSans-64\" d=\"M 2906 2969 \n",
       "L 2906 4863 \n",
       "L 3481 4863 \n",
       "L 3481 0 \n",
       "L 2906 0 \n",
       "L 2906 525 \n",
       "Q 2725 213 2448 61 \n",
       "Q 2172 -91 1784 -91 \n",
       "Q 1150 -91 751 415 \n",
       "Q 353 922 353 1747 \n",
       "Q 353 2572 751 3078 \n",
       "Q 1150 3584 1784 3584 \n",
       "Q 2172 3584 2448 3432 \n",
       "Q 2725 3281 2906 2969 \n",
       "z\n",
       "M 947 1747 \n",
       "Q 947 1113 1208 752 \n",
       "Q 1469 391 1925 391 \n",
       "Q 2381 391 2643 752 \n",
       "Q 2906 1113 2906 1747 \n",
       "Q 2906 2381 2643 2742 \n",
       "Q 2381 3103 1925 3103 \n",
       "Q 1469 3103 1208 2742 \n",
       "Q 947 2381 947 1747 \n",
       "z\n",
       "\" transform=\"scale(0.015625)\"/>\n",
       "      </defs>\n",
       "      <use xlink:href=\"#DejaVuSans-76\"/>\n",
       "      <use xlink:href=\"#DejaVuSans-61\" transform=\"translate(59.179688 0)\"/>\n",
       "      <use xlink:href=\"#DejaVuSans-6c\" transform=\"translate(120.458984 0)\"/>\n",
       "      <use xlink:href=\"#DejaVuSans-69\" transform=\"translate(148.242188 0)\"/>\n",
       "      <use xlink:href=\"#DejaVuSans-64\" transform=\"translate(176.025391 0)\"/>\n",
       "      <use xlink:href=\"#DejaVuSans-20\" transform=\"translate(239.501953 0)\"/>\n",
       "      <use xlink:href=\"#DejaVuSans-6c\" transform=\"translate(271.289062 0)\"/>\n",
       "      <use xlink:href=\"#DejaVuSans-6f\" transform=\"translate(299.072266 0)\"/>\n",
       "      <use xlink:href=\"#DejaVuSans-73\" transform=\"translate(360.253906 0)\"/>\n",
       "      <use xlink:href=\"#DejaVuSans-73\" transform=\"translate(412.353516 0)\"/>\n",
       "     </g>\n",
       "    </g>\n",
       "    <g id=\"line2d_36\">\n",
       "     <path d=\"M 337.257812 64.332812 \n",
       "L 347.257812 64.332812 \n",
       "L 357.257812 64.332812 \n",
       "\" style=\"fill: none; stroke-dasharray: 1.5,2.475; stroke-dashoffset: 0; stroke: #ff0000; stroke-width: 1.5\"/>\n",
       "    </g>\n",
       "    <g id=\"text_19\">\n",
       "     <!-- valid acc -->\n",
       "     <g transform=\"translate(365.257812 67.832812) scale(0.1 -0.1)\">\n",
       "      <use xlink:href=\"#DejaVuSans-76\"/>\n",
       "      <use xlink:href=\"#DejaVuSans-61\" transform=\"translate(59.179688 0)\"/>\n",
       "      <use xlink:href=\"#DejaVuSans-6c\" transform=\"translate(120.458984 0)\"/>\n",
       "      <use xlink:href=\"#DejaVuSans-69\" transform=\"translate(148.242188 0)\"/>\n",
       "      <use xlink:href=\"#DejaVuSans-64\" transform=\"translate(176.025391 0)\"/>\n",
       "      <use xlink:href=\"#DejaVuSans-20\" transform=\"translate(239.501953 0)\"/>\n",
       "      <use xlink:href=\"#DejaVuSans-61\" transform=\"translate(271.289062 0)\"/>\n",
       "      <use xlink:href=\"#DejaVuSans-63\" transform=\"translate(332.568359 0)\"/>\n",
       "      <use xlink:href=\"#DejaVuSans-63\" transform=\"translate(387.548828 0)\"/>\n",
       "     </g>\n",
       "    </g>\n",
       "   </g>\n",
       "  </g>\n",
       " </g>\n",
       " <defs>\n",
       "  <clipPath id=\"p3f05c9dc2f\">\n",
       "   <rect x=\"30.103125\" y=\"7.2\" width=\"390.6\" height=\"277.2\"/>\n",
       "  </clipPath>\n",
       " </defs>\n",
       "</svg>\n"
      ],
      "text/plain": [
       "<Figure size 700x500 with 1 Axes>"
      ]
     },
     "metadata": {},
     "output_type": "display_data"
    }
   ],
   "source": [
    "net = DualTowerBGE(model_name,cache_dir,args.num_class).to(devices[0])\n",
    "train_transformer(net,\n",
    "                  train_iter,\n",
    "                  dev_iter,\n",
    "                  args.num_epochs,\n",
    "                  args.optimizer,\n",
    "                  args.lr,\n",
    "                  args.weight_decay,\n",
    "                  args.num_warmup_steps,\n",
    "                  devices,\n",
    "                  task_name)"
   ]
  },
  {
   "cell_type": "code",
   "execution_count": null,
   "metadata": {},
   "outputs": [
    {
     "name": "stderr",
     "output_type": "stream",
     "text": [
      "0it [00:00, ?it/s]You're using a BertTokenizerFast tokenizer. Please note that with a fast tokenizer, using the `__call__` method is faster than using a method to encode the text followed by a call to the `pad` method to get a padded encoding.\n",
      "79it [00:02, 34.46it/s]\n"
     ]
    },
    {
     "name": "stdout",
     "output_type": "stream",
     "text": [
      "test on final epoch -- acc: 66.08, f1-macro: 54.36\n",
      "test on /content/drive/MyDrive/CS5242/ckpt/DualTowerBGE-epoch1-val_acc0.67.pt -- acc: 66.84, f1-macro: 50.86\n"
     ]
    }
   ],
   "source": [
    "test(net,test_iter,None,device = devices[0])\n",
    "test_on_checkpoint(net, args.pt_path, test_iter, None, device=devices[0])"
   ]
  },
  {
   "cell_type": "markdown",
   "metadata": {},
   "source": [
    "### 5.11 <a name='5.8'></a> Knowledge Distillation\n",
    "[Back to Table of Contents](#top)\n",
    "\n",
    "<div style=\"display: flex; justify-content: center;\">\n",
    "  <img src=\"img/knowledge_dis.jpg\" alt=\"knowledge_dis\" width=\"500\"/>\n",
    "</div>\n",
    "\n",
    "\n",
    "A powerful single-tower model is used as the **teacher** to train a dual-tower **student** through knowledge distillation.\n",
    "\n",
    "The **single-tower teacher** computes high-quality similarity scores by jointly encoding the query and document.\n",
    "The **dual-tower student** encodes query and document separately and tries to match the teacher's scores.\n",
    "The student learns to approximate the teacher’s behavior while maintaining efficiency.\n",
    "\n",
    "Dual-tower is much faster at inference (suitable for large-scale retrieval).Single-tower provides more accurate supervision thanks to full input interaction.Knowledge Distillation Combine the performance of a strong teacher with the speed of a lightweight student.\n",
    "\n",
    "**KL divergence loss:**\n",
    "$$\n",
    "\\mathcal{L}_{\\text{KD}} = T^2 \\times \\sum_{i} p^t_i \\log\\left( \\frac{p^t_i}{p^s_i} \\right)\n",
    "$$\n",
    "\n",
    "**Total loss combining hard and soft targets:**\n",
    "$$\n",
    "\\mathcal{L} = \\alpha \\times \\mathcal{L}_{\\text{CE}}(y, p^s) + (1 - \\alpha) \\times \\mathcal{L}_{\\text{KD}}\n",
    "$$\n",
    "\n",
    "**Where:**\n",
    "- Loss between teacher and student outputs: $ \\mathcal{L}_{\\text{KD}} $\n",
    "- Cross-entropy loss between true labels and student predictions: $ \\mathcal{L}_{\\text{CE}} $\n",
    "- Teacher soft targets after temperature scaling:  $ p^t $\n",
    "- Student soft targets after temperature scaling:  $ p^s $\n",
    "- Temperature parameter: $ T $\n",
    "- Balance hyperparameter: $ \\alpha \\in [0, 1] $\n",
    "- Ground-truth labels: $ y $"
   ]
  },
  {
   "cell_type": "code",
   "execution_count": null,
   "metadata": {},
   "outputs": [],
   "source": [
    "student_model_name = \"BAAI/bge-small-zh-v1.5\"\n",
    "student_cache_dir = \"/content/drive/MyDrive/CS5242/bge-small-zh-v1.5\"\n",
    "\n",
    "teacher_model_name = \"BAAI/bge-base-zh-v1.5\"\n",
    "teacher_cache_dir = \"/content/drive/MyDrive/CS5242/bge-base-zh-v1.5\"\n",
    "\n",
    "data_dir = \"/content/drive/MyDrive/CS5242/\"\n",
    "test_data_name = \"test_public.json\"\n",
    "train_data_name = \"train.json\"\n",
    "\n",
    "task_name = \"NDDualTowerBGE\"\n",
    "devices = [torch.device(\"cuda\" if torch.cuda.is_available() else \"cpu\")]\n",
    "\n",
    "args = Args()\n",
    "args.lr = 3e-5\n",
    "args.num_epochs=5\n",
    "args.batch_size=64\n",
    "args.monitor = 'accuracy'\n",
    "\n",
    "models = os.listdir(\"/content/drive/MyDrive/CS5242/ckpt/\")\n",
    "for model in models:\n",
    "  if \"SingleTowerBGE-epoch0-val_acc0.71\" in model:\n",
    "    teacher_ckpt_path = os.path.join(\"/content/drive/MyDrive/CS5242/ckpt/\",model)\n",
    "    break"
   ]
  },
  {
   "cell_type": "code",
   "execution_count": null,
   "metadata": {},
   "outputs": [
    {
     "name": "stderr",
     "output_type": "stream",
     "text": [
      "Converting data: 100%|██████████| 40000/40000 [00:17<00:00, 2342.73it/s]\n",
      "Converting data: 100%|██████████| 5000/5000 [00:02<00:00, 2451.37it/s]\n",
      "Converting data: 100%|██████████| 5000/5000 [00:02<00:00, 2456.95it/s]\n"
     ]
    },
    {
     "name": "stdout",
     "output_type": "stream",
     "text": [
      "40000\n"
     ]
    },
    {
     "name": "stderr",
     "output_type": "stream",
     "text": [
      "40000it [00:13, 2864.55it/s]\n"
     ]
    }
   ],
   "source": [
    "teacher_net = SingleTowerBGE(teacher_model_name, teacher_cache_dir, args.num_class)\n",
    "teacher_net.load_state_dict(torch.load(teacher_ckpt_path))\n",
    "teacher_net.to(devices[0])\n",
    "teacher_net.eval()\n",
    "for param in teacher_net.parameters():\n",
    "    param.requires_grad_(False)\n",
    "\n",
    "student_net = DualTowerBGE(student_model_name, student_cache_dir, args.num_class)\n",
    "student_net.to(devices[0])\n",
    "\n",
    "train_processor = BGEProcessor(data_dir,train_data_name)\n",
    "train_examples = train_processor.get_examples()[:45000]\n",
    "test_processor = BGEProcessor(data_dir,test_data_name)\n",
    "test_examples = test_processor.get_examples()[:5000]\n",
    "train_examples, dev_examples = train_test_split(train_examples, test_size=1/9, random_state=42)\n",
    "\n",
    "student_train_data = DualTowerBGEDataset(student_model_name, student_cache_dir,train_examples)\n",
    "student_dev_data = DualTowerBGEDataset(student_model_name, student_cache_dir,dev_examples)\n",
    "student_test_data = DualTowerBGEDataset(student_model_name, student_cache_dir,test_examples)\n",
    "\n",
    "teacher_train_data = SingleTowerBGEDataset(teacher_model_name, teacher_cache_dir, train_examples)\n",
    "\n",
    "student_train_iter = DataLoader(dataset=student_train_data,\n",
    "                        batch_size = args.batch_size,\n",
    "                        collate_fn = build_dual_bge_collate_fn(\n",
    "                                        AutoTokenizer.from_pretrained(\n",
    "                                        model_name,\n",
    "                                        cache_dir = cache_dir)),\n",
    "                        shuffle=False)\n",
    "student_dev_iter = DataLoader(dataset=student_dev_data,\n",
    "                        batch_size = args.batch_size,\n",
    "                        collate_fn = build_dual_bge_collate_fn(\n",
    "                                        AutoTokenizer.from_pretrained(\n",
    "                                        model_name,\n",
    "                                        cache_dir = cache_dir)),\n",
    "                        shuffle=False)\n",
    "student_test_iter = DataLoader(dataset=student_test_data,\n",
    "                       batch_size=args.batch_size,\n",
    "                       collate_fn = build_dual_bge_collate_fn(\n",
    "                                        AutoTokenizer.from_pretrained(\n",
    "                                        model_name,\n",
    "                                        cache_dir = cache_dir)),\n",
    "                       shuffle=False)\n",
    "teacher_train_iter = DataLoader(dataset=teacher_train_data,\n",
    "                       batch_size=args.batch_size,\n",
    "                       collate_fn = build_bge_collate_fn(\n",
    "                                        AutoTokenizer.from_pretrained(\n",
    "                                        model_name,\n",
    "                                        cache_dir = cache_dir)),\n",
    "                       shuffle=False)"
   ]
  },
  {
   "cell_type": "code",
   "execution_count": null,
   "metadata": {},
   "outputs": [],
   "source": [
    "def distillation_loss(student_logits, teacher_logits, labels, T=2.0, alpha=0.5):\n",
    "    soft_loss = nn.KLDivLoss(reduction='batchmean')(\n",
    "        F.log_softmax(student_logits / T, dim=1),\n",
    "        F.softmax(teacher_logits / T, dim=1)\n",
    "    ) * (T * T)\n",
    "    hard_loss = F.cross_entropy(student_logits, labels)\n",
    "    return alpha * soft_loss + (1 - alpha) * hard_loss\n",
    "\n",
    "def train_ND_batch(teacher_net, teacher_batch, student_net, student_batch, loss_fn, trainer, devices):\n",
    "    teacher_net.eval()\n",
    "    student_net.train()\n",
    "\n",
    "    teacher_batch = {k: v.to(devices[0]) for k, v in teacher_batch.items()}\n",
    "    student_batch = {k: v.to(devices[0]) for k, v in student_batch.items()}\n",
    "    labels = student_batch['label']\n",
    "\n",
    "    with torch.no_grad():\n",
    "        teacher_logits = teacher_net(**teacher_batch)\n",
    "\n",
    "    student_logits = student_net(**student_batch)\n",
    "\n",
    "    loss = loss_fn(student_logits, teacher_logits, labels)\n",
    "    trainer.zero_grad()\n",
    "    loss.backward()\n",
    "    trainer.step()\n",
    "    args.learning_rates.append(trainer.param_groups[0][\"lr\"])\n",
    "\n",
    "    return loss.item() * labels.shape[0], accuracy(student_logits, labels)\n",
    "\n",
    "def train_ND(teacher_net,\n",
    "             student_net,\n",
    "             teacher_train_iter,\n",
    "             student_train_iter,\n",
    "             valid_iter,\n",
    "             num_epochs,\n",
    "             optimizer,\n",
    "             lr,\n",
    "             wd,\n",
    "             num_warmup_steps,\n",
    "             devices,\n",
    "             task_name):\n",
    "    if optimizer == 'sgd':\n",
    "        trainer = torch.optim.SGD(student_net.parameters(), lr=lr, momentum=0.9, weight_decay=wd)\n",
    "    elif optimizer == 'adam':\n",
    "        trainer = torch.optim.Adam(student_net.parameters(), lr=lr, weight_decay=wd)\n",
    "    elif optimizer == 'adamw':\n",
    "        trainer = torch.optim.AdamW(student_net.parameters(), lr=lr, weight_decay=wd)\n",
    "\n",
    "    model_name = str(net.__class__.__name__)\n",
    "    scheduler = get_cosine_schedule_with_warmup(trainer, num_warmup_steps=num_warmup_steps, num_training_steps=num_epochs*len(student_train_iter))\n",
    "\n",
    "    loss = nn.CrossEntropyLoss(reduction=\"none\")\n",
    "    timer = Timer()\n",
    "    num_batches = len(train_iter)\n",
    "    legend = ['train loss', 'train acc']\n",
    "    if valid_iter is not None:\n",
    "        legend += ['valid loss', 'valid acc']\n",
    "    animator = Animator(xlabel='epoch', xlim=[1, num_epochs], legend=legend, figsize=(7, 5))\n",
    "\n",
    "    if args.monitor == 'loss':\n",
    "        monitor_val = math.inf\n",
    "    else:\n",
    "        monitor_val = -math.inf\n",
    "    for epoch in range(num_epochs):\n",
    "        net.train()\n",
    "        metric = Accumulator(4)\n",
    "        for i, (teacher_batch, student_batch) in enumerate(tqdm(zip(teacher_train_iter, student_train_iter))):\n",
    "            output = train_ND_batch(teacher_net,\n",
    "                                    teacher_batch,\n",
    "                                    student_net,\n",
    "                                    student_batch,\n",
    "                                    distillation_loss,\n",
    "                                    trainer,\n",
    "                                    devices)\n",
    "            timer.start()\n",
    "            labels = student_batch['label']\n",
    "            scheduler.step()\n",
    "            metric.add(output[0], output[1], labels.shape[0])\n",
    "            timer.stop()\n",
    "            if (i + 1) % (num_batches // 5) == 0 or i == num_batches - 1:\n",
    "                animator.add(epoch + (i + 1) / num_batches,\n",
    "                             (metric[0] / metric[2]  , metric[1] / metric[2], None, None))\n",
    "\n",
    "        if valid_iter is not None:\n",
    "            valid_loss, valid_acc = evaluate_loss_and_acc_gpu(student_net, valid_iter, loss, devices[0])\n",
    "            animator.add(epoch + 1, (None, None, valid_loss, valid_acc))\n",
    "            if args.monitor == 'loss':\n",
    "                if valid_loss < monitor_val:\n",
    "                    filename = task_name + f\"-epoch{epoch}-val_loss{valid_loss :.2f}.pt\"\n",
    "                    best_model_state = copy.deepcopy(student_net.state_dict())\n",
    "                    monitor_val = valid_loss\n",
    "            else:\n",
    "                if valid_acc > monitor_val:\n",
    "                    filename = task_name + f\"-epoch{epoch}-val_acc{valid_acc :.2f}.pt\"\n",
    "                    best_model_state = copy.deepcopy(student_net.state_dict())\n",
    "                    monitor_val = valid_acc\n",
    "\n",
    "\n",
    "    measures = (f'train loss {metric[0] / metric[2]:.3f}, '\n",
    "                f'train acc {metric[1] / metric[2]:.3f}')\n",
    "    if valid_iter is not None:\n",
    "        measures += f', valid loss {valid_loss:.3f}'\n",
    "        measures += f', valid acc  {valid_acc: .3f}'\n",
    "    print(measures + f'\\n{metric[2] * num_epochs / timer.sum():.1f}'\n",
    "          f' examples/sec on {str(devices)}')\n",
    "    args.pt_path = os.path.join(args.pt_path, filename)\n",
    "    torch.save(best_model_state, args.pt_path)\n",
    "    animator.save(args.img_path, filename + f\"-train_loss{metric[0] / metric[2]:.2f}.png\")"
   ]
  },
  {
   "cell_type": "code",
   "execution_count": null,
   "metadata": {},
   "outputs": [
    {
     "name": "stdout",
     "output_type": "stream",
     "text": [
      "train loss 0.363, train acc 0.758, valid loss 0.777, valid acc   0.675\n",
      "1191269.2 examples/sec on [device(type='cuda')]\n"
     ]
    },
    {
     "data": {
      "image/svg+xml": [
       "<?xml version=\"1.0\" encoding=\"utf-8\" standalone=\"no\"?>\n",
       "<!DOCTYPE svg PUBLIC \"-//W3C//DTD SVG 1.1//EN\"\n",
       "  \"http://www.w3.org/Graphics/SVG/1.1/DTD/svg11.dtd\">\n",
       "<svg xmlns:xlink=\"http://www.w3.org/1999/xlink\" width=\"435.854688pt\" height=\"324.534926pt\" viewBox=\"0 0 435.854688 324.534926\" xmlns=\"http://www.w3.org/2000/svg\" version=\"1.1\">\n",
       " <metadata>\n",
       "  <rdf:RDF xmlns:dc=\"http://purl.org/dc/elements/1.1/\" xmlns:cc=\"http://creativecommons.org/ns#\" xmlns:rdf=\"http://www.w3.org/1999/02/22-rdf-syntax-ns#\">\n",
       "   <cc:Work>\n",
       "    <dc:type rdf:resource=\"http://purl.org/dc/dcmitype/StillImage\"/>\n",
       "    <dc:date>2025-04-26T08:47:18.331825</dc:date>\n",
       "    <dc:format>image/svg+xml</dc:format>\n",
       "    <dc:creator>\n",
       "     <cc:Agent>\n",
       "      <dc:title>Matplotlib v3.10.0, https://matplotlib.org/</dc:title>\n",
       "     </cc:Agent>\n",
       "    </dc:creator>\n",
       "   </cc:Work>\n",
       "  </rdf:RDF>\n",
       " </metadata>\n",
       " <defs>\n",
       "  <style type=\"text/css\">*{stroke-linejoin: round; stroke-linecap: butt}</style>\n",
       " </defs>\n",
       " <g id=\"figure_1\">\n",
       "  <g id=\"patch_1\">\n",
       "   <path d=\"M 0 324.534926 \n",
       "L 435.854688 324.534926 \n",
       "L 435.854688 0 \n",
       "L 0 0 \n",
       "z\n",
       "\" style=\"fill: #ffffff\"/>\n",
       "  </g>\n",
       "  <g id=\"axes_1\">\n",
       "   <g id=\"patch_2\">\n",
       "    <path d=\"M 30.103125 286.978676 \n",
       "L 420.703125 286.978676 \n",
       "L 420.703125 9.778676 \n",
       "L 30.103125 9.778676 \n",
       "z\n",
       "\" style=\"fill: #ffffff\"/>\n",
       "   </g>\n",
       "   <g id=\"matplotlib.axis_1\">\n",
       "    <g id=\"xtick_1\">\n",
       "     <g id=\"line2d_1\">\n",
       "      <path d=\"M 30.103125 286.978676 \n",
       "L 30.103125 9.778676 \n",
       "\" clip-path=\"url(#p5832274b67)\" style=\"fill: none; stroke: #b0b0b0; stroke-width: 0.8; stroke-linecap: square\"/>\n",
       "     </g>\n",
       "     <g id=\"line2d_2\">\n",
       "      <defs>\n",
       "       <path id=\"mbb1c8e3ef6\" d=\"M 0 0 \n",
       "L 0 3.5 \n",
       "\" style=\"stroke: #000000; stroke-width: 0.8\"/>\n",
       "      </defs>\n",
       "      <g>\n",
       "       <use xlink:href=\"#mbb1c8e3ef6\" x=\"30.103125\" y=\"286.978676\" style=\"stroke: #000000; stroke-width: 0.8\"/>\n",
       "      </g>\n",
       "     </g>\n",
       "     <g id=\"text_1\">\n",
       "      <!-- 1.0 -->\n",
       "      <g transform=\"translate(22.151563 301.577114) scale(0.1 -0.1)\">\n",
       "       <defs>\n",
       "        <path id=\"DejaVuSans-31\" d=\"M 794 531 \n",
       "L 1825 531 \n",
       "L 1825 4091 \n",
       "L 703 3866 \n",
       "L 703 4441 \n",
       "L 1819 4666 \n",
       "L 2450 4666 \n",
       "L 2450 531 \n",
       "L 3481 531 \n",
       "L 3481 0 \n",
       "L 794 0 \n",
       "L 794 531 \n",
       "z\n",
       "\" transform=\"scale(0.015625)\"/>\n",
       "        <path id=\"DejaVuSans-2e\" d=\"M 684 794 \n",
       "L 1344 794 \n",
       "L 1344 0 \n",
       "L 684 0 \n",
       "L 684 794 \n",
       "z\n",
       "\" transform=\"scale(0.015625)\"/>\n",
       "        <path id=\"DejaVuSans-30\" d=\"M 2034 4250 \n",
       "Q 1547 4250 1301 3770 \n",
       "Q 1056 3291 1056 2328 \n",
       "Q 1056 1369 1301 889 \n",
       "Q 1547 409 2034 409 \n",
       "Q 2525 409 2770 889 \n",
       "Q 3016 1369 3016 2328 \n",
       "Q 3016 3291 2770 3770 \n",
       "Q 2525 4250 2034 4250 \n",
       "z\n",
       "M 2034 4750 \n",
       "Q 2819 4750 3233 4129 \n",
       "Q 3647 3509 3647 2328 \n",
       "Q 3647 1150 3233 529 \n",
       "Q 2819 -91 2034 -91 \n",
       "Q 1250 -91 836 529 \n",
       "Q 422 1150 422 2328 \n",
       "Q 422 3509 836 4129 \n",
       "Q 1250 4750 2034 4750 \n",
       "z\n",
       "\" transform=\"scale(0.015625)\"/>\n",
       "       </defs>\n",
       "       <use xlink:href=\"#DejaVuSans-31\"/>\n",
       "       <use xlink:href=\"#DejaVuSans-2e\" transform=\"translate(63.623047 0)\"/>\n",
       "       <use xlink:href=\"#DejaVuSans-30\" transform=\"translate(95.410156 0)\"/>\n",
       "      </g>\n",
       "     </g>\n",
       "    </g>\n",
       "    <g id=\"xtick_2\">\n",
       "     <g id=\"line2d_3\">\n",
       "      <path d=\"M 78.928125 286.978676 \n",
       "L 78.928125 9.778676 \n",
       "\" clip-path=\"url(#p5832274b67)\" style=\"fill: none; stroke: #b0b0b0; stroke-width: 0.8; stroke-linecap: square\"/>\n",
       "     </g>\n",
       "     <g id=\"line2d_4\">\n",
       "      <g>\n",
       "       <use xlink:href=\"#mbb1c8e3ef6\" x=\"78.928125\" y=\"286.978676\" style=\"stroke: #000000; stroke-width: 0.8\"/>\n",
       "      </g>\n",
       "     </g>\n",
       "     <g id=\"text_2\">\n",
       "      <!-- 1.5 -->\n",
       "      <g transform=\"translate(70.976563 301.577114) scale(0.1 -0.1)\">\n",
       "       <defs>\n",
       "        <path id=\"DejaVuSans-35\" d=\"M 691 4666 \n",
       "L 3169 4666 \n",
       "L 3169 4134 \n",
       "L 1269 4134 \n",
       "L 1269 2991 \n",
       "Q 1406 3038 1543 3061 \n",
       "Q 1681 3084 1819 3084 \n",
       "Q 2600 3084 3056 2656 \n",
       "Q 3513 2228 3513 1497 \n",
       "Q 3513 744 3044 326 \n",
       "Q 2575 -91 1722 -91 \n",
       "Q 1428 -91 1123 -41 \n",
       "Q 819 9 494 109 \n",
       "L 494 744 \n",
       "Q 775 591 1075 516 \n",
       "Q 1375 441 1709 441 \n",
       "Q 2250 441 2565 725 \n",
       "Q 2881 1009 2881 1497 \n",
       "Q 2881 1984 2565 2268 \n",
       "Q 2250 2553 1709 2553 \n",
       "Q 1456 2553 1204 2497 \n",
       "Q 953 2441 691 2322 \n",
       "L 691 4666 \n",
       "z\n",
       "\" transform=\"scale(0.015625)\"/>\n",
       "       </defs>\n",
       "       <use xlink:href=\"#DejaVuSans-31\"/>\n",
       "       <use xlink:href=\"#DejaVuSans-2e\" transform=\"translate(63.623047 0)\"/>\n",
       "       <use xlink:href=\"#DejaVuSans-35\" transform=\"translate(95.410156 0)\"/>\n",
       "      </g>\n",
       "     </g>\n",
       "    </g>\n",
       "    <g id=\"xtick_3\">\n",
       "     <g id=\"line2d_5\">\n",
       "      <path d=\"M 127.753125 286.978676 \n",
       "L 127.753125 9.778676 \n",
       "\" clip-path=\"url(#p5832274b67)\" style=\"fill: none; stroke: #b0b0b0; stroke-width: 0.8; stroke-linecap: square\"/>\n",
       "     </g>\n",
       "     <g id=\"line2d_6\">\n",
       "      <g>\n",
       "       <use xlink:href=\"#mbb1c8e3ef6\" x=\"127.753125\" y=\"286.978676\" style=\"stroke: #000000; stroke-width: 0.8\"/>\n",
       "      </g>\n",
       "     </g>\n",
       "     <g id=\"text_3\">\n",
       "      <!-- 2.0 -->\n",
       "      <g transform=\"translate(119.801563 301.577114) scale(0.1 -0.1)\">\n",
       "       <defs>\n",
       "        <path id=\"DejaVuSans-32\" d=\"M 1228 531 \n",
       "L 3431 531 \n",
       "L 3431 0 \n",
       "L 469 0 \n",
       "L 469 531 \n",
       "Q 828 903 1448 1529 \n",
       "Q 2069 2156 2228 2338 \n",
       "Q 2531 2678 2651 2914 \n",
       "Q 2772 3150 2772 3378 \n",
       "Q 2772 3750 2511 3984 \n",
       "Q 2250 4219 1831 4219 \n",
       "Q 1534 4219 1204 4116 \n",
       "Q 875 4013 500 3803 \n",
       "L 500 4441 \n",
       "Q 881 4594 1212 4672 \n",
       "Q 1544 4750 1819 4750 \n",
       "Q 2544 4750 2975 4387 \n",
       "Q 3406 4025 3406 3419 \n",
       "Q 3406 3131 3298 2873 \n",
       "Q 3191 2616 2906 2266 \n",
       "Q 2828 2175 2409 1742 \n",
       "Q 1991 1309 1228 531 \n",
       "z\n",
       "\" transform=\"scale(0.015625)\"/>\n",
       "       </defs>\n",
       "       <use xlink:href=\"#DejaVuSans-32\"/>\n",
       "       <use xlink:href=\"#DejaVuSans-2e\" transform=\"translate(63.623047 0)\"/>\n",
       "       <use xlink:href=\"#DejaVuSans-30\" transform=\"translate(95.410156 0)\"/>\n",
       "      </g>\n",
       "     </g>\n",
       "    </g>\n",
       "    <g id=\"xtick_4\">\n",
       "     <g id=\"line2d_7\">\n",
       "      <path d=\"M 176.578125 286.978676 \n",
       "L 176.578125 9.778676 \n",
       "\" clip-path=\"url(#p5832274b67)\" style=\"fill: none; stroke: #b0b0b0; stroke-width: 0.8; stroke-linecap: square\"/>\n",
       "     </g>\n",
       "     <g id=\"line2d_8\">\n",
       "      <g>\n",
       "       <use xlink:href=\"#mbb1c8e3ef6\" x=\"176.578125\" y=\"286.978676\" style=\"stroke: #000000; stroke-width: 0.8\"/>\n",
       "      </g>\n",
       "     </g>\n",
       "     <g id=\"text_4\">\n",
       "      <!-- 2.5 -->\n",
       "      <g transform=\"translate(168.626563 301.577114) scale(0.1 -0.1)\">\n",
       "       <use xlink:href=\"#DejaVuSans-32\"/>\n",
       "       <use xlink:href=\"#DejaVuSans-2e\" transform=\"translate(63.623047 0)\"/>\n",
       "       <use xlink:href=\"#DejaVuSans-35\" transform=\"translate(95.410156 0)\"/>\n",
       "      </g>\n",
       "     </g>\n",
       "    </g>\n",
       "    <g id=\"xtick_5\">\n",
       "     <g id=\"line2d_9\">\n",
       "      <path d=\"M 225.403125 286.978676 \n",
       "L 225.403125 9.778676 \n",
       "\" clip-path=\"url(#p5832274b67)\" style=\"fill: none; stroke: #b0b0b0; stroke-width: 0.8; stroke-linecap: square\"/>\n",
       "     </g>\n",
       "     <g id=\"line2d_10\">\n",
       "      <g>\n",
       "       <use xlink:href=\"#mbb1c8e3ef6\" x=\"225.403125\" y=\"286.978676\" style=\"stroke: #000000; stroke-width: 0.8\"/>\n",
       "      </g>\n",
       "     </g>\n",
       "     <g id=\"text_5\">\n",
       "      <!-- 3.0 -->\n",
       "      <g transform=\"translate(217.451563 301.577114) scale(0.1 -0.1)\">\n",
       "       <defs>\n",
       "        <path id=\"DejaVuSans-33\" d=\"M 2597 2516 \n",
       "Q 3050 2419 3304 2112 \n",
       "Q 3559 1806 3559 1356 \n",
       "Q 3559 666 3084 287 \n",
       "Q 2609 -91 1734 -91 \n",
       "Q 1441 -91 1130 -33 \n",
       "Q 819 25 488 141 \n",
       "L 488 750 \n",
       "Q 750 597 1062 519 \n",
       "Q 1375 441 1716 441 \n",
       "Q 2309 441 2620 675 \n",
       "Q 2931 909 2931 1356 \n",
       "Q 2931 1769 2642 2001 \n",
       "Q 2353 2234 1838 2234 \n",
       "L 1294 2234 \n",
       "L 1294 2753 \n",
       "L 1863 2753 \n",
       "Q 2328 2753 2575 2939 \n",
       "Q 2822 3125 2822 3475 \n",
       "Q 2822 3834 2567 4026 \n",
       "Q 2313 4219 1838 4219 \n",
       "Q 1578 4219 1281 4162 \n",
       "Q 984 4106 628 3988 \n",
       "L 628 4550 \n",
       "Q 988 4650 1302 4700 \n",
       "Q 1616 4750 1894 4750 \n",
       "Q 2613 4750 3031 4423 \n",
       "Q 3450 4097 3450 3541 \n",
       "Q 3450 3153 3228 2886 \n",
       "Q 3006 2619 2597 2516 \n",
       "z\n",
       "\" transform=\"scale(0.015625)\"/>\n",
       "       </defs>\n",
       "       <use xlink:href=\"#DejaVuSans-33\"/>\n",
       "       <use xlink:href=\"#DejaVuSans-2e\" transform=\"translate(63.623047 0)\"/>\n",
       "       <use xlink:href=\"#DejaVuSans-30\" transform=\"translate(95.410156 0)\"/>\n",
       "      </g>\n",
       "     </g>\n",
       "    </g>\n",
       "    <g id=\"xtick_6\">\n",
       "     <g id=\"line2d_11\">\n",
       "      <path d=\"M 274.228125 286.978676 \n",
       "L 274.228125 9.778676 \n",
       "\" clip-path=\"url(#p5832274b67)\" style=\"fill: none; stroke: #b0b0b0; stroke-width: 0.8; stroke-linecap: square\"/>\n",
       "     </g>\n",
       "     <g id=\"line2d_12\">\n",
       "      <g>\n",
       "       <use xlink:href=\"#mbb1c8e3ef6\" x=\"274.228125\" y=\"286.978676\" style=\"stroke: #000000; stroke-width: 0.8\"/>\n",
       "      </g>\n",
       "     </g>\n",
       "     <g id=\"text_6\">\n",
       "      <!-- 3.5 -->\n",
       "      <g transform=\"translate(266.276563 301.577114) scale(0.1 -0.1)\">\n",
       "       <use xlink:href=\"#DejaVuSans-33\"/>\n",
       "       <use xlink:href=\"#DejaVuSans-2e\" transform=\"translate(63.623047 0)\"/>\n",
       "       <use xlink:href=\"#DejaVuSans-35\" transform=\"translate(95.410156 0)\"/>\n",
       "      </g>\n",
       "     </g>\n",
       "    </g>\n",
       "    <g id=\"xtick_7\">\n",
       "     <g id=\"line2d_13\">\n",
       "      <path d=\"M 323.053125 286.978676 \n",
       "L 323.053125 9.778676 \n",
       "\" clip-path=\"url(#p5832274b67)\" style=\"fill: none; stroke: #b0b0b0; stroke-width: 0.8; stroke-linecap: square\"/>\n",
       "     </g>\n",
       "     <g id=\"line2d_14\">\n",
       "      <g>\n",
       "       <use xlink:href=\"#mbb1c8e3ef6\" x=\"323.053125\" y=\"286.978676\" style=\"stroke: #000000; stroke-width: 0.8\"/>\n",
       "      </g>\n",
       "     </g>\n",
       "     <g id=\"text_7\">\n",
       "      <!-- 4.0 -->\n",
       "      <g transform=\"translate(315.101562 301.577114) scale(0.1 -0.1)\">\n",
       "       <defs>\n",
       "        <path id=\"DejaVuSans-34\" d=\"M 2419 4116 \n",
       "L 825 1625 \n",
       "L 2419 1625 \n",
       "L 2419 4116 \n",
       "z\n",
       "M 2253 4666 \n",
       "L 3047 4666 \n",
       "L 3047 1625 \n",
       "L 3713 1625 \n",
       "L 3713 1100 \n",
       "L 3047 1100 \n",
       "L 3047 0 \n",
       "L 2419 0 \n",
       "L 2419 1100 \n",
       "L 313 1100 \n",
       "L 313 1709 \n",
       "L 2253 4666 \n",
       "z\n",
       "\" transform=\"scale(0.015625)\"/>\n",
       "       </defs>\n",
       "       <use xlink:href=\"#DejaVuSans-34\"/>\n",
       "       <use xlink:href=\"#DejaVuSans-2e\" transform=\"translate(63.623047 0)\"/>\n",
       "       <use xlink:href=\"#DejaVuSans-30\" transform=\"translate(95.410156 0)\"/>\n",
       "      </g>\n",
       "     </g>\n",
       "    </g>\n",
       "    <g id=\"xtick_8\">\n",
       "     <g id=\"line2d_15\">\n",
       "      <path d=\"M 371.878125 286.978676 \n",
       "L 371.878125 9.778676 \n",
       "\" clip-path=\"url(#p5832274b67)\" style=\"fill: none; stroke: #b0b0b0; stroke-width: 0.8; stroke-linecap: square\"/>\n",
       "     </g>\n",
       "     <g id=\"line2d_16\">\n",
       "      <g>\n",
       "       <use xlink:href=\"#mbb1c8e3ef6\" x=\"371.878125\" y=\"286.978676\" style=\"stroke: #000000; stroke-width: 0.8\"/>\n",
       "      </g>\n",
       "     </g>\n",
       "     <g id=\"text_8\">\n",
       "      <!-- 4.5 -->\n",
       "      <g transform=\"translate(363.926562 301.577114) scale(0.1 -0.1)\">\n",
       "       <use xlink:href=\"#DejaVuSans-34\"/>\n",
       "       <use xlink:href=\"#DejaVuSans-2e\" transform=\"translate(63.623047 0)\"/>\n",
       "       <use xlink:href=\"#DejaVuSans-35\" transform=\"translate(95.410156 0)\"/>\n",
       "      </g>\n",
       "     </g>\n",
       "    </g>\n",
       "    <g id=\"xtick_9\">\n",
       "     <g id=\"line2d_17\">\n",
       "      <path d=\"M 420.703125 286.978676 \n",
       "L 420.703125 9.778676 \n",
       "\" clip-path=\"url(#p5832274b67)\" style=\"fill: none; stroke: #b0b0b0; stroke-width: 0.8; stroke-linecap: square\"/>\n",
       "     </g>\n",
       "     <g id=\"line2d_18\">\n",
       "      <g>\n",
       "       <use xlink:href=\"#mbb1c8e3ef6\" x=\"420.703125\" y=\"286.978676\" style=\"stroke: #000000; stroke-width: 0.8\"/>\n",
       "      </g>\n",
       "     </g>\n",
       "     <g id=\"text_9\">\n",
       "      <!-- 5.0 -->\n",
       "      <g transform=\"translate(412.751562 301.577114) scale(0.1 -0.1)\">\n",
       "       <use xlink:href=\"#DejaVuSans-35\"/>\n",
       "       <use xlink:href=\"#DejaVuSans-2e\" transform=\"translate(63.623047 0)\"/>\n",
       "       <use xlink:href=\"#DejaVuSans-30\" transform=\"translate(95.410156 0)\"/>\n",
       "      </g>\n",
       "     </g>\n",
       "    </g>\n",
       "    <g id=\"text_10\">\n",
       "     <!-- epoch -->\n",
       "     <g transform=\"translate(210.175 315.255239) scale(0.1 -0.1)\">\n",
       "      <defs>\n",
       "       <path id=\"DejaVuSans-65\" d=\"M 3597 1894 \n",
       "L 3597 1613 \n",
       "L 953 1613 \n",
       "Q 991 1019 1311 708 \n",
       "Q 1631 397 2203 397 \n",
       "Q 2534 397 2845 478 \n",
       "Q 3156 559 3463 722 \n",
       "L 3463 178 \n",
       "Q 3153 47 2828 -22 \n",
       "Q 2503 -91 2169 -91 \n",
       "Q 1331 -91 842 396 \n",
       "Q 353 884 353 1716 \n",
       "Q 353 2575 817 3079 \n",
       "Q 1281 3584 2069 3584 \n",
       "Q 2775 3584 3186 3129 \n",
       "Q 3597 2675 3597 1894 \n",
       "z\n",
       "M 3022 2063 \n",
       "Q 3016 2534 2758 2815 \n",
       "Q 2500 3097 2075 3097 \n",
       "Q 1594 3097 1305 2825 \n",
       "Q 1016 2553 972 2059 \n",
       "L 3022 2063 \n",
       "z\n",
       "\" transform=\"scale(0.015625)\"/>\n",
       "       <path id=\"DejaVuSans-70\" d=\"M 1159 525 \n",
       "L 1159 -1331 \n",
       "L 581 -1331 \n",
       "L 581 3500 \n",
       "L 1159 3500 \n",
       "L 1159 2969 \n",
       "Q 1341 3281 1617 3432 \n",
       "Q 1894 3584 2278 3584 \n",
       "Q 2916 3584 3314 3078 \n",
       "Q 3713 2572 3713 1747 \n",
       "Q 3713 922 3314 415 \n",
       "Q 2916 -91 2278 -91 \n",
       "Q 1894 -91 1617 61 \n",
       "Q 1341 213 1159 525 \n",
       "z\n",
       "M 3116 1747 \n",
       "Q 3116 2381 2855 2742 \n",
       "Q 2594 3103 2138 3103 \n",
       "Q 1681 3103 1420 2742 \n",
       "Q 1159 2381 1159 1747 \n",
       "Q 1159 1113 1420 752 \n",
       "Q 1681 391 2138 391 \n",
       "Q 2594 391 2855 752 \n",
       "Q 3116 1113 3116 1747 \n",
       "z\n",
       "\" transform=\"scale(0.015625)\"/>\n",
       "       <path id=\"DejaVuSans-6f\" d=\"M 1959 3097 \n",
       "Q 1497 3097 1228 2736 \n",
       "Q 959 2375 959 1747 \n",
       "Q 959 1119 1226 758 \n",
       "Q 1494 397 1959 397 \n",
       "Q 2419 397 2687 759 \n",
       "Q 2956 1122 2956 1747 \n",
       "Q 2956 2369 2687 2733 \n",
       "Q 2419 3097 1959 3097 \n",
       "z\n",
       "M 1959 3584 \n",
       "Q 2709 3584 3137 3096 \n",
       "Q 3566 2609 3566 1747 \n",
       "Q 3566 888 3137 398 \n",
       "Q 2709 -91 1959 -91 \n",
       "Q 1206 -91 779 398 \n",
       "Q 353 888 353 1747 \n",
       "Q 353 2609 779 3096 \n",
       "Q 1206 3584 1959 3584 \n",
       "z\n",
       "\" transform=\"scale(0.015625)\"/>\n",
       "       <path id=\"DejaVuSans-63\" d=\"M 3122 3366 \n",
       "L 3122 2828 \n",
       "Q 2878 2963 2633 3030 \n",
       "Q 2388 3097 2138 3097 \n",
       "Q 1578 3097 1268 2742 \n",
       "Q 959 2388 959 1747 \n",
       "Q 959 1106 1268 751 \n",
       "Q 1578 397 2138 397 \n",
       "Q 2388 397 2633 464 \n",
       "Q 2878 531 3122 666 \n",
       "L 3122 134 \n",
       "Q 2881 22 2623 -34 \n",
       "Q 2366 -91 2075 -91 \n",
       "Q 1284 -91 818 406 \n",
       "Q 353 903 353 1747 \n",
       "Q 353 2603 823 3093 \n",
       "Q 1294 3584 2113 3584 \n",
       "Q 2378 3584 2631 3529 \n",
       "Q 2884 3475 3122 3366 \n",
       "z\n",
       "\" transform=\"scale(0.015625)\"/>\n",
       "       <path id=\"DejaVuSans-68\" d=\"M 3513 2113 \n",
       "L 3513 0 \n",
       "L 2938 0 \n",
       "L 2938 2094 \n",
       "Q 2938 2591 2744 2837 \n",
       "Q 2550 3084 2163 3084 \n",
       "Q 1697 3084 1428 2787 \n",
       "Q 1159 2491 1159 1978 \n",
       "L 1159 0 \n",
       "L 581 0 \n",
       "L 581 4863 \n",
       "L 1159 4863 \n",
       "L 1159 2956 \n",
       "Q 1366 3272 1645 3428 \n",
       "Q 1925 3584 2291 3584 \n",
       "Q 2894 3584 3203 3211 \n",
       "Q 3513 2838 3513 2113 \n",
       "z\n",
       "\" transform=\"scale(0.015625)\"/>\n",
       "      </defs>\n",
       "      <use xlink:href=\"#DejaVuSans-65\"/>\n",
       "      <use xlink:href=\"#DejaVuSans-70\" transform=\"translate(61.523438 0)\"/>\n",
       "      <use xlink:href=\"#DejaVuSans-6f\" transform=\"translate(125 0)\"/>\n",
       "      <use xlink:href=\"#DejaVuSans-63\" transform=\"translate(186.181641 0)\"/>\n",
       "      <use xlink:href=\"#DejaVuSans-68\" transform=\"translate(241.162109 0)\"/>\n",
       "     </g>\n",
       "    </g>\n",
       "   </g>\n",
       "   <g id=\"matplotlib.axis_2\">\n",
       "    <g id=\"ytick_1\">\n",
       "     <g id=\"line2d_19\">\n",
       "      <path d=\"M 30.103125 252.322351 \n",
       "L 420.703125 252.322351 \n",
       "\" clip-path=\"url(#p5832274b67)\" style=\"fill: none; stroke: #b0b0b0; stroke-width: 0.8; stroke-linecap: square\"/>\n",
       "     </g>\n",
       "     <g id=\"line2d_20\">\n",
       "      <defs>\n",
       "       <path id=\"maf5bde3bda\" d=\"M 0 0 \n",
       "L -3.5 0 \n",
       "\" style=\"stroke: #000000; stroke-width: 0.8\"/>\n",
       "      </defs>\n",
       "      <g>\n",
       "       <use xlink:href=\"#maf5bde3bda\" x=\"30.103125\" y=\"252.322351\" style=\"stroke: #000000; stroke-width: 0.8\"/>\n",
       "      </g>\n",
       "     </g>\n",
       "     <g id=\"text_11\">\n",
       "      <!-- 0.4 -->\n",
       "      <g transform=\"translate(7.2 256.12157) scale(0.1 -0.1)\">\n",
       "       <use xlink:href=\"#DejaVuSans-30\"/>\n",
       "       <use xlink:href=\"#DejaVuSans-2e\" transform=\"translate(63.623047 0)\"/>\n",
       "       <use xlink:href=\"#DejaVuSans-34\" transform=\"translate(95.410156 0)\"/>\n",
       "      </g>\n",
       "     </g>\n",
       "    </g>\n",
       "    <g id=\"ytick_2\">\n",
       "     <g id=\"line2d_21\">\n",
       "      <path d=\"M 30.103125 191.991568 \n",
       "L 420.703125 191.991568 \n",
       "\" clip-path=\"url(#p5832274b67)\" style=\"fill: none; stroke: #b0b0b0; stroke-width: 0.8; stroke-linecap: square\"/>\n",
       "     </g>\n",
       "     <g id=\"line2d_22\">\n",
       "      <g>\n",
       "       <use xlink:href=\"#maf5bde3bda\" x=\"30.103125\" y=\"191.991568\" style=\"stroke: #000000; stroke-width: 0.8\"/>\n",
       "      </g>\n",
       "     </g>\n",
       "     <g id=\"text_12\">\n",
       "      <!-- 0.5 -->\n",
       "      <g transform=\"translate(7.2 195.790787) scale(0.1 -0.1)\">\n",
       "       <use xlink:href=\"#DejaVuSans-30\"/>\n",
       "       <use xlink:href=\"#DejaVuSans-2e\" transform=\"translate(63.623047 0)\"/>\n",
       "       <use xlink:href=\"#DejaVuSans-35\" transform=\"translate(95.410156 0)\"/>\n",
       "      </g>\n",
       "     </g>\n",
       "    </g>\n",
       "    <g id=\"ytick_3\">\n",
       "     <g id=\"line2d_23\">\n",
       "      <path d=\"M 30.103125 131.660785 \n",
       "L 420.703125 131.660785 \n",
       "\" clip-path=\"url(#p5832274b67)\" style=\"fill: none; stroke: #b0b0b0; stroke-width: 0.8; stroke-linecap: square\"/>\n",
       "     </g>\n",
       "     <g id=\"line2d_24\">\n",
       "      <g>\n",
       "       <use xlink:href=\"#maf5bde3bda\" x=\"30.103125\" y=\"131.660785\" style=\"stroke: #000000; stroke-width: 0.8\"/>\n",
       "      </g>\n",
       "     </g>\n",
       "     <g id=\"text_13\">\n",
       "      <!-- 0.6 -->\n",
       "      <g transform=\"translate(7.2 135.460004) scale(0.1 -0.1)\">\n",
       "       <defs>\n",
       "        <path id=\"DejaVuSans-36\" d=\"M 2113 2584 \n",
       "Q 1688 2584 1439 2293 \n",
       "Q 1191 2003 1191 1497 \n",
       "Q 1191 994 1439 701 \n",
       "Q 1688 409 2113 409 \n",
       "Q 2538 409 2786 701 \n",
       "Q 3034 994 3034 1497 \n",
       "Q 3034 2003 2786 2293 \n",
       "Q 2538 2584 2113 2584 \n",
       "z\n",
       "M 3366 4563 \n",
       "L 3366 3988 \n",
       "Q 3128 4100 2886 4159 \n",
       "Q 2644 4219 2406 4219 \n",
       "Q 1781 4219 1451 3797 \n",
       "Q 1122 3375 1075 2522 \n",
       "Q 1259 2794 1537 2939 \n",
       "Q 1816 3084 2150 3084 \n",
       "Q 2853 3084 3261 2657 \n",
       "Q 3669 2231 3669 1497 \n",
       "Q 3669 778 3244 343 \n",
       "Q 2819 -91 2113 -91 \n",
       "Q 1303 -91 875 529 \n",
       "Q 447 1150 447 2328 \n",
       "Q 447 3434 972 4092 \n",
       "Q 1497 4750 2381 4750 \n",
       "Q 2619 4750 2861 4703 \n",
       "Q 3103 4656 3366 4563 \n",
       "z\n",
       "\" transform=\"scale(0.015625)\"/>\n",
       "       </defs>\n",
       "       <use xlink:href=\"#DejaVuSans-30\"/>\n",
       "       <use xlink:href=\"#DejaVuSans-2e\" transform=\"translate(63.623047 0)\"/>\n",
       "       <use xlink:href=\"#DejaVuSans-36\" transform=\"translate(95.410156 0)\"/>\n",
       "      </g>\n",
       "     </g>\n",
       "    </g>\n",
       "    <g id=\"ytick_4\">\n",
       "     <g id=\"line2d_25\">\n",
       "      <path d=\"M 30.103125 71.330002 \n",
       "L 420.703125 71.330002 \n",
       "\" clip-path=\"url(#p5832274b67)\" style=\"fill: none; stroke: #b0b0b0; stroke-width: 0.8; stroke-linecap: square\"/>\n",
       "     </g>\n",
       "     <g id=\"line2d_26\">\n",
       "      <g>\n",
       "       <use xlink:href=\"#maf5bde3bda\" x=\"30.103125\" y=\"71.330002\" style=\"stroke: #000000; stroke-width: 0.8\"/>\n",
       "      </g>\n",
       "     </g>\n",
       "     <g id=\"text_14\">\n",
       "      <!-- 0.7 -->\n",
       "      <g transform=\"translate(7.2 75.129221) scale(0.1 -0.1)\">\n",
       "       <defs>\n",
       "        <path id=\"DejaVuSans-37\" d=\"M 525 4666 \n",
       "L 3525 4666 \n",
       "L 3525 4397 \n",
       "L 1831 0 \n",
       "L 1172 0 \n",
       "L 2766 4134 \n",
       "L 525 4134 \n",
       "L 525 4666 \n",
       "z\n",
       "\" transform=\"scale(0.015625)\"/>\n",
       "       </defs>\n",
       "       <use xlink:href=\"#DejaVuSans-30\"/>\n",
       "       <use xlink:href=\"#DejaVuSans-2e\" transform=\"translate(63.623047 0)\"/>\n",
       "       <use xlink:href=\"#DejaVuSans-37\" transform=\"translate(95.410156 0)\"/>\n",
       "      </g>\n",
       "     </g>\n",
       "    </g>\n",
       "    <g id=\"ytick_5\">\n",
       "     <g id=\"line2d_27\">\n",
       "      <path d=\"M 30.103125 10.999219 \n",
       "L 420.703125 10.999219 \n",
       "\" clip-path=\"url(#p5832274b67)\" style=\"fill: none; stroke: #b0b0b0; stroke-width: 0.8; stroke-linecap: square\"/>\n",
       "     </g>\n",
       "     <g id=\"line2d_28\">\n",
       "      <g>\n",
       "       <use xlink:href=\"#maf5bde3bda\" x=\"30.103125\" y=\"10.999219\" style=\"stroke: #000000; stroke-width: 0.8\"/>\n",
       "      </g>\n",
       "     </g>\n",
       "     <g id=\"text_15\">\n",
       "      <!-- 0.8 -->\n",
       "      <g transform=\"translate(7.2 14.798438) scale(0.1 -0.1)\">\n",
       "       <defs>\n",
       "        <path id=\"DejaVuSans-38\" d=\"M 2034 2216 \n",
       "Q 1584 2216 1326 1975 \n",
       "Q 1069 1734 1069 1313 \n",
       "Q 1069 891 1326 650 \n",
       "Q 1584 409 2034 409 \n",
       "Q 2484 409 2743 651 \n",
       "Q 3003 894 3003 1313 \n",
       "Q 3003 1734 2745 1975 \n",
       "Q 2488 2216 2034 2216 \n",
       "z\n",
       "M 1403 2484 \n",
       "Q 997 2584 770 2862 \n",
       "Q 544 3141 544 3541 \n",
       "Q 544 4100 942 4425 \n",
       "Q 1341 4750 2034 4750 \n",
       "Q 2731 4750 3128 4425 \n",
       "Q 3525 4100 3525 3541 \n",
       "Q 3525 3141 3298 2862 \n",
       "Q 3072 2584 2669 2484 \n",
       "Q 3125 2378 3379 2068 \n",
       "Q 3634 1759 3634 1313 \n",
       "Q 3634 634 3220 271 \n",
       "Q 2806 -91 2034 -91 \n",
       "Q 1263 -91 848 271 \n",
       "Q 434 634 434 1313 \n",
       "Q 434 1759 690 2068 \n",
       "Q 947 2378 1403 2484 \n",
       "z\n",
       "M 1172 3481 \n",
       "Q 1172 3119 1398 2916 \n",
       "Q 1625 2713 2034 2713 \n",
       "Q 2441 2713 2670 2916 \n",
       "Q 2900 3119 2900 3481 \n",
       "Q 2900 3844 2670 4047 \n",
       "Q 2441 4250 2034 4250 \n",
       "Q 1625 4250 1398 4047 \n",
       "Q 1172 3844 1172 3481 \n",
       "z\n",
       "\" transform=\"scale(0.015625)\"/>\n",
       "       </defs>\n",
       "       <use xlink:href=\"#DejaVuSans-30\"/>\n",
       "       <use xlink:href=\"#DejaVuSans-2e\" transform=\"translate(63.623047 0)\"/>\n",
       "       <use xlink:href=\"#DejaVuSans-38\" transform=\"translate(95.410156 0)\"/>\n",
       "      </g>\n",
       "     </g>\n",
       "    </g>\n",
       "   </g>\n",
       "   <g id=\"line2d_29\">\n",
       "    <path d=\"M -1 124.155778 \n",
       "L 10.573125 132.94467 \n",
       "L 30.103125 142.102286 \n",
       "L 49.633125 189.506628 \n",
       "L 69.163125 196.906606 \n",
       "L 88.693125 203.946499 \n",
       "L 108.223125 207.391992 \n",
       "L 127.753125 209.195936 \n",
       "L 147.283125 219.487572 \n",
       "L 166.813125 227.652527 \n",
       "L 186.343125 235.504563 \n",
       "L 205.873125 238.778579 \n",
       "L 225.403125 240.504613 \n",
       "L 244.933125 243.688747 \n",
       "L 264.463125 251.971409 \n",
       "L 283.993125 258.714528 \n",
       "L 303.523125 262.258722 \n",
       "L 323.053125 263.752413 \n",
       "L 342.583125 255.856679 \n",
       "L 362.113125 264.740079 \n",
       "L 381.643125 270.687002 \n",
       "L 401.173125 273.986712 \n",
       "L 420.703125 274.378676 \n",
       "\" clip-path=\"url(#p5832274b67)\" style=\"fill: none; stroke: #1f77b4; stroke-width: 1.5; stroke-linecap: square\"/>\n",
       "   </g>\n",
       "   <g id=\"line2d_30\">\n",
       "    <path d=\"M -1 110.295683 \n",
       "L 10.573125 107.848979 \n",
       "L 30.103125 106.729089 \n",
       "L 49.633125 94.632767 \n",
       "L 69.163125 91.729348 \n",
       "L 88.693125 85.306633 \n",
       "L 108.223125 82.28381 \n",
       "L 127.753125 81.661648 \n",
       "L 147.283125 78.117215 \n",
       "L 166.813125 74.308834 \n",
       "L 186.343125 66.704642 \n",
       "L 205.873125 63.637827 \n",
       "L 225.403125 62.989271 \n",
       "L 244.933125 58.811364 \n",
       "L 264.463125 56.624373 \n",
       "L 283.993125 50.113676 \n",
       "L 303.523125 46.066486 \n",
       "L 323.053125 44.603465 \n",
       "L 342.583125 49.761747 \n",
       "L 362.113125 45.123818 \n",
       "L 381.643125 38.600552 \n",
       "L 401.173125 35.640573 \n",
       "L 420.703125 36.217486 \n",
       "\" clip-path=\"url(#p5832274b67)\" style=\"fill: none; stroke-dasharray: 5.55,2.4; stroke-dashoffset: 0; stroke: #bf00bf; stroke-width: 1.5\"/>\n",
       "   </g>\n",
       "   <g id=\"line2d_31\">\n",
       "    <path d=\"M 30.103125 31.858225 \n",
       "L 127.753125 35.549179 \n",
       "L 225.403125 33.435407 \n",
       "L 323.053125 22.378676 \n",
       "L 420.703125 24.863971 \n",
       "\" clip-path=\"url(#p5832274b67)\" style=\"fill: none; stroke-dasharray: 9.6,2.4,1.5,2.4; stroke-dashoffset: 0; stroke: #008000; stroke-width: 1.5\"/>\n",
       "   </g>\n",
       "   <g id=\"line2d_32\">\n",
       "    <path d=\"M 30.103125 90.635852 \n",
       "L 127.753125 87.498652 \n",
       "L 225.403125 86.412698 \n",
       "L 323.053125 85.326743 \n",
       "L 420.703125 86.171374 \n",
       "\" clip-path=\"url(#p5832274b67)\" style=\"fill: none; stroke-dasharray: 1.5,2.475; stroke-dashoffset: 0; stroke: #ff0000; stroke-width: 1.5\"/>\n",
       "   </g>\n",
       "   <g id=\"patch_3\">\n",
       "    <path d=\"M 30.103125 286.978676 \n",
       "L 30.103125 9.778676 \n",
       "\" style=\"fill: none; stroke: #000000; stroke-width: 0.8; stroke-linejoin: miter; stroke-linecap: square\"/>\n",
       "   </g>\n",
       "   <g id=\"patch_4\">\n",
       "    <path d=\"M 420.703125 286.978676 \n",
       "L 420.703125 9.778676 \n",
       "\" style=\"fill: none; stroke: #000000; stroke-width: 0.8; stroke-linejoin: miter; stroke-linecap: square\"/>\n",
       "   </g>\n",
       "   <g id=\"patch_5\">\n",
       "    <path d=\"M 30.103125 286.978676 \n",
       "L 420.703125 286.978676 \n",
       "\" style=\"fill: none; stroke: #000000; stroke-width: 0.8; stroke-linejoin: miter; stroke-linecap: square\"/>\n",
       "   </g>\n",
       "   <g id=\"patch_6\">\n",
       "    <path d=\"M 30.103125 9.778676 \n",
       "L 420.703125 9.778676 \n",
       "\" style=\"fill: none; stroke: #000000; stroke-width: 0.8; stroke-linejoin: miter; stroke-linecap: square\"/>\n",
       "   </g>\n",
       "   <g id=\"legend_1\">\n",
       "    <g id=\"patch_7\">\n",
       "     <path d=\"M 37.103125 281.978676 \n",
       "L 115.548438 281.978676 \n",
       "Q 117.548438 281.978676 117.548438 279.978676 \n",
       "L 117.548438 222.266176 \n",
       "Q 117.548438 220.266176 115.548438 220.266176 \n",
       "L 37.103125 220.266176 \n",
       "Q 35.103125 220.266176 35.103125 222.266176 \n",
       "L 35.103125 279.978676 \n",
       "Q 35.103125 281.978676 37.103125 281.978676 \n",
       "z\n",
       "\" style=\"fill: #ffffff; opacity: 0.8; stroke: #cccccc; stroke-linejoin: miter\"/>\n",
       "    </g>\n",
       "    <g id=\"line2d_33\">\n",
       "     <path d=\"M 39.103125 228.364614 \n",
       "L 49.103125 228.364614 \n",
       "L 59.103125 228.364614 \n",
       "\" style=\"fill: none; stroke: #1f77b4; stroke-width: 1.5; stroke-linecap: square\"/>\n",
       "    </g>\n",
       "    <g id=\"text_16\">\n",
       "     <!-- train loss -->\n",
       "     <g transform=\"translate(67.103125 231.864614) scale(0.1 -0.1)\">\n",
       "      <defs>\n",
       "       <path id=\"DejaVuSans-74\" d=\"M 1172 4494 \n",
       "L 1172 3500 \n",
       "L 2356 3500 \n",
       "L 2356 3053 \n",
       "L 1172 3053 \n",
       "L 1172 1153 \n",
       "Q 1172 725 1289 603 \n",
       "Q 1406 481 1766 481 \n",
       "L 2356 481 \n",
       "L 2356 0 \n",
       "L 1766 0 \n",
       "Q 1100 0 847 248 \n",
       "Q 594 497 594 1153 \n",
       "L 594 3053 \n",
       "L 172 3053 \n",
       "L 172 3500 \n",
       "L 594 3500 \n",
       "L 594 4494 \n",
       "L 1172 4494 \n",
       "z\n",
       "\" transform=\"scale(0.015625)\"/>\n",
       "       <path id=\"DejaVuSans-72\" d=\"M 2631 2963 \n",
       "Q 2534 3019 2420 3045 \n",
       "Q 2306 3072 2169 3072 \n",
       "Q 1681 3072 1420 2755 \n",
       "Q 1159 2438 1159 1844 \n",
       "L 1159 0 \n",
       "L 581 0 \n",
       "L 581 3500 \n",
       "L 1159 3500 \n",
       "L 1159 2956 \n",
       "Q 1341 3275 1631 3429 \n",
       "Q 1922 3584 2338 3584 \n",
       "Q 2397 3584 2469 3576 \n",
       "Q 2541 3569 2628 3553 \n",
       "L 2631 2963 \n",
       "z\n",
       "\" transform=\"scale(0.015625)\"/>\n",
       "       <path id=\"DejaVuSans-61\" d=\"M 2194 1759 \n",
       "Q 1497 1759 1228 1600 \n",
       "Q 959 1441 959 1056 \n",
       "Q 959 750 1161 570 \n",
       "Q 1363 391 1709 391 \n",
       "Q 2188 391 2477 730 \n",
       "Q 2766 1069 2766 1631 \n",
       "L 2766 1759 \n",
       "L 2194 1759 \n",
       "z\n",
       "M 3341 1997 \n",
       "L 3341 0 \n",
       "L 2766 0 \n",
       "L 2766 531 \n",
       "Q 2569 213 2275 61 \n",
       "Q 1981 -91 1556 -91 \n",
       "Q 1019 -91 701 211 \n",
       "Q 384 513 384 1019 \n",
       "Q 384 1609 779 1909 \n",
       "Q 1175 2209 1959 2209 \n",
       "L 2766 2209 \n",
       "L 2766 2266 \n",
       "Q 2766 2663 2505 2880 \n",
       "Q 2244 3097 1772 3097 \n",
       "Q 1472 3097 1187 3025 \n",
       "Q 903 2953 641 2809 \n",
       "L 641 3341 \n",
       "Q 956 3463 1253 3523 \n",
       "Q 1550 3584 1831 3584 \n",
       "Q 2591 3584 2966 3190 \n",
       "Q 3341 2797 3341 1997 \n",
       "z\n",
       "\" transform=\"scale(0.015625)\"/>\n",
       "       <path id=\"DejaVuSans-69\" d=\"M 603 3500 \n",
       "L 1178 3500 \n",
       "L 1178 0 \n",
       "L 603 0 \n",
       "L 603 3500 \n",
       "z\n",
       "M 603 4863 \n",
       "L 1178 4863 \n",
       "L 1178 4134 \n",
       "L 603 4134 \n",
       "L 603 4863 \n",
       "z\n",
       "\" transform=\"scale(0.015625)\"/>\n",
       "       <path id=\"DejaVuSans-6e\" d=\"M 3513 2113 \n",
       "L 3513 0 \n",
       "L 2938 0 \n",
       "L 2938 2094 \n",
       "Q 2938 2591 2744 2837 \n",
       "Q 2550 3084 2163 3084 \n",
       "Q 1697 3084 1428 2787 \n",
       "Q 1159 2491 1159 1978 \n",
       "L 1159 0 \n",
       "L 581 0 \n",
       "L 581 3500 \n",
       "L 1159 3500 \n",
       "L 1159 2956 \n",
       "Q 1366 3272 1645 3428 \n",
       "Q 1925 3584 2291 3584 \n",
       "Q 2894 3584 3203 3211 \n",
       "Q 3513 2838 3513 2113 \n",
       "z\n",
       "\" transform=\"scale(0.015625)\"/>\n",
       "       <path id=\"DejaVuSans-20\" transform=\"scale(0.015625)\"/>\n",
       "       <path id=\"DejaVuSans-6c\" d=\"M 603 4863 \n",
       "L 1178 4863 \n",
       "L 1178 0 \n",
       "L 603 0 \n",
       "L 603 4863 \n",
       "z\n",
       "\" transform=\"scale(0.015625)\"/>\n",
       "       <path id=\"DejaVuSans-73\" d=\"M 2834 3397 \n",
       "L 2834 2853 \n",
       "Q 2591 2978 2328 3040 \n",
       "Q 2066 3103 1784 3103 \n",
       "Q 1356 3103 1142 2972 \n",
       "Q 928 2841 928 2578 \n",
       "Q 928 2378 1081 2264 \n",
       "Q 1234 2150 1697 2047 \n",
       "L 1894 2003 \n",
       "Q 2506 1872 2764 1633 \n",
       "Q 3022 1394 3022 966 \n",
       "Q 3022 478 2636 193 \n",
       "Q 2250 -91 1575 -91 \n",
       "Q 1294 -91 989 -36 \n",
       "Q 684 19 347 128 \n",
       "L 347 722 \n",
       "Q 666 556 975 473 \n",
       "Q 1284 391 1588 391 \n",
       "Q 1994 391 2212 530 \n",
       "Q 2431 669 2431 922 \n",
       "Q 2431 1156 2273 1281 \n",
       "Q 2116 1406 1581 1522 \n",
       "L 1381 1569 \n",
       "Q 847 1681 609 1914 \n",
       "Q 372 2147 372 2553 \n",
       "Q 372 3047 722 3315 \n",
       "Q 1072 3584 1716 3584 \n",
       "Q 2034 3584 2315 3537 \n",
       "Q 2597 3491 2834 3397 \n",
       "z\n",
       "\" transform=\"scale(0.015625)\"/>\n",
       "      </defs>\n",
       "      <use xlink:href=\"#DejaVuSans-74\"/>\n",
       "      <use xlink:href=\"#DejaVuSans-72\" transform=\"translate(39.208984 0)\"/>\n",
       "      <use xlink:href=\"#DejaVuSans-61\" transform=\"translate(80.322266 0)\"/>\n",
       "      <use xlink:href=\"#DejaVuSans-69\" transform=\"translate(141.601562 0)\"/>\n",
       "      <use xlink:href=\"#DejaVuSans-6e\" transform=\"translate(169.384766 0)\"/>\n",
       "      <use xlink:href=\"#DejaVuSans-20\" transform=\"translate(232.763672 0)\"/>\n",
       "      <use xlink:href=\"#DejaVuSans-6c\" transform=\"translate(264.550781 0)\"/>\n",
       "      <use xlink:href=\"#DejaVuSans-6f\" transform=\"translate(292.333984 0)\"/>\n",
       "      <use xlink:href=\"#DejaVuSans-73\" transform=\"translate(353.515625 0)\"/>\n",
       "      <use xlink:href=\"#DejaVuSans-73\" transform=\"translate(405.615234 0)\"/>\n",
       "     </g>\n",
       "    </g>\n",
       "    <g id=\"line2d_34\">\n",
       "     <path d=\"M 39.103125 243.042739 \n",
       "L 49.103125 243.042739 \n",
       "L 59.103125 243.042739 \n",
       "\" style=\"fill: none; stroke-dasharray: 5.55,2.4; stroke-dashoffset: 0; stroke: #bf00bf; stroke-width: 1.5\"/>\n",
       "    </g>\n",
       "    <g id=\"text_17\">\n",
       "     <!-- train acc -->\n",
       "     <g transform=\"translate(67.103125 246.542739) scale(0.1 -0.1)\">\n",
       "      <use xlink:href=\"#DejaVuSans-74\"/>\n",
       "      <use xlink:href=\"#DejaVuSans-72\" transform=\"translate(39.208984 0)\"/>\n",
       "      <use xlink:href=\"#DejaVuSans-61\" transform=\"translate(80.322266 0)\"/>\n",
       "      <use xlink:href=\"#DejaVuSans-69\" transform=\"translate(141.601562 0)\"/>\n",
       "      <use xlink:href=\"#DejaVuSans-6e\" transform=\"translate(169.384766 0)\"/>\n",
       "      <use xlink:href=\"#DejaVuSans-20\" transform=\"translate(232.763672 0)\"/>\n",
       "      <use xlink:href=\"#DejaVuSans-61\" transform=\"translate(264.550781 0)\"/>\n",
       "      <use xlink:href=\"#DejaVuSans-63\" transform=\"translate(325.830078 0)\"/>\n",
       "      <use xlink:href=\"#DejaVuSans-63\" transform=\"translate(380.810547 0)\"/>\n",
       "     </g>\n",
       "    </g>\n",
       "    <g id=\"line2d_35\">\n",
       "     <path d=\"M 39.103125 257.720864 \n",
       "L 49.103125 257.720864 \n",
       "L 59.103125 257.720864 \n",
       "\" style=\"fill: none; stroke-dasharray: 9.6,2.4,1.5,2.4; stroke-dashoffset: 0; stroke: #008000; stroke-width: 1.5\"/>\n",
       "    </g>\n",
       "    <g id=\"text_18\">\n",
       "     <!-- valid loss -->\n",
       "     <g transform=\"translate(67.103125 261.220864) scale(0.1 -0.1)\">\n",
       "      <defs>\n",
       "       <path id=\"DejaVuSans-76\" d=\"M 191 3500 \n",
       "L 800 3500 \n",
       "L 1894 563 \n",
       "L 2988 3500 \n",
       "L 3597 3500 \n",
       "L 2284 0 \n",
       "L 1503 0 \n",
       "L 191 3500 \n",
       "z\n",
       "\" transform=\"scale(0.015625)\"/>\n",
       "       <path id=\"DejaVuSans-64\" d=\"M 2906 2969 \n",
       "L 2906 4863 \n",
       "L 3481 4863 \n",
       "L 3481 0 \n",
       "L 2906 0 \n",
       "L 2906 525 \n",
       "Q 2725 213 2448 61 \n",
       "Q 2172 -91 1784 -91 \n",
       "Q 1150 -91 751 415 \n",
       "Q 353 922 353 1747 \n",
       "Q 353 2572 751 3078 \n",
       "Q 1150 3584 1784 3584 \n",
       "Q 2172 3584 2448 3432 \n",
       "Q 2725 3281 2906 2969 \n",
       "z\n",
       "M 947 1747 \n",
       "Q 947 1113 1208 752 \n",
       "Q 1469 391 1925 391 \n",
       "Q 2381 391 2643 752 \n",
       "Q 2906 1113 2906 1747 \n",
       "Q 2906 2381 2643 2742 \n",
       "Q 2381 3103 1925 3103 \n",
       "Q 1469 3103 1208 2742 \n",
       "Q 947 2381 947 1747 \n",
       "z\n",
       "\" transform=\"scale(0.015625)\"/>\n",
       "      </defs>\n",
       "      <use xlink:href=\"#DejaVuSans-76\"/>\n",
       "      <use xlink:href=\"#DejaVuSans-61\" transform=\"translate(59.179688 0)\"/>\n",
       "      <use xlink:href=\"#DejaVuSans-6c\" transform=\"translate(120.458984 0)\"/>\n",
       "      <use xlink:href=\"#DejaVuSans-69\" transform=\"translate(148.242188 0)\"/>\n",
       "      <use xlink:href=\"#DejaVuSans-64\" transform=\"translate(176.025391 0)\"/>\n",
       "      <use xlink:href=\"#DejaVuSans-20\" transform=\"translate(239.501953 0)\"/>\n",
       "      <use xlink:href=\"#DejaVuSans-6c\" transform=\"translate(271.289062 0)\"/>\n",
       "      <use xlink:href=\"#DejaVuSans-6f\" transform=\"translate(299.072266 0)\"/>\n",
       "      <use xlink:href=\"#DejaVuSans-73\" transform=\"translate(360.253906 0)\"/>\n",
       "      <use xlink:href=\"#DejaVuSans-73\" transform=\"translate(412.353516 0)\"/>\n",
       "     </g>\n",
       "    </g>\n",
       "    <g id=\"line2d_36\">\n",
       "     <path d=\"M 39.103125 272.398989 \n",
       "L 49.103125 272.398989 \n",
       "L 59.103125 272.398989 \n",
       "\" style=\"fill: none; stroke-dasharray: 1.5,2.475; stroke-dashoffset: 0; stroke: #ff0000; stroke-width: 1.5\"/>\n",
       "    </g>\n",
       "    <g id=\"text_19\">\n",
       "     <!-- valid acc -->\n",
       "     <g transform=\"translate(67.103125 275.898989) scale(0.1 -0.1)\">\n",
       "      <use xlink:href=\"#DejaVuSans-76\"/>\n",
       "      <use xlink:href=\"#DejaVuSans-61\" transform=\"translate(59.179688 0)\"/>\n",
       "      <use xlink:href=\"#DejaVuSans-6c\" transform=\"translate(120.458984 0)\"/>\n",
       "      <use xlink:href=\"#DejaVuSans-69\" transform=\"translate(148.242188 0)\"/>\n",
       "      <use xlink:href=\"#DejaVuSans-64\" transform=\"translate(176.025391 0)\"/>\n",
       "      <use xlink:href=\"#DejaVuSans-20\" transform=\"translate(239.501953 0)\"/>\n",
       "      <use xlink:href=\"#DejaVuSans-61\" transform=\"translate(271.289062 0)\"/>\n",
       "      <use xlink:href=\"#DejaVuSans-63\" transform=\"translate(332.568359 0)\"/>\n",
       "      <use xlink:href=\"#DejaVuSans-63\" transform=\"translate(387.548828 0)\"/>\n",
       "     </g>\n",
       "    </g>\n",
       "   </g>\n",
       "  </g>\n",
       " </g>\n",
       " <defs>\n",
       "  <clipPath id=\"p5832274b67\">\n",
       "   <rect x=\"30.103125\" y=\"9.778676\" width=\"390.6\" height=\"277.2\"/>\n",
       "  </clipPath>\n",
       " </defs>\n",
       "</svg>\n"
      ],
      "text/plain": [
       "<Figure size 700x500 with 1 Axes>"
      ]
     },
     "metadata": {},
     "output_type": "display_data"
    }
   ],
   "source": [
    "train_ND(\n",
    "          teacher_net,\n",
    "          student_net,\n",
    "          teacher_train_iter,\n",
    "          student_train_iter,\n",
    "          student_dev_iter,\n",
    "          args.num_epochs,\n",
    "          args.optimizer,\n",
    "          args.lr,\n",
    "          args.weight_decay,\n",
    "          args.num_warmup_steps,\n",
    "          devices,\n",
    "          task_name)"
   ]
  },
  {
   "cell_type": "code",
   "execution_count": null,
   "metadata": {},
   "outputs": [
    {
     "name": "stderr",
     "output_type": "stream",
     "text": [
      "79it [00:02, 33.70it/s]\n"
     ]
    },
    {
     "name": "stdout",
     "output_type": "stream",
     "text": [
      "test on final epoch -- acc: 67.28, f1-macro: 53.53\n",
      "test on /content/drive/MyDrive/CS5242/ckpt/NDDualTowerBGE-epoch3-val_acc0.68.pt -- acc: 67.26, f1-macro: 53.68\n"
     ]
    }
   ],
   "source": [
    "test(student_net,test_iter,None,device = devices[0])\n",
    "test_on_checkpoint(student_net, args.pt_path, test_iter, None, device=devices[0])"
   ]
  },
  {
   "cell_type": "markdown",
   "metadata": {},
   "source": [
    "### 5.12 <a name='5.8'></a> Relevance Modeling with Large Language Model\n",
    "[Back to Table of Contents](#top)\n",
    "\n",
    "**Data Preparation Phase**\n",
    "\n",
    "- **Data Conversion**: Convert the raw query, document, and label data into the input format required by the large model (ChatML conversation format). This step ensures that the data is structured appropriately for model consumption.\n",
    "- **Tokenization**: Once the data is converted, apply tokenization to split the content into smaller units (tokens). This will generate the following outputs:\n",
    "  - `input_ids`: Numerical representations of the tokens.\n",
    "  - `attention_mask`: A mask to indicate which tokens should be attended to by the model.\n",
    "  - `labels`: The ground truth labels that will be used for training the model, typically indicating the relevance score (0/1/2).\n",
    "\n",
    "**Model Training Phase**\n",
    "\n",
    "- **Model Selection**: Use a standard large language model (LLM) which is Qwen-0.5B, that is capable of processing the input query and document pairs.\n",
    "- **Input Structure**: The model receives a prompt consisting of the concatenated query and document. The model's goal is to predict the relevance score (0/1/2) for each query-document pair.\n",
    "- **Loss Function**: The training loss is computed using the standard language model loss, which is typically the cross-entropy loss applied to the token predictions. This loss guides the model to improve its predictions by adjusting the weights based on the error in token prediction.\n",
    "\n",
    "**Model Testing Phase**\n",
    "\n",
    "- **Input Structure**: During testing, the model is given the query and document as input but does not receive the correct answer label. The model must generate its own relevance score (0/1/2) based on its learned understanding.\n",
    "- **Generation and Evaluation**: The model's output is compared against the true label to assess its performance. The accuracy of the generated relevance score is measured to evaluate how well the model has learned to predict relevance.\n",
    "\n",
    "**Example**\n",
    "\n",
    "  System:\n",
    "\n",
    "  You are a search engine. You need to judge the relevance between a given user query and a document snippet.\n",
    "  Score according to the following rules, range 0–2:\n",
    "\n",
    "  0 – Not relevant;\n",
    "\n",
    "  1 – Somewhat relevant;\n",
    "\n",
    "  2 – Relevant.\n",
    "\n",
    "  User:\n",
    "\n",
    "  Query is \n",
    "  “From the date of filing for divorce, if either party does not agree to the divorce, they may apply to…”\n",
    "\n",
    "  Document is:\n",
    "\n",
    "  “According to the Civil Code of the People’s Republic of China, from the date the marriage registration authority receives a divorce registration application, if either party is unwilling to divorce, they may apply to the marriage registration authority for divorce registration.”\n",
    "\n",
    "  Please give the relevance score (just the number): \n",
    "  <span style=\"color:red;\">1 (label)</span>\n",
    "\n",
    "**The red 1 means that is what we want to predict which is the relevance label.**"
   ]
  },
  {
   "cell_type": "code",
   "execution_count": null,
   "metadata": {},
   "outputs": [
    {
     "name": "stderr",
     "output_type": "stream",
     "text": [
      "/usr/local/lib/python3.11/dist-packages/huggingface_hub/utils/_auth.py:94: UserWarning: \n",
      "The secret `HF_TOKEN` does not exist in your Colab secrets.\n",
      "To authenticate with the Hugging Face Hub, create a token in your settings tab (https://huggingface.co/settings/tokens), set it as secret in your Google Colab and restart your session.\n",
      "You will be able to reuse this secret in all of your notebooks.\n",
      "Please note that authentication is recommended but still optional to access public models or datasets.\n",
      "  warnings.warn(\n",
      "Sliding Window Attention is enabled but not implemented for `sdpa`; unexpected results may be encountered.\n"
     ]
    },
    {
     "name": "stdout",
     "output_type": "stream",
     "text": [
      "Total Parameters: 494,032,768, Trainable: 494,032,768\n",
      "Qwen2Model(\n",
      "  (embed_tokens): Embedding(151936, 896)\n",
      "  (layers): ModuleList(\n",
      "    (0-23): 24 x Qwen2DecoderLayer(\n",
      "      (self_attn): Qwen2Attention(\n",
      "        (q_proj): Linear(in_features=896, out_features=896, bias=True)\n",
      "        (k_proj): Linear(in_features=896, out_features=128, bias=True)\n",
      "        (v_proj): Linear(in_features=896, out_features=128, bias=True)\n",
      "        (o_proj): Linear(in_features=896, out_features=896, bias=False)\n",
      "      )\n",
      "      (mlp): Qwen2MLP(\n",
      "        (gate_proj): Linear(in_features=896, out_features=4864, bias=False)\n",
      "        (up_proj): Linear(in_features=896, out_features=4864, bias=False)\n",
      "        (down_proj): Linear(in_features=4864, out_features=896, bias=False)\n",
      "        (act_fn): SiLU()\n",
      "      )\n",
      "      (input_layernorm): Qwen2RMSNorm((896,), eps=1e-06)\n",
      "      (post_attention_layernorm): Qwen2RMSNorm((896,), eps=1e-06)\n",
      "    )\n",
      "  )\n",
      "  (norm): Qwen2RMSNorm((896,), eps=1e-06)\n",
      "  (rotary_emb): Qwen2RotaryEmbedding()\n",
      ")\n"
     ]
    }
   ],
   "source": [
    "data_dir = \"/content/drive/MyDrive/CS5242/\"\n",
    "model_name = \"Qwen/Qwen2.5-0.5B\"\n",
    "cache_dir = \"/content/drive/MyDrive/CS5242/Qwen2.5-0.5B\"\n",
    "\n",
    "test_data_name = \"test_public.json\"\n",
    "train_data_name = \"train.json\"\n",
    "\n",
    "args = Args()\n",
    "args.lr = 3e-4\n",
    "args.num_epochs=3\n",
    "args.batch_size=8\n",
    "args.monitor = 'accuracy'\n",
    "devices = [torch.device(\"cuda\" if torch.cuda.is_available() else \"cpu\")]\n",
    "task_name = \"Relevance with LLM\"\n",
    "download_model(model_name,cache_dir)"
   ]
  },
  {
   "cell_type": "code",
   "execution_count": null,
   "metadata": {},
   "outputs": [],
   "source": [
    "class Qwen2LLMDataset(Dataset):\n",
    "    def __init__(self, model_name, cache_dir, samples):\n",
    "        self.tokenizer = AutoTokenizer.from_pretrained(\n",
    "            model_name, cache_dir=cache_dir, trust_remote_code=True\n",
    "        )\n",
    "        self.samples = samples\n",
    "        self.convert_data_to_features()\n",
    "\n",
    "    def convert_data_to_features(self):\n",
    "        self.data = []\n",
    "        system_prompt = \\\n",
    "        \"\"\"你是一个搜索引擎，需要判断给定的用户查询和文档片段之间的相关性。\n",
    "           请根据以下规则打分，范围 0 到 2：\\n\n",
    "           0-无关；1-一般相关；2-相关。\"\"\"\n",
    "        for sample in tqdm(self.samples, desc=\"Preparing ChatML prompts\"):\n",
    "            query = sample['query']\n",
    "            document = sample['title']\n",
    "            label = str(sample['label'])\n",
    "            messages = [\n",
    "                {\"role\": \"system\",    \"content\": system_prompt},\n",
    "                {\"role\": \"user\",      \"content\":\n",
    "                    f\"查询内容：{query}\\n\"\n",
    "                    f\"文档片段：{document}\\n\"\n",
    "                    \"请给出相关性评分（仅填写数字）：\"\n",
    "                },\n",
    "                {\"role\": \"assistant\", \"content\": label}\n",
    "            ]\n",
    "            # 先拼 prompt，再 tokenize\n",
    "            prompt = self.tokenizer.apply_chat_template(\n",
    "                messages,\n",
    "                tokenize=False\n",
    "            )\n",
    "            encoded = self.tokenizer(\n",
    "                prompt,\n",
    "                truncation=False,\n",
    "                padding=False,\n",
    "                return_tensors=None\n",
    "            )\n",
    "            input_ids = encoded['input_ids'] + [self.tokenizer.eos_token_id]\n",
    "            attenttiom_mask = encoded['attention_mask'] + [1]\n",
    "            label_ids = input_ids[-4:]\n",
    "            labels = [-100] * (len(input_ids) - 4) + label_ids\n",
    "\n",
    "            self.data.append({\n",
    "                \"input_ids\": input_ids,\n",
    "                \"attention_mask\":attenttiom_mask,\n",
    "                \"labels\": labels\n",
    "            })\n",
    "\n",
    "    def __getitem__(self, idx):\n",
    "        return self.data[idx]\n",
    "\n",
    "    def __len__(self):\n",
    "        return len(self.data)\n",
    "\n",
    "def build_qwen2_collate_fn(tokenizer):\n",
    "    def collate_fn(batch):\n",
    "        # 把 list-of-dicts 拆成三个 list-of-lists\n",
    "        input_ids_list     = [torch.tensor(ex[\"input_ids\"],     dtype=torch.long) for ex in batch]\n",
    "        attention_list     = [torch.tensor(ex[\"attention_mask\"], dtype=torch.long) for ex in batch]\n",
    "        labels_list        = [torch.tensor(ex[\"labels\"],        dtype=torch.long) for ex in batch]\n",
    "        from torch.nn.utils.rnn import pad_sequence\n",
    "\n",
    "        # 手动 pad_sequence\n",
    "        input_ids_padded      = pad_sequence(input_ids_list, batch_first=True, padding_value=tokenizer.pad_token_id)\n",
    "        attention_padded      = pad_sequence(attention_list, batch_first=True, padding_value=0)\n",
    "        labels_padded         = pad_sequence(labels_list, batch_first=True, padding_value=-100)\n",
    "\n",
    "        return {\n",
    "            \"input_ids\":      input_ids_padded,\n",
    "            \"attention_mask\": attention_padded,\n",
    "            \"labels\":         labels_padded,\n",
    "        }\n",
    "    return collate_fn\n",
    "\n",
    "class Qwen2LLMTestDataset(Dataset):\n",
    "    def __init__(self, model_name, cache_dir, samples):\n",
    "        self.tokenizer = AutoTokenizer.from_pretrained(\n",
    "            model_name, cache_dir=cache_dir, trust_remote_code=True\n",
    "        )\n",
    "        self.samples = samples\n",
    "        self.convert_data_to_features()\n",
    "\n",
    "    def convert_data_to_features(self):\n",
    "        self.data = []\n",
    "        system_prompt = \\\n",
    "        \"\"\"你是一个搜索引擎，需要判断给定的用户查询和文档片段之间的相关性。\n",
    "           请根据以下规则打分，范围 0 到 2：\\n\n",
    "           0-无关；1-一般相关；2-相关。\"\"\"\n",
    "        for sample in tqdm(self.samples, desc=\"Preparing ChatML prompts\"):\n",
    "            query = sample['query']\n",
    "            document = sample['title']\n",
    "            label = str(sample['label'])  # e.g. \"0\",\"1\",\"2\"\n",
    "            messages = [\n",
    "                {\"role\": \"system\",    \"content\": system_prompt},\n",
    "                {\"role\": \"user\",      \"content\":\n",
    "                    f\"查询内容：{query}\\n\"\n",
    "                    f\"文档片段：{document}\\n\"\n",
    "                    \"请给出相关性评分（仅填写数字）：\"\n",
    "                },\n",
    "            ]\n",
    "            # 先拼 prompt，再 tokenize\n",
    "            prompt = self.tokenizer.apply_chat_template(\n",
    "                messages,\n",
    "                add_generation_prompt=True,\n",
    "                tokenize=False\n",
    "            )\n",
    "            self.data.append({\"prompt\":prompt,\"label\":label})\n",
    "\n",
    "    def __getitem__(self, idx):\n",
    "        return self.data[idx]\n",
    "\n",
    "    def __len__(self):\n",
    "        return len(self.data)\n",
    "\n",
    "def build_qwen2_test_collate_fn(tokenizer):\n",
    "    def collate_fn(batch):\n",
    "        prompts = [sample['prompt'] for sample in batch]\n",
    "        labels = [item['label'] for item in batch]\n",
    "        inputs = tokenizer(prompts, return_tensors=\"pt\", padding=True, truncation=True).to(devices[0])\n",
    "        return {\n",
    "            \"input_ids\":      inputs[\"input_ids\"],\n",
    "            \"attention_mask\": inputs[\"attention_mask\"],\n",
    "            \"labels\":         labels\n",
    "        }\n",
    "    return collate_fn\n",
    "\n",
    "def train_llm_batch(net, batch, optimizer, device):\n",
    "    net.train()\n",
    "    optimizer.zero_grad()\n",
    "    # Move inputs and labels to device\n",
    "    input_ids = batch['input_ids'].to(device)\n",
    "    attention_mask = batch.get('attention_mask', None)\n",
    "    if attention_mask is not None:\n",
    "        attention_mask = attention_mask.to(device)\n",
    "    labels = batch['labels'].to(device)\n",
    "\n",
    "    # Forward pass\n",
    "    outputs = net(\n",
    "        input_ids=input_ids,\n",
    "        attention_mask=attention_mask,\n",
    "        labels=labels\n",
    "    )\n",
    "    loss = outputs.loss\n",
    "\n",
    "    # Backward pass and optimization step\n",
    "    loss.backward()\n",
    "    optimizer.step()\n",
    "\n",
    "    return loss.item()\n",
    "\n",
    "\n",
    "def train_llm(\n",
    "    net,\n",
    "    train_loader,\n",
    "    valid_loader=None,\n",
    "    num_epochs=3,\n",
    "    lr=5e-5,\n",
    "    wd=0.0,\n",
    "    num_warmup_steps=0,\n",
    "    device=None,\n",
    "    monitor=\"loss\",\n",
    "    task_name=\"llm_task\",\n",
    "    output_dir=\".\"\n",
    "):\n",
    "    if device is None:\n",
    "        device = torch.device(\"cuda\" if torch.cuda.is_available() else \"cpu\")\n",
    "    net.to(device)\n",
    "\n",
    "    # Optimizer and scheduler\n",
    "    optimizer = torch.optim.AdamW(net.parameters(), lr=lr, weight_decay=wd)\n",
    "    total_steps = num_epochs * len(train_loader)\n",
    "    scheduler = get_cosine_schedule_with_warmup(\n",
    "        optimizer,\n",
    "        num_warmup_steps=num_warmup_steps,\n",
    "        num_training_steps=total_steps\n",
    "    )\n",
    "\n",
    "    best_metric = float('inf')\n",
    "    best_state = None\n",
    "    best_filename = None\n",
    "\n",
    "    # Training loop\n",
    "    for epoch in range(1, num_epochs + 1):\n",
    "        net.train()\n",
    "        epoch_loss = 0.0\n",
    "        num_samples = 0\n",
    "\n",
    "        for batch in tqdm(train_loader):\n",
    "            loss = train_llm_batch(net, batch, optimizer, device)\n",
    "            batch_size = batch['input_ids'].size(0)\n",
    "            epoch_loss += loss * batch_size\n",
    "            num_samples += batch_size\n",
    "            scheduler.step()\n",
    "\n",
    "        train_loss = epoch_loss / num_samples\n",
    "        print(f\"Epoch {epoch}/{num_epochs} - train loss: {train_loss:.4f}\")\n",
    "\n",
    "        # Validation\n",
    "        if valid_loader is not None:\n",
    "            net.eval()\n",
    "            val_loss = 0.0\n",
    "            val_samples = 0\n",
    "            with torch.no_grad():\n",
    "                for batch in valid_loader:\n",
    "                    # Reuse train_llm_batch for forward w/o optimizer updates\n",
    "                    batch_loss = train_llm_batch(net, batch, optimizer, device)\n",
    "                    bs = batch['input_ids'].size(0)\n",
    "                    val_loss += batch_loss * bs\n",
    "                    val_samples += bs\n",
    "            val_loss /= val_samples\n",
    "            print(f\"Epoch {epoch}/{num_epochs} - valid loss: {val_loss:.4f}\")\n",
    "\n",
    "            # Save best model\n",
    "            if val_loss < best_metric:\n",
    "                best_metric = val_loss\n",
    "                best_state = copy.deepcopy(net.state_dict())\n",
    "                best_filename = f\"{task_name}-epoch{epoch}-val{val_loss:.4f}.pt\"\n",
    "\n",
    "    # Save the best model if available\n",
    "    if best_state is not None and best_filename is not None:\n",
    "        os.makedirs(output_dir, exist_ok=True)\n",
    "        save_path = os.path.join(output_dir, best_filename)\n",
    "        torch.save(best_state, save_path)\n",
    "        print(f\"Best model saved to {save_path} (valid loss: {best_metric:.4f})\")\n",
    "    else:\n",
    "        print(\"Training completed. No validation improvements to save.\")\n",
    "def test_llm(net,test_iter):\n",
    "  net.eval()\n",
    "  gt = []\n",
    "  with torch.no_grad():\n",
    "    for batch in test_iter:\n",
    "      outputs = net.generate(**batch)\n",
    "      generated_texts = tokenizer.batch_decode(outputs, skip_special_tokens=True)\n",
    "      gt += batch['labels']"
   ]
  },
  {
   "cell_type": "code",
   "execution_count": null,
   "metadata": {},
   "outputs": [
    {
     "name": "stdout",
     "output_type": "stream",
     "text": [
      "Data Information Counter({1: 25126, 0: 9757, 2: 5117})\n"
     ]
    },
    {
     "name": "stderr",
     "output_type": "stream",
     "text": [
      "Preparing ChatML prompts: 100%|██████████| 40000/40000 [00:20<00:00, 1974.97it/s]\n",
      "Preparing ChatML prompts: 100%|██████████| 5000/5000 [00:02<00:00, 1977.82it/s]\n",
      "Preparing ChatML prompts: 100%|██████████| 5000/5000 [00:00<00:00, 20028.04it/s]\n"
     ]
    }
   ],
   "source": [
    "train_processor = BGEProcessor(data_dir,train_data_name)\n",
    "train_examples = train_processor.get_examples()[:45000]\n",
    "test_processor = BGEProcessor(data_dir,test_data_name)\n",
    "test_examples = test_processor.get_examples()[:5000]\n",
    "train_examples, dev_examples = train_test_split(train_examples, test_size=1/9, random_state=42)\n",
    "labels = [ex[\"label\"] for ex in train_examples]\n",
    "dist = Counter(labels)\n",
    "print(\"Data Information\",dist)\n",
    "train_data = Qwen2LLMDataset(model_name, cache_dir,train_examples)\n",
    "dev_data = Qwen2LLMDataset(model_name, cache_dir,dev_examples)\n",
    "test_data = Qwen2LLMTestDataset(model_name, cache_dir,test_examples)\n",
    "\n",
    "train_iter = DataLoader(dataset=train_data,\n",
    "                        batch_size = args.batch_size,\n",
    "                        collate_fn = build_qwen2_collate_fn(\n",
    "                                        AutoTokenizer.from_pretrained(\n",
    "                                        model_name,\n",
    "                                        cache_dir = cache_dir)),\n",
    "                        shuffle=False)\n",
    "dev_iter = DataLoader(dataset=dev_data,\n",
    "                        batch_size = args.batch_size,\n",
    "                        collate_fn = build_qwen2_collate_fn(\n",
    "                                        AutoTokenizer.from_pretrained(\n",
    "                                        model_name,\n",
    "                                        cache_dir = cache_dir)),\n",
    "                        shuffle=False)\n",
    "test_iter = DataLoader(dataset=test_data,\n",
    "                       batch_size=args.batch_size,\n",
    "                       collate_fn = build_qwen2_test_collate_fn(\n",
    "                                        AutoTokenizer.from_pretrained(\n",
    "                                        model_name,\n",
    "                                        cache_dir = cache_dir)),\n",
    "                       shuffle=False)"
   ]
  },
  {
   "cell_type": "code",
   "execution_count": null,
   "metadata": {},
   "outputs": [
    {
     "name": "stderr",
     "output_type": "stream",
     "text": [
      "100%|██████████| 5000/5000 [17:45<00:00,  4.69it/s]\n"
     ]
    },
    {
     "name": "stdout",
     "output_type": "stream",
     "text": [
      "Epoch 1/3 - train loss: 0.3569\n"
     ]
    },
    {
     "name": "stderr",
     "output_type": "stream",
     "text": [
      "100%|██████████| 5000/5000 [17:46<00:00,  4.69it/s]\n"
     ]
    },
    {
     "name": "stdout",
     "output_type": "stream",
     "text": [
      "Epoch 2/3 - train loss: 0.2214\n"
     ]
    },
    {
     "name": "stderr",
     "output_type": "stream",
     "text": [
      "100%|██████████| 5000/5000 [17:46<00:00,  4.69it/s]"
     ]
    },
    {
     "name": "stdout",
     "output_type": "stream",
     "text": [
      "Epoch 3/3 - train loss: 0.2112\n",
      "Training completed. No validation improvements to save.\n"
     ]
    },
    {
     "name": "stderr",
     "output_type": "stream",
     "text": [
      "\n"
     ]
    }
   ],
   "source": [
    "tokenizer = AutoTokenizer.from_pretrained(\n",
    "    model_name,\n",
    "    cache_dir=cache_dir,\n",
    "    trust_remote_code=True\n",
    ")\n",
    "\n",
    "net = AutoModelForCausalLM.from_pretrained(\n",
    "    model_name,\n",
    "    cache_dir=cache_dir,\n",
    "    torch_dtype=\"auto\",\n",
    "    trust_remote_code=True,\n",
    "    device_map=\"cuda:0\"\n",
    ")\n",
    "\n",
    "train_llm(\n",
    "          net,\n",
    "          train_iter,\n",
    "          None,\n",
    "          args.num_epochs,\n",
    "          args.lr,\n",
    "          args.weight_decay,\n",
    "          args.num_warmup_steps,\n",
    "          devices[0],\n",
    "          monitor=\"loss\",\n",
    "          task_name=task_name)"
   ]
  },
  {
   "cell_type": "code",
   "execution_count": null,
   "metadata": {},
   "outputs": [],
   "source": [
    "tokenizer = AutoTokenizer.from_pretrained(\n",
    "    model_name,\n",
    "    cache_dir=cache_dir,\n",
    "    trust_remote_code=True\n",
    ")\n",
    "pred = []\n",
    "gt = []\n",
    "for test_batch in test_iter:\n",
    "  inputs = {\"input_ids\": test_batch[\"input_ids\"].to(devices[0]),\n",
    "            \"attention_mask\": test_batch[\"attention_mask\"].to(devices[0])}\n",
    "  generated_ids = net.generate(\n",
    "    **inputs,\n",
    "    max_new_tokens=30,\n",
    "    temperature=1,\n",
    "    top_k= 1,\n",
    "    top_p =0.9,\n",
    "    eos_token_id=tokenizer.eos_token_id,\n",
    ")\n",
    "  generated_ids = [\n",
    "    output_ids[len(input_ids):] for input_ids, output_ids in zip(inputs[\"input_ids\"], generated_ids)\n",
    "]\n",
    "  generated_texts = tokenizer.batch_decode(generated_ids, skip_special_tokens=True)\n",
    "  for text in generated_texts:\n",
    "    pred.append(text)\n",
    "  gt += test_batch['labels']"
   ]
  },
  {
   "cell_type": "code",
   "execution_count": null,
   "metadata": {},
   "outputs": [
    {
     "name": "stderr",
     "output_type": "stream",
     "text": [
      "0it [00:00, ?it/s]You're using a BertTokenizerFast tokenizer. Please note that with a fast tokenizer, using the `__call__` method is faster than using a method to encode the text followed by a call to the `pad` method to get a padded encoding.\n",
      "79it [00:09,  7.93it/s]\n"
     ]
    },
    {
     "name": "stdout",
     "output_type": "stream",
     "text": [
      "test on final epoch -- acc: 67.60, f1-macro: 59.46\n",
      "test on /content/drive/MyDrive/CS5242/ckpt/SingleTowerBGE-epoch0-val_acc0.71.pt -- acc: 70.20, f1-macro: 55.78\n"
     ]
    }
   ],
   "source": [
    "test(student_net,test_iter,None,device = devices[0])\n",
    "test_on_checkpoint(student_net, args.pt_path, test_iter, None, device=devices[0])"
   ]
  },
  {
   "cell_type": "markdown",
   "metadata": {},
   "source": [
    "##  6. <a name='6'></a>Results\n",
    "[Back to Table of Contents](#top)\n",
    "\n",
    "We report the performance of various models on the document relevance classification task across three relevance levels: Poor, Moderately, and Highly relevant. The evaluation metrics include Precision, Recall, and F1-score for each relevance category, along with the macro-averaged results.\n"
   ]
  },
  {
   "cell_type": "markdown",
   "metadata": {},
   "source": [
    "<table border=\"1\" cellspacing=\"0\" cellpadding=\"5\">\n",
    "  <thead>\n",
    "    <tr>\n",
    "      <th rowspan=\"2\">Model</th>\n",
    "      <th colspan=\"3\">Label 0</th>\n",
    "      <th colspan=\"3\">Label 1</th>\n",
    "      <th colspan=\"3\">Label 2</th>\n",
    "      <th colspan=\"3\">Macro Average</th>\n",
    "    </tr>\n",
    "    <tr>\n",
    "      <th>Precision</th><th>Recall</th><th>F1-score</th>\n",
    "      <th>Precision</th><th>Recall</th><th>F1-score</th>\n",
    "      <th>Precision</th><th>Recall</th><th>F1-score</th>\n",
    "      <th>Precision</th><th>Recall</th><th>F1-score</th>\n",
    "    </tr>\n",
    "  </thead>\n",
    "  <tbody>\n",
    "    <tr><td>MLP</td><td>0.6166</td><td>0.1290</td><td>0.2134</td><td>0.6484</td><td>0.9725</td><td>0.7780</td><td>0.2222</td><td>0.0032</td><td>0.0062</td><td>0.4957</td><td>0.3682</td><td>0.3326</td></tr>\n",
    "    <tr><td>CNN</td><td>0.8333</td><td>0.0041</td><td>0.0082</td><td>0.6322</td><td>0.9984</td><td>0.7742</td><td>0.2000</td><td>0.0016</td><td>0.0031</td><td>0.5552</td><td>0.3347</td><td>0.2618</td></tr>\n",
    "    <tr><td>Transformer</td><td>0.5637</td><td>0.3366</td><td>0.4215</td><td>0.6912</td><td>0.8665</td><td>0.7689</td><td>0.4717</td><td>0.2373</td><td>0.3158</td><td>0.5755</td><td>0.4801</td><td>0.5021</td></tr>\n",
    "    <tr><td>BGE+Transformer</td><td>0.7020</td><td>0.4326</td><td>0.5353</td><td>0.7245</td><td>0.8724</td><td>0.7916</td><td>0.4900</td><td>0.3497</td><td>0.4081</td><td>0.6388</td><td>0.5516</td><td>0.5784</td></tr>\n",
    "    <tr><td>BERT(Single)</td><td>0.7227</td><td>0.5906</td><td>0.6500</td><td>0.7780</td><td>0.8531</td><td>0.8138</td><td>0.5383</td><td>0.4668</td><td>0.5000</td><td>0.6797</td><td>0.6368</td><td>0.6546</td></tr>\n",
    "    <tr><td>BERT(Double)</td><td>0.6518</td><td>0.4582</td><td>0.5381</td><td>0.7389</td><td>0.8446</td><td>0.7882</td><td>0.4842</td><td>0.4130</td><td>0.4458</td><td>0.6249</td><td>0.5719</td><td>0.5907</td></tr>\n",
    "    <tr><td>RNN(Single)</td><td>0.5082</td><td>0.4119</td><td>0.4550</td><td>0.6938</td><td>0.8297</td><td>0.7557</td><td>0.4174</td><td>0.1598</td><td>0.2311</td><td>0.5398</td><td>0.4671</td><td>0.4806</td></tr>\n",
    "    <tr><td>RNN(Double)</td><td>0.5679</td><td>0.3598</td><td>0.4405</td><td>0.6939</td><td>0.8563</td><td>0.7666</td><td>0.4196</td><td>0.2231</td><td>0.2931</td><td>0.5605</td><td>0.4797</td><td>0.4995</td></tr>\n",
    "    <tr><td>LSTM(Single)</td><td>0.5357</td><td>0.4467</td><td>0.4871</td><td>0.7185</td><td>0.8177</td><td>0.7649</td><td>0.4887</td><td>0.3070</td><td>0.3771</td><td>0.5810</td><td>0.5238</td><td>0.5430</td></tr>\n",
    "    <tr><td>LSTM(Double)</td><td>0.5707</td><td>0.3937</td><td>0.4770</td><td>0.7075</td><td>0.8433</td><td>0.7684</td><td>0.4680</td><td>0.2896</td><td>0.3578</td><td>0.5815</td><td>0.5089</td><td>0.5307</td></tr>\n",
    "    <tr><td>GRU(Single)</td><td>0.5445</td><td>0.4351</td><td>0.4837</td><td>0.7197</td><td>0.8192</td><td>0.7662</td><td>0.4703</td><td>0.3259</td><td>0.3850</td><td>0.5782</td><td>0.5268</td><td>0.5450</td></tr>\n",
    "    <tr><td>GRU(Double)</td><td>0.5727</td><td>0.4202</td><td>0.4847</td><td>0.7158</td><td>0.8370</td><td>0.7716</td><td>0.4821</td><td>0.3196</td><td>0.3844</td><td>0.5902</td><td>0.5256</td><td>0.5459</td></tr>\n",
    "  </tbody>\n",
    "</table>\n",
    "\n"
   ]
  },
  {
   "cell_type": "markdown",
   "metadata": {},
   "source": [
    "Among all models, **BERT (Single)** achieved the highest overall macro-averaged F1-score (0.6546), indicating its superior capability in handling document relevance classification tasks. This strong performance can be attributed to BERT's pre-trained contextual embeddings, which enable it to capture complex semantic relationships within the text, particularly benefiting \"Moderately relevant\" and \"Highly relevant\" categories. On the other hand, one of pre-train task of BERT is **\"Next Sentence Prediction\"**, which is a binary classification task that aims to predict whether the two sentences following each other are consecutive or not. This task is similiar to the \"Relevance\" task in our dataset.\n",
    "\n",
    "On the other hand, **MLP** and **CNN** performed relatively poorly, especially on \"Highly relevant\" instances, where their F1-scores are extremely low (0.0062 and 0.0031, respectively). This could be because simple MLP and CNN architectures lack the sequential modeling ability required to understand long document structures and fine-grained semantic differences. Specifically, CNNs tend to focus on local patterns but may struggle to capture the broader contextual information necessary for relevance prediction in lengthy documents.\n",
    "\n",
    "**Transformer** and **BGE+Transformer** models achieved better results than simple RNN or CNN models, showing the advantage of self-attention mechanisms in capturing global dependencies. Notably, integrating BGE with Transformer slightly improved the overall performance, suggesting that additional guidance from a pre-trained backbone enhances the model's robustness.\n",
    "\n",
    "Recurrent models (RNN, LSTM, GRU) with double-layer architectures slightly outperformed their single-layer counterparts, reflecting the importance of deeper modeling for complex sequence understanding. However, compared to Transformer-based models, their gains were still limited, possibly due to vanishing gradient issues or less effective long-range dependency modeling.\n"
   ]
  },
  {
   "cell_type": "markdown",
   "metadata": {},
   "source": [
    "##  7. <a name='7'></a>Conclusion & Future Development\n",
    "[Back to Table of Contents](#top)\n",
    "\n",
    "In this project, we systematically explored the effectiveness of various deep learning architectures for query-document relevance prediction on the QBQTC dataset. Our experiments covered a range of models, including traditional RNN-based methods (RNN, LSTM, GRU), Transformer architectures, and BERT variants.\n",
    "\n",
    "From the evaluation results, several key conclusions can be drawn:\n",
    "\n",
    "BERT-based models demonstrated the best overall performance, with the BERT (Single) model achieving the highest Macro Average F1-score (0.6546). This highlights the advantage of using pretrained contextual embeddings and deep bidirectional representations in relevance prediction tasks.\n",
    "Transformer and BGE+Transformer models also performed competitively, outperforming traditional RNN-based models. The self-attention mechanism effectively captures long-range dependencies, which is crucial in matching queries and document titles.\n",
    "RNN, LSTM, and GRU models showed moderate performance. Although GRU and LSTM models achieved relatively higher F1-scores among the RNN variants, they still lagged behind Transformer-based methods. This could be attributed to their limited ability to model complex interactions over long sequences compared to attention-based architectures.\n",
    "Simple models like MLP and CNN performed poorly, with the CNN model achieving the lowest Macro Average F1-score (0.2618). The limited expressiveness and inability to capture intricate semantic relationships between queries and documents likely contributed to their subpar performance.\n",
    "Several possible factors influenced these outcomes:\n",
    "\n",
    "Pretrained language models like BERT bring strong generalization capabilities from large corpora, providing a significant head start over models trained from scratch.\n",
    "Attention mechanisms, as used in Transformers, allow models to selectively focus on important parts of the input, which is especially important for short but semantically rich query-document pairs.\n",
    "Traditional RNNs, despite their sequential modeling strength, struggle with long-term dependencies and are less effective at highlighting the most relevant information for retrieval tasks.\n",
    "In summary, Transformer-based and pretrained models clearly offer substantial advantages for query-document relevance prediction in web search scenarios. Future work could explore larger model variants, domain-specific pretraining, or incorporating additional signals like authority and timeliness to further enhance retrieval performance."
   ]
  }
 ],
 "metadata": {
  "kernelspec": {
   "display_name": "deeplearn_course",
   "language": "python",
   "name": "python3"
  },
  "language_info": {
   "codemirror_mode": {
    "name": "ipython",
    "version": 3
   },
   "file_extension": ".py",
   "mimetype": "text/x-python",
   "name": "python",
   "nbconvert_exporter": "python",
   "pygments_lexer": "ipython3",
   "version": "3.8.20"
  }
 },
 "nbformat": 4,
 "nbformat_minor": 2
}
